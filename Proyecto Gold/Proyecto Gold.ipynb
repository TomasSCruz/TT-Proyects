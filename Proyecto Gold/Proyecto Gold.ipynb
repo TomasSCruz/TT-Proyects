{
 "cells": [
  {
   "cell_type": "markdown",
   "metadata": {},
   "source": [
    "# <a id='toc1_'></a>[Proyecto Gold](#toc0_)\n",
    "Prepara un prototipo de un modelo de machine learning para Zyfra. La empresa desarrolla soluciones de eficiencia para la industria pesada.\n",
    "\n",
    "El modelo debe predecir la cantidad de oro extraído del mineral de oro. Dispones de los datos de extracción y purificación.\n",
    "\n",
    "El modelo ayudará a optimizar la producción y a eliminar los parámetros no rentables.\n",
    "\n",
    "Habrá que:\n",
    "\n",
    "- preparar los datos;\n",
    "- realizar el análisis de datos;\n",
    "- desarrollar un modelo y entrenarlo."
   ]
  },
  {
   "cell_type": "markdown",
   "metadata": {},
   "source": [
    "**Table of contents**<a id='toc0_'></a>    \n",
    "- [Proyecto Gold](#toc1_)    \n",
    "  - [Preparación de datos](#toc1_1_)    \n",
    "    - [Inicializacion y carga de datos](#toc1_1_1_)    \n",
    "    - [Verificación del cálculo de recuperación](#toc1_1_2_)    \n",
    "    - [Análisis de características faltantes en `test_data`](#toc1_1_3_)    \n",
    "    - [Preprocesamiento de datos](#toc1_1_4_)    \n",
    "      - [`train_data`](#toc1_1_4_1_)    \n",
    "      - [`test_data`](#toc1_1_4_2_)    \n",
    "      - [`full_data`](#toc1_1_4_3_)    \n",
    "  - [Analisis de datos](#toc1_2_)    \n",
    "    - [Concentracion de metales según la etapa de purificación](#toc1_2_1_)    \n",
    "    - [Particulas de alimentación en `test_data` y `train_data`](#toc1_2_2_)    \n",
    "    - [Concentraciones a lo largo de las etapas](#toc1_2_3_)    \n",
    "  - [Construcción del modelo](#toc1_3_)    \n",
    "  - [Conclusión](#toc1_4_)    \n",
    "\n",
    "<!-- vscode-jupyter-toc-config\n",
    "\tnumbering=false\n",
    "\tanchor=true\n",
    "\tflat=false\n",
    "\tminLevel=1\n",
    "\tmaxLevel=6\n",
    "\t/vscode-jupyter-toc-config -->\n",
    "<!-- THIS CELL WILL BE REPLACED ON TOC UPDATE. DO NOT WRITE YOUR TEXT IN THIS CELL -->"
   ]
  },
  {
   "cell_type": "markdown",
   "metadata": {},
   "source": [
    "## <a id='toc1_1_'></a>[Preparación de datos](#toc0_)\n",
    "  \n",
    "### <a id='toc1_1_1_'></a>[Inicializacion y carga de datos](#toc0_)"
   ]
  },
  {
   "cell_type": "code",
   "execution_count": 1,
   "metadata": {},
   "outputs": [],
   "source": [
    "import pandas as pd\n",
    "import numpy as np\n",
    "from sklearn.metrics import mean_absolute_error\n",
    "import matplotlib.pyplot as plt\n",
    "from scipy import stats as st\n",
    "from sklearn.metrics import make_scorer\n",
    "from sklearn.model_selection import RandomizedSearchCV\n",
    "from sklearn.ensemble import RandomForestRegressor\n",
    "from sklearn.model_selection import train_test_split\n",
    "from sklearn.model_selection import KFold"
   ]
  },
  {
   "cell_type": "code",
   "execution_count": 2,
   "metadata": {},
   "outputs": [],
   "source": [
    "# Primero cargamos las tablas\n",
    "train_data = pd.read_csv('../datasets/gold_recovery_train.csv')\n",
    "test_data = pd.read_csv('../datasets/gold_recovery_test.csv')\n",
    "full_data = pd.read_csv('../datasets/gold_recovery_full.csv')"
   ]
  },
  {
   "cell_type": "code",
   "execution_count": 3,
   "metadata": {},
   "outputs": [
    {
     "name": "stdout",
     "output_type": "stream",
     "text": [
      "<class 'pandas.core.frame.DataFrame'>\n",
      "RangeIndex: 16860 entries, 0 to 16859\n",
      "Data columns (total 87 columns):\n",
      " #   Column                                              Non-Null Count  Dtype  \n",
      "---  ------                                              --------------  -----  \n",
      " 0   date                                                16860 non-null  object \n",
      " 1   final.output.concentrate_ag                         16788 non-null  float64\n",
      " 2   final.output.concentrate_pb                         16788 non-null  float64\n",
      " 3   final.output.concentrate_sol                        16490 non-null  float64\n",
      " 4   final.output.concentrate_au                         16789 non-null  float64\n",
      " 5   final.output.recovery                               15339 non-null  float64\n",
      " 6   final.output.tail_ag                                16794 non-null  float64\n",
      " 7   final.output.tail_pb                                16677 non-null  float64\n",
      " 8   final.output.tail_sol                               16715 non-null  float64\n",
      " 9   final.output.tail_au                                16794 non-null  float64\n",
      " 10  primary_cleaner.input.sulfate                       15553 non-null  float64\n",
      " 11  primary_cleaner.input.depressant                    15598 non-null  float64\n",
      " 12  primary_cleaner.input.feed_size                     16860 non-null  float64\n",
      " 13  primary_cleaner.input.xanthate                      15875 non-null  float64\n",
      " 14  primary_cleaner.output.concentrate_ag               16778 non-null  float64\n",
      " 15  primary_cleaner.output.concentrate_pb               16502 non-null  float64\n",
      " 16  primary_cleaner.output.concentrate_sol              16224 non-null  float64\n",
      " 17  primary_cleaner.output.concentrate_au               16778 non-null  float64\n",
      " 18  primary_cleaner.output.tail_ag                      16777 non-null  float64\n",
      " 19  primary_cleaner.output.tail_pb                      16761 non-null  float64\n",
      " 20  primary_cleaner.output.tail_sol                     16579 non-null  float64\n",
      " 21  primary_cleaner.output.tail_au                      16777 non-null  float64\n",
      " 22  primary_cleaner.state.floatbank8_a_air              16820 non-null  float64\n",
      " 23  primary_cleaner.state.floatbank8_a_level            16827 non-null  float64\n",
      " 24  primary_cleaner.state.floatbank8_b_air              16820 non-null  float64\n",
      " 25  primary_cleaner.state.floatbank8_b_level            16833 non-null  float64\n",
      " 26  primary_cleaner.state.floatbank8_c_air              16822 non-null  float64\n",
      " 27  primary_cleaner.state.floatbank8_c_level            16833 non-null  float64\n",
      " 28  primary_cleaner.state.floatbank8_d_air              16821 non-null  float64\n",
      " 29  primary_cleaner.state.floatbank8_d_level            16833 non-null  float64\n",
      " 30  rougher.calculation.sulfate_to_au_concentrate       16833 non-null  float64\n",
      " 31  rougher.calculation.floatbank10_sulfate_to_au_feed  16833 non-null  float64\n",
      " 32  rougher.calculation.floatbank11_sulfate_to_au_feed  16833 non-null  float64\n",
      " 33  rougher.calculation.au_pb_ratio                     15618 non-null  float64\n",
      " 34  rougher.input.feed_ag                               16778 non-null  float64\n",
      " 35  rougher.input.feed_pb                               16632 non-null  float64\n",
      " 36  rougher.input.feed_rate                             16347 non-null  float64\n",
      " 37  rougher.input.feed_size                             16443 non-null  float64\n",
      " 38  rougher.input.feed_sol                              16568 non-null  float64\n",
      " 39  rougher.input.feed_au                               16777 non-null  float64\n",
      " 40  rougher.input.floatbank10_sulfate                   15816 non-null  float64\n",
      " 41  rougher.input.floatbank10_xanthate                  16514 non-null  float64\n",
      " 42  rougher.input.floatbank11_sulfate                   16237 non-null  float64\n",
      " 43  rougher.input.floatbank11_xanthate                  14956 non-null  float64\n",
      " 44  rougher.output.concentrate_ag                       16778 non-null  float64\n",
      " 45  rougher.output.concentrate_pb                       16778 non-null  float64\n",
      " 46  rougher.output.concentrate_sol                      16698 non-null  float64\n",
      " 47  rougher.output.concentrate_au                       16778 non-null  float64\n",
      " 48  rougher.output.recovery                             14287 non-null  float64\n",
      " 49  rougher.output.tail_ag                              14610 non-null  float64\n",
      " 50  rougher.output.tail_pb                              16778 non-null  float64\n",
      " 51  rougher.output.tail_sol                             14611 non-null  float64\n",
      " 52  rougher.output.tail_au                              14611 non-null  float64\n",
      " 53  rougher.state.floatbank10_a_air                     16807 non-null  float64\n",
      " 54  rougher.state.floatbank10_a_level                   16807 non-null  float64\n",
      " 55  rougher.state.floatbank10_b_air                     16807 non-null  float64\n",
      " 56  rougher.state.floatbank10_b_level                   16807 non-null  float64\n",
      " 57  rougher.state.floatbank10_c_air                     16807 non-null  float64\n",
      " 58  rougher.state.floatbank10_c_level                   16814 non-null  float64\n",
      " 59  rougher.state.floatbank10_d_air                     16802 non-null  float64\n",
      " 60  rougher.state.floatbank10_d_level                   16809 non-null  float64\n",
      " 61  rougher.state.floatbank10_e_air                     16257 non-null  float64\n",
      " 62  rougher.state.floatbank10_e_level                   16809 non-null  float64\n",
      " 63  rougher.state.floatbank10_f_air                     16802 non-null  float64\n",
      " 64  rougher.state.floatbank10_f_level                   16802 non-null  float64\n",
      " 65  secondary_cleaner.output.tail_ag                    16776 non-null  float64\n",
      " 66  secondary_cleaner.output.tail_pb                    16764 non-null  float64\n",
      " 67  secondary_cleaner.output.tail_sol                   14874 non-null  float64\n",
      " 68  secondary_cleaner.output.tail_au                    16778 non-null  float64\n",
      " 69  secondary_cleaner.state.floatbank2_a_air            16497 non-null  float64\n",
      " 70  secondary_cleaner.state.floatbank2_a_level          16751 non-null  float64\n",
      " 71  secondary_cleaner.state.floatbank2_b_air            16705 non-null  float64\n",
      " 72  secondary_cleaner.state.floatbank2_b_level          16748 non-null  float64\n",
      " 73  secondary_cleaner.state.floatbank3_a_air            16763 non-null  float64\n",
      " 74  secondary_cleaner.state.floatbank3_a_level          16747 non-null  float64\n",
      " 75  secondary_cleaner.state.floatbank3_b_air            16752 non-null  float64\n",
      " 76  secondary_cleaner.state.floatbank3_b_level          16750 non-null  float64\n",
      " 77  secondary_cleaner.state.floatbank4_a_air            16731 non-null  float64\n",
      " 78  secondary_cleaner.state.floatbank4_a_level          16747 non-null  float64\n",
      " 79  secondary_cleaner.state.floatbank4_b_air            16768 non-null  float64\n",
      " 80  secondary_cleaner.state.floatbank4_b_level          16767 non-null  float64\n",
      " 81  secondary_cleaner.state.floatbank5_a_air            16775 non-null  float64\n",
      " 82  secondary_cleaner.state.floatbank5_a_level          16775 non-null  float64\n",
      " 83  secondary_cleaner.state.floatbank5_b_air            16775 non-null  float64\n",
      " 84  secondary_cleaner.state.floatbank5_b_level          16776 non-null  float64\n",
      " 85  secondary_cleaner.state.floatbank6_a_air            16757 non-null  float64\n",
      " 86  secondary_cleaner.state.floatbank6_a_level          16775 non-null  float64\n",
      "dtypes: float64(86), object(1)\n",
      "memory usage: 11.2+ MB\n"
     ]
    }
   ],
   "source": [
    "# Primero veamos la tabla train\n",
    "train_data.info()"
   ]
  },
  {
   "cell_type": "code",
   "execution_count": 4,
   "metadata": {},
   "outputs": [
    {
     "name": "stdout",
     "output_type": "stream",
     "text": [
      "<class 'pandas.core.frame.DataFrame'>\n",
      "RangeIndex: 5856 entries, 0 to 5855\n",
      "Data columns (total 53 columns):\n",
      " #   Column                                      Non-Null Count  Dtype  \n",
      "---  ------                                      --------------  -----  \n",
      " 0   date                                        5856 non-null   object \n",
      " 1   primary_cleaner.input.sulfate               5554 non-null   float64\n",
      " 2   primary_cleaner.input.depressant            5572 non-null   float64\n",
      " 3   primary_cleaner.input.feed_size             5856 non-null   float64\n",
      " 4   primary_cleaner.input.xanthate              5690 non-null   float64\n",
      " 5   primary_cleaner.state.floatbank8_a_air      5840 non-null   float64\n",
      " 6   primary_cleaner.state.floatbank8_a_level    5840 non-null   float64\n",
      " 7   primary_cleaner.state.floatbank8_b_air      5840 non-null   float64\n",
      " 8   primary_cleaner.state.floatbank8_b_level    5840 non-null   float64\n",
      " 9   primary_cleaner.state.floatbank8_c_air      5840 non-null   float64\n",
      " 10  primary_cleaner.state.floatbank8_c_level    5840 non-null   float64\n",
      " 11  primary_cleaner.state.floatbank8_d_air      5840 non-null   float64\n",
      " 12  primary_cleaner.state.floatbank8_d_level    5840 non-null   float64\n",
      " 13  rougher.input.feed_ag                       5840 non-null   float64\n",
      " 14  rougher.input.feed_pb                       5840 non-null   float64\n",
      " 15  rougher.input.feed_rate                     5816 non-null   float64\n",
      " 16  rougher.input.feed_size                     5834 non-null   float64\n",
      " 17  rougher.input.feed_sol                      5789 non-null   float64\n",
      " 18  rougher.input.feed_au                       5840 non-null   float64\n",
      " 19  rougher.input.floatbank10_sulfate           5599 non-null   float64\n",
      " 20  rougher.input.floatbank10_xanthate          5733 non-null   float64\n",
      " 21  rougher.input.floatbank11_sulfate           5801 non-null   float64\n",
      " 22  rougher.input.floatbank11_xanthate          5503 non-null   float64\n",
      " 23  rougher.state.floatbank10_a_air             5839 non-null   float64\n",
      " 24  rougher.state.floatbank10_a_level           5840 non-null   float64\n",
      " 25  rougher.state.floatbank10_b_air             5839 non-null   float64\n",
      " 26  rougher.state.floatbank10_b_level           5840 non-null   float64\n",
      " 27  rougher.state.floatbank10_c_air             5839 non-null   float64\n",
      " 28  rougher.state.floatbank10_c_level           5840 non-null   float64\n",
      " 29  rougher.state.floatbank10_d_air             5839 non-null   float64\n",
      " 30  rougher.state.floatbank10_d_level           5840 non-null   float64\n",
      " 31  rougher.state.floatbank10_e_air             5839 non-null   float64\n",
      " 32  rougher.state.floatbank10_e_level           5840 non-null   float64\n",
      " 33  rougher.state.floatbank10_f_air             5839 non-null   float64\n",
      " 34  rougher.state.floatbank10_f_level           5840 non-null   float64\n",
      " 35  secondary_cleaner.state.floatbank2_a_air    5836 non-null   float64\n",
      " 36  secondary_cleaner.state.floatbank2_a_level  5840 non-null   float64\n",
      " 37  secondary_cleaner.state.floatbank2_b_air    5833 non-null   float64\n",
      " 38  secondary_cleaner.state.floatbank2_b_level  5840 non-null   float64\n",
      " 39  secondary_cleaner.state.floatbank3_a_air    5822 non-null   float64\n",
      " 40  secondary_cleaner.state.floatbank3_a_level  5840 non-null   float64\n",
      " 41  secondary_cleaner.state.floatbank3_b_air    5840 non-null   float64\n",
      " 42  secondary_cleaner.state.floatbank3_b_level  5840 non-null   float64\n",
      " 43  secondary_cleaner.state.floatbank4_a_air    5840 non-null   float64\n",
      " 44  secondary_cleaner.state.floatbank4_a_level  5840 non-null   float64\n",
      " 45  secondary_cleaner.state.floatbank4_b_air    5840 non-null   float64\n",
      " 46  secondary_cleaner.state.floatbank4_b_level  5840 non-null   float64\n",
      " 47  secondary_cleaner.state.floatbank5_a_air    5840 non-null   float64\n",
      " 48  secondary_cleaner.state.floatbank5_a_level  5840 non-null   float64\n",
      " 49  secondary_cleaner.state.floatbank5_b_air    5840 non-null   float64\n",
      " 50  secondary_cleaner.state.floatbank5_b_level  5840 non-null   float64\n",
      " 51  secondary_cleaner.state.floatbank6_a_air    5840 non-null   float64\n",
      " 52  secondary_cleaner.state.floatbank6_a_level  5840 non-null   float64\n",
      "dtypes: float64(52), object(1)\n",
      "memory usage: 2.4+ MB\n"
     ]
    }
   ],
   "source": [
    "# De ahi la tabla test\n",
    "test_data.info()"
   ]
  },
  {
   "cell_type": "code",
   "execution_count": 5,
   "metadata": {},
   "outputs": [
    {
     "name": "stdout",
     "output_type": "stream",
     "text": [
      "<class 'pandas.core.frame.DataFrame'>\n",
      "RangeIndex: 22716 entries, 0 to 22715\n",
      "Data columns (total 87 columns):\n",
      " #   Column                                              Non-Null Count  Dtype  \n",
      "---  ------                                              --------------  -----  \n",
      " 0   date                                                22716 non-null  object \n",
      " 1   final.output.concentrate_ag                         22627 non-null  float64\n",
      " 2   final.output.concentrate_pb                         22629 non-null  float64\n",
      " 3   final.output.concentrate_sol                        22331 non-null  float64\n",
      " 4   final.output.concentrate_au                         22630 non-null  float64\n",
      " 5   final.output.recovery                               20753 non-null  float64\n",
      " 6   final.output.tail_ag                                22633 non-null  float64\n",
      " 7   final.output.tail_pb                                22516 non-null  float64\n",
      " 8   final.output.tail_sol                               22445 non-null  float64\n",
      " 9   final.output.tail_au                                22635 non-null  float64\n",
      " 10  primary_cleaner.input.sulfate                       21107 non-null  float64\n",
      " 11  primary_cleaner.input.depressant                    21170 non-null  float64\n",
      " 12  primary_cleaner.input.feed_size                     22716 non-null  float64\n",
      " 13  primary_cleaner.input.xanthate                      21565 non-null  float64\n",
      " 14  primary_cleaner.output.concentrate_ag               22618 non-null  float64\n",
      " 15  primary_cleaner.output.concentrate_pb               22268 non-null  float64\n",
      " 16  primary_cleaner.output.concentrate_sol              21918 non-null  float64\n",
      " 17  primary_cleaner.output.concentrate_au               22618 non-null  float64\n",
      " 18  primary_cleaner.output.tail_ag                      22614 non-null  float64\n",
      " 19  primary_cleaner.output.tail_pb                      22594 non-null  float64\n",
      " 20  primary_cleaner.output.tail_sol                     22365 non-null  float64\n",
      " 21  primary_cleaner.output.tail_au                      22617 non-null  float64\n",
      " 22  primary_cleaner.state.floatbank8_a_air              22660 non-null  float64\n",
      " 23  primary_cleaner.state.floatbank8_a_level            22667 non-null  float64\n",
      " 24  primary_cleaner.state.floatbank8_b_air              22660 non-null  float64\n",
      " 25  primary_cleaner.state.floatbank8_b_level            22673 non-null  float64\n",
      " 26  primary_cleaner.state.floatbank8_c_air              22662 non-null  float64\n",
      " 27  primary_cleaner.state.floatbank8_c_level            22673 non-null  float64\n",
      " 28  primary_cleaner.state.floatbank8_d_air              22661 non-null  float64\n",
      " 29  primary_cleaner.state.floatbank8_d_level            22673 non-null  float64\n",
      " 30  rougher.calculation.sulfate_to_au_concentrate       22672 non-null  float64\n",
      " 31  rougher.calculation.floatbank10_sulfate_to_au_feed  22672 non-null  float64\n",
      " 32  rougher.calculation.floatbank11_sulfate_to_au_feed  22672 non-null  float64\n",
      " 33  rougher.calculation.au_pb_ratio                     21089 non-null  float64\n",
      " 34  rougher.input.feed_ag                               22618 non-null  float64\n",
      " 35  rougher.input.feed_pb                               22472 non-null  float64\n",
      " 36  rougher.input.feed_rate                             22163 non-null  float64\n",
      " 37  rougher.input.feed_size                             22277 non-null  float64\n",
      " 38  rougher.input.feed_sol                              22357 non-null  float64\n",
      " 39  rougher.input.feed_au                               22617 non-null  float64\n",
      " 40  rougher.input.floatbank10_sulfate                   21415 non-null  float64\n",
      " 41  rougher.input.floatbank10_xanthate                  22247 non-null  float64\n",
      " 42  rougher.input.floatbank11_sulfate                   22038 non-null  float64\n",
      " 43  rougher.input.floatbank11_xanthate                  20459 non-null  float64\n",
      " 44  rougher.output.concentrate_ag                       22618 non-null  float64\n",
      " 45  rougher.output.concentrate_pb                       22618 non-null  float64\n",
      " 46  rougher.output.concentrate_sol                      22526 non-null  float64\n",
      " 47  rougher.output.concentrate_au                       22618 non-null  float64\n",
      " 48  rougher.output.recovery                             19597 non-null  float64\n",
      " 49  rougher.output.tail_ag                              19979 non-null  float64\n",
      " 50  rougher.output.tail_pb                              22618 non-null  float64\n",
      " 51  rougher.output.tail_sol                             19980 non-null  float64\n",
      " 52  rougher.output.tail_au                              19980 non-null  float64\n",
      " 53  rougher.state.floatbank10_a_air                     22646 non-null  float64\n",
      " 54  rougher.state.floatbank10_a_level                   22647 non-null  float64\n",
      " 55  rougher.state.floatbank10_b_air                     22646 non-null  float64\n",
      " 56  rougher.state.floatbank10_b_level                   22647 non-null  float64\n",
      " 57  rougher.state.floatbank10_c_air                     22646 non-null  float64\n",
      " 58  rougher.state.floatbank10_c_level                   22654 non-null  float64\n",
      " 59  rougher.state.floatbank10_d_air                     22641 non-null  float64\n",
      " 60  rougher.state.floatbank10_d_level                   22649 non-null  float64\n",
      " 61  rougher.state.floatbank10_e_air                     22096 non-null  float64\n",
      " 62  rougher.state.floatbank10_e_level                   22649 non-null  float64\n",
      " 63  rougher.state.floatbank10_f_air                     22641 non-null  float64\n",
      " 64  rougher.state.floatbank10_f_level                   22642 non-null  float64\n",
      " 65  secondary_cleaner.output.tail_ag                    22616 non-null  float64\n",
      " 66  secondary_cleaner.output.tail_pb                    22600 non-null  float64\n",
      " 67  secondary_cleaner.output.tail_sol                   20501 non-null  float64\n",
      " 68  secondary_cleaner.output.tail_au                    22618 non-null  float64\n",
      " 69  secondary_cleaner.state.floatbank2_a_air            22333 non-null  float64\n",
      " 70  secondary_cleaner.state.floatbank2_a_level          22591 non-null  float64\n",
      " 71  secondary_cleaner.state.floatbank2_b_air            22538 non-null  float64\n",
      " 72  secondary_cleaner.state.floatbank2_b_level          22588 non-null  float64\n",
      " 73  secondary_cleaner.state.floatbank3_a_air            22585 non-null  float64\n",
      " 74  secondary_cleaner.state.floatbank3_a_level          22587 non-null  float64\n",
      " 75  secondary_cleaner.state.floatbank3_b_air            22592 non-null  float64\n",
      " 76  secondary_cleaner.state.floatbank3_b_level          22590 non-null  float64\n",
      " 77  secondary_cleaner.state.floatbank4_a_air            22571 non-null  float64\n",
      " 78  secondary_cleaner.state.floatbank4_a_level          22587 non-null  float64\n",
      " 79  secondary_cleaner.state.floatbank4_b_air            22608 non-null  float64\n",
      " 80  secondary_cleaner.state.floatbank4_b_level          22607 non-null  float64\n",
      " 81  secondary_cleaner.state.floatbank5_a_air            22615 non-null  float64\n",
      " 82  secondary_cleaner.state.floatbank5_a_level          22615 non-null  float64\n",
      " 83  secondary_cleaner.state.floatbank5_b_air            22615 non-null  float64\n",
      " 84  secondary_cleaner.state.floatbank5_b_level          22616 non-null  float64\n",
      " 85  secondary_cleaner.state.floatbank6_a_air            22597 non-null  float64\n",
      " 86  secondary_cleaner.state.floatbank6_a_level          22615 non-null  float64\n",
      "dtypes: float64(86), object(1)\n",
      "memory usage: 15.1+ MB\n"
     ]
    }
   ],
   "source": [
    "# Finalmente la tabla full\n",
    "full_data.info()"
   ]
  },
  {
   "cell_type": "markdown",
   "metadata": {},
   "source": [
    "Revisemos entonces como son los procesos de extraccion y aislacion del oro para poder entender un poco las tablas.\n",
    "\n",
    "**1. Flotación**\n",
    "  \n",
    "La mezcla de mineral de oro se introduce en las plantas de flotación para obtener un concentrado de oro rougher y colas rougher (es decir, residuos del producto con una baja concentración de metales valiosos).\n",
    "  \n",
    "La estabilidad de este proceso se ve afectada por la volatilidad y el estado físico-químico desfavorable de la pulpa de flotación (una mezcla de partículas sólidas y líquido).\n",
    "  \n",
    "**2. Purificación**\n",
    "El concentrado rougher se somete a dos etapas de purificación. Luego de esto, tenemos el concentrado final y las nuevas colas.\n",
    "  \n",
    "![image.png](attachment:image.png)\n",
    "\n",
    "**Descripción de datos**\n",
    "- Proceso tecnológico\n",
    "    - Rougher feed — materia prima\n",
    "    - Rougher additions (o adiciones de reactivos) - reactivos de flotación: xantato, sulfato, depresante\n",
    "        - Xantato — promotor o activador de la flotación\n",
    "        - Sulfato — sulfuro de sodio para este proceso en particular\n",
    "        - Depresante — silicato de sodio\n",
    "    - Rougher process — flotación\n",
    "    - Rougher tails — residuos del producto\n",
    "    - Float banks — instalación de flotación\n",
    "    - Cleaner process — purificación\n",
    "    - Rougher Au — concentrado de oro rougher\n",
    "    - Final Au — concentrado de oro final\n",
    "  \n",
    "**Parámetros de las etapas**\n",
    "   - air amount — volumen de aire\n",
    "   - fluid levels — altura de las soluciones en el tanque\n",
    "   - feed size — tamaño de las partículas de la alimentación\n",
    "   - feed rate — tasa en la que se suministra material\n",
    "  \n",
    "**Denominación de las características**\n",
    "  \n",
    "*Así es como se denominan las características:*\n",
    "  \n",
    "`[stage].[parameter_type].[parameter_name]`\n",
    "  \n",
    "Ejemplo: `rougher.input.feed_ag`\n",
    "  \n",
    "**Valores posibles para [stage]:**\n",
    "   - rougher — flotación\n",
    "   - primary_cleaner — purificación primaria\n",
    "   - secondary_cleaner — purificación secundaria\n",
    "   - final — características finales\n",
    "  \n",
    "**Valores posibles para [parameter_type]:**\n",
    "   - input — parámetros de la materia prima\n",
    "   - output — parámetros del producto\n",
    "   - state — parámetros que caracterizan el estado actual de la etapa\n",
    "   - calculation — características de cálculo"
   ]
  },
  {
   "cell_type": "markdown",
   "metadata": {},
   "source": [
    "### <a id='toc1_1_2_'></a>[Verificación del cálculo de recuperación](#toc0_)"
   ]
  },
  {
   "attachments": {
    "image.png": {
     "image/png": "[encoded data removed]"
    }
   },
   "cell_type": "markdown",
   "metadata": {},
   "source": [
    "![image.png](attachment:image.png)\n",
    "- **C —** proporción de oro en el concentrado justo después de la flotación (para saber la recuperación del concentrado rougher)/después de la purificación (para saber la recuperación del concentrado final)\n",
    "- **F —** la proporción de oro en la alimentación antes de la flotación (para saber la recuperación del concentrado rougher)/en el concentrado justo después de la flotación (para saber la recuperación del concentrado final)\n",
    "- **T —** la proporción de oro en las colas rougher justo después de la flotación (para saber la recuperación del concentrado rougher)/después de la purificación (para saber la recuperación del concentrado final)"
   ]
  },
  {
   "cell_type": "markdown",
   "metadata": {},
   "source": [
    "Ahora vamos a buscar verificar que el cálculo de recuperación que tenemos en la tabla se haya hecho de manera correcta. Para eso vamos a realizar el cálculo con los valores que tenemos en la tabla y comparar por cuánto difieren con los valores que aparecen."
   ]
  },
  {
   "cell_type": "code",
   "execution_count": 6,
   "metadata": {},
   "outputs": [
    {
     "data": {
      "text/plain": [
       "['final.output.recovery', 'rougher.output.recovery']"
      ]
     },
     "execution_count": 6,
     "metadata": {},
     "output_type": "execute_result"
    }
   ],
   "source": [
    "# Primero veamos cuales son las columnas que tienen los recovery\n",
    "[c for c in train_data.columns if \"recovery\" in c]"
   ]
  },
  {
   "cell_type": "code",
   "execution_count": 7,
   "metadata": {},
   "outputs": [
    {
     "data": {
      "text/plain": [
       "['rougher.calculation.sulfate_to_au_concentrate',\n",
       " 'rougher.calculation.floatbank10_sulfate_to_au_feed',\n",
       " 'rougher.calculation.floatbank11_sulfate_to_au_feed',\n",
       " 'rougher.calculation.au_pb_ratio',\n",
       " 'rougher.input.feed_ag',\n",
       " 'rougher.input.feed_pb',\n",
       " 'rougher.input.feed_rate',\n",
       " 'rougher.input.feed_size',\n",
       " 'rougher.input.feed_sol',\n",
       " 'rougher.input.feed_au',\n",
       " 'rougher.input.floatbank10_sulfate',\n",
       " 'rougher.input.floatbank10_xanthate',\n",
       " 'rougher.input.floatbank11_sulfate',\n",
       " 'rougher.input.floatbank11_xanthate',\n",
       " 'rougher.output.concentrate_ag',\n",
       " 'rougher.output.concentrate_pb',\n",
       " 'rougher.output.concentrate_sol',\n",
       " 'rougher.output.concentrate_au',\n",
       " 'rougher.output.recovery',\n",
       " 'rougher.output.tail_ag',\n",
       " 'rougher.output.tail_pb',\n",
       " 'rougher.output.tail_sol',\n",
       " 'rougher.output.tail_au',\n",
       " 'rougher.state.floatbank10_a_air',\n",
       " 'rougher.state.floatbank10_a_level',\n",
       " 'rougher.state.floatbank10_b_air',\n",
       " 'rougher.state.floatbank10_b_level',\n",
       " 'rougher.state.floatbank10_c_air',\n",
       " 'rougher.state.floatbank10_c_level',\n",
       " 'rougher.state.floatbank10_d_air',\n",
       " 'rougher.state.floatbank10_d_level',\n",
       " 'rougher.state.floatbank10_e_air',\n",
       " 'rougher.state.floatbank10_e_level',\n",
       " 'rougher.state.floatbank10_f_air',\n",
       " 'rougher.state.floatbank10_f_level']"
      ]
     },
     "execution_count": 7,
     "metadata": {},
     "output_type": "execute_result"
    }
   ],
   "source": [
    "# Veamos cuales son las columnas con rougher para realizar los calculos\n",
    "[c for c in train_data.columns if 'rougher' in c]"
   ]
  },
  {
   "cell_type": "code",
   "execution_count": 8,
   "metadata": {},
   "outputs": [],
   "source": [
    "# Entonces ahora definamos una funcion para realizar el cálculo\n",
    "def recovery_calc(data, C_column, F_column, T_column):\n",
    "    \n",
    "    # Nos mantenemos ordenados separado por partes\n",
    "    numerator = 100 * data[C_column] * (data[F_column] - data[T_column])\n",
    "    denominator = data[F_column] * (data[C_column] - data[T_column])\n",
    "    \n",
    "    return numerator/denominator"
   ]
  },
  {
   "cell_type": "code",
   "execution_count": 9,
   "metadata": {},
   "outputs": [],
   "source": [
    "# Ahora es cuestion de crear una columna con nuestra funcion\n",
    "train_data[\"rougher.output.recovery_calculated\"] = recovery_calc(\n",
    "                                                train_data, 'rougher.output.concentrate_au','rougher.input.feed_au',\n",
    "                                                'rougher.output.tail_au')"
   ]
  },
  {
   "cell_type": "code",
   "execution_count": 10,
   "metadata": {},
   "outputs": [],
   "source": [
    "# Primero separamos los datos en los que los recovery de rougher no tienen nulo\n",
    "train_data_without_nulls = train_data.loc[(train_data['rougher.output.recovery_calculated'].notna()) & \n",
    "                                          (train_data['rougher.output.recovery'].notna())]"
   ]
  },
  {
   "cell_type": "code",
   "execution_count": 11,
   "metadata": {},
   "outputs": [
    {
     "data": {
      "text/plain": [
       "1.1101950495226952e-14"
      ]
     },
     "execution_count": 11,
     "metadata": {},
     "output_type": "execute_result"
    }
   ],
   "source": [
    "# Ahora calculamos el EAM de los calculos\n",
    "mean_absolute_error(train_data_without_nulls['rougher.output.recovery'],\n",
    "                    train_data_without_nulls['rougher.output.recovery_calculated'])"
   ]
  },
  {
   "cell_type": "markdown",
   "metadata": {},
   "source": [
    "Bueno, con 13 ceros despues de la coma podemos decir con bastante certeza de que no hay error en los cálculos de `rougher.output.recovery`. Entonces podemos pasar a la siguiente etapa!\n",
    "  \n",
    "### <a id='toc1_1_3_'></a>[Análisis de características faltantes en `test_data`](#toc0_)"
   ]
  },
  {
   "cell_type": "code",
   "execution_count": 12,
   "metadata": {},
   "outputs": [
    {
     "data": {
      "text/plain": [
       "{'final.output.concentrate_ag',\n",
       " 'final.output.concentrate_au',\n",
       " 'final.output.concentrate_pb',\n",
       " 'final.output.concentrate_sol',\n",
       " 'final.output.recovery',\n",
       " 'final.output.tail_ag',\n",
       " 'final.output.tail_au',\n",
       " 'final.output.tail_pb',\n",
       " 'final.output.tail_sol',\n",
       " 'primary_cleaner.output.concentrate_ag',\n",
       " 'primary_cleaner.output.concentrate_au',\n",
       " 'primary_cleaner.output.concentrate_pb',\n",
       " 'primary_cleaner.output.concentrate_sol',\n",
       " 'primary_cleaner.output.tail_ag',\n",
       " 'primary_cleaner.output.tail_au',\n",
       " 'primary_cleaner.output.tail_pb',\n",
       " 'primary_cleaner.output.tail_sol',\n",
       " 'rougher.calculation.au_pb_ratio',\n",
       " 'rougher.calculation.floatbank10_sulfate_to_au_feed',\n",
       " 'rougher.calculation.floatbank11_sulfate_to_au_feed',\n",
       " 'rougher.calculation.sulfate_to_au_concentrate',\n",
       " 'rougher.output.concentrate_ag',\n",
       " 'rougher.output.concentrate_au',\n",
       " 'rougher.output.concentrate_pb',\n",
       " 'rougher.output.concentrate_sol',\n",
       " 'rougher.output.recovery',\n",
       " 'rougher.output.recovery_calculated',\n",
       " 'rougher.output.tail_ag',\n",
       " 'rougher.output.tail_au',\n",
       " 'rougher.output.tail_pb',\n",
       " 'rougher.output.tail_sol',\n",
       " 'secondary_cleaner.output.tail_ag',\n",
       " 'secondary_cleaner.output.tail_au',\n",
       " 'secondary_cleaner.output.tail_pb',\n",
       " 'secondary_cleaner.output.tail_sol'}"
      ]
     },
     "execution_count": 12,
     "metadata": {},
     "output_type": "execute_result"
    }
   ],
   "source": [
    "# Primero veamos cuales son las columnas que tiene train_data y no test_data\n",
    "set(train_data.columns) - set(test_data.columns)"
   ]
  },
  {
   "cell_type": "markdown",
   "metadata": {},
   "source": [
    "Si miramos el `parameter_type` en los nombres notamos como todas las columnas son `output` o `calculation`. Eso nos da una clara idea de que el proceso de purificacion del oro toma un cierto tiempo por lo que esos valores no eran posibles de obtener al momento de obtener los datos de la etapa `input`. Por otra parte, seguramente `calculation` son simplemente cálculos hechos con la ayuda de datos obtenidos de `output`.\n",
    "  \n",
    "A fin de cuentas, no hay ningun problema con que falten esas columnas ya que un modelo en producción no tendría acceso a esos valores al momento de realizar predicciones."
   ]
  },
  {
   "cell_type": "markdown",
   "metadata": {},
   "source": [
    "### <a id='toc1_1_4_'></a>[Preprocesamiento de datos](#toc0_)\n",
    "  \n",
    "Sabemos que tenemos datos ausentes, veamos entonces que proporcion de los datos estan faltando."
   ]
  },
  {
   "cell_type": "code",
   "execution_count": 13,
   "metadata": {},
   "outputs": [],
   "source": [
    "# Antes algo que quiero hacer es cambiar las columnas date en los datos a formate datetime\n",
    "train_data['date'] = pd.to_datetime(train_data['date'], format='%Y-%m-%d %H:%M:%S')"
   ]
  },
  {
   "cell_type": "code",
   "execution_count": 14,
   "metadata": {},
   "outputs": [],
   "source": [
    "# Ahora lo hacemos en test\n",
    "test_data['date'] = pd.to_datetime(test_data['date'], format='%Y-%m-%d %H:%M:%S')"
   ]
  },
  {
   "cell_type": "code",
   "execution_count": 15,
   "metadata": {},
   "outputs": [],
   "source": [
    "# Y finalmente lo hacemos en full\n",
    "full_data['date'] = pd.to_datetime(full_data['date'], format='%Y-%m-%d %H:%M:%S')"
   ]
  },
  {
   "cell_type": "code",
   "execution_count": 16,
   "metadata": {},
   "outputs": [],
   "source": [
    "# Creemos una funcion que nos resuma el impacto de simplemente borrar los nulos\n",
    "def drop_na_summary(data):\n",
    "    print(f'''Tamaño original: {data.shape[0]}\n",
    "Tamaño sin nulos: {data.dropna(how='any').shape[0]}\n",
    "Diferencia neta: {data.shape[0] - data.dropna(how='any').shape[0]}\n",
    "Diferencia porcentual: {100*(data.shape[0]- data.dropna(how='any').shape[0])/data.shape[0]:.4f} %\n",
    "''')"
   ]
  },
  {
   "cell_type": "markdown",
   "metadata": {},
   "source": [
    "#### <a id='toc1_1_4_1_'></a>[`train_data`](#toc0_)"
   ]
  },
  {
   "cell_type": "code",
   "execution_count": 17,
   "metadata": {},
   "outputs": [
    {
     "data": {
      "text/plain": [
       "rougher.input.floatbank11_xanthate            11.293001\n",
       "primary_cleaner.input.sulfate                  7.752076\n",
       "primary_cleaner.input.depressant               7.485172\n",
       "rougher.input.floatbank10_sulfate              6.192171\n",
       "primary_cleaner.input.xanthate                 5.842230\n",
       "rougher.input.floatbank11_sulfate              3.695136\n",
       "rougher.state.floatbank10_e_air                3.576512\n",
       "rougher.input.feed_rate                        3.042705\n",
       "rougher.input.feed_size                        2.473310\n",
       "secondary_cleaner.state.floatbank2_a_air       2.153025\n",
       "rougher.input.floatbank10_xanthate             2.052195\n",
       "rougher.input.feed_sol                         1.731910\n",
       "rougher.input.feed_pb                          1.352313\n",
       "secondary_cleaner.state.floatbank2_b_air       0.919336\n",
       "secondary_cleaner.state.floatbank4_a_air       0.765125\n",
       "secondary_cleaner.state.floatbank3_a_level     0.670225\n",
       "secondary_cleaner.state.floatbank4_a_level     0.670225\n",
       "secondary_cleaner.state.floatbank2_b_level     0.664294\n",
       "secondary_cleaner.state.floatbank3_b_level     0.652432\n",
       "secondary_cleaner.state.floatbank2_a_level     0.646501\n",
       "secondary_cleaner.state.floatbank3_b_air       0.640569\n",
       "secondary_cleaner.state.floatbank6_a_air       0.610913\n",
       "secondary_cleaner.state.floatbank3_a_air       0.575326\n",
       "secondary_cleaner.state.floatbank4_b_level     0.551601\n",
       "secondary_cleaner.state.floatbank4_b_air       0.545670\n",
       "secondary_cleaner.state.floatbank5_b_air       0.504152\n",
       "secondary_cleaner.state.floatbank5_a_level     0.504152\n",
       "secondary_cleaner.state.floatbank5_a_air       0.504152\n",
       "secondary_cleaner.state.floatbank6_a_level     0.504152\n",
       "secondary_cleaner.state.floatbank5_b_level     0.498221\n",
       "rougher.input.feed_au                          0.492289\n",
       "rougher.input.feed_ag                          0.486358\n",
       "rougher.state.floatbank10_f_air                0.344009\n",
       "rougher.state.floatbank10_f_level              0.344009\n",
       "rougher.state.floatbank10_d_air                0.344009\n",
       "rougher.state.floatbank10_a_level              0.314353\n",
       "rougher.state.floatbank10_a_air                0.314353\n",
       "rougher.state.floatbank10_c_air                0.314353\n",
       "rougher.state.floatbank10_b_air                0.314353\n",
       "rougher.state.floatbank10_b_level              0.314353\n",
       "rougher.state.floatbank10_e_level              0.302491\n",
       "rougher.state.floatbank10_d_level              0.302491\n",
       "rougher.state.floatbank10_c_level              0.272835\n",
       "primary_cleaner.state.floatbank8_b_air         0.237248\n",
       "primary_cleaner.state.floatbank8_a_air         0.237248\n",
       "primary_cleaner.state.floatbank8_d_air         0.231317\n",
       "primary_cleaner.state.floatbank8_c_air         0.225386\n",
       "primary_cleaner.state.floatbank8_a_level       0.195730\n",
       "primary_cleaner.state.floatbank8_d_level       0.160142\n",
       "primary_cleaner.state.floatbank8_c_level       0.160142\n",
       "primary_cleaner.state.floatbank8_b_level       0.160142\n",
       "primary_cleaner.input.feed_size                0.000000\n",
       "dtype: float64"
      ]
     },
     "execution_count": 17,
     "metadata": {},
     "output_type": "execute_result"
    }
   ],
   "source": [
    "# Primero veamos las columnas con faltantes que nos interesan en train\n",
    "train_data.isna().mean()[[c for c in test_data.columns if ('input' in c) or ('state' in c)]].sort_values(ascending=False)*100"
   ]
  },
  {
   "cell_type": "markdown",
   "metadata": {},
   "source": [
    "En realidad, esas no son las únicas columnas que les faltan datos pero todas las demas tiene menos del 3,69% de datos faltantes. Por otra parte, si observamos bien podemos notar que las primeras 6 columnas que aparecen ahi son todas de `output` causando que la primera columna que nos interesa sea `rougher.input.floatbank11_xanthate` con un 11,29% de datos faltantes.\n",
    "  \n",
    "Despues de ponderar un rato, decidi que vamos a reemplazar los valores faltantes solo en las columnas pertinentes pero solo si tienen una cantidad de nulos superiores al 1%."
   ]
  },
  {
   "cell_type": "code",
   "execution_count": 18,
   "metadata": {},
   "outputs": [
    {
     "name": "stdout",
     "output_type": "stream",
     "text": [
      "Tamaño original: 16860\n",
      "Tamaño sin nulos: 11017\n",
      "Diferencia neta: 5843\n",
      "Diferencia porcentual: 34.6560 %\n",
      "\n"
     ]
    }
   ],
   "source": [
    "# Antes de realizar todo el trabajo, quiero ver cuantas filas perderia de eliminar todas las filas con nulos\n",
    "drop_na_summary(train_data)"
   ]
  },
  {
   "cell_type": "code",
   "execution_count": 19,
   "metadata": {},
   "outputs": [],
   "source": [
    "# Primero definimos las columnas que vamos a querer imputar\n",
    "columns_to_fill = list(train_data.isna().mean()[[c for c in test_data.columns if ('input' in c) or ('state' in c)]]\n",
    "                       .sort_values(ascending=False).head(13).index)\n",
    "\n",
    "# De ahi creamos un DataFrame vacio\n",
    "new_columns = pd.DataFrame([])\n",
    "\n",
    "# Finalmente con un for creamos las tablas que nos digan cuando esa columna esta vacia\n",
    "for column in columns_to_fill:\n",
    "    new_columns[f'missing_{column}'] = train_data[column].isna()\n",
    "    \n",
    "# Y como detalle menor le cambiamos el dtype de las columnas a int\n",
    "new_columns = new_columns.astype(int)"
   ]
  },
  {
   "cell_type": "code",
   "execution_count": 20,
   "metadata": {},
   "outputs": [],
   "source": [
    "# Finalmente agregamos las columnas informativas al df y lo guardamos en una variable auxiliar\n",
    "dummy_train_data = pd.concat([train_data,new_columns],axis=1)"
   ]
  },
  {
   "cell_type": "code",
   "execution_count": 21,
   "metadata": {},
   "outputs": [],
   "source": [
    "# Ahora entonces reemplazamos los valores con la media de cada columna\n",
    "for column in columns_to_fill:\n",
    "    dummy_train_data.loc[(dummy_train_data[column].isna()),column] = dummy_train_data[column].mean()"
   ]
  },
  {
   "cell_type": "code",
   "execution_count": 22,
   "metadata": {},
   "outputs": [
    {
     "data": {
      "text/plain": [
       "rougher.input.floatbank11_xanthate          0\n",
       "primary_cleaner.input.sulfate               0\n",
       "primary_cleaner.input.depressant            0\n",
       "rougher.input.floatbank10_sulfate           0\n",
       "primary_cleaner.input.xanthate              0\n",
       "rougher.input.floatbank11_sulfate           0\n",
       "rougher.state.floatbank10_e_air             0\n",
       "rougher.input.feed_rate                     0\n",
       "rougher.input.feed_size                     0\n",
       "secondary_cleaner.state.floatbank2_a_air    0\n",
       "rougher.input.floatbank10_xanthate          0\n",
       "rougher.input.feed_sol                      0\n",
       "rougher.input.feed_pb                       0\n",
       "dtype: int64"
      ]
     },
     "execution_count": 22,
     "metadata": {},
     "output_type": "execute_result"
    }
   ],
   "source": [
    "# Verificamos si los cambios se hicieron\n",
    "dummy_train_data[columns_to_fill].isna().sum()"
   ]
  },
  {
   "cell_type": "code",
   "execution_count": 23,
   "metadata": {},
   "outputs": [
    {
     "data": {
      "text/plain": [
       "(12044, 101)"
      ]
     },
     "execution_count": 23,
     "metadata": {},
     "output_type": "execute_result"
    }
   ],
   "source": [
    "# Finalmente, descartamos el resto de las filas que tienen nulos\n",
    "dummy_train_data.dropna().shape"
   ]
  },
  {
   "cell_type": "code",
   "execution_count": 24,
   "metadata": {},
   "outputs": [
    {
     "data": {
      "text/plain": [
       "28.56465005931198"
      ]
     },
     "execution_count": 24,
     "metadata": {},
     "output_type": "execute_result"
    }
   ],
   "source": [
    "# Veamos que porcentaje de filas perdimos\n",
    "100 * (16860 - 12044) /16860"
   ]
  },
  {
   "cell_type": "markdown",
   "metadata": {},
   "source": [
    "Okay... aca tenemos una situacion particular. Si decidimos imputar de la forma en la que dijimos ganamos un aproximado de 1000 filas en comparacion a si decidimos eliminar sin mas los nulos. Si tomamos en cuenta que vamos a tener datos que fueron agregados artificialmente y tambien notamos como tenemos 13 columnas mas de las cuales solo la minoria aportan informacion... Me parece que es una mejor idea simplemente eliminar las filas con nulos ya que la ganancia de imputar no es tan grande, menos tomando en cuenta que todos los posteriores datos de los que quieramos obtener una prediccion deberia tener esas 13 columnas (columnas que en un caso ideal no sirven para nada)."
   ]
  },
  {
   "cell_type": "code",
   "execution_count": 25,
   "metadata": {},
   "outputs": [],
   "source": [
    "# Entonces simplemente las eliminemos\n",
    "clean_train_data = train_data.dropna(how='any')"
   ]
  },
  {
   "cell_type": "markdown",
   "metadata": {},
   "source": [
    "Otra opción que se puede tomar para los datos en concreto que nos encontramos es la de usar la función `ffill` que toma la última observación válida para reemplazar el valor nulo. En éste caso aprovechamos que toda la tabla tiene un orden temporal y asumimos que no hay diferencias muy significativas entre los valores obtenidos en fechas cercanas."
   ]
  },
  {
   "cell_type": "code",
   "execution_count": 26,
   "metadata": {},
   "outputs": [],
   "source": [
    "# Guardamos en otra variable para comparar despues\n",
    "filled_train_data = train_data.ffill()"
   ]
  },
  {
   "cell_type": "markdown",
   "metadata": {},
   "source": [
    "#### <a id='toc1_1_4_2_'></a>[`test_data`](#toc0_)"
   ]
  },
  {
   "cell_type": "code",
   "execution_count": 27,
   "metadata": {},
   "outputs": [
    {
     "data": {
      "text/plain": [
       "rougher.input.floatbank11_xanthate          6.028005\n",
       "primary_cleaner.input.sulfate               5.157104\n",
       "primary_cleaner.input.depressant            4.849727\n",
       "rougher.input.floatbank10_sulfate           4.388661\n",
       "primary_cleaner.input.xanthate              2.834699\n",
       "rougher.input.floatbank10_xanthate          2.100410\n",
       "rougher.input.feed_sol                      1.144126\n",
       "rougher.input.floatbank11_sulfate           0.939208\n",
       "rougher.input.feed_rate                     0.683060\n",
       "secondary_cleaner.state.floatbank3_a_air    0.580601\n",
       "secondary_cleaner.state.floatbank2_b_air    0.392760\n",
       "rougher.input.feed_size                     0.375683\n",
       "secondary_cleaner.state.floatbank2_a_air    0.341530\n",
       "rougher.state.floatbank10_a_air             0.290301\n",
       "rougher.state.floatbank10_c_air             0.290301\n",
       "dtype: float64"
      ]
     },
     "execution_count": 27,
     "metadata": {},
     "output_type": "execute_result"
    }
   ],
   "source": [
    "# Veamos las celdas faltantes\n",
    "test_data.isna().mean().sort_values(ascending=False).head(15)*100"
   ]
  },
  {
   "cell_type": "markdown",
   "metadata": {},
   "source": [
    "En este caso podemos apreciar que los valores nulos con menos comunes que en la tabla de training. Eso es bueno ya que nos decidimos por crear un modelo el cual no tome columnas adicionales informando si una fila tenia nulo o no. De todas formas, veamos cuantas filas perdemos."
   ]
  },
  {
   "cell_type": "code",
   "execution_count": 28,
   "metadata": {},
   "outputs": [
    {
     "name": "stdout",
     "output_type": "stream",
     "text": [
      "Tamaño original: 5856\n",
      "Tamaño sin nulos: 5383\n",
      "Diferencia neta: 473\n",
      "Diferencia porcentual: 8.0772 %\n",
      "\n"
     ]
    }
   ],
   "source": [
    "drop_na_summary(test_data)"
   ]
  },
  {
   "cell_type": "code",
   "execution_count": 29,
   "metadata": {},
   "outputs": [],
   "source": [
    "# Siendo que no perdemos tanto, podemos eliminar los nulos sin problema\n",
    "clean_test_data = test_data.dropna(how='any')"
   ]
  },
  {
   "cell_type": "code",
   "execution_count": 30,
   "metadata": {},
   "outputs": [],
   "source": [
    "# Repetimos el proceso con test\n",
    "filled_test_data = test_data.ffill()"
   ]
  },
  {
   "cell_type": "markdown",
   "metadata": {},
   "source": [
    "#### <a id='toc1_1_4_3_'></a>[`full_data`](#toc0_)"
   ]
  },
  {
   "cell_type": "code",
   "execution_count": 31,
   "metadata": {},
   "outputs": [
    {
     "data": {
      "text/plain": [
       "rougher.output.recovery                   0.137304\n",
       "rougher.output.tail_ag                    0.120488\n",
       "rougher.output.tail_au                    0.120444\n",
       "rougher.output.tail_sol                   0.120444\n",
       "rougher.input.floatbank11_xanthate        0.099357\n",
       "secondary_cleaner.output.tail_sol         0.097508\n",
       "final.output.recovery                     0.086415\n",
       "rougher.calculation.au_pb_ratio           0.071624\n",
       "primary_cleaner.input.sulfate             0.070831\n",
       "primary_cleaner.input.depressant          0.068058\n",
       "rougher.input.floatbank10_sulfate         0.057272\n",
       "primary_cleaner.input.xanthate            0.050669\n",
       "primary_cleaner.output.concentrate_sol    0.035129\n",
       "rougher.input.floatbank11_sulfate         0.029847\n",
       "rougher.state.floatbank10_e_air           0.027294\n",
       "dtype: float64"
      ]
     },
     "execution_count": 31,
     "metadata": {},
     "output_type": "execute_result"
    }
   ],
   "source": [
    "full_data.isna().mean().sort_values(ascending= False).head(15)"
   ]
  },
  {
   "cell_type": "code",
   "execution_count": 32,
   "metadata": {},
   "outputs": [
    {
     "name": "stdout",
     "output_type": "stream",
     "text": [
      "Tamaño original: 22716\n",
      "Tamaño sin nulos: 16094\n",
      "Diferencia neta: 6622\n",
      "Diferencia porcentual: 29.1513 %\n",
      "\n"
     ]
    }
   ],
   "source": [
    "drop_na_summary(full_data)"
   ]
  },
  {
   "cell_type": "markdown",
   "metadata": {},
   "source": [
    "Tenemos menos nulos que en `train` pero más que en `test`... lo que tiene sentido ya que `full` contiene los datos de ambas tablas. Dado que no utilizaremos `full` para entrenar ni testear al modelo la vamos a dejar como está ya que los análisis que vamos a realizar no toman en cuenta los nulos."
   ]
  },
  {
   "cell_type": "markdown",
   "metadata": {},
   "source": [
    "## <a id='toc1_2_'></a>[Analisis de datos](#toc0_)\n",
    "### <a id='toc1_2_1_'></a>[Concentracion de metales según la etapa de purificación](#toc0_)"
   ]
  },
  {
   "cell_type": "code",
   "execution_count": 33,
   "metadata": {},
   "outputs": [
    {
     "data": {
      "text/plain": [
       "['final.output.concentrate_au',\n",
       " 'final.output.tail_au',\n",
       " 'primary_cleaner.output.concentrate_au',\n",
       " 'primary_cleaner.output.tail_au',\n",
       " 'rougher.calculation.sulfate_to_au_concentrate',\n",
       " 'rougher.calculation.floatbank10_sulfate_to_au_feed',\n",
       " 'rougher.calculation.floatbank11_sulfate_to_au_feed',\n",
       " 'rougher.input.feed_au',\n",
       " 'rougher.output.concentrate_au',\n",
       " 'rougher.output.tail_au',\n",
       " 'secondary_cleaner.output.tail_au']"
      ]
     },
     "execution_count": 33,
     "metadata": {},
     "output_type": "execute_result"
    }
   ],
   "source": [
    "# Primero repasemos las columnas que incluyen los metales\n",
    "[c for c in train_data.columns if \"_au\" in c]"
   ]
  },
  {
   "cell_type": "code",
   "execution_count": 34,
   "metadata": {},
   "outputs": [],
   "source": [
    "# Para poder visualizar esto, primero definimos lo siguiente\n",
    "etapas = ['rougher.input.feed_','rougher.output.concentrate_','primary_cleaner.output.concentrate_','final.output.concentrate_']\n",
    "metales = [\"au\",\"ag\",\"pb\"]"
   ]
  },
  {
   "cell_type": "code",
   "execution_count": 35,
   "metadata": {},
   "outputs": [
    {
     "data": {
      "image/png": "[encoded data removed]",
      "text/plain": [
       "<Figure size 864x504 with 1 Axes>"
      ]
     },
     "metadata": {
      "needs_background": "light"
     },
     "output_type": "display_data"
    },
    {
     "data": {
      "image/png": "[encoded data removed]",
      "text/plain": [
       "<Figure size 864x504 with 1 Axes>"
      ]
     },
     "metadata": {
      "needs_background": "light"
     },
     "output_type": "display_data"
    },
    {
     "data": {
      "image/png": "[encoded data removed]",
      "text/plain": [
       "<Figure size 864x504 with 1 Axes>"
      ]
     },
     "metadata": {
      "needs_background": "light"
     },
     "output_type": "display_data"
    }
   ],
   "source": [
    "# Ahora grafiquemos, para eso vamos a circular sobre los metales y posteriormente sobre las etapas\n",
    "for m in metales:\n",
    "    for e in etapas:\n",
    "        variable = e+m\n",
    "        full_data[variable].hist(bins=50, alpha=0.5, label=variable, figsize=(12,7))\n",
    "\n",
    "    plt.legend()\n",
    "    plt.title(f\"Concentración de {m.capitalize()}\")\n",
    "    plt.ylabel(\"Concentración\")\n",
    "    plt.show()"
   ]
  },
  {
   "cell_type": "markdown",
   "metadata": {},
   "source": [
    "Antes de nada hay que destacar como en todos los metales en todas las etapas presentan concentraciones (no bajas) de valor 0, pero bueno supongo que a veces pasa simplemente que las mediciones dan así (o hubo un problema en los datos). Ahora, respecto a los datos que no son 0, analizemos metal por metal:\n",
    "- Au (oro): podemos notar como la concentración de oro sube conforme avanzan las etapas con un salto bastante interesante hacia la última etapa. Tambien notamos como conforme avanzan las etapas baja gradualmente la varianza en los datos.\n",
    "- Ag (plata): en el caso de la plata nos encontramos en una situacion diferente, podemos ver como la concentración más alta se encuentra en la etapa `rougher.output`, despues presenta concentraciones similares a la inicial y finalmente en la etapa final vemos como se concentra mucho mas y en valores más bajos.\n",
    "- Pb (plomo): finalmente vemos como el plomo aumenta levemente a lo largo de las etapas y en la ultima etapa se concentra mas sobre un valor medio muy cercano al que tenia en la etapa anterior, pero con una menor varianza.\n",
    "  \n",
    "### <a id='toc1_2_2_'></a>[Particulas de alimentación en `test_data` y `train_data`](#toc0_)"
   ]
  },
  {
   "cell_type": "markdown",
   "metadata": {},
   "source": [
    "Ahora vamos a ver como se distribuye el tamaño de las partículas de la alimentación en el conjunto de entrenamiento y en el conjunto de prueba. Dado que debemos comparar las distribuciones de ambos datos, primero observamos los datos es con histogramas solapados pero normalizados.\n",
    "  \n",
    "Posteriormente vamos a realizar una prueba de hipótesis pero no sin antes determinar si las varianzas son diferentes con una prueba de Levene."
   ]
  },
  {
   "cell_type": "code",
   "execution_count": 36,
   "metadata": {},
   "outputs": [],
   "source": [
    "size_columns = ['rougher.input.feed_size','primary_cleaner.input.feed_size']"
   ]
  },
  {
   "cell_type": "code",
   "execution_count": 37,
   "metadata": {},
   "outputs": [
    {
     "data": {
      "image/png": "[encoded data removed]",
      "text/plain": [
       "<Figure size 864x504 with 1 Axes>"
      ]
     },
     "metadata": {
      "needs_background": "light"
     },
     "output_type": "display_data"
    },
    {
     "data": {
      "image/png": "[encoded data removed]",
      "text/plain": [
       "<Figure size 864x504 with 1 Axes>"
      ]
     },
     "metadata": {
      "needs_background": "light"
     },
     "output_type": "display_data"
    }
   ],
   "source": [
    "for column in size_columns:\n",
    "    train_data[column].hist(bins=50, alpha=0.5, label='train_data', figsize=(12,7), density= True)\n",
    "    test_data[column].hist(bins=50, alpha=0.5, label='test_data', figsize=(12,7), density= True, color= 'red')\n",
    "    plt.legend()\n",
    "    plt.title(f\"Tamaño de particulas de alimentación [{column}]\")\n",
    "    plt.ylabel(\"Concentración\")\n",
    "    plt.show()"
   ]
  },
  {
   "cell_type": "code",
   "execution_count": 38,
   "metadata": {},
   "outputs": [],
   "source": [
    "# Ahora vamos a realizar una prueba de hipótesis para comprobar si realmente los conjuntos varian significativamente\n",
    "\n",
    "# Primero separmos los datos de train \n",
    "train_rougher_feed_size = train_data['rougher.input.feed_size'].dropna(how='any')\n",
    "train_cleaner_feed_size = train_data['primary_cleaner.input.feed_size'].dropna(how='any')\n",
    "\n",
    "# Y despues los de test\n",
    "test_rougher_feed_size = test_data['rougher.input.feed_size'].dropna(how='any')\n",
    "test_cleaner_feed_size = test_data['primary_cleaner.input.feed_size'].dropna(how='any')"
   ]
  },
  {
   "cell_type": "code",
   "execution_count": 39,
   "metadata": {},
   "outputs": [
    {
     "name": "stdout",
     "output_type": "stream",
     "text": [
      "p-value:  0.17579196524125687\n",
      "No podemos afirmar que las varianzas son estadisticamente diferentes\n"
     ]
    }
   ],
   "source": [
    "# Pero antes vamos a realiar una prueba de Levene para determinar si las varianzas de los dos grupos son iguales o no\n",
    "# Primero definimos el factor de significancia\n",
    "alpha = 0.05\n",
    "\n",
    "# Realizamos la prueba de Levene para los datos rouger y la guardamos\n",
    "results = st.levene(test_rougher_feed_size, train_rougher_feed_size)\n",
    "\n",
    "# Finalmente imprimimos el pvalue y el resultado de la prueba\n",
    "print('p-value: ', results.pvalue)\n",
    "\n",
    "if (results.pvalue < alpha):\n",
    "    print('Las varianzas son estadisticamente diferentes')\n",
    "else:\n",
    "    print(\"No podemos afirmar que las varianzas son estadisticamente diferentes\")"
   ]
  },
  {
   "cell_type": "markdown",
   "metadata": {},
   "source": [
    "En el caso de nuestras hipótesis son muy simples:\n",
    "- *H0 (hipótesis nula): \"El tamaño de las partículas entre las particulas de train y test no cambia\"*\n",
    "- *H1 (hipótesis alternativa): \"El tamaño de las partículas entre las particulas de train y test cambia\"*"
   ]
  },
  {
   "cell_type": "code",
   "execution_count": 40,
   "metadata": {},
   "outputs": [
    {
     "name": "stdout",
     "output_type": "stream",
     "text": [
      "p-value:  6.7950959991986745e-15\n",
      "Rechazamos la hipótesis nula\n"
     ]
    }
   ],
   "source": [
    "# Con la prueba terminada y las varianzas determinadas como diferentes, vamos a proceder a evaluar las hipotesis\n",
    "# Tomamos el alfa que dijimos previamente\n",
    "alpha = 0.05\n",
    "\n",
    "# Como sabemos que las varianzas no son diferentes en cada grupo, establecemos el parámetro equal_var como True\n",
    "results = st.ttest_ind(test_rougher_feed_size, train_rougher_feed_size, equal_var=False)\n",
    "\n",
    "# Finalmente vemos la respuesta que tanto buscamos\n",
    "print('p-value: ', results.pvalue)\n",
    "\n",
    "if (results.pvalue < alpha):\n",
    "    print('Rechazamos la hipótesis nula')\n",
    "else:\n",
    "    print(\"No rechazamos la hipótesis nula\")"
   ]
  },
  {
   "cell_type": "markdown",
   "metadata": {},
   "source": [
    "Al parecer nos encontramos en parte con una situación no del todo ideal, veamos si los datos del `primary_cleaner` comparten el problema o no."
   ]
  },
  {
   "cell_type": "code",
   "execution_count": 41,
   "metadata": {},
   "outputs": [
    {
     "name": "stdout",
     "output_type": "stream",
     "text": [
      "p-value:  0.9052770087883676\n",
      "No podemos afirmar que las varianzas son estadisticamente diferentes\n"
     ]
    }
   ],
   "source": [
    "# Pero antes vamos a realiar una prueba de Levene para determinar si las varianzas de los dos grupos son iguales o no\n",
    "# Primero definimos el factor de significancia\n",
    "alpha = 0.05\n",
    "\n",
    "# Realizamos la prueba de Levene para los datos rouger y la guardamos\n",
    "results = st.levene(test_cleaner_feed_size, train_cleaner_feed_size)\n",
    "\n",
    "# Finalmente imprimimos el pvalue y el resultado de la prueba\n",
    "print('p-value: ', results.pvalue)\n",
    "\n",
    "if (results.pvalue < alpha):\n",
    "    print('Las varianzas son estadisticamente diferentes')\n",
    "else:\n",
    "    print(\"No podemos afirmar que las varianzas son estadisticamente diferentes\")"
   ]
  },
  {
   "cell_type": "code",
   "execution_count": 42,
   "metadata": {},
   "outputs": [
    {
     "name": "stdout",
     "output_type": "stream",
     "text": [
      "p-value:  0.0004554672200801049\n",
      "Rechazamos la hipótesis nula\n"
     ]
    }
   ],
   "source": [
    "# Con la prueba terminada y las varianzas determinadas como diferentes, vamos a proceder a evaluar las hipotesis\n",
    "# Tomamos el alfa que dijimos previamente\n",
    "alpha = 0.05\n",
    "\n",
    "# Como sabemos que las varianzas no son diferentes en cada grupo, establecemos el parámetro equal_var como True\n",
    "results = st.ttest_ind(test_cleaner_feed_size, train_cleaner_feed_size, equal_var=False)\n",
    "\n",
    "# Finalmente vemos la respuesta que tanto buscamos\n",
    "print('p-value: ', results.pvalue)\n",
    "\n",
    "if (results.pvalue < alpha):\n",
    "    print('Rechazamos la hipótesis nula')\n",
    "else:\n",
    "    print(\"No rechazamos la hipótesis nula\")"
   ]
  },
  {
   "cell_type": "markdown",
   "metadata": {},
   "source": [
    "Como podemos ver, tanto en los datos de `rougher` como los de `primary_cleaner` presentan diferencias significativas entre los datos de `train` y `test`. Lamentablemente eso impactará sobre la evaluación del modelo y posiblemente sobre una puesta en producción en el peor de los casos.\n",
    "  \n",
    "Cabe destacar que la prueba T de Student que usamos nos permite comparar dos distribuciones más alla de si los conjuntos son iguales o muy diferentes en la cantidad total de datos. Eso es la kryptonita de nuestra situación ya que justo ahora nos encontramos comparando dos conjuntos de datos que difieren altamente en la cantidad total de datos. \n",
    "  \n",
    "Para eso vamos a llamar otra prueba estadística no paramétrica, la prueba U de Mann-Whithney. Cumplimos con las dos condiciones requeridas de la prueba:\n",
    "1. Independencia de las muestras: Tenemos confianza de eso ya que sabemos que los datos de ambas tablas difieren en días por lo tanto difieren en los lotes de material. Por otra parte tenemos las prubas que hicimos más arriba para darnos un poco más de confianza en que se cumple la condición.\n",
    "2. Escala Ordinal: el tamaño de las particulas corresponden a una medida real que se puede categorizar en base a la relación de las diferentes medidas.\n",
    "  \n",
    "Con eso cumplido, podemos avanzar a realizar la prueba que para nuestra suerte forma parte de la librería de Scipy."
   ]
  },
  {
   "cell_type": "code",
   "execution_count": 43,
   "metadata": {},
   "outputs": [
    {
     "name": "stdout",
     "output_type": "stream",
     "text": [
      "p-value:  2.0607012173612447e-67\n",
      "Rechazamos la hipótesis nula\n"
     ]
    }
   ],
   "source": [
    "# Definimos el alpha como siempre\n",
    "alpha = 0.05\n",
    "\n",
    "# Ahora reai=lizamos la utest aclarando esos dos paramtros\n",
    "results = st.mannwhitneyu(\n",
    "    train_rougher_feed_size, test_rougher_feed_size, alternative='two-sided', method='auto')\n",
    "\n",
    "# Veamos el pvalue\n",
    "print('p-value: ', results.pvalue)\n",
    "\n",
    "if (results.pvalue < alpha):\n",
    "    print('Rechazamos la hipótesis nula')\n",
    "else:\n",
    "    print(\"No rechazamos la hipótesis nula\")"
   ]
  },
  {
   "cell_type": "code",
   "execution_count": 44,
   "metadata": {},
   "outputs": [
    {
     "name": "stdout",
     "output_type": "stream",
     "text": [
      "p-value:  1.5814305158456248e-05\n",
      "Rechazamos la hipótesis nula\n"
     ]
    }
   ],
   "source": [
    "# Pasamos al otro par de conjuntos, no es necesario aclarar el alpha de unuevo\n",
    "results = st.mannwhitneyu(\n",
    "    test_cleaner_feed_size, train_cleaner_feed_size, alternative='two-sided', method='auto')\n",
    "\n",
    "# Veamos el pvalue\n",
    "print('p-value: ', results.pvalue)\n",
    "\n",
    "if (results.pvalue < alpha):\n",
    "    print('Rechazamos la hipótesis nula')\n",
    "else:\n",
    "    print(\"No rechazamos la hipótesis nula\")"
   ]
  },
  {
   "cell_type": "markdown",
   "metadata": {},
   "source": [
    "Bueno, al parecer a la prueba de U no le parece que los conjuntos sean similares. Tambien cabe destacar que una prueba no paramétrica es más robusta pero menos precisa, en nuestro caso el conjunto de datos no son exactamente una distribución normal por lo cual en teoria algo como una prueba T no debería funcionar, pero posee una similaridad suficiente como para arrojar resultados respetables.\n",
    "  \n",
    "Al final de cuentas, no logramos superar completamente el problema de desbalance del tamaño de muestras pero con una prueba adicional reforzamos un poco la conclusión previamente obtenida. Siempre se puede realizar 1001 pruebas estadísticas pero hoy nuestro objetivo principal no es contestar ésta pregunta, así que sigamos con nuestro trabajo en mente. "
   ]
  },
  {
   "cell_type": "markdown",
   "metadata": {},
   "source": [
    "### <a id='toc1_2_3_'></a>[Concentraciones a lo largo de las etapas](#toc0_)"
   ]
  },
  {
   "cell_type": "markdown",
   "metadata": {},
   "source": [
    "Ahora vamos a observar las concentraciones totales de todas las sustancias en las diferentes etapas: materia prima, concentrado rougher y concentrado final. Nuestro foco en éste case es buscar valores anómalos y según cuántos encontremos decidiremos si los eliminamos o no."
   ]
  },
  {
   "cell_type": "code",
   "execution_count": 45,
   "metadata": {},
   "outputs": [
    {
     "data": {
      "image/png": "[encoded data removed]",
      "text/plain": [
       "<Figure size 864x504 with 1 Axes>"
      ]
     },
     "metadata": {
      "needs_background": "light"
     },
     "output_type": "display_data"
    },
    {
     "data": {
      "image/png": "[encoded data removed]",
      "text/plain": [
       "<Figure size 864x504 with 1 Axes>"
      ]
     },
     "metadata": {
      "needs_background": "light"
     },
     "output_type": "display_data"
    },
    {
     "data": {
      "image/png": "[encoded data removed]",
      "text/plain": [
       "<Figure size 864x504 with 1 Axes>"
      ]
     },
     "metadata": {
      "needs_background": "light"
     },
     "output_type": "display_data"
    },
    {
     "data": {
      "image/png": "[encoded data removed]",
      "text/plain": [
       "<Figure size 864x504 with 1 Axes>"
      ]
     },
     "metadata": {
      "needs_background": "light"
     },
     "output_type": "display_data"
    }
   ],
   "source": [
    "# Para realizar el analisis tenemos que llamar una vez mas a nuestro amigo, el bucle for\n",
    "for e in etapas:\n",
    "    variables = [e + me for me in metales]\n",
    "    full_data.boxplot(column=variables, figsize=(12,7))\n",
    "    \n",
    "\n",
    "    plt.title(f\"Concentración de sustancias en {e}\")\n",
    "    plt.ylabel(\"Concentración\")\n",
    "    plt.show()"
   ]
  },
  {
   "cell_type": "markdown",
   "metadata": {},
   "source": [
    "Al parecer nos encontramos con su buena cantidad de valores anomalos, en todas las etapas en todos los concentrados. Supongo entonces que hay que mirar mas de cerca cuantos son esos puntos negros (o ya le diria lineas)."
   ]
  },
  {
   "cell_type": "code",
   "execution_count": 46,
   "metadata": {},
   "outputs": [],
   "source": [
    "# Para el estudio de estos valores outliers vamos a traer una funcion\n",
    "def remove_outliers(df,column:str): # Como podemos ver, debemos entregar el DataFrame y la columna a modificar\n",
    "    \n",
    "    # Primero determinamos la media y la desv. estandar\n",
    "    mean =  df[column].mean()\n",
    "    std = df[column].std()\n",
    "    \n",
    "    # Despues determinamos el z-score aprovechando la vectorizacion\n",
    "    z_scores = ((df[column] - mean)/std).abs()\n",
    "    \n",
    "    # De ahi, si queremos eliminar los outliers nos quedamos solo con los menores e iguales a 3\n",
    "    corrected_map = z_scores<=3\n",
    "    \n",
    "    # Finalmente filtramos el df con el mapa que tenemos\n",
    "    corrected_df = df[corrected_map]\n",
    "    \n",
    "    # Y devolvemos el nuevo df [Nota: hay que reemplazar manualmente, no es inplace]\n",
    "    return corrected_df"
   ]
  },
  {
   "cell_type": "code",
   "execution_count": 47,
   "metadata": {},
   "outputs": [],
   "source": [
    "# Por otra parte, vamos a hacer una funcion que obtenga los outliers con el IQR\n",
    "def remove_outliers_2(data,column:str):\n",
    "    \n",
    "    # Primero definimos los cuartiles 1 y 3\n",
    "    Q1 = data[column].quantile(0.25)\n",
    "    Q3 = data[column].quantile(0.75)\n",
    "    \n",
    "    # De ahi definimos el IQR \n",
    "    IQR = Q3 - Q1\n",
    "    \n",
    "    # Ahora encontramos los límites superiores e inferiores\n",
    "    upp_lim = 1.5*IQR + Q3\n",
    "    low_lim = 1.5*IQR - Q1\n",
    "    \n",
    "    # Obtenemos un filtro para conseguir las filas outliers\n",
    "    mapper = ((data[column] >= Q1 - 1.5 * IQR) & (data[column] <= Q3 + 1.5 *IQR))\n",
    "    \n",
    "    # Y finalmente creamos la tabla con outliers\n",
    "    outlier_data = data.loc[mapper]\n",
    "    \n",
    "    return outlier_data"
   ]
  },
  {
   "cell_type": "code",
   "execution_count": 48,
   "metadata": {},
   "outputs": [],
   "source": [
    "# Y tambien realizamos la funcion inversa a la anterior\n",
    "def get_outliers(df,column:str):\n",
    "    \n",
    "    # Primero determinamos la media y la desv. estandar\n",
    "    mean =  df[column].mean()\n",
    "    std = df[column].std()\n",
    "    \n",
    "    # Despues determinamos el z-score aprovechando la vectorizacion\n",
    "    z_scores = ((df[column] - mean)/std).abs()\n",
    "    \n",
    "    # De ahi, si queremos obtener los outliers nos quedamos solo con los mayores a 3\n",
    "    corrected_map = z_scores>3\n",
    "    \n",
    "    # Finalmente filtramos el df con el mapa que tenemos\n",
    "    corrected_df = df[corrected_map]\n",
    "    \n",
    "    # Y devolvemos el nuevo df [Nota: hay que reemplazar manualmente, no es inplace]\n",
    "    return corrected_df"
   ]
  },
  {
   "cell_type": "code",
   "execution_count": 49,
   "metadata": {},
   "outputs": [],
   "source": [
    "# Por otra parte, vamos a hacer una funcion que obtenga los outliers con el IQR\n",
    "def get_outliers_2(data,column:str):\n",
    "    \n",
    "    # Primero definimos los cuartiles 1 y 3\n",
    "    Q1 = data[column].quantile(0.25)\n",
    "    Q3 = data[column].quantile(0.75)\n",
    "    \n",
    "    # De ahi definimos el IQR \n",
    "    IQR = Q3 - Q1\n",
    "    \n",
    "    # Ahora encontramos los límites superiores e inferiores\n",
    "    upp_lim = 1.5*IQR + Q3\n",
    "    low_lim = 1.5*IQR - Q1\n",
    "    \n",
    "    # Obtenemos un filtro para conseguir las filas outliers\n",
    "    mapper = ~((data[column] >= Q1 - 1.5 * IQR) & (data[column] <= Q3 + 1.5 *IQR))\n",
    "    \n",
    "    # Y finalmente creamos la tabla con outliers\n",
    "    outlier_data = data.loc[mapper]\n",
    "    \n",
    "    return outlier_data"
   ]
  },
  {
   "cell_type": "code",
   "execution_count": 50,
   "metadata": {},
   "outputs": [
    {
     "name": "stdout",
     "output_type": "stream",
     "text": [
      "Tamaño del dataset con outliers: 22716 \n",
      "\n",
      "Tamaño del dataset sin outliers en la columna rougher.input.feed_au: 22617\n",
      " - Cantidad de filas perdidas: 99\n",
      "        \n",
      "Tamaño del dataset sin outliers en la columna rougher.input.feed_ag: 22618\n",
      " - Cantidad de filas perdidas: 98\n",
      "        \n",
      "Tamaño del dataset sin outliers en la columna rougher.input.feed_pb: 22472\n",
      " - Cantidad de filas perdidas: 244\n",
      "        \n",
      "Tamaño del dataset sin outliers en la columna rougher.output.concentrate_au: 22618\n",
      " - Cantidad de filas perdidas: 98\n",
      "        \n",
      "Tamaño del dataset sin outliers en la columna rougher.output.concentrate_ag: 22617\n",
      " - Cantidad de filas perdidas: 99\n",
      "        \n",
      "Tamaño del dataset sin outliers en la columna rougher.output.concentrate_pb: 22603\n",
      " - Cantidad de filas perdidas: 113\n",
      "        \n",
      "Tamaño del dataset sin outliers en la columna primary_cleaner.output.concentrate_au: 22618\n",
      " - Cantidad de filas perdidas: 98\n",
      "        \n",
      "Tamaño del dataset sin outliers en la columna primary_cleaner.output.concentrate_ag: 22618\n",
      " - Cantidad de filas perdidas: 98\n",
      "        \n",
      "Tamaño del dataset sin outliers en la columna primary_cleaner.output.concentrate_pb: 22268\n",
      " - Cantidad de filas perdidas: 448\n",
      "        \n",
      "Tamaño del dataset sin outliers en la columna final.output.concentrate_au: 22630\n",
      " - Cantidad de filas perdidas: 86\n",
      "        \n",
      "Tamaño del dataset sin outliers en la columna final.output.concentrate_ag: 22522\n",
      " - Cantidad de filas perdidas: 194\n",
      "        \n",
      "Tamaño del dataset sin outliers en la columna final.output.concentrate_pb: 22629\n",
      " - Cantidad de filas perdidas: 87\n",
      "        \n",
      "Perdida máxima de filas: 1762\n"
     ]
    }
   ],
   "source": [
    "# Ahora es cuestion de ver cuantos valores quedan en nuestras tablas\n",
    "print(f'Tamaño del dataset con outliers: {full_data.shape[0]} \\n')\n",
    "\n",
    "# Creamos una variable para poder ver de cuanto seria la pérdida máxima en el caso de que no haya solapamiento de los outliers\n",
    "total_loss = 0\n",
    "\n",
    "# Ahora con un bucle igual al de antes podemos ver en más detalle\n",
    "for e in etapas:\n",
    "    for m in metales:\n",
    "        \n",
    "        # Con un fstring vemos claramente cuantas filas nos quedan y cuantas perdemos\n",
    "        print(f'''Tamaño del dataset sin outliers en la columna {e+m}: {remove_outliers(full_data,e+m).shape[0]}\n",
    " - Cantidad de filas perdidas: {full_data.shape[0] - remove_outliers(full_data,e+m).shape[0]}\n",
    "        ''')\n",
    "        \n",
    "        # No nos olvidemos de sumar\n",
    "        total_loss += full_data.shape[0] - remove_outliers(full_data,e+m).shape[0]\n",
    "\n",
    "print('Perdida máxima de filas:', total_loss)    "
   ]
  },
  {
   "cell_type": "markdown",
   "metadata": {},
   "source": [
    "Bueno, al parecer el Pb(plomo) presenta la mayor cantidad de outliers en casitodas las etapas exceptuando en el output final en donde los valores del Pb son \"normales\" mientras que Ag(plata) se destaca por encima con 194 valores anómalos.\n",
    "  \n",
    "Cabe destacar que la pérdida máxima de filas justamente contempla la situación en la que no haya un solapamiento de valores anomalos en una fila, o dicho de otra forma, que ninguno de los valores anómalos de una columna coincida con los valores anómalos de otras columnas en la misma fila.\n",
    "  \n",
    "Al parecer no tenemos tantos outliers, pero por más que sean pocos quizas algún patrón se encuentra escondido entre esas filas. Llamemos nuestras funciones y veamos más de cerca que sucede."
   ]
  },
  {
   "cell_type": "markdown",
   "metadata": {},
   "source": [
    "Ahora voy a realizar el mismo estudio pero con la función `outliers_2` que utiliza IQR."
   ]
  },
  {
   "cell_type": "code",
   "execution_count": 51,
   "metadata": {},
   "outputs": [
    {
     "name": "stdout",
     "output_type": "stream",
     "text": [
      "Tamaño del dataset con outliers: 22716 \n",
      "\n",
      "Tamaño del dataset sin outliers en la columna rougher.input.feed_au: 20584\n",
      " - Cantidad de filas perdidas: 2132\n",
      "        \n",
      "Tamaño del dataset sin outliers en la columna rougher.input.feed_ag: 20648\n",
      " - Cantidad de filas perdidas: 2068\n",
      "        \n",
      "Tamaño del dataset sin outliers en la columna rougher.input.feed_pb: 20464\n",
      " - Cantidad de filas perdidas: 2252\n",
      "        \n",
      "Tamaño del dataset sin outliers en la columna rougher.output.concentrate_au: 19700\n",
      " - Cantidad de filas perdidas: 3016\n",
      "        \n",
      "Tamaño del dataset sin outliers en la columna rougher.output.concentrate_ag: 19915\n",
      " - Cantidad de filas perdidas: 2801\n",
      "        \n",
      "Tamaño del dataset sin outliers en la columna rougher.output.concentrate_pb: 19722\n",
      " - Cantidad de filas perdidas: 2994\n",
      "        \n",
      "Tamaño del dataset sin outliers en la columna primary_cleaner.output.concentrate_au: 19829\n",
      " - Cantidad de filas perdidas: 2887\n",
      "        \n",
      "Tamaño del dataset sin outliers en la columna primary_cleaner.output.concentrate_ag: 20265\n",
      " - Cantidad de filas perdidas: 2451\n",
      "        \n",
      "Tamaño del dataset sin outliers en la columna primary_cleaner.output.concentrate_pb: 19921\n",
      " - Cantidad de filas perdidas: 2795\n",
      "        \n",
      "Tamaño del dataset sin outliers en la columna final.output.concentrate_au: 19650\n",
      " - Cantidad de filas perdidas: 3066\n",
      "        \n",
      "Tamaño del dataset sin outliers en la columna final.output.concentrate_ag: 19989\n",
      " - Cantidad de filas perdidas: 2727\n",
      "        \n",
      "Tamaño del dataset sin outliers en la columna final.output.concentrate_pb: 20289\n",
      " - Cantidad de filas perdidas: 2427\n",
      "        \n",
      "Perdida máxima de filas: 31616\n"
     ]
    }
   ],
   "source": [
    "# Ahora es cuestion de ver cuantos valores quedan en nuestras tablas con el otro metodo\n",
    "print(f'Tamaño del dataset con outliers: {full_data.shape[0]} \\n')\n",
    "\n",
    "# Creamos una variable para poder ver de cuanto seria la pérdida máxima en el caso de que no haya solapamiento de los outliers\n",
    "total_loss = 0\n",
    "\n",
    "# Ahora con un bucle igual al de antes podemos ver en más detalle\n",
    "for e in etapas:\n",
    "    for m in metales:\n",
    "        \n",
    "        # Con un fstring vemos claramente cuantas filas nos quedan y cuantas perdemos\n",
    "        print(f'''Tamaño del dataset sin outliers en la columna {e+m}: {remove_outliers_2(full_data,e+m).shape[0]}\n",
    " - Cantidad de filas perdidas: {full_data.shape[0] - remove_outliers_2(full_data,e+m).shape[0]}\n",
    "        ''')\n",
    "        \n",
    "        # No nos olvidemos de sumar\n",
    "        total_loss += full_data.shape[0] - remove_outliers_2(full_data,e+m).shape[0]\n",
    "\n",
    "print('Perdida máxima de filas:', total_loss)    "
   ]
  },
  {
   "cell_type": "markdown",
   "metadata": {},
   "source": [
    "La situación es muy diferente si usamos el IQR para reconocer outliers ya que no hay un solo elemento que presente una presencia superior de *outliers* (como el Pb en el caso anterior) y como vimos antes, notamos que en éste caso si o si hay solapamiento de valores ya que la pérdida máxima de filas supera a la cantidad total de filas que tenemos.\n",
    "  \n",
    "Ahora vamos a avanzar a la siguiente etapa y observar realmente cuántas filas se pierden con cada método y que caracterizan a éstas filas."
   ]
  },
  {
   "cell_type": "code",
   "execution_count": 52,
   "metadata": {},
   "outputs": [],
   "source": [
    "# Primero creamos las variables vacías\n",
    "outliers = pd.DataFrame()\n",
    "outliers_2 = pd.DataFrame()\n",
    "\n",
    "# De ahí con dos bucles podemos obtener los outliers de las columnas que venimos estudiando\n",
    "for e in etapas:\n",
    "    for m in metales:\n",
    "        outliers = pd.concat([outliers, get_outliers(full_data,e+m)])\n",
    "        outliers_2 = pd.concat([outliers_2, get_outliers_2(full_data, e+m)])\n",
    "        \n",
    "        \n",
    "# Y ahora tenemos que eliminar duplicados ya que nuestra forma no es perfecta, y reiniciamos el indice para dejar todo limpio\n",
    "outliers.drop_duplicates(inplace= True)\n",
    "outliers.reset_index(inplace= True, drop= True)\n",
    "\n",
    "outliers_2.drop_duplicates(inplace= True)\n",
    "outliers_2.reset_index(inplace= True, drop= True)"
   ]
  },
  {
   "cell_type": "code",
   "execution_count": 53,
   "metadata": {},
   "outputs": [
    {
     "name": "stdout",
     "output_type": "stream",
     "text": [
      "\n",
      "Cantidad de outliers con z-score: 121\n",
      "Cantidad de outliers con IQR: 5346\n",
      "\n"
     ]
    }
   ],
   "source": [
    "# Veamos entonces el tamaño de las tablas con outliers\n",
    "print(f'''\n",
    "Cantidad de outliers con z-score: {outliers.shape[0]}\n",
    "Cantidad de outliers con IQR: {outliers_2.shape[0]}\n",
    "''')"
   ]
  },
  {
   "cell_type": "markdown",
   "metadata": {},
   "source": [
    "Al parecer el método de IQR agarró mucho más valores como outliers que el método z-score. Eso explica la diferencia que sospechaba de nuestro análisis anterior y el gráfico `boxplot` siendo que éste utiliza el IQR para discriminar los *outliers*. \n",
    "De todas formas, es evidente la solapación previamente mencionada. Por otra parte, quiero observar bien la presencia de nulos en éstas tablas."
   ]
  },
  {
   "cell_type": "code",
   "execution_count": 54,
   "metadata": {},
   "outputs": [
    {
     "name": "stdout",
     "output_type": "stream",
     "text": [
      " Cantidad total de celdas nulas\n",
      "\n",
      "Full Data: 36587\n",
      "Outliers 1 (z-score): 492\n",
      "Outliers 2 (IQR): 31937\n",
      "\n"
     ]
    }
   ],
   "source": [
    "print(f''' Cantidad total de celdas nulas\n",
    "\n",
    "Full Data: {full_data.isna().sum().sum()}\n",
    "Outliers 1 (z-score): {outliers.isna().sum().sum()}\n",
    "Outliers 2 (IQR): {outliers_2.isna().sum().sum()}\n",
    "''')"
   ]
  },
  {
   "cell_type": "markdown",
   "metadata": {},
   "source": [
    "Cabe destacar que lo que busqué contabilizar es la cantidad de celdas nulas **totales**. Y lo que uno encuentra! Al parecer los outliers destacados por el rango IQR cubren la gran mayoría de los nulos **en la tabla**, siendo que solo alrededor de 4000 celdas no se encuentran. \n",
    "  \n",
    "Eso nos da un indicio de que lo más probable es que si una fila tiene valores nulos tambien tenga outliers, puede ser que no es que se registraron valores extraños en el proceso del material sino que hubo un problema en el registro de dichas filas.\n",
    "  \n",
    "Con esos conocimientos puedo predecir que la pérdida de filas será mucho menor en las tablas de nuestros datos ya limpiados de nulos, y lamentablemente condena a una presencia mayor de outliers a las tablas sobre las cuales se les imputaron valores a los nulos.\n",
    "  \n",
    "*Entonces, llega la duda. Usamos el metodo z-score o el IQR para eliminar los outliers?*\n",
    "  \n",
    "Gracias a las revelaciones que nos dió el método IQR sabemos que la mayoría de los valores anómalos son aledaños a valores nulos por lo que no debemos esperar una gran presencia de outliers en las tablas `clean`. También sabemos que el método IQR eliminaría una grán cantidad de valores anómalos, aunque muchos de ellos fueron elimninados también en las tablas `clean`.\n",
    "  \n",
    "Entonces finalmente voy a decidir tomar el método z-score ya que deseo preservar la mayor cantidad de información posible."
   ]
  },
  {
   "cell_type": "code",
   "execution_count": 55,
   "metadata": {},
   "outputs": [],
   "source": [
    "# Ahora simplemente hay que eliminar los outliers en las tablas train y test\n",
    "# Para eso primero creamos las variables como las tablas\n",
    "targetless_test_data = clean_test_data\n",
    "final_train_data = clean_train_data\n",
    "\n",
    "# De ahi usamos un bucle ya que test solo tiene una de las etapas para ir eliminando outliers de las diferentes columnas\n",
    "for m in metales:\n",
    "    targetless_test_data = remove_outliers(targetless_test_data,'rougher.input.feed_'+m)\n",
    "        \n",
    "# En el caso de train necesitamos 2 bucles para eliminar los outliers antes mencionados\n",
    "for e in etapas:\n",
    "    for m in metales:\n",
    "        final_train_data = remove_outliers(final_train_data,e+m)\n",
    "        \n",
    "# Finalmente reiniciamos los índices\n",
    "targetless_test_data.reset_index(inplace= True)\n",
    "final_train_data.reset_index(inplace= True)    "
   ]
  },
  {
   "cell_type": "code",
   "execution_count": 56,
   "metadata": {},
   "outputs": [
    {
     "name": "stdout",
     "output_type": "stream",
     "text": [
      "\n",
      "Filas en test sin outliers: 5310\n",
      "Filas en test con outliers: 5383\n",
      "\n",
      "Filas en train sin outliers: 10053\n",
      "Filas en train con outliers: 11017\n",
      "\n"
     ]
    }
   ],
   "source": [
    "print(f'''\n",
    "Filas en test sin outliers: {targetless_test_data.shape[0]}\n",
    "Filas en test con outliers: {clean_test_data.shape[0]}\n",
    "\n",
    "Filas en train sin outliers: {final_train_data.shape[0]}\n",
    "Filas en train con outliers: {clean_train_data.shape[0]}\n",
    "''')"
   ]
  },
  {
   "cell_type": "markdown",
   "metadata": {},
   "source": [
    "Como podemos ver, efectivamente la pérdida no fue muy grande en ninguno de los dos conjuntos de datos. Eso es la prueba final de que efectivamente los outliers estaban mayormente vinculados a los valores nulos, supongo que habrá que enviar un feedback con las filas con nulos para que se realice un backtrack utilizando las fechas como referencia y analizar que sucedió en esos casos."
   ]
  },
  {
   "cell_type": "markdown",
   "metadata": {},
   "source": [
    "## <a id='toc1_3_'></a>[Construcción del modelo](#toc0_)\n",
    "  \n",
    "Ahora vamos a pasar a la construccion de nuestro modelo, para eso primero tenemos que definir cuales serán las features y los targets.\n",
    "  \n",
    "Uno de los detalles de los modelos que vamos a entrenar es que van a tener 2 targets, eso practicamente elimina el modelo de regresión lineal ya que éste puede tener 2 targets por lo que para éste trabajo deberíamos hacer 2 modelos diferentes."
   ]
  },
  {
   "cell_type": "code",
   "execution_count": 57,
   "metadata": {},
   "outputs": [],
   "source": [
    "# Los targets son simples, cuanto oro rougher y final recuperamos  \n",
    "targets = ['rougher.output.recovery', 'final.output.recovery']\n",
    "\n",
    "# Por su parte, las features las vamos a obtener en base a test_data\n",
    "features = test_data.drop(columns=[\"date\"]).columns.values"
   ]
  },
  {
   "attachments": {
    "image.png": {
     "image/png": "[encoded data removed]"
    }
   },
   "cell_type": "markdown",
   "metadata": {},
   "source": [
    "\n",
    "\n",
    "Para evaluar nuestro modelo usaremos una métrica particular llamada sMAPE (symmetric Mean Absolute Percentage Error)  \n",
    "![image.png](attachment:image.png)\n",
    "  \n",
    "Asi que antes de hacer nada, hagamos una funcion que nos devuelva el sMAPE"
   ]
  },
  {
   "cell_type": "code",
   "execution_count": 58,
   "metadata": {},
   "outputs": [],
   "source": [
    "# Primero creamos la funcion en cuestion, y le agregamos el **kwargs para poder crear un scorer posteriormente\n",
    "def smape(y, y_pred, **kwargs):\n",
    "    \n",
    "    # Entonces solo es cuestion de crear variables con los nombres de lo que vemos en la fórmula\n",
    "    n = len(y)\n",
    "    abs_y = abs(y)\n",
    "    abs_y_pred = abs(y_pred)\n",
    "    abs_diff = abs(y - y_pred)\n",
    "    \n",
    "    # Y devolver la fórmula\n",
    "    return 100*(2/n) * np.nansum(abs_diff / (abs_y + abs_y_pred))"
   ]
  },
  {
   "attachments": {
    "image.png": {
     "image/png": "[encoded data removed]"
    }
   },
   "cell_type": "markdown",
   "metadata": {},
   "source": [
    "El detalle, es que no tenemos que evaluar exactamente con esa métrica, sino con una versión ponderada específicamente para el cliente según la etapa:\n",
    "  \n",
    "![image.png](attachment:image.png)"
   ]
  },
  {
   "cell_type": "code",
   "execution_count": 59,
   "metadata": {},
   "outputs": [],
   "source": [
    "# Entonces simplemente creamos otra funcion para obtener esos valores\n",
    "def smape_final(y, y_pred):\n",
    "    # Antes que nada nos aseguramos de estar trabajando on arrays\n",
    "    y = np.array(y)\n",
    "    y_pred = np.array(y_pred)\n",
    "    \n",
    "    # De ahi obtenemos las predicciones de rougher y final\n",
    "    pred_target_1 = y_pred[:, 0]\n",
    "    pred_target_2 = y_pred[:, 1]\n",
    "    \n",
    "    # Despues obtenemos n\n",
    "    n = y.shape[0]\n",
    "    \n",
    "    # Obtenemos los diferentes terminos de rougher_smape\n",
    "    rougher_abs_y = abs(y[:, 0])\n",
    "    rougher_abs_y_pred = abs(pred_target_1)\n",
    "    rougher_abs_diff = abs(rougher_abs_y - rougher_abs_y_pred)\n",
    "    \n",
    "    # Y calculamos rougher_smape\n",
    "    rougher_smape = 100*(2/n) * np.nansum(rougher_abs_diff / (rougher_abs_y + rougher_abs_y_pred))\n",
    "    \n",
    "    # Ahora se repite el proceso para obtener final_smape\n",
    "    final_abs_y = abs(y[:, 1])\n",
    "    final_abs_y_pred = abs(pred_target_2)\n",
    "    final_abs_diff = abs(final_abs_y - final_abs_y_pred)\n",
    "    final_smape = 100*(2/n) * np.nansum(final_abs_diff / (final_abs_y + final_abs_y_pred))\n",
    "    \n",
    "    # Finalmente devolvemos acorde al ponderado que nos piden\n",
    "    return 0.25*rougher_smape + 0.75*final_smape"
   ]
  },
  {
   "cell_type": "code",
   "execution_count": 60,
   "metadata": {},
   "outputs": [],
   "source": [
    "# Entonces creamos las tablas con las features y los targets para entrenar el modelo\n",
    "features_train = final_train_data[features]\n",
    "target_train = final_train_data[targets]"
   ]
  },
  {
   "cell_type": "code",
   "execution_count": 61,
   "metadata": {},
   "outputs": [],
   "source": [
    "# Antes de entrenar un modelo tenemos que crear un scorer para la funcion searchCV\n",
    "smape_scorer = make_scorer(smape_final, greater_is_better=False)"
   ]
  },
  {
   "cell_type": "code",
   "execution_count": 62,
   "metadata": {},
   "outputs": [],
   "source": [
    "# Ahora vamos a crear el objeto search\n",
    "forest_regressor_search = RandomizedSearchCV(\n",
    "    RandomForestRegressor(),\n",
    "    param_distributions = {\n",
    "        'n_estimators': [10, 20, 30],\n",
    "        'max_depth': [3, 5, 7],\n",
    "        'min_samples_split': [10, 50, 100]\n",
    "    },\n",
    "    n_iter = 5,\n",
    "    scoring = smape_scorer,\n",
    "    cv = 5,\n",
    "    random_state = 96569)"
   ]
  },
  {
   "cell_type": "code",
   "execution_count": 63,
   "metadata": {},
   "outputs": [
    {
     "data": {
      "text/plain": [
       "RandomizedSearchCV(cv=5, estimator=RandomForestRegressor(), n_iter=5,\n",
       "                   param_distributions={'max_depth': [3, 5, 7],\n",
       "                                        'min_samples_split': [10, 50, 100],\n",
       "                                        'n_estimators': [10, 20, 30]},\n",
       "                   random_state=96569,\n",
       "                   scoring=make_scorer(smape_final, greater_is_better=False))"
      ]
     },
     "execution_count": 63,
     "metadata": {},
     "output_type": "execute_result"
    }
   ],
   "source": [
    "# Ahora pasamos a entrenar el search\n",
    "forest_regressor_search.fit(features_train, target_train)"
   ]
  },
  {
   "cell_type": "code",
   "execution_count": 64,
   "metadata": {},
   "outputs": [
    {
     "data": {
      "text/plain": [
       "RandomForestRegressor(max_depth=5, min_samples_split=10, n_estimators=30)"
      ]
     },
     "execution_count": 64,
     "metadata": {},
     "output_type": "execute_result"
    }
   ],
   "source": [
    "# Entonces, cual es el mejor modelo que pudo conseguir el search?\n",
    "forest_regressor_search.best_estimator_"
   ]
  },
  {
   "cell_type": "code",
   "execution_count": 65,
   "metadata": {},
   "outputs": [
    {
     "data": {
      "text/plain": [
       "-7.726574932381946"
      ]
     },
     "execution_count": 65,
     "metadata": {},
     "output_type": "execute_result"
    }
   ],
   "source": [
    "# Veamos tambien el sMAPE final que obtuvo\n",
    "forest_regressor_search.best_score_"
   ]
  },
  {
   "cell_type": "code",
   "execution_count": 66,
   "metadata": {},
   "outputs": [],
   "source": [
    "# Ahora vamos a realizar otra busqueda de hiperparámetros pero con valores más cercanos a los obtenidos anteriormente\n",
    "forest_regressor_search_2 = RandomizedSearchCV(\n",
    "    RandomForestRegressor(),\n",
    "    param_distributions = {\n",
    "        'n_estimators': [15, 20, 25],\n",
    "        'max_depth': [4, 5, 6],\n",
    "        'min_samples_split': [100, 125, 150]\n",
    "    },\n",
    "    n_iter = 5,\n",
    "    scoring = smape_scorer,\n",
    "    cv = 5,\n",
    "    random_state = 96569)"
   ]
  },
  {
   "cell_type": "code",
   "execution_count": 67,
   "metadata": {},
   "outputs": [
    {
     "data": {
      "text/plain": [
       "RandomizedSearchCV(cv=5, estimator=RandomForestRegressor(), n_iter=5,\n",
       "                   param_distributions={'max_depth': [4, 5, 6],\n",
       "                                        'min_samples_split': [100, 125, 150],\n",
       "                                        'n_estimators': [15, 20, 25]},\n",
       "                   random_state=96569,\n",
       "                   scoring=make_scorer(smape_final, greater_is_better=False))"
      ]
     },
     "execution_count": 67,
     "metadata": {},
     "output_type": "execute_result"
    }
   ],
   "source": [
    "# Entrenamos el nuevo search\n",
    "forest_regressor_search_2.fit(features_train, target_train)"
   ]
  },
  {
   "cell_type": "code",
   "execution_count": 68,
   "metadata": {},
   "outputs": [
    {
     "data": {
      "text/plain": [
       "RandomForestRegressor(max_depth=5, min_samples_split=100, n_estimators=25)"
      ]
     },
     "execution_count": 68,
     "metadata": {},
     "output_type": "execute_result"
    }
   ],
   "source": [
    "# Será diferente el nuevo modelo?\n",
    "forest_regressor_search_2.best_estimator_"
   ]
  },
  {
   "cell_type": "code",
   "execution_count": 69,
   "metadata": {},
   "outputs": [
    {
     "data": {
      "text/plain": [
       "-7.6531070509419195"
      ]
     },
     "execution_count": 69,
     "metadata": {},
     "output_type": "execute_result"
    }
   ],
   "source": [
    "# Es efectivamente diferente, pero que tanto se aleja del puntaje anterior?\n",
    "forest_regressor_search_2.best_score_"
   ]
  },
  {
   "cell_type": "markdown",
   "metadata": {},
   "source": [
    "Al parecer hicimos bien en refinar un poco más la busqueda ya que el error que tenemos ahora es un poco más chico que el que teníamos antes. Ahora tengo una leve sospecha de que el ponderado que tenemos para determinar el error final esté causando que la predicción de `rougher` sea más alta que en el modelo anterior. Entrenemos los modelos y revisemos con más detalles los resultados"
   ]
  },
  {
   "cell_type": "code",
   "execution_count": 70,
   "metadata": {},
   "outputs": [],
   "source": [
    "# Entonces creamos los dos modelos\n",
    "forest_model_1 = forest_regressor_search.best_estimator_\n",
    "forest_model_2 = forest_regressor_search_2.best_estimator_"
   ]
  },
  {
   "cell_type": "markdown",
   "metadata": {},
   "source": [
    "Con los dos modelos preparados podemos realizar primero una prueba de validación cruzada."
   ]
  },
  {
   "cell_type": "code",
   "execution_count": 71,
   "metadata": {},
   "outputs": [],
   "source": [
    "# Creamos el objeto KFold\n",
    "skf = KFold(n_splits=10, random_state=42, shuffle=True)"
   ]
  },
  {
   "cell_type": "code",
   "execution_count": 72,
   "metadata": {},
   "outputs": [
    {
     "name": "stdout",
     "output_type": "stream",
     "text": [
      "SMAPE de ésta iteración es: 5.640\n",
      "SMAPE de ésta iteración es: 5.696\n",
      "SMAPE de ésta iteración es: 5.434\n",
      "SMAPE de ésta iteración es: 5.441\n",
      "SMAPE de ésta iteración es: 5.455\n",
      "SMAPE de ésta iteración es: 5.525\n",
      "SMAPE de ésta iteración es: 5.872\n",
      "SMAPE de ésta iteración es: 5.896\n",
      "SMAPE de ésta iteración es: 5.513\n",
      "SMAPE de ésta iteración es: 5.584\n",
      "SMAPE de ésta iteración es: 5.552\n",
      "SMAPE de ésta iteración es: 5.592\n",
      "SMAPE de ésta iteración es: 5.670\n",
      "SMAPE de ésta iteración es: 5.650\n",
      "SMAPE de ésta iteración es: 5.557\n",
      "SMAPE de ésta iteración es: 5.563\n",
      "SMAPE de ésta iteración es: 5.310\n",
      "SMAPE de ésta iteración es: 5.349\n",
      "SMAPE de ésta iteración es: 5.498\n",
      "SMAPE de ésta iteración es: 5.531\n"
     ]
    }
   ],
   "source": [
    "# Primero transformamos los valores en np.arratys\n",
    "features_array = features_train.values\n",
    "target_array = target_train.values\n",
    "\n",
    "# Creamos las listas vacías para guardar a lo largo del proceso\n",
    "predicted_y_1 = []\n",
    "predicted_y_2 = []\n",
    "\n",
    "expected_y = []\n",
    "\n",
    "for train_index, test_index in skf.split(features_array, target_array):\n",
    "    # Primero guardamos los splits\n",
    "    x_train, x_test = features_array[train_index], features_array[test_index]\n",
    "    y_train, y_test = target_array[train_index], target_array[test_index]\n",
    "\n",
    "    # Entrenamos los modelos\n",
    "    forest_model_1.fit(x_train, y_train)\n",
    "    forest_model_2.fit(x_train, y_train)\n",
    "    \n",
    "    # Y vemos el SMAPE de ésta iteración\n",
    "    predicted_this_fold_1 = forest_model_1.predict(x_test)\n",
    "    predicted_this_fold_2 = forest_model_2.predict(x_test)\n",
    "    \n",
    "    score_1 = smape_final(y_test, predicted_this_fold_1)\n",
    "    print(f\"SMAPE de ésta iteración es: {score_1.mean():.3f}\")\n",
    "    \n",
    "    score_2 = smape_final(y_test, predicted_this_fold_2)\n",
    "    print(f\"SMAPE de ésta iteración es: {score_2.mean():.3f}\")\n",
    "\n",
    "    # Guardamos las predicciones\n",
    "    predicted_y_1.extend(predicted_this_fold_1)\n",
    "    predicted_y_2.extend(predicted_this_fold_2)\n",
    "\n",
    "    # Y guardamos los valores verdaderos\n",
    "    expected_y.extend(y_test)"
   ]
  },
  {
   "cell_type": "code",
   "execution_count": 73,
   "metadata": {},
   "outputs": [
    {
     "name": "stdout",
     "output_type": "stream",
     "text": [
      "Smape de todas las iteraciones del modelo 1: 5.55010\n",
      "Smape de todas las iteraciones del modelo 2: 5.58279\n"
     ]
    }
   ],
   "source": [
    "# Finalmente calculamos el SMAPE de todas las iteraciones\n",
    "print(f'''Smape de todas las iteraciones del modelo 1: {smape_final(expected_y, predicted_y_1):.5f}\n",
    "Smape de todas las iteraciones del modelo 2: {smape_final(expected_y, predicted_y_2):.5f}''')"
   ]
  },
  {
   "cell_type": "markdown",
   "metadata": {},
   "source": [
    "Al parecer el kfold demostró puntajes de smape aún mejores que el `RandomSearchCV` en ambos modelos y el primer modelo se sigue manteniendo superior. Seguramente si reiniciamos el kernel y repetimos el proceso no nos darán los mi"
   ]
  },
  {
   "cell_type": "code",
   "execution_count": 74,
   "metadata": {},
   "outputs": [
    {
     "data": {
      "text/plain": [
       "RandomForestRegressor(max_depth=5, min_samples_split=10, n_estimators=30)"
      ]
     },
     "execution_count": 74,
     "metadata": {},
     "output_type": "execute_result"
    }
   ],
   "source": [
    "# Entrenamos el primero\n",
    "forest_model_1.fit(features_train, target_train)"
   ]
  },
  {
   "cell_type": "code",
   "execution_count": 75,
   "metadata": {},
   "outputs": [
    {
     "data": {
      "text/plain": [
       "RandomForestRegressor(max_depth=5, min_samples_split=100, n_estimators=25)"
      ]
     },
     "execution_count": 75,
     "metadata": {},
     "output_type": "execute_result"
    }
   ],
   "source": [
    "# Y el segundo\n",
    "forest_model_2.fit(features_train, target_train)"
   ]
  },
  {
   "cell_type": "markdown",
   "metadata": {},
   "source": [
    "Antes de seguir, tenemos que ocuparnos de algo que en retrospectiva debería haber tratado antes. Actualmente el conjunto de datos `test` no se encuentra apto para los modelos ya que tiene la columna date y no tiene las columnas target. Pero si queremos obtener las columnas target necesitamos la columna date."
   ]
  },
  {
   "cell_type": "code",
   "execution_count": 76,
   "metadata": {},
   "outputs": [],
   "source": [
    "# Es cuestion de un merge con los parámetros correctos\n",
    "final_test_data = targetless_test_data.merge(\n",
    "    full_data[[\"date\", \"rougher.output.recovery\", \"final.output.recovery\"]],how='left',on='date')"
   ]
  },
  {
   "cell_type": "code",
   "execution_count": 77,
   "metadata": {},
   "outputs": [],
   "source": [
    "# Y ahora si podemos definir los target y las features para probar el modelo\n",
    "features_test = final_test_data[features]\n",
    "target_test = final_test_data[targets]"
   ]
  },
  {
   "cell_type": "code",
   "execution_count": 78,
   "metadata": {},
   "outputs": [],
   "source": [
    "# Ahora obtengamos las predicciones de los dos modelos\n",
    "forest_prediction_1 = forest_model_1.predict(features_test)\n",
    "forest_prediction_2 = forest_model_2.predict(features_test)"
   ]
  },
  {
   "cell_type": "code",
   "execution_count": 79,
   "metadata": {},
   "outputs": [
    {
     "name": "stdout",
     "output_type": "stream",
     "text": [
      "\n",
      "Promedio de rougher.output.recovery: 85.2181\n",
      "    Predicción promedio del modelo 1: 81.1442\n",
      "    Predicción promedio del modelo 2: 80.7576\n",
      "\n",
      "Promedio de final.output.recovery: 68.5482\n",
      "    Predicción promedio del modelo 1: 81.1442\n",
      "    Predicción promedio del modelo 2: 80.7576\n",
      "    \n",
      "sMAPE Final:\n",
      "    Modelo 1: 9.9080\n",
      "    Modelo 2: 9.9853\n",
      "\n"
     ]
    }
   ],
   "source": [
    "print(f'''\n",
    "Promedio de rougher.output.recovery: {final_test_data['rougher.output.recovery'].mean():.4f}\n",
    "    Predicción promedio del modelo 1: {forest_prediction_1[0].mean():.4f}\n",
    "    Predicción promedio del modelo 2: {forest_prediction_2[0].mean():.4f}\n",
    "\n",
    "Promedio de final.output.recovery: {final_test_data['final.output.recovery'].mean():.4f}\n",
    "    Predicción promedio del modelo 1: {forest_prediction_1[1].mean():.4f}\n",
    "    Predicción promedio del modelo 2: {forest_prediction_2[1].mean():.4f}\n",
    "    \n",
    "sMAPE Final:\n",
    "    Modelo 1: {smape_final(target_test,forest_prediction_1):.4f}\n",
    "    Modelo 2: {smape_final(target_test,forest_prediction_2):.4f}\n",
    "''')"
   ]
  },
  {
   "cell_type": "markdown",
   "metadata": {},
   "source": [
    "Al parecer mi hipótesis no estaba del todo correcta, al mirar los promedios notamos como el error de `final.output.recovery` es mayor al de `rougher.output.recovery` siendo el segundo el que baja el sMAPE final a los valores de ~9.6 en ambos modelos.\n",
    "  \n",
    "La buena noticia es que tanto el modelo 1 como el modelo 2 presentan errores que significan aproximadamente el 14% de los valores reales en promedio, lo cual no es tan malo.\n",
    "  \n",
    "De todas formas no hay que quitar de medio lo que observamos en la etapa 2.2 del trabajo, que los conjuntos de `train` y `test` son estadísticamente diferentes. Ese detalle es aún más peligroso si tomamos en cuenta que el sMAPE final entre los conjuntos de `train` y los conjuntos de `test` parecen dentro de todo similares ya que de no haber realizado dicha prueba de hipótesis jamás hubiesemos tenido ni una pista de que esos dos conjuntos no eran similares.\n",
    "  \n",
    "## <a id='toc1_4_'></a>[Conclusión](#toc0_)\n",
    "  \n",
    "Para concluir bien hay que ir al principio de vuelta. Al comienzo inspeccionamos los datos y revisamos si el cálculo de `rougher.output.recovery` era el correcto y con un EAM en el orden de -14 tenemos la tranquilidad de que el cálculo de recuperación que nos dieron era el correcto.\n",
    "  \n",
    "Posteriormente nos encontramos con que el dataset `train_data` no compartía la misma cantidad de columnas con `train_data` y `full_data`. Eso junto con la explicación del proceso tecnológioco nos permitió ver de mejor manera como es la obtención de datos en tiempo real y logramos discernir que las columnas cuyo parámetro sea `output` eran obtanidas después del resto de los parámetros.\n",
    "  \n",
    "Después realizamos el preprocesamiento de los nulos y nos encontramos con que la tabla `train` presentaba un 34,6% de pérdida si decidíamos eliminar los nulos sin más, por su parte `test` presentaba solamente un 8% de nulos. Antes de reemplazar los datos decidimos ver que pasaría si decidieramos imputar los datos, para eso inspeccionamos las columnas faltantes, decidimos reemplazar las columnas con la mayor cantidad de nulos por los valores medios. Pero, no podíamos simplemente reemplazar los valores sin más ya que tener el mísmo número tantas veces claramente iba a generar un sesgo muy fuerte que iba a entrenar mal a nuestro modelo, por lo tanto lo que teníamos que hacer era agregar unas columnas booleanas para indicar si el valor de esa columna fue imputado. Aún con el margen de error bastante conservador que tomamos terminabamos con una situación muy curiosa:\n",
    "  \n",
    "- Al comparar la imputación vs simplemente borrar veíamos como había una diferencia de ~1000 filas (6.25% respecto a la tabla original).\n",
    "- Al comparar la imputación vs simplemente borrar veíamos como habia una diferencia de 13 columnas (15.7% respecto a la tabla original).\n",
    "  \n",
    "Al ver los datos explícitos nos damos cuenta de que ciertamente la imputación se vuelve múy rápidamente ineficiente por motivos que ya dije en su momento. En resumen, ganamos muy pocas filas respecto a cuánta información (mayormente inútil) generamos.\n",
    "  \n",
    "Posteriormente entramos a una de las partes más divertidas en mi opinión, el EDA. En él nos sentamos a ver primero como variaban los diferentes metales (oro, plata y plomo) a lo largo de las etapas de limpieza, ésto nos permite saber cuáles procesos remueven ciertos metales lo que nos da los indicios de cuales `tail` tendríamos que buscar de querer obtener Ag o Pb a partir de los desechos.\n",
    "  \n",
    "El siguiente punto del EDA se centró en evaluar un punto clave dentro de nuestros datos: comparar si los datos de los tamaños de las partículas de la alimentación en `train` y ` test` varían significativamente. Para nuestra mala suerte, si presentaban diferencia estadística significativa siendo la más diferentes los datos de `rougher` (que presentaban un alfa en el orden de -15). Eso demostró un error fundamental de nuestros datos ya que al final de cuentas terminamos en una versión menos extrema de *Pedirle a un pez que escale un árbol*.\n",
    "  \n",
    "Posteriormente nos encargamos de realizar un análisis de varias columnas en la busqueda de *outliers* y para nuestro placer eliminarlos nos quitó un total de 137 filas en ambas tablas! \n",
    "  \n",
    "Con casi todo preparado simplemente nos quedó definir una función que nos calcule el sMAPE de nuestras predicciones y finalmente otra función que nos calcule el sMAPE final en base al ponderado que nos pidieron los clientes.\n",
    "  \n",
    "Entrenar el modelo fue bastante directo dado que la mayoría del trabajo cognitivo fue hecho a lo largo del proyecto, solo tomó un pequeño merge de la tabla `test` junto con `full` para obtener los *targets*. Despues de la busqueda de hiperparámetros y el entrenamiento del modelo nos encontramos con dos modelos con basicamente el mismo sMAPE de ~9,6 el cuál si observamos los valores promedios de `rougher.output.recovery` y `final.output.recovery` notamos como ese 9,6 representa aproximadamente el 14% de los valores en cuestión.\n",
    "  \n",
    "Como pensamiento final solo quiero recalcar una vez más que no hay que tomar todos éstos resultados con pinzas debido a que la evaluación de nuestros modelos no fueron hechos de la forma correcta debido a la diferencia significativa en ciertos datos de las tablas. "
   ]
  }
 ],
 "metadata": {
  "kernelspec": {
   "display_name": "Python 3 (ipykernel)",
   "language": "python",
   "name": "python3"
  },
  "language_info": {
   "codemirror_mode": {
    "name": "ipython",
    "version": 3
   },
   "file_extension": ".py",
   "mimetype": "text/x-python",
   "name": "python",
   "nbconvert_exporter": "python",
   "pygments_lexer": "ipython3",
   "version": "3.9.19"
  },
  "toc": {
   "base_numbering": 1,
   "nav_menu": {},
   "number_sections": true,
   "sideBar": true,
   "skip_h1_title": true,
   "title_cell": "Table of Contents",
   "title_sidebar": "Contents",
   "toc_cell": false,
   "toc_position": {},
   "toc_section_display": true,
   "toc_window_display": false
  }
 },
 "nbformat": 4,
 "nbformat_minor": 2
}
