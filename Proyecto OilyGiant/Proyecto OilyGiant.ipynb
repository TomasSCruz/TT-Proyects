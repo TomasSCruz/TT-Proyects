{
 "cells": [
  {
   "cell_type": "markdown",
   "metadata": {},
   "source": [
    "# <a id='toc1_'></a>[OilyGiant](#toc0_)\n",
    "Trabajas en la compañía de extracción de petróleo OilyGiant. Tu tarea es encontrar los mejores lugares donde abrir 200 pozos nuevos de petróleo.\n",
    "  \n",
    "Tienes datos sobre muestras de crudo de tres regiones. Ya se conocen los parámetros de cada pozo petrolero de la región. Crea un modelo que ayude a elegir la región con el mayor margen de beneficio. Analiza los beneficios y riesgos potenciales utilizando la técnica bootstrapping.\n",
    "  \n",
    "- Al explorar la región, se lleva a cabo un estudio de 500 puntos con la selección de los mejores 200 puntos para el cálculo del beneficio.\n",
    "  \n",
    "- El presupuesto para el desarrollo de 200 pozos petroleros es de 100 millones de dólares.\n",
    "  \n",
    "- Un barril de materias primas genera 4.5 USD de ingresos. El ingreso de una unidad de producto es de 4500 dólares (el volumen de reservas está expresado en miles de barriles).\n",
    "- Después de la evaluación de riesgo, mantén solo las regiones con riesgo de pérdidas inferior al 2.5%. De las que se ajustan a los criterios, se debe seleccionar la región con el beneficio promedio más alto."
   ]
  },
  {
   "cell_type": "markdown",
   "metadata": {},
   "source": [
    "**Table of contents**<a id='toc0_'></a>    \n",
    "- [OilyGiant](#toc1_)    \n",
    "  - [Inicialización y carga de datos](#toc1_1_)    \n",
    "  - [Exploración inicial de datos](#toc1_2_)    \n",
    "  - [Análisis Exploratorio de Datos](#toc1_3_)    \n",
    "  - [Entrenamiento y prueba del modelo de Regresión Lineal](#toc1_4_)    \n",
    "    - [Segmentación de datos](#toc1_4_1_)    \n",
    "    - [Entrenamiento de los modelos](#toc1_4_2_)    \n",
    "      - [geo_0](#toc1_4_2_1_)    \n",
    "      - [geo_1](#toc1_4_2_2_)    \n",
    "      - [geo_2](#toc1_4_2_3_)    \n",
    "  - [Cálculo de ganancias](#toc1_5_)    \n",
    "  - [Cálculo de riesgos](#toc1_6_)    \n",
    "    - [geo_0](#toc1_6_1_)    \n",
    "    - [geo_1](#toc1_6_2_)    \n",
    "    - [geo_2](#toc1_6_3_)    \n",
    "  - [Conclusiones](#toc1_7_)    \n",
    "\n",
    "<!-- vscode-jupyter-toc-config\n",
    "\tnumbering=false\n",
    "\tanchor=true\n",
    "\tflat=false\n",
    "\tminLevel=1\n",
    "\tmaxLevel=6\n",
    "\t/vscode-jupyter-toc-config -->\n",
    "<!-- THIS CELL WILL BE REPLACED ON TOC UPDATE. DO NOT WRITE YOUR TEXT IN THIS CELL -->"
   ]
  },
  {
   "cell_type": "markdown",
   "metadata": {},
   "source": [
    "## <a id='toc1_1_'></a>[Inicialización y carga de datos](#toc0_)"
   ]
  },
  {
   "cell_type": "code",
   "execution_count": 63,
   "metadata": {},
   "outputs": [],
   "source": [
    "# Importamos las librerias pertinentes\n",
    "import pandas as pd\n",
    "import numpy as np\n",
    "from scipy import stats as st\n",
    "import matplotlib.pyplot as plt\n",
    "import seaborn as sns\n",
    "from sklearn.model_selection import train_test_split\n",
    "from sklearn.utils import shuffle\n",
    "from sklearn.linear_model import LinearRegression\n",
    "from sklearn.metrics import mean_squared_error"
   ]
  },
  {
   "cell_type": "code",
   "execution_count": 64,
   "metadata": {},
   "outputs": [],
   "source": [
    "# De ahi guardamos las tablas en variables separadas\n",
    "geo_0 = pd.read_csv('../datasets/geo_data_0.csv')\n",
    "geo_1 = pd.read_csv('../datasets/geo_data_1.csv')\n",
    "geo_2 = pd.read_csv('../datasets/geo_data_2.csv')"
   ]
  },
  {
   "cell_type": "markdown",
   "metadata": {},
   "source": [
    "## <a id='toc1_2_'></a>[Exploración inicial de datos](#toc0_)"
   ]
  },
  {
   "cell_type": "code",
   "execution_count": 65,
   "metadata": {},
   "outputs": [
    {
     "name": "stdout",
     "output_type": "stream",
     "text": [
      "<class 'pandas.core.frame.DataFrame'>\n",
      "RangeIndex: 100000 entries, 0 to 99999\n",
      "Data columns (total 5 columns):\n",
      " #   Column   Non-Null Count   Dtype  \n",
      "---  ------   --------------   -----  \n",
      " 0   id       100000 non-null  object \n",
      " 1   f0       100000 non-null  float64\n",
      " 2   f1       100000 non-null  float64\n",
      " 3   f2       100000 non-null  float64\n",
      " 4   product  100000 non-null  float64\n",
      "dtypes: float64(4), object(1)\n",
      "memory usage: 3.8+ MB\n"
     ]
    },
    {
     "data": {
      "text/html": [
       "<div>\n",
       "<style scoped>\n",
       "    .dataframe tbody tr th:only-of-type {\n",
       "        vertical-align: middle;\n",
       "    }\n",
       "\n",
       "    .dataframe tbody tr th {\n",
       "        vertical-align: top;\n",
       "    }\n",
       "\n",
       "    .dataframe thead th {\n",
       "        text-align: right;\n",
       "    }\n",
       "</style>\n",
       "<table border=\"1\" class=\"dataframe\">\n",
       "  <thead>\n",
       "    <tr style=\"text-align: right;\">\n",
       "      <th></th>\n",
       "      <th>id</th>\n",
       "      <th>f0</th>\n",
       "      <th>f1</th>\n",
       "      <th>f2</th>\n",
       "      <th>product</th>\n",
       "    </tr>\n",
       "  </thead>\n",
       "  <tbody>\n",
       "    <tr>\n",
       "      <th>0</th>\n",
       "      <td>txEyH</td>\n",
       "      <td>0.705745</td>\n",
       "      <td>-0.497823</td>\n",
       "      <td>1.221170</td>\n",
       "      <td>105.280062</td>\n",
       "    </tr>\n",
       "    <tr>\n",
       "      <th>1</th>\n",
       "      <td>2acmU</td>\n",
       "      <td>1.334711</td>\n",
       "      <td>-0.340164</td>\n",
       "      <td>4.365080</td>\n",
       "      <td>73.037750</td>\n",
       "    </tr>\n",
       "    <tr>\n",
       "      <th>2</th>\n",
       "      <td>409Wp</td>\n",
       "      <td>1.022732</td>\n",
       "      <td>0.151990</td>\n",
       "      <td>1.419926</td>\n",
       "      <td>85.265647</td>\n",
       "    </tr>\n",
       "    <tr>\n",
       "      <th>3</th>\n",
       "      <td>iJLyR</td>\n",
       "      <td>-0.032172</td>\n",
       "      <td>0.139033</td>\n",
       "      <td>2.978566</td>\n",
       "      <td>168.620776</td>\n",
       "    </tr>\n",
       "    <tr>\n",
       "      <th>4</th>\n",
       "      <td>Xdl7t</td>\n",
       "      <td>1.988431</td>\n",
       "      <td>0.155413</td>\n",
       "      <td>4.751769</td>\n",
       "      <td>154.036647</td>\n",
       "    </tr>\n",
       "    <tr>\n",
       "      <th>...</th>\n",
       "      <td>...</td>\n",
       "      <td>...</td>\n",
       "      <td>...</td>\n",
       "      <td>...</td>\n",
       "      <td>...</td>\n",
       "    </tr>\n",
       "    <tr>\n",
       "      <th>99995</th>\n",
       "      <td>DLsed</td>\n",
       "      <td>0.971957</td>\n",
       "      <td>0.370953</td>\n",
       "      <td>6.075346</td>\n",
       "      <td>110.744026</td>\n",
       "    </tr>\n",
       "    <tr>\n",
       "      <th>99996</th>\n",
       "      <td>QKivN</td>\n",
       "      <td>1.392429</td>\n",
       "      <td>-0.382606</td>\n",
       "      <td>1.273912</td>\n",
       "      <td>122.346843</td>\n",
       "    </tr>\n",
       "    <tr>\n",
       "      <th>99997</th>\n",
       "      <td>3rnvd</td>\n",
       "      <td>1.029585</td>\n",
       "      <td>0.018787</td>\n",
       "      <td>-1.348308</td>\n",
       "      <td>64.375443</td>\n",
       "    </tr>\n",
       "    <tr>\n",
       "      <th>99998</th>\n",
       "      <td>7kl59</td>\n",
       "      <td>0.998163</td>\n",
       "      <td>-0.528582</td>\n",
       "      <td>1.583869</td>\n",
       "      <td>74.040764</td>\n",
       "    </tr>\n",
       "    <tr>\n",
       "      <th>99999</th>\n",
       "      <td>1CWhH</td>\n",
       "      <td>1.764754</td>\n",
       "      <td>-0.266417</td>\n",
       "      <td>5.722849</td>\n",
       "      <td>149.633246</td>\n",
       "    </tr>\n",
       "  </tbody>\n",
       "</table>\n",
       "<p>100000 rows × 5 columns</p>\n",
       "</div>"
      ],
      "text/plain": [
       "          id        f0        f1        f2     product\n",
       "0      txEyH  0.705745 -0.497823  1.221170  105.280062\n",
       "1      2acmU  1.334711 -0.340164  4.365080   73.037750\n",
       "2      409Wp  1.022732  0.151990  1.419926   85.265647\n",
       "3      iJLyR -0.032172  0.139033  2.978566  168.620776\n",
       "4      Xdl7t  1.988431  0.155413  4.751769  154.036647\n",
       "...      ...       ...       ...       ...         ...\n",
       "99995  DLsed  0.971957  0.370953  6.075346  110.744026\n",
       "99996  QKivN  1.392429 -0.382606  1.273912  122.346843\n",
       "99997  3rnvd  1.029585  0.018787 -1.348308   64.375443\n",
       "99998  7kl59  0.998163 -0.528582  1.583869   74.040764\n",
       "99999  1CWhH  1.764754 -0.266417  5.722849  149.633246\n",
       "\n",
       "[100000 rows x 5 columns]"
      ]
     },
     "execution_count": 65,
     "metadata": {},
     "output_type": "execute_result"
    }
   ],
   "source": [
    "# Primero observemos si hay algun error evidente en los datos de geo_0\n",
    "geo_0.info()\n",
    "geo_0"
   ]
  },
  {
   "cell_type": "markdown",
   "metadata": {},
   "source": [
    "Para nuestra suerte, la tabla `geo_0` no presenta ningun valor ausente y los *dtypes* de las columnas parecen corresponder perfectamente. Ya cuando veamos todas vamos a desarrollar que significa cada columna."
   ]
  },
  {
   "cell_type": "code",
   "execution_count": 66,
   "metadata": {},
   "outputs": [
    {
     "name": "stdout",
     "output_type": "stream",
     "text": [
      "<class 'pandas.core.frame.DataFrame'>\n",
      "RangeIndex: 100000 entries, 0 to 99999\n",
      "Data columns (total 5 columns):\n",
      " #   Column   Non-Null Count   Dtype  \n",
      "---  ------   --------------   -----  \n",
      " 0   id       100000 non-null  object \n",
      " 1   f0       100000 non-null  float64\n",
      " 2   f1       100000 non-null  float64\n",
      " 3   f2       100000 non-null  float64\n",
      " 4   product  100000 non-null  float64\n",
      "dtypes: float64(4), object(1)\n",
      "memory usage: 3.8+ MB\n"
     ]
    },
    {
     "data": {
      "text/html": [
       "<div>\n",
       "<style scoped>\n",
       "    .dataframe tbody tr th:only-of-type {\n",
       "        vertical-align: middle;\n",
       "    }\n",
       "\n",
       "    .dataframe tbody tr th {\n",
       "        vertical-align: top;\n",
       "    }\n",
       "\n",
       "    .dataframe thead th {\n",
       "        text-align: right;\n",
       "    }\n",
       "</style>\n",
       "<table border=\"1\" class=\"dataframe\">\n",
       "  <thead>\n",
       "    <tr style=\"text-align: right;\">\n",
       "      <th></th>\n",
       "      <th>id</th>\n",
       "      <th>f0</th>\n",
       "      <th>f1</th>\n",
       "      <th>f2</th>\n",
       "      <th>product</th>\n",
       "    </tr>\n",
       "  </thead>\n",
       "  <tbody>\n",
       "    <tr>\n",
       "      <th>0</th>\n",
       "      <td>kBEdx</td>\n",
       "      <td>-15.001348</td>\n",
       "      <td>-8.276000</td>\n",
       "      <td>-0.005876</td>\n",
       "      <td>3.179103</td>\n",
       "    </tr>\n",
       "    <tr>\n",
       "      <th>1</th>\n",
       "      <td>62mP7</td>\n",
       "      <td>14.272088</td>\n",
       "      <td>-3.475083</td>\n",
       "      <td>0.999183</td>\n",
       "      <td>26.953261</td>\n",
       "    </tr>\n",
       "    <tr>\n",
       "      <th>2</th>\n",
       "      <td>vyE1P</td>\n",
       "      <td>6.263187</td>\n",
       "      <td>-5.948386</td>\n",
       "      <td>5.001160</td>\n",
       "      <td>134.766305</td>\n",
       "    </tr>\n",
       "    <tr>\n",
       "      <th>3</th>\n",
       "      <td>KcrkZ</td>\n",
       "      <td>-13.081196</td>\n",
       "      <td>-11.506057</td>\n",
       "      <td>4.999415</td>\n",
       "      <td>137.945408</td>\n",
       "    </tr>\n",
       "    <tr>\n",
       "      <th>4</th>\n",
       "      <td>AHL4O</td>\n",
       "      <td>12.702195</td>\n",
       "      <td>-8.147433</td>\n",
       "      <td>5.004363</td>\n",
       "      <td>134.766305</td>\n",
       "    </tr>\n",
       "    <tr>\n",
       "      <th>...</th>\n",
       "      <td>...</td>\n",
       "      <td>...</td>\n",
       "      <td>...</td>\n",
       "      <td>...</td>\n",
       "      <td>...</td>\n",
       "    </tr>\n",
       "    <tr>\n",
       "      <th>99995</th>\n",
       "      <td>QywKC</td>\n",
       "      <td>9.535637</td>\n",
       "      <td>-6.878139</td>\n",
       "      <td>1.998296</td>\n",
       "      <td>53.906522</td>\n",
       "    </tr>\n",
       "    <tr>\n",
       "      <th>99996</th>\n",
       "      <td>ptvty</td>\n",
       "      <td>-10.160631</td>\n",
       "      <td>-12.558096</td>\n",
       "      <td>5.005581</td>\n",
       "      <td>137.945408</td>\n",
       "    </tr>\n",
       "    <tr>\n",
       "      <th>99997</th>\n",
       "      <td>09gWa</td>\n",
       "      <td>-7.378891</td>\n",
       "      <td>-3.084104</td>\n",
       "      <td>4.998651</td>\n",
       "      <td>137.945408</td>\n",
       "    </tr>\n",
       "    <tr>\n",
       "      <th>99998</th>\n",
       "      <td>rqwUm</td>\n",
       "      <td>0.665714</td>\n",
       "      <td>-6.152593</td>\n",
       "      <td>1.000146</td>\n",
       "      <td>30.132364</td>\n",
       "    </tr>\n",
       "    <tr>\n",
       "      <th>99999</th>\n",
       "      <td>relB0</td>\n",
       "      <td>-3.426139</td>\n",
       "      <td>-7.794274</td>\n",
       "      <td>-0.003299</td>\n",
       "      <td>3.179103</td>\n",
       "    </tr>\n",
       "  </tbody>\n",
       "</table>\n",
       "<p>100000 rows × 5 columns</p>\n",
       "</div>"
      ],
      "text/plain": [
       "          id         f0         f1        f2     product\n",
       "0      kBEdx -15.001348  -8.276000 -0.005876    3.179103\n",
       "1      62mP7  14.272088  -3.475083  0.999183   26.953261\n",
       "2      vyE1P   6.263187  -5.948386  5.001160  134.766305\n",
       "3      KcrkZ -13.081196 -11.506057  4.999415  137.945408\n",
       "4      AHL4O  12.702195  -8.147433  5.004363  134.766305\n",
       "...      ...        ...        ...       ...         ...\n",
       "99995  QywKC   9.535637  -6.878139  1.998296   53.906522\n",
       "99996  ptvty -10.160631 -12.558096  5.005581  137.945408\n",
       "99997  09gWa  -7.378891  -3.084104  4.998651  137.945408\n",
       "99998  rqwUm   0.665714  -6.152593  1.000146   30.132364\n",
       "99999  relB0  -3.426139  -7.794274 -0.003299    3.179103\n",
       "\n",
       "[100000 rows x 5 columns]"
      ]
     },
     "execution_count": 66,
     "metadata": {},
     "output_type": "execute_result"
    }
   ],
   "source": [
    "# Veamos lo mismo con geo_1\n",
    "geo_1.info()\n",
    "geo_1"
   ]
  },
  {
   "cell_type": "code",
   "execution_count": 67,
   "metadata": {},
   "outputs": [
    {
     "name": "stdout",
     "output_type": "stream",
     "text": [
      "<class 'pandas.core.frame.DataFrame'>\n",
      "RangeIndex: 100000 entries, 0 to 99999\n",
      "Data columns (total 5 columns):\n",
      " #   Column   Non-Null Count   Dtype  \n",
      "---  ------   --------------   -----  \n",
      " 0   id       100000 non-null  object \n",
      " 1   f0       100000 non-null  float64\n",
      " 2   f1       100000 non-null  float64\n",
      " 3   f2       100000 non-null  float64\n",
      " 4   product  100000 non-null  float64\n",
      "dtypes: float64(4), object(1)\n",
      "memory usage: 3.8+ MB\n"
     ]
    },
    {
     "data": {
      "text/html": [
       "<div>\n",
       "<style scoped>\n",
       "    .dataframe tbody tr th:only-of-type {\n",
       "        vertical-align: middle;\n",
       "    }\n",
       "\n",
       "    .dataframe tbody tr th {\n",
       "        vertical-align: top;\n",
       "    }\n",
       "\n",
       "    .dataframe thead th {\n",
       "        text-align: right;\n",
       "    }\n",
       "</style>\n",
       "<table border=\"1\" class=\"dataframe\">\n",
       "  <thead>\n",
       "    <tr style=\"text-align: right;\">\n",
       "      <th></th>\n",
       "      <th>id</th>\n",
       "      <th>f0</th>\n",
       "      <th>f1</th>\n",
       "      <th>f2</th>\n",
       "      <th>product</th>\n",
       "    </tr>\n",
       "  </thead>\n",
       "  <tbody>\n",
       "    <tr>\n",
       "      <th>0</th>\n",
       "      <td>fwXo0</td>\n",
       "      <td>-1.146987</td>\n",
       "      <td>0.963328</td>\n",
       "      <td>-0.828965</td>\n",
       "      <td>27.758673</td>\n",
       "    </tr>\n",
       "    <tr>\n",
       "      <th>1</th>\n",
       "      <td>WJtFt</td>\n",
       "      <td>0.262778</td>\n",
       "      <td>0.269839</td>\n",
       "      <td>-2.530187</td>\n",
       "      <td>56.069697</td>\n",
       "    </tr>\n",
       "    <tr>\n",
       "      <th>2</th>\n",
       "      <td>ovLUW</td>\n",
       "      <td>0.194587</td>\n",
       "      <td>0.289035</td>\n",
       "      <td>-5.586433</td>\n",
       "      <td>62.871910</td>\n",
       "    </tr>\n",
       "    <tr>\n",
       "      <th>3</th>\n",
       "      <td>q6cA6</td>\n",
       "      <td>2.236060</td>\n",
       "      <td>-0.553760</td>\n",
       "      <td>0.930038</td>\n",
       "      <td>114.572842</td>\n",
       "    </tr>\n",
       "    <tr>\n",
       "      <th>4</th>\n",
       "      <td>WPMUX</td>\n",
       "      <td>-0.515993</td>\n",
       "      <td>1.716266</td>\n",
       "      <td>5.899011</td>\n",
       "      <td>149.600746</td>\n",
       "    </tr>\n",
       "    <tr>\n",
       "      <th>...</th>\n",
       "      <td>...</td>\n",
       "      <td>...</td>\n",
       "      <td>...</td>\n",
       "      <td>...</td>\n",
       "      <td>...</td>\n",
       "    </tr>\n",
       "    <tr>\n",
       "      <th>99995</th>\n",
       "      <td>4GxBu</td>\n",
       "      <td>-1.777037</td>\n",
       "      <td>1.125220</td>\n",
       "      <td>6.263374</td>\n",
       "      <td>172.327046</td>\n",
       "    </tr>\n",
       "    <tr>\n",
       "      <th>99996</th>\n",
       "      <td>YKFjq</td>\n",
       "      <td>-1.261523</td>\n",
       "      <td>-0.894828</td>\n",
       "      <td>2.524545</td>\n",
       "      <td>138.748846</td>\n",
       "    </tr>\n",
       "    <tr>\n",
       "      <th>99997</th>\n",
       "      <td>tKPY3</td>\n",
       "      <td>-1.199934</td>\n",
       "      <td>-2.957637</td>\n",
       "      <td>5.219411</td>\n",
       "      <td>157.080080</td>\n",
       "    </tr>\n",
       "    <tr>\n",
       "      <th>99998</th>\n",
       "      <td>nmxp2</td>\n",
       "      <td>-2.419896</td>\n",
       "      <td>2.417221</td>\n",
       "      <td>-5.548444</td>\n",
       "      <td>51.795253</td>\n",
       "    </tr>\n",
       "    <tr>\n",
       "      <th>99999</th>\n",
       "      <td>V9kWn</td>\n",
       "      <td>-2.551421</td>\n",
       "      <td>-2.025625</td>\n",
       "      <td>6.090891</td>\n",
       "      <td>102.775767</td>\n",
       "    </tr>\n",
       "  </tbody>\n",
       "</table>\n",
       "<p>100000 rows × 5 columns</p>\n",
       "</div>"
      ],
      "text/plain": [
       "          id        f0        f1        f2     product\n",
       "0      fwXo0 -1.146987  0.963328 -0.828965   27.758673\n",
       "1      WJtFt  0.262778  0.269839 -2.530187   56.069697\n",
       "2      ovLUW  0.194587  0.289035 -5.586433   62.871910\n",
       "3      q6cA6  2.236060 -0.553760  0.930038  114.572842\n",
       "4      WPMUX -0.515993  1.716266  5.899011  149.600746\n",
       "...      ...       ...       ...       ...         ...\n",
       "99995  4GxBu -1.777037  1.125220  6.263374  172.327046\n",
       "99996  YKFjq -1.261523 -0.894828  2.524545  138.748846\n",
       "99997  tKPY3 -1.199934 -2.957637  5.219411  157.080080\n",
       "99998  nmxp2 -2.419896  2.417221 -5.548444   51.795253\n",
       "99999  V9kWn -2.551421 -2.025625  6.090891  102.775767\n",
       "\n",
       "[100000 rows x 5 columns]"
      ]
     },
     "execution_count": 67,
     "metadata": {},
     "output_type": "execute_result"
    }
   ],
   "source": [
    "# Como geo_1 esta bien, veamos a geo_2\n",
    "geo_2.info()\n",
    "geo_2"
   ]
  },
  {
   "cell_type": "markdown",
   "metadata": {},
   "source": [
    "Para nuestra suerte tenemos las 3 tablas sin ningun error fundamental como valores ausentes, errores de tipo en las columnas o algo más. Veamos entonces, que significan las columnas de las tablas?\n",
    "- **id** — identificador único de pozo de petróleo\n",
    "- **f0, f1, f2** — tres características de los puntos (su significado específico no es importante, pero las características en sí son significativas)\n",
    "- **product** — volumen de reservas en el pozo de petróleo (miles de barriles).\n",
    "  \n",
    "Nuestro objetivo en éste caso es la columna **product**, vamos a tener que crear un modelo que nos de unas predicciones sobre donde encontrar las mejores zonas y con esos datos vamos a trabajar para lograr la decision final.\n",
    "  \n",
    "Antes de crear dicho modelo, mejor veamos un poco en detalle los datos para ver si obtenemos algunos conceptos claves."
   ]
  },
  {
   "cell_type": "markdown",
   "metadata": {},
   "source": [
    "## <a id='toc1_3_'></a>[Análisis Exploratorio de Datos](#toc0_)\n",
    "  \n",
    "En ésta parte vamos a indagar un poco sobre las distribuciones de los datos, sus relaciones y ver que reflejan los mismos. Tambien vamos a buscar *outliers* que puedan entorpecer el modelo.\n",
    "  \n",
    "Primero, quiero recordar un par de valores mencionados al comienzo para poder establecer límites y poder ver los datos con mayor claridad.\n",
    "1. El presupuesto para el desarrollo de 200 pozos petroleros es de 100 millones de dólares.\n",
    "\n",
    "2. Un barril de materias primas genera 4.5 USD de ingresos. El ingreso de una unidad de producto es de 4500 dólares.\n",
    "  \n",
    "Sabemos que cada fila de la tabla es un pozo petrolero y que cada unidad de su columna `product` representa entonces 4,500 USD. Si dividimos 100,000,000 USD en 200 obtenemos el precio de 1 pozo petrolero que es de 500,000 USD.\n",
    "  \n",
    "Por lo tanto ahora solo queda dividir los 500,000 USD del precio de cada pozo petrolero en los 4,500 USD de ingreso que representa cada unidad, lo que nos da un valor de 111,11. Ésto quiere decir que para que un pozo sea rentable y represente ganancias debe tener más de 111,11 unidades.\n",
    "  \n",
    "Perfecto, tenemos el número mágico! Ahora veamos como se distribuyen las columnas `product` en las diferentes regiones."
   ]
  },
  {
   "cell_type": "code",
   "execution_count": 68,
   "metadata": {},
   "outputs": [
    {
     "data": {
      "image/png": "[encoded data removed]",
      "text/plain": [
       "<Figure size 1200x480 with 1 Axes>"
      ]
     },
     "metadata": {},
     "output_type": "display_data"
    },
    {
     "name": "stdout",
     "output_type": "stream",
     "text": [
      "Promedio: 92.500\n"
     ]
    }
   ],
   "source": [
    "# Primero creamos el espacio para trabajar\n",
    "fig, ax = plt.subplots(figsize=(12,4.8))\n",
    "\n",
    "# Definimos los bins con facilidad ya que todas las tablas tienen el mismo tamaño\n",
    "bins = int(np.ceil(np.sqrt(100000)))\n",
    "\n",
    "# Definimos los histogramas\n",
    "geo_0['product'].hist(bins = bins)\n",
    "\n",
    "# Agregamos una linea que marque el \"numero magico\" y otra que nos muestre el promedio\n",
    "plt.axvline(x=111.11, color='orange', linestyle='--', linewidth=2)\n",
    "plt.axvline(x=geo_0['product'].mean(), color='black', linewidth=2)\n",
    "\n",
    "# Agregamos detalles de limpieza y orden\n",
    "ax.set_xlabel('Cantidad de unidades en cada pozo')\n",
    "ax.set_title('Distribución de la cantidad de unidades de petroleo en la region 0')\n",
    "\n",
    "plt.show()\n",
    "\n",
    "# Por ultimo, quiero ver tambien el valor concreto del promedio\n",
    "print(f'Promedio: {geo_0[\"product\"].mean():.3f}')"
   ]
  },
  {
   "cell_type": "code",
   "execution_count": 69,
   "metadata": {},
   "outputs": [
    {
     "data": {
      "text/plain": [
       "36584"
      ]
     },
     "execution_count": 69,
     "metadata": {},
     "output_type": "execute_result"
    }
   ],
   "source": [
    "# Tambien quiero ver cuántas filas superan el 111\n",
    "geo_0[geo_0['product'] > 111.11].shape[0]"
   ]
  },
  {
   "cell_type": "markdown",
   "metadata": {},
   "source": [
    "Una distribución interesante por decir poco. Vemos como hay 4 picos centrales con pocos valores entre ellos y otros 2 picos más chicos a los costados de los 4 previamente mencionados. Tambien vemos que hay una leve concentracion en los extremos, aunque me llama la atención como se corta abruptamente a la derecha, acaso los datos ya fueron refinados de outliers?\n",
    "  \n",
    "Por aparte, vemos como solo 36584 pozos superaron las 111,11 unidades (o el 36,58%) necesario para generar ganancias respecto al costo de construcción del pozo petrolifero."
   ]
  },
  {
   "cell_type": "code",
   "execution_count": 70,
   "metadata": {},
   "outputs": [
    {
     "data": {
      "image/png": "[encoded data removed]",
      "text/plain": [
       "<Figure size 1200x480 with 1 Axes>"
      ]
     },
     "metadata": {},
     "output_type": "display_data"
    },
    {
     "name": "stdout",
     "output_type": "stream",
     "text": [
      "Promedio: 68.825\n"
     ]
    }
   ],
   "source": [
    "# Primero creamos el espacio para trabajar\n",
    "fig, ax = plt.subplots(figsize=(12,4.8))\n",
    "\n",
    "# Definimos los bins con facilidad ya que todas las tablas tienen el mismo tamaño\n",
    "bins = int(np.ceil(np.sqrt(100000)))\n",
    "\n",
    "# Definimos los histogramas\n",
    "geo_1['product'].hist(bins = bins, color='orange')\n",
    "\n",
    "\n",
    "# Agregamos una linea que marque el \"numero magico\"\n",
    "plt.axvline(x=111.11, color='blue', linestyle='--', linewidth=2)\n",
    "plt.axvline(x=geo_1['product'].mean(), color='black', linewidth=2)\n",
    "\n",
    "# Agregamos detalles de limpieza y orden\n",
    "ax.set_xlabel('Cantidad de unidades en cada pozo')\n",
    "ax.set_title('Distribución de la cantidad de unidades de petroleo en la region 1')\n",
    "\n",
    "plt.show()\n",
    "\n",
    "# Por ultimo, quiero ver tambien el valor concreto del promedio\n",
    "print(f'Promedio: {geo_1[\"product\"].mean():.3f}')"
   ]
  },
  {
   "cell_type": "markdown",
   "metadata": {},
   "source": [
    "Hablabamos de interesante y... ciertamente ésto me llama más la atención. Al parecer hubo un problema con la carga de los datos ya que extrañamente vemos como todos están concentrados en puntos muy específicos... lo que, no parece muy realista. Con eso de lado, tambien vemos como aproximadamente 16,000 pozos se encuentran por encima del punto de inflexión."
   ]
  },
  {
   "cell_type": "code",
   "execution_count": 71,
   "metadata": {},
   "outputs": [
    {
     "data": {
      "text/plain": [
       "product\n",
       "53.906522     8472\n",
       "26.953261     8468\n",
       "84.038886     8431\n",
       "57.085625     8390\n",
       "3.179103      8337\n",
       "80.859783     8320\n",
       "30.132364     8306\n",
       "134.766305    8304\n",
       "110.992147    8303\n",
       "0.000000      8235\n",
       "137.945408    8233\n",
       "107.813044    8201\n",
       "Name: count, dtype: int64"
      ]
     },
     "execution_count": 71,
     "metadata": {},
     "output_type": "execute_result"
    }
   ],
   "source": [
    "# Indaguemos un poco más respecto a cuales son éstos valores\n",
    "geo_1['product'].value_counts()"
   ]
  },
  {
   "cell_type": "markdown",
   "metadata": {},
   "source": [
    "Efectivamente, vemos como los valores se encuentran todos dentro de 12 valores discretos y extrañamente específicos (incluso, podemos ver que hay valores en 0.0). Ahora que lo veo bien, se nota claramente en la tabla los valores repetidos aunque supongo que uno se pierde entre tantos números.\n",
    "  \n",
    "Lamentablemente solo tenemos 3 regiones y perder 33% de nuestros datos no suena muy prometedor... por lo tanto, haremos con lo que tenemos! Tras una vista a los valores concretos, no creo que la region 1 salga como la ganadora de nuestro trabajo pero veamos que tal sale!"
   ]
  },
  {
   "cell_type": "code",
   "execution_count": 72,
   "metadata": {},
   "outputs": [
    {
     "data": {
      "image/png": "[encoded data removed]",
      "text/plain": [
       "<Figure size 1200x480 with 1 Axes>"
      ]
     },
     "metadata": {},
     "output_type": "display_data"
    },
    {
     "name": "stdout",
     "output_type": "stream",
     "text": [
      "Promedio: 95.000\n"
     ]
    }
   ],
   "source": [
    "# Finalmente veamos los datos de geo_2\n",
    "# Primero creamos el espacio para trabajar\n",
    "fig, ax = plt.subplots(figsize=(12,4.8))\n",
    "\n",
    "# Definimos los bins con facilidad ya que todas las tablas tienen el mismo tamaño\n",
    "bins = int(np.ceil(np.sqrt(100000)))\n",
    "\n",
    "# Definimos los histogramas\n",
    "geo_2['product'].hist(bins = bins, color='brown')\n",
    "\n",
    "# Agregamos una linea que marque el \"numero magico\"\n",
    "plt.axvline(x=111.11, color='blue', linestyle='--', linewidth=2)\n",
    "plt.axvline(x=geo_2['product'].mean(), color='black', linewidth=2)\n",
    "\n",
    "# Agregamos detalles de limpieza y orden\n",
    "ax.set_xlabel('Cantidad de unidades en cada pozo')\n",
    "ax.set_title('Distribución de la cantidad de unidades de petroleo en la region 2')\n",
    "\n",
    "plt.show()\n",
    "\n",
    "# Por ultimo, quiero ver tambien el valor concreto del promedio\n",
    "print(f'Promedio: {geo_2[\"product\"].mean():.3f}')"
   ]
  },
  {
   "cell_type": "markdown",
   "metadata": {},
   "source": [
    "Al parecer vemos una distribucion muy similar a la de `geo_0` aunque con la media mas cercana a al punto de quiebre. De primera vista, parece que ésta región es más prometedora pero dado que ninguna tiene una media por encima del punto de quiebre no podemos sacar conclusiones concretas ahora mismo.\n",
    "  \n",
    "**¿Que obtuvimos de el EDA?**\n",
    "Mirar los datos por más superficial que sea nos dió dos piezas de información muy importantes:\n",
    "1. No podemos usar la tabla `geo_1` dado que hubo algún problema que causó que los datos no sean óptimos para trabajar, al menos tenemos 2 tablas para usar.\n",
    "2. Ahora mismo no hay ninguna región que se demuestre rentable a primera vista ya que los promedios de ambas tablas son menores que el punto de quiebre.\n",
    "  \n",
    "Por lo tanto, ahora debemos pasar a la siguiente etapa en la que vamos a desarrollar un modelo de Regresión Lineal para cada región que nos haga predicciones y veremos cuál es la que mayor potencial de ganancias presenta."
   ]
  },
  {
   "cell_type": "markdown",
   "metadata": {},
   "source": [
    "## <a id='toc1_4_'></a>[Entrenamiento y prueba del modelo de Regresión Lineal](#toc0_)\n",
    "  \n",
    "Ahora vamos a pasar a la parte del modelo de machine learning. Para este caso vamos a usar el modelo de Regresión Lineal ya que nos enfrentamos a un caso de... regresión y no clasificación. Sin más preambulo, vamos allá.\n",
    "\n",
    "### <a id='toc1_4_1_'></a>[Segmentación de datos](#toc0_)"
   ]
  },
  {
   "cell_type": "code",
   "execution_count": 73,
   "metadata": {},
   "outputs": [],
   "source": [
    "# Primero tenemos que separar los datos en features y target\n",
    "features_0 = geo_0[['f0', 'f1', 'f2']]\n",
    "target_0 = geo_0['product']\n",
    "\n",
    "# De ahi geo_1\n",
    "features_1 = geo_1[['f0', 'f1', 'f2']]\n",
    "target_1 = geo_1['product']\n",
    "\n",
    "# Ahora lo mismo para geo_2\n",
    "features_2 = geo_2[['f0', 'f1', 'f2']]\n",
    "target_2 = geo_2['product']"
   ]
  },
  {
   "cell_type": "markdown",
   "metadata": {},
   "source": [
    "Como se puede ver, no guardamos las columnas `id` ya que no nos iban a resultar utiles para el modelo."
   ]
  },
  {
   "cell_type": "code",
   "execution_count": 74,
   "metadata": {},
   "outputs": [],
   "source": [
    "# Ahora vamos a separar los conjuntos de entrenamiento y de prueba\n",
    "\n",
    "# Primero separemos los de geo_0\n",
    "features_0_train, features_0_valid, target_0_train, target_0_valid = train_test_split(\n",
    "    features_0, target_0, test_size= 0.25, random_state= 85964)\n",
    "\n",
    "# Posteriormente los de geo_1\n",
    "features_1_train, features_1_valid, target_1_train, target_1_valid = train_test_split(\n",
    "    features_1, target_1, test_size= 0.25, random_state= 85964)\n",
    "\n",
    "# De ahi los de geo_2\n",
    "features_2_train, features_2_valid, target_2_train, target_2_valid = train_test_split(\n",
    "    features_2, target_2, test_size= 0.25, random_state= 85964)"
   ]
  },
  {
   "cell_type": "markdown",
   "metadata": {},
   "source": [
    "### <a id='toc1_4_2_'></a>[Entrenamiento de los modelos](#toc0_)\n",
    "  \n",
    "Ahora nos vamos a dedicar a entrenar los modelos para cada conjunto de datos. Al ser una función matemática LinearRegression no posee una gran cantidad de hiperparámetros para refinar.\n",
    "\n",
    "#### <a id='toc1_4_2_1_'></a>[geo_0](#toc0_)"
   ]
  },
  {
   "cell_type": "code",
   "execution_count": 75,
   "metadata": {},
   "outputs": [],
   "source": [
    "# Primero cargamos el modelo de geo_0\n",
    "model_geo_0 = LinearRegression()"
   ]
  },
  {
   "cell_type": "code",
   "execution_count": 76,
   "metadata": {},
   "outputs": [
    {
     "data": {
      "text/html": [
       "<style>#sk-container-id-4 {color: black;background-color: white;}#sk-container-id-4 pre{padding: 0;}#sk-container-id-4 div.sk-toggleable {background-color: white;}#sk-container-id-4 label.sk-toggleable__label {cursor: pointer;display: block;width: 100%;margin-bottom: 0;padding: 0.3em;box-sizing: border-box;text-align: center;}#sk-container-id-4 label.sk-toggleable__label-arrow:before {content: \"▸\";float: left;margin-right: 0.25em;color: #696969;}#sk-container-id-4 label.sk-toggleable__label-arrow:hover:before {color: black;}#sk-container-id-4 div.sk-estimator:hover label.sk-toggleable__label-arrow:before {color: black;}#sk-container-id-4 div.sk-toggleable__content {max-height: 0;max-width: 0;overflow: hidden;text-align: left;background-color: #f0f8ff;}#sk-container-id-4 div.sk-toggleable__content pre {margin: 0.2em;color: black;border-radius: 0.25em;background-color: #f0f8ff;}#sk-container-id-4 input.sk-toggleable__control:checked~div.sk-toggleable__content {max-height: 200px;max-width: 100%;overflow: auto;}#sk-container-id-4 input.sk-toggleable__control:checked~label.sk-toggleable__label-arrow:before {content: \"▾\";}#sk-container-id-4 div.sk-estimator input.sk-toggleable__control:checked~label.sk-toggleable__label {background-color: #d4ebff;}#sk-container-id-4 div.sk-label input.sk-toggleable__control:checked~label.sk-toggleable__label {background-color: #d4ebff;}#sk-container-id-4 input.sk-hidden--visually {border: 0;clip: rect(1px 1px 1px 1px);clip: rect(1px, 1px, 1px, 1px);height: 1px;margin: -1px;overflow: hidden;padding: 0;position: absolute;width: 1px;}#sk-container-id-4 div.sk-estimator {font-family: monospace;background-color: #f0f8ff;border: 1px dotted black;border-radius: 0.25em;box-sizing: border-box;margin-bottom: 0.5em;}#sk-container-id-4 div.sk-estimator:hover {background-color: #d4ebff;}#sk-container-id-4 div.sk-parallel-item::after {content: \"\";width: 100%;border-bottom: 1px solid gray;flex-grow: 1;}#sk-container-id-4 div.sk-label:hover label.sk-toggleable__label {background-color: #d4ebff;}#sk-container-id-4 div.sk-serial::before {content: \"\";position: absolute;border-left: 1px solid gray;box-sizing: border-box;top: 0;bottom: 0;left: 50%;z-index: 0;}#sk-container-id-4 div.sk-serial {display: flex;flex-direction: column;align-items: center;background-color: white;padding-right: 0.2em;padding-left: 0.2em;position: relative;}#sk-container-id-4 div.sk-item {position: relative;z-index: 1;}#sk-container-id-4 div.sk-parallel {display: flex;align-items: stretch;justify-content: center;background-color: white;position: relative;}#sk-container-id-4 div.sk-item::before, #sk-container-id-4 div.sk-parallel-item::before {content: \"\";position: absolute;border-left: 1px solid gray;box-sizing: border-box;top: 0;bottom: 0;left: 50%;z-index: -1;}#sk-container-id-4 div.sk-parallel-item {display: flex;flex-direction: column;z-index: 1;position: relative;background-color: white;}#sk-container-id-4 div.sk-parallel-item:first-child::after {align-self: flex-end;width: 50%;}#sk-container-id-4 div.sk-parallel-item:last-child::after {align-self: flex-start;width: 50%;}#sk-container-id-4 div.sk-parallel-item:only-child::after {width: 0;}#sk-container-id-4 div.sk-dashed-wrapped {border: 1px dashed gray;margin: 0 0.4em 0.5em 0.4em;box-sizing: border-box;padding-bottom: 0.4em;background-color: white;}#sk-container-id-4 div.sk-label label {font-family: monospace;font-weight: bold;display: inline-block;line-height: 1.2em;}#sk-container-id-4 div.sk-label-container {text-align: center;}#sk-container-id-4 div.sk-container {/* jupyter's `normalize.less` sets `[hidden] { display: none; }` but bootstrap.min.css set `[hidden] { display: none !important; }` so we also need the `!important` here to be able to override the default hidden behavior on the sphinx rendered scikit-learn.org. See: https://github.com/scikit-learn/scikit-learn/issues/21755 */display: inline-block !important;position: relative;}#sk-container-id-4 div.sk-text-repr-fallback {display: none;}</style><div id=\"sk-container-id-4\" class=\"sk-top-container\"><div class=\"sk-text-repr-fallback\"><pre>LinearRegression()</pre><b>In a Jupyter environment, please rerun this cell to show the HTML representation or trust the notebook. <br />On GitHub, the HTML representation is unable to render, please try loading this page with nbviewer.org.</b></div><div class=\"sk-container\" hidden><div class=\"sk-item\"><div class=\"sk-estimator sk-toggleable\"><input class=\"sk-toggleable__control sk-hidden--visually\" id=\"sk-estimator-id-4\" type=\"checkbox\" checked><label for=\"sk-estimator-id-4\" class=\"sk-toggleable__label sk-toggleable__label-arrow\">LinearRegression</label><div class=\"sk-toggleable__content\"><pre>LinearRegression()</pre></div></div></div></div></div>"
      ],
      "text/plain": [
       "LinearRegression()"
      ]
     },
     "execution_count": 76,
     "metadata": {},
     "output_type": "execute_result"
    }
   ],
   "source": [
    "# Ahora lo entrenamos\n",
    "model_geo_0.fit(features_0_train, target_0_train)"
   ]
  },
  {
   "cell_type": "code",
   "execution_count": 77,
   "metadata": {},
   "outputs": [],
   "source": [
    "# Finalmente guardamos las predicciones junto con las respuestas correctas\n",
    "# Tenemos que reiniciar el índice del conjunto de validación y transformar las predicciones a Series\n",
    "predictions_0 = pd.concat(\n",
    "    [target_0_valid.reset_index(drop= True), pd.Series(model_geo_0.predict(features_0_valid))], axis= 1\n",
    ")"
   ]
  },
  {
   "cell_type": "code",
   "execution_count": 78,
   "metadata": {},
   "outputs": [],
   "source": [
    "# Cambiamos los nombres de las columnas\n",
    "predictions_0 = predictions_0.rename(columns= {\n",
    "    'product': 'real_value',\n",
    "    0:'prediction'\n",
    "})"
   ]
  },
  {
   "cell_type": "code",
   "execution_count": 79,
   "metadata": {},
   "outputs": [
    {
     "data": {
      "text/html": [
       "<div>\n",
       "<style scoped>\n",
       "    .dataframe tbody tr th:only-of-type {\n",
       "        vertical-align: middle;\n",
       "    }\n",
       "\n",
       "    .dataframe tbody tr th {\n",
       "        vertical-align: top;\n",
       "    }\n",
       "\n",
       "    .dataframe thead th {\n",
       "        text-align: right;\n",
       "    }\n",
       "</style>\n",
       "<table border=\"1\" class=\"dataframe\">\n",
       "  <thead>\n",
       "    <tr style=\"text-align: right;\">\n",
       "      <th></th>\n",
       "      <th>real_value</th>\n",
       "      <th>prediction</th>\n",
       "    </tr>\n",
       "  </thead>\n",
       "  <tbody>\n",
       "    <tr>\n",
       "      <th>0</th>\n",
       "      <td>68.077172</td>\n",
       "      <td>43.932379</td>\n",
       "    </tr>\n",
       "    <tr>\n",
       "      <th>1</th>\n",
       "      <td>59.431029</td>\n",
       "      <td>115.670378</td>\n",
       "    </tr>\n",
       "    <tr>\n",
       "      <th>2</th>\n",
       "      <td>167.877901</td>\n",
       "      <td>102.373501</td>\n",
       "    </tr>\n",
       "    <tr>\n",
       "      <th>3</th>\n",
       "      <td>134.965417</td>\n",
       "      <td>79.732264</td>\n",
       "    </tr>\n",
       "    <tr>\n",
       "      <th>4</th>\n",
       "      <td>148.136790</td>\n",
       "      <td>99.487249</td>\n",
       "    </tr>\n",
       "    <tr>\n",
       "      <th>...</th>\n",
       "      <td>...</td>\n",
       "      <td>...</td>\n",
       "    </tr>\n",
       "    <tr>\n",
       "      <th>24995</th>\n",
       "      <td>146.157947</td>\n",
       "      <td>90.255225</td>\n",
       "    </tr>\n",
       "    <tr>\n",
       "      <th>24996</th>\n",
       "      <td>40.851577</td>\n",
       "      <td>64.683172</td>\n",
       "    </tr>\n",
       "    <tr>\n",
       "      <th>24997</th>\n",
       "      <td>13.229072</td>\n",
       "      <td>92.008923</td>\n",
       "    </tr>\n",
       "    <tr>\n",
       "      <th>24998</th>\n",
       "      <td>100.788405</td>\n",
       "      <td>101.440027</td>\n",
       "    </tr>\n",
       "    <tr>\n",
       "      <th>24999</th>\n",
       "      <td>57.328857</td>\n",
       "      <td>97.964871</td>\n",
       "    </tr>\n",
       "  </tbody>\n",
       "</table>\n",
       "<p>25000 rows × 2 columns</p>\n",
       "</div>"
      ],
      "text/plain": [
       "       real_value  prediction\n",
       "0       68.077172   43.932379\n",
       "1       59.431029  115.670378\n",
       "2      167.877901  102.373501\n",
       "3      134.965417   79.732264\n",
       "4      148.136790   99.487249\n",
       "...           ...         ...\n",
       "24995  146.157947   90.255225\n",
       "24996   40.851577   64.683172\n",
       "24997   13.229072   92.008923\n",
       "24998  100.788405  101.440027\n",
       "24999   57.328857   97.964871\n",
       "\n",
       "[25000 rows x 2 columns]"
      ]
     },
     "execution_count": 79,
     "metadata": {},
     "output_type": "execute_result"
    }
   ],
   "source": [
    "# Veamos entonces como quedo\n",
    "predictions_0"
   ]
  },
  {
   "cell_type": "code",
   "execution_count": 80,
   "metadata": {},
   "outputs": [
    {
     "name": "stdout",
     "output_type": "stream",
     "text": [
      "\n",
      "Volumen promedio de reservas previstas: 92.5367 \n",
      "\n",
      "RECM del modelo: 37.7451\n",
      "\n"
     ]
    }
   ],
   "source": [
    "# Ahora veamos los siguientes valores\n",
    "print(f'''\n",
    "Volumen promedio de reservas previstas: {predictions_0['prediction'].mean():.4f} \\n\n",
    "RECM del modelo: {mean_squared_error(predictions_0['real_value'],predictions_0['prediction'])**0.5:.4f}\n",
    "''')"
   ]
  },
  {
   "cell_type": "markdown",
   "metadata": {},
   "source": [
    "#### <a id='toc1_4_2_2_'></a>[geo_1](#toc0_)"
   ]
  },
  {
   "cell_type": "code",
   "execution_count": 81,
   "metadata": {},
   "outputs": [],
   "source": [
    "# Primero cargamos el modelo de geo_0\n",
    "model_geo_1 = LinearRegression()"
   ]
  },
  {
   "cell_type": "code",
   "execution_count": 82,
   "metadata": {},
   "outputs": [
    {
     "data": {
      "text/html": [
       "<style>#sk-container-id-5 {color: black;background-color: white;}#sk-container-id-5 pre{padding: 0;}#sk-container-id-5 div.sk-toggleable {background-color: white;}#sk-container-id-5 label.sk-toggleable__label {cursor: pointer;display: block;width: 100%;margin-bottom: 0;padding: 0.3em;box-sizing: border-box;text-align: center;}#sk-container-id-5 label.sk-toggleable__label-arrow:before {content: \"▸\";float: left;margin-right: 0.25em;color: #696969;}#sk-container-id-5 label.sk-toggleable__label-arrow:hover:before {color: black;}#sk-container-id-5 div.sk-estimator:hover label.sk-toggleable__label-arrow:before {color: black;}#sk-container-id-5 div.sk-toggleable__content {max-height: 0;max-width: 0;overflow: hidden;text-align: left;background-color: #f0f8ff;}#sk-container-id-5 div.sk-toggleable__content pre {margin: 0.2em;color: black;border-radius: 0.25em;background-color: #f0f8ff;}#sk-container-id-5 input.sk-toggleable__control:checked~div.sk-toggleable__content {max-height: 200px;max-width: 100%;overflow: auto;}#sk-container-id-5 input.sk-toggleable__control:checked~label.sk-toggleable__label-arrow:before {content: \"▾\";}#sk-container-id-5 div.sk-estimator input.sk-toggleable__control:checked~label.sk-toggleable__label {background-color: #d4ebff;}#sk-container-id-5 div.sk-label input.sk-toggleable__control:checked~label.sk-toggleable__label {background-color: #d4ebff;}#sk-container-id-5 input.sk-hidden--visually {border: 0;clip: rect(1px 1px 1px 1px);clip: rect(1px, 1px, 1px, 1px);height: 1px;margin: -1px;overflow: hidden;padding: 0;position: absolute;width: 1px;}#sk-container-id-5 div.sk-estimator {font-family: monospace;background-color: #f0f8ff;border: 1px dotted black;border-radius: 0.25em;box-sizing: border-box;margin-bottom: 0.5em;}#sk-container-id-5 div.sk-estimator:hover {background-color: #d4ebff;}#sk-container-id-5 div.sk-parallel-item::after {content: \"\";width: 100%;border-bottom: 1px solid gray;flex-grow: 1;}#sk-container-id-5 div.sk-label:hover label.sk-toggleable__label {background-color: #d4ebff;}#sk-container-id-5 div.sk-serial::before {content: \"\";position: absolute;border-left: 1px solid gray;box-sizing: border-box;top: 0;bottom: 0;left: 50%;z-index: 0;}#sk-container-id-5 div.sk-serial {display: flex;flex-direction: column;align-items: center;background-color: white;padding-right: 0.2em;padding-left: 0.2em;position: relative;}#sk-container-id-5 div.sk-item {position: relative;z-index: 1;}#sk-container-id-5 div.sk-parallel {display: flex;align-items: stretch;justify-content: center;background-color: white;position: relative;}#sk-container-id-5 div.sk-item::before, #sk-container-id-5 div.sk-parallel-item::before {content: \"\";position: absolute;border-left: 1px solid gray;box-sizing: border-box;top: 0;bottom: 0;left: 50%;z-index: -1;}#sk-container-id-5 div.sk-parallel-item {display: flex;flex-direction: column;z-index: 1;position: relative;background-color: white;}#sk-container-id-5 div.sk-parallel-item:first-child::after {align-self: flex-end;width: 50%;}#sk-container-id-5 div.sk-parallel-item:last-child::after {align-self: flex-start;width: 50%;}#sk-container-id-5 div.sk-parallel-item:only-child::after {width: 0;}#sk-container-id-5 div.sk-dashed-wrapped {border: 1px dashed gray;margin: 0 0.4em 0.5em 0.4em;box-sizing: border-box;padding-bottom: 0.4em;background-color: white;}#sk-container-id-5 div.sk-label label {font-family: monospace;font-weight: bold;display: inline-block;line-height: 1.2em;}#sk-container-id-5 div.sk-label-container {text-align: center;}#sk-container-id-5 div.sk-container {/* jupyter's `normalize.less` sets `[hidden] { display: none; }` but bootstrap.min.css set `[hidden] { display: none !important; }` so we also need the `!important` here to be able to override the default hidden behavior on the sphinx rendered scikit-learn.org. See: https://github.com/scikit-learn/scikit-learn/issues/21755 */display: inline-block !important;position: relative;}#sk-container-id-5 div.sk-text-repr-fallback {display: none;}</style><div id=\"sk-container-id-5\" class=\"sk-top-container\"><div class=\"sk-text-repr-fallback\"><pre>LinearRegression()</pre><b>In a Jupyter environment, please rerun this cell to show the HTML representation or trust the notebook. <br />On GitHub, the HTML representation is unable to render, please try loading this page with nbviewer.org.</b></div><div class=\"sk-container\" hidden><div class=\"sk-item\"><div class=\"sk-estimator sk-toggleable\"><input class=\"sk-toggleable__control sk-hidden--visually\" id=\"sk-estimator-id-5\" type=\"checkbox\" checked><label for=\"sk-estimator-id-5\" class=\"sk-toggleable__label sk-toggleable__label-arrow\">LinearRegression</label><div class=\"sk-toggleable__content\"><pre>LinearRegression()</pre></div></div></div></div></div>"
      ],
      "text/plain": [
       "LinearRegression()"
      ]
     },
     "execution_count": 82,
     "metadata": {},
     "output_type": "execute_result"
    }
   ],
   "source": [
    "# Ahora lo entrenamos\n",
    "model_geo_1.fit(features_1_train, target_1_train)"
   ]
  },
  {
   "cell_type": "code",
   "execution_count": 83,
   "metadata": {},
   "outputs": [],
   "source": [
    "# Finalmente guardamos las predicciones junto con las respuestas correctas\n",
    "# Tenemos que reiniciar el índice del conjunto de validación y transformar las predicciones a Series\n",
    "predictions_1 = pd.concat(\n",
    "    [target_1_valid.reset_index(drop= True), pd.Series(model_geo_1.predict(features_1_valid))], axis= 1\n",
    ")"
   ]
  },
  {
   "cell_type": "code",
   "execution_count": 84,
   "metadata": {},
   "outputs": [],
   "source": [
    "# Cambiamos los nombres de las columnas\n",
    "predictions_1 = predictions_1.rename(columns= {\n",
    "    'product': 'real_value',\n",
    "    0:'prediction'\n",
    "})"
   ]
  },
  {
   "cell_type": "code",
   "execution_count": 85,
   "metadata": {},
   "outputs": [
    {
     "data": {
      "text/html": [
       "<div>\n",
       "<style scoped>\n",
       "    .dataframe tbody tr th:only-of-type {\n",
       "        vertical-align: middle;\n",
       "    }\n",
       "\n",
       "    .dataframe tbody tr th {\n",
       "        vertical-align: top;\n",
       "    }\n",
       "\n",
       "    .dataframe thead th {\n",
       "        text-align: right;\n",
       "    }\n",
       "</style>\n",
       "<table border=\"1\" class=\"dataframe\">\n",
       "  <thead>\n",
       "    <tr style=\"text-align: right;\">\n",
       "      <th></th>\n",
       "      <th>real_value</th>\n",
       "      <th>prediction</th>\n",
       "    </tr>\n",
       "  </thead>\n",
       "  <tbody>\n",
       "    <tr>\n",
       "      <th>0</th>\n",
       "      <td>84.038886</td>\n",
       "      <td>83.750162</td>\n",
       "    </tr>\n",
       "    <tr>\n",
       "      <th>1</th>\n",
       "      <td>134.766305</td>\n",
       "      <td>135.364841</td>\n",
       "    </tr>\n",
       "    <tr>\n",
       "      <th>2</th>\n",
       "      <td>134.766305</td>\n",
       "      <td>136.093130</td>\n",
       "    </tr>\n",
       "    <tr>\n",
       "      <th>3</th>\n",
       "      <td>134.766305</td>\n",
       "      <td>135.827082</td>\n",
       "    </tr>\n",
       "    <tr>\n",
       "      <th>4</th>\n",
       "      <td>107.813044</td>\n",
       "      <td>108.197564</td>\n",
       "    </tr>\n",
       "    <tr>\n",
       "      <th>...</th>\n",
       "      <td>...</td>\n",
       "      <td>...</td>\n",
       "    </tr>\n",
       "    <tr>\n",
       "      <th>24995</th>\n",
       "      <td>110.992147</td>\n",
       "      <td>110.622635</td>\n",
       "    </tr>\n",
       "    <tr>\n",
       "      <th>24996</th>\n",
       "      <td>0.000000</td>\n",
       "      <td>1.255047</td>\n",
       "    </tr>\n",
       "    <tr>\n",
       "      <th>24997</th>\n",
       "      <td>107.813044</td>\n",
       "      <td>108.857192</td>\n",
       "    </tr>\n",
       "    <tr>\n",
       "      <th>24998</th>\n",
       "      <td>3.179103</td>\n",
       "      <td>2.924738</td>\n",
       "    </tr>\n",
       "    <tr>\n",
       "      <th>24999</th>\n",
       "      <td>107.813044</td>\n",
       "      <td>108.306605</td>\n",
       "    </tr>\n",
       "  </tbody>\n",
       "</table>\n",
       "<p>25000 rows × 2 columns</p>\n",
       "</div>"
      ],
      "text/plain": [
       "       real_value  prediction\n",
       "0       84.038886   83.750162\n",
       "1      134.766305  135.364841\n",
       "2      134.766305  136.093130\n",
       "3      134.766305  135.827082\n",
       "4      107.813044  108.197564\n",
       "...           ...         ...\n",
       "24995  110.992147  110.622635\n",
       "24996    0.000000    1.255047\n",
       "24997  107.813044  108.857192\n",
       "24998    3.179103    2.924738\n",
       "24999  107.813044  108.306605\n",
       "\n",
       "[25000 rows x 2 columns]"
      ]
     },
     "execution_count": 85,
     "metadata": {},
     "output_type": "execute_result"
    }
   ],
   "source": [
    "# Veamos entonces como quedo\n",
    "predictions_1"
   ]
  },
  {
   "cell_type": "code",
   "execution_count": 86,
   "metadata": {},
   "outputs": [
    {
     "name": "stdout",
     "output_type": "stream",
     "text": [
      "\n",
      "Volumen promedio de reservas previstas: 68.9255 \n",
      "\n",
      "RECM del modelo: 0.8884\n",
      "\n"
     ]
    }
   ],
   "source": [
    "# Ahora veamos los siguientes valores\n",
    "print(f'''\n",
    "Volumen promedio de reservas previstas: {predictions_1['prediction'].mean():.4f} \\n\n",
    "RECM del modelo: {mean_squared_error(predictions_1['real_value'],predictions_1['prediction'])**0.5:.4f}\n",
    "''')"
   ]
  },
  {
   "cell_type": "markdown",
   "metadata": {},
   "source": [
    "#### <a id='toc1_4_2_3_'></a>[geo_2](#toc0_)"
   ]
  },
  {
   "cell_type": "code",
   "execution_count": 87,
   "metadata": {},
   "outputs": [],
   "source": [
    "# Cargamos una vez mas el modelo\n",
    "model_geo_2 = LinearRegression()"
   ]
  },
  {
   "cell_type": "code",
   "execution_count": 88,
   "metadata": {},
   "outputs": [
    {
     "data": {
      "text/html": [
       "<style>#sk-container-id-6 {color: black;background-color: white;}#sk-container-id-6 pre{padding: 0;}#sk-container-id-6 div.sk-toggleable {background-color: white;}#sk-container-id-6 label.sk-toggleable__label {cursor: pointer;display: block;width: 100%;margin-bottom: 0;padding: 0.3em;box-sizing: border-box;text-align: center;}#sk-container-id-6 label.sk-toggleable__label-arrow:before {content: \"▸\";float: left;margin-right: 0.25em;color: #696969;}#sk-container-id-6 label.sk-toggleable__label-arrow:hover:before {color: black;}#sk-container-id-6 div.sk-estimator:hover label.sk-toggleable__label-arrow:before {color: black;}#sk-container-id-6 div.sk-toggleable__content {max-height: 0;max-width: 0;overflow: hidden;text-align: left;background-color: #f0f8ff;}#sk-container-id-6 div.sk-toggleable__content pre {margin: 0.2em;color: black;border-radius: 0.25em;background-color: #f0f8ff;}#sk-container-id-6 input.sk-toggleable__control:checked~div.sk-toggleable__content {max-height: 200px;max-width: 100%;overflow: auto;}#sk-container-id-6 input.sk-toggleable__control:checked~label.sk-toggleable__label-arrow:before {content: \"▾\";}#sk-container-id-6 div.sk-estimator input.sk-toggleable__control:checked~label.sk-toggleable__label {background-color: #d4ebff;}#sk-container-id-6 div.sk-label input.sk-toggleable__control:checked~label.sk-toggleable__label {background-color: #d4ebff;}#sk-container-id-6 input.sk-hidden--visually {border: 0;clip: rect(1px 1px 1px 1px);clip: rect(1px, 1px, 1px, 1px);height: 1px;margin: -1px;overflow: hidden;padding: 0;position: absolute;width: 1px;}#sk-container-id-6 div.sk-estimator {font-family: monospace;background-color: #f0f8ff;border: 1px dotted black;border-radius: 0.25em;box-sizing: border-box;margin-bottom: 0.5em;}#sk-container-id-6 div.sk-estimator:hover {background-color: #d4ebff;}#sk-container-id-6 div.sk-parallel-item::after {content: \"\";width: 100%;border-bottom: 1px solid gray;flex-grow: 1;}#sk-container-id-6 div.sk-label:hover label.sk-toggleable__label {background-color: #d4ebff;}#sk-container-id-6 div.sk-serial::before {content: \"\";position: absolute;border-left: 1px solid gray;box-sizing: border-box;top: 0;bottom: 0;left: 50%;z-index: 0;}#sk-container-id-6 div.sk-serial {display: flex;flex-direction: column;align-items: center;background-color: white;padding-right: 0.2em;padding-left: 0.2em;position: relative;}#sk-container-id-6 div.sk-item {position: relative;z-index: 1;}#sk-container-id-6 div.sk-parallel {display: flex;align-items: stretch;justify-content: center;background-color: white;position: relative;}#sk-container-id-6 div.sk-item::before, #sk-container-id-6 div.sk-parallel-item::before {content: \"\";position: absolute;border-left: 1px solid gray;box-sizing: border-box;top: 0;bottom: 0;left: 50%;z-index: -1;}#sk-container-id-6 div.sk-parallel-item {display: flex;flex-direction: column;z-index: 1;position: relative;background-color: white;}#sk-container-id-6 div.sk-parallel-item:first-child::after {align-self: flex-end;width: 50%;}#sk-container-id-6 div.sk-parallel-item:last-child::after {align-self: flex-start;width: 50%;}#sk-container-id-6 div.sk-parallel-item:only-child::after {width: 0;}#sk-container-id-6 div.sk-dashed-wrapped {border: 1px dashed gray;margin: 0 0.4em 0.5em 0.4em;box-sizing: border-box;padding-bottom: 0.4em;background-color: white;}#sk-container-id-6 div.sk-label label {font-family: monospace;font-weight: bold;display: inline-block;line-height: 1.2em;}#sk-container-id-6 div.sk-label-container {text-align: center;}#sk-container-id-6 div.sk-container {/* jupyter's `normalize.less` sets `[hidden] { display: none; }` but bootstrap.min.css set `[hidden] { display: none !important; }` so we also need the `!important` here to be able to override the default hidden behavior on the sphinx rendered scikit-learn.org. See: https://github.com/scikit-learn/scikit-learn/issues/21755 */display: inline-block !important;position: relative;}#sk-container-id-6 div.sk-text-repr-fallback {display: none;}</style><div id=\"sk-container-id-6\" class=\"sk-top-container\"><div class=\"sk-text-repr-fallback\"><pre>LinearRegression()</pre><b>In a Jupyter environment, please rerun this cell to show the HTML representation or trust the notebook. <br />On GitHub, the HTML representation is unable to render, please try loading this page with nbviewer.org.</b></div><div class=\"sk-container\" hidden><div class=\"sk-item\"><div class=\"sk-estimator sk-toggleable\"><input class=\"sk-toggleable__control sk-hidden--visually\" id=\"sk-estimator-id-6\" type=\"checkbox\" checked><label for=\"sk-estimator-id-6\" class=\"sk-toggleable__label sk-toggleable__label-arrow\">LinearRegression</label><div class=\"sk-toggleable__content\"><pre>LinearRegression()</pre></div></div></div></div></div>"
      ],
      "text/plain": [
       "LinearRegression()"
      ]
     },
     "execution_count": 88,
     "metadata": {},
     "output_type": "execute_result"
    }
   ],
   "source": [
    "# Lo entrenamos con los datos de geo_2\n",
    "model_geo_2.fit(features_2_train, target_2_train)"
   ]
  },
  {
   "cell_type": "code",
   "execution_count": 89,
   "metadata": {},
   "outputs": [],
   "source": [
    "# Y seguimos el procedimiento para crear la tabla con los valores reales y las predicciones\n",
    "predictions_2 = pd.concat(\n",
    "    [target_2_valid.reset_index(drop= True), pd.Series(model_geo_2.predict(features_2_valid))], axis= 1\n",
    ")"
   ]
  },
  {
   "cell_type": "code",
   "execution_count": 90,
   "metadata": {},
   "outputs": [],
   "source": [
    "# Cambiamos los nombres de las columnas\n",
    "predictions_2 = predictions_2.rename(columns= {\n",
    "    'product': 'real_value',\n",
    "    0:'prediction'\n",
    "})"
   ]
  },
  {
   "cell_type": "code",
   "execution_count": 91,
   "metadata": {},
   "outputs": [
    {
     "data": {
      "text/html": [
       "<div>\n",
       "<style scoped>\n",
       "    .dataframe tbody tr th:only-of-type {\n",
       "        vertical-align: middle;\n",
       "    }\n",
       "\n",
       "    .dataframe tbody tr th {\n",
       "        vertical-align: top;\n",
       "    }\n",
       "\n",
       "    .dataframe thead th {\n",
       "        text-align: right;\n",
       "    }\n",
       "</style>\n",
       "<table border=\"1\" class=\"dataframe\">\n",
       "  <thead>\n",
       "    <tr style=\"text-align: right;\">\n",
       "      <th></th>\n",
       "      <th>real_value</th>\n",
       "      <th>prediction</th>\n",
       "    </tr>\n",
       "  </thead>\n",
       "  <tbody>\n",
       "    <tr>\n",
       "      <th>0</th>\n",
       "      <td>125.720167</td>\n",
       "      <td>101.711068</td>\n",
       "    </tr>\n",
       "    <tr>\n",
       "      <th>1</th>\n",
       "      <td>85.483887</td>\n",
       "      <td>78.034615</td>\n",
       "    </tr>\n",
       "    <tr>\n",
       "      <th>2</th>\n",
       "      <td>91.337368</td>\n",
       "      <td>69.241097</td>\n",
       "    </tr>\n",
       "    <tr>\n",
       "      <th>3</th>\n",
       "      <td>66.343315</td>\n",
       "      <td>87.525741</td>\n",
       "    </tr>\n",
       "    <tr>\n",
       "      <th>4</th>\n",
       "      <td>46.225876</td>\n",
       "      <td>89.832948</td>\n",
       "    </tr>\n",
       "    <tr>\n",
       "      <th>...</th>\n",
       "      <td>...</td>\n",
       "      <td>...</td>\n",
       "    </tr>\n",
       "    <tr>\n",
       "      <th>24995</th>\n",
       "      <td>93.229843</td>\n",
       "      <td>72.145886</td>\n",
       "    </tr>\n",
       "    <tr>\n",
       "      <th>24996</th>\n",
       "      <td>54.510304</td>\n",
       "      <td>81.029650</td>\n",
       "    </tr>\n",
       "    <tr>\n",
       "      <th>24997</th>\n",
       "      <td>113.840910</td>\n",
       "      <td>96.921233</td>\n",
       "    </tr>\n",
       "    <tr>\n",
       "      <th>24998</th>\n",
       "      <td>134.151028</td>\n",
       "      <td>106.616293</td>\n",
       "    </tr>\n",
       "    <tr>\n",
       "      <th>24999</th>\n",
       "      <td>111.453495</td>\n",
       "      <td>122.418400</td>\n",
       "    </tr>\n",
       "  </tbody>\n",
       "</table>\n",
       "<p>25000 rows × 2 columns</p>\n",
       "</div>"
      ],
      "text/plain": [
       "       real_value  prediction\n",
       "0      125.720167  101.711068\n",
       "1       85.483887   78.034615\n",
       "2       91.337368   69.241097\n",
       "3       66.343315   87.525741\n",
       "4       46.225876   89.832948\n",
       "...           ...         ...\n",
       "24995   93.229843   72.145886\n",
       "24996   54.510304   81.029650\n",
       "24997  113.840910   96.921233\n",
       "24998  134.151028  106.616293\n",
       "24999  111.453495  122.418400\n",
       "\n",
       "[25000 rows x 2 columns]"
      ]
     },
     "execution_count": 91,
     "metadata": {},
     "output_type": "execute_result"
    }
   ],
   "source": [
    "# Veamos el resultado\n",
    "predictions_2"
   ]
  },
  {
   "cell_type": "code",
   "execution_count": 92,
   "metadata": {},
   "outputs": [
    {
     "name": "stdout",
     "output_type": "stream",
     "text": [
      "\n",
      "Volumen promedio de reservas previstas: 95.0731 \n",
      "\n",
      "RECM del modelo: 40.0505\n",
      "\n"
     ]
    }
   ],
   "source": [
    "# Y miramos las métricas también\n",
    "print(f'''\n",
    "Volumen promedio de reservas previstas: {predictions_2['prediction'].mean():.4f} \\n\n",
    "RECM del modelo: {mean_squared_error(predictions_2['real_value'],predictions_2['prediction'])**0.5:.4f}\n",
    "''')"
   ]
  },
  {
   "cell_type": "markdown",
   "metadata": {},
   "source": [
    "Entonces recapitulemos:\n",
    "- Modelo geo_0\n",
    "    - Volumen promedio de las predicciones: 92.5367\n",
    "    - RECM del modelo: 37.7451\n",
    "- Modelo geo_0\n",
    "    - Volumen promedio de las predicciones: 68.9255 \n",
    "    - RECM del modelo: 0.8884\n",
    "- Modelo geo_2\n",
    "    - Volumen promedio de las predicciones: 95.0731 \n",
    "    - RECM del modelo: 40.0505\n",
    "  \n",
    "De lo que podemos ver, la región 0 presenta un promedio y un RECM menor siendo el promedio ~2.45 veces el RECM mientras tanto el volumen promedio de la región 2 es mayor con un RECM también mayor pero con el promedio siendo ~2.37 veces el RECM.\n",
    "  \n",
    "A que me refiero con 2.45 y 2.37? Es muy simple, ya que no se pueden comparar directamente los RECM de dos conjuntos de datos diferentes prefiero apelar a la adimensionalidad de una fracción que me informe que tanto es el RECM con respecto al promedio de su conjunto de datos. Por lo tanto: \n",
    "  \n",
    "$$\n",
    "\\frac{92.5367}{37.7451} = 2.45\n",
    "$$\n",
    "  \n",
    "$$\n",
    "\\frac{95.0731}{40.0505} = 2.37\n",
    "$$\n",
    "   \n",
    "No hable de la región 1 ya que primero son datos muy peculiares y segundo, los valores que sacamos son mucho mas bajos que los de las otras regiones, y notamos que tiene un RECM extremadamente bajo, eso sería bueno de tener un promedio alto pero siendo que está casi 2 veces por debajo del punto de equilibrio podemos entender que va a ser dificil encontrar pozos que valgan la pena. Aunque veremos como se comportan las mejores predicciones más adelante.\n",
    "  \n",
    "Por lo tanto, podemos ver como el RECM es más significativo para la región 0 que para la región 2. Y si encima de eso le sumamos que el volumen promedio de la región 2 es mayor, pareciera ser que la balanza se inclina a favor de la región 2... por ahora.\n",
    "  \n",
    "## <a id='toc1_5_'></a>[Cálculo de ganancias](#toc0_)\n",
    "  \n",
    "Como vimos previamente y repetimos muchas veces, nosotros tenemos un valor clave que es 111,11 respecto al cual si un pozo tiene más unidades que ese valor significa que el mismo será rentable ya que se pagará el gasto que se hizo en la construcción del mismo.\n",
    "  \n",
    "Ahora vamos a crear una función que nos realice los cálculos de beneficio para cada una de las predicciones que tenemos en cada región. Veamos de vuelta los valores claves para éste cálculo:\n",
    "- El presupuesto para el desarrollo de 200 pozos petroleros es de 100 millones de dólares.\n",
    "- Un pozo petrolero tiene un costo de construcción de 500.000 dolares\n",
    "- Un barril de materias primas genera 4.5 USD de ingresos. El ingreso de una unidad de producto es de 4500 dólares (el volumen de reservas está expresado en miles de barriles).\n",
    "- Por lo tanto, un pozo petrolero debe tener 111,11 unidades para pagarse y un valor mayor para generar ganancias."
   ]
  },
  {
   "cell_type": "code",
   "execution_count": 93,
   "metadata": {},
   "outputs": [],
   "source": [
    "# Ahora vamos a hacer otra funcion simple para obtener las tablas con las 200 mejores predicciones\n",
    "def get_real_income(table, top):\n",
    "    top_predict = table.sort_values(by= 'prediction', ascending= False)[:top].index\n",
    "    real_benefits = table.iloc[top_predict]['real_value']*4500 - 500000\n",
    "    return real_benefits.sum()"
   ]
  },
  {
   "cell_type": "code",
   "execution_count": 94,
   "metadata": {},
   "outputs": [
    {
     "data": {
      "text/plain": [
       "29431667.72985544"
      ]
     },
     "execution_count": 94,
     "metadata": {},
     "output_type": "execute_result"
    }
   ],
   "source": [
    "# Finalmente probamos la funcion con el top 15\n",
    "get_real_income(predictions_0, 200)"
   ]
  },
  {
   "cell_type": "code",
   "execution_count": 95,
   "metadata": {},
   "outputs": [],
   "source": [
    "# Y ahora es cuestion de agregar las columnas a cada tabla\n",
    "predictions_0['benefit'] = get_real_income(predictions_0,200)\n",
    "\n",
    "predictions_1['benefit'] = get_real_income(predictions_1,200)\n",
    "\n",
    "predictions_2['benefit'] = get_real_income(predictions_2,200)"
   ]
  },
  {
   "cell_type": "code",
   "execution_count": 96,
   "metadata": {},
   "outputs": [],
   "source": [
    "# Finalmente creamos las tablas con las mejores predicciones\n",
    "# Debemos aplicar drop_na y sort_values para dejar las tablas solo con el top 200\n",
    "top_predictions_0 = predictions_0.dropna().sort_values(by='prediction', ascending= False)\n",
    "top_predictions_1 = predictions_1.dropna().sort_values(by='prediction', ascending= False)\n",
    "top_predictions_2 = predictions_2.dropna().sort_values(by='prediction', ascending= False)"
   ]
  },
  {
   "cell_type": "code",
   "execution_count": 97,
   "metadata": {},
   "outputs": [
    {
     "name": "stdout",
     "output_type": "stream",
     "text": [
      "Volumen de petroleo total de las 200 mejores predicciones:\n",
      "Region 0: 2313418.6179\n",
      "Region 1: 1723137.7333\n",
      "Region 2: 2376827.9632\n",
      "\n"
     ]
    }
   ],
   "source": [
    "# Ahora, veamos con cuantas unidades de petroleo terminariamos segun las predicciones\n",
    "print(\n",
    "f'''Volumen de petroleo total de las 200 mejores predicciones:\n",
    "Region 0: {top_predictions_0['prediction'].sum():.4f}\n",
    "Region 1: {top_predictions_1['prediction'].sum():.4f}\n",
    "Region 2: {top_predictions_2['prediction'].sum():.4f}\n",
    "''')"
   ]
  },
  {
   "cell_type": "code",
   "execution_count": 98,
   "metadata": {},
   "outputs": [
    {
     "name": "stdout",
     "output_type": "stream",
     "text": [
      "11.887545476064489\n",
      "-2.065450923988161\n",
      "13.814826422017688\n"
     ]
    }
   ],
   "source": [
    "# Quiero comprobar, acaso hay algun valor dentro de los top 200 que no pase el punto de quiebre?\n",
    "for region in [top_predictions_0,top_predictions_1,top_predictions_2]:\n",
    "    print(region['prediction'].min())"
   ]
  },
  {
   "cell_type": "markdown",
   "metadata": {},
   "source": [
    "Bueno, al parecer solo la región 1 presenta pozos sin el volumen suficiente como para superar el punto de quiebre. Por su parte, las regiones 0 y 2 presentan buenos volumenes y los 200 mejores pozos tienen todos un minimo de ganancias."
   ]
  },
  {
   "cell_type": "code",
   "execution_count": 99,
   "metadata": {},
   "outputs": [
    {
     "name": "stdout",
     "output_type": "stream",
     "text": [
      "Ganancia total de las 200 mejores predicciones:\n",
      "Region 0: U$ 735791693246.39\n",
      "Region 1: U$ 603771674170.38\n",
      "Region 2: U$ 618968418957.59\n",
      "\n"
     ]
    }
   ],
   "source": [
    "# Un poco de copy paste jamas hizo daño a nadie... o no?\n",
    "print(\n",
    "f'''Ganancia total de las 200 mejores predicciones:\n",
    "Region 0: U$ {top_predictions_0['benefit'].sum():.2f}\n",
    "Region 1: U$ {top_predictions_1['benefit'].sum():.2f}\n",
    "Region 2: U$ {top_predictions_2['benefit'].sum():.2f}\n",
    "''')"
   ]
  },
  {
   "cell_type": "code",
   "execution_count": 100,
   "metadata": {},
   "outputs": [
    {
     "name": "stdout",
     "output_type": "stream",
     "text": [
      "Ganancia promedio de las 200 mejores predicciones:\n",
      "Region 0: U$ 29431667.73\n",
      "Region 1: U$ 24150866.97\n",
      "Region 2: U$ 24758736.76\n",
      "\n"
     ]
    }
   ],
   "source": [
    "# Finalmente un valor no menor es el beneficio promedio obtenido de cada pozo\n",
    "print(\n",
    "f'''Ganancia promedio de las 200 mejores predicciones:\n",
    "Region 0: U$ {top_predictions_0['benefit'].mean():.2f}\n",
    "Region 1: U$ {top_predictions_1['benefit'].mean():.2f}\n",
    "Region 2: U$ {top_predictions_2['benefit'].mean():.2f}\n",
    "''')"
   ]
  },
  {
   "cell_type": "markdown",
   "metadata": {},
   "source": [
    "Bueno, supongo que ya vimos suficientes datos como para poder sacar una conclusion. Mi recomendación es que se opte por la región 0, según las predicciones podemos observar como la región 0 se sitúa en la región con la ganancia total mayor y un promedio superior también al resto de las regiones.\n",
    "  \n",
    "Esos factores nos garantizan no solo que se obtendrá una mayor ganancia final tras extraer los recursos de los pozos petrolíferos sino también que tendremos un mayor beneficio a lo largo de la extracción ya que cada pozo nos proporcionará más dinero (en promedio) que las otras regiones. Eso nos da una mayor seguridad para problemas e inconvenientes que puedan surgir ya sea en el pozo como respecto a factores externos.\n",
    "  \n",
    "En segundo lugar pondría a la región 2 ya que al igual que la 0 se posicionó en el segundo puesto en todos los valores que obtuvimos en base a las predicciones.\n",
    "  \n",
    "Por supuesto, ésto es en base a las predicciones con un leve análisis y procesamiento. Aún nos queda realizar el análisis de riesgo para ahí si determinar la región más optima."
   ]
  },
  {
   "cell_type": "markdown",
   "metadata": {},
   "source": [
    "## <a id='toc1_6_'></a>[Cálculo de riesgos](#toc0_)\n",
    "  \n",
    "Ahora nos vamos a centrar en cuantificar cuál de las regiones presenta el menor riesgo para pérdidas de las tres. Para eso vamos a usar lo que muchas veces parece una técnica tramposa pero que se sustenta en uno de los teoremas más fuertes de las matemáticas, *bootstrapping*.\n",
    "  \n",
    "Vamos a aprovechar la libreria scipy y usar su funcion de bootstrapping para simplificar el código aparte de hacer los cálculos más robustos."
   ]
  },
  {
   "cell_type": "code",
   "execution_count": 101,
   "metadata": {},
   "outputs": [],
   "source": [
    "# Antes de nada, creamos la funcion para hacer bootstrapping\n",
    "def bootstrap(data, n_iterations):\n",
    "    \n",
    "    # Primero creamos una lista vacia para trabajar\n",
    "    benefits = []\n",
    "    \n",
    "    # De ahi este loop obtiene las submuestra y los beneficios reales de cada prediccion\n",
    "    for k in range(n_iterations):\n",
    "        \n",
    "        # Tomamos un n=500 ya que el estudio toma 500 puntos y selecciona los mejores 200\n",
    "        subsample = data.sample(n=500, replace=True).reset_index()\n",
    "        variable = get_real_income(subsample, 200)\n",
    "        benefits.append(variable)\n",
    "        \n",
    "    # Finalmente devolvemos la lista con los promedios\n",
    "    return pd.Series(benefits)"
   ]
  },
  {
   "cell_type": "markdown",
   "metadata": {},
   "source": [
    "**Disclamer: Los valores de las celdas markdown no reflejan exactamente los valores obtenidos previamente ya que si se reinicia el kernel y se vuelve a ejecutar el bootstrap habrá diferencias. De todas formas, las posiciones entre regiones se mantienen.**"
   ]
  },
  {
   "cell_type": "markdown",
   "metadata": {},
   "source": [
    "### <a id='toc1_6_1_'></a>[geo_0](#toc0_)"
   ]
  },
  {
   "cell_type": "code",
   "execution_count": 102,
   "metadata": {},
   "outputs": [],
   "source": [
    "# Entonces efectuamos bootstrap sobre los promedios de la region 0\n",
    "sample_0 = bootstrap(predictions_0, 1000)"
   ]
  },
  {
   "cell_type": "code",
   "execution_count": 103,
   "metadata": {},
   "outputs": [
    {
     "data": {
      "image/png": "[encoded data removed]",
      "text/plain": [
       "<Figure size 640x480 with 1 Axes>"
      ]
     },
     "metadata": {},
     "output_type": "display_data"
    },
    {
     "data": {
      "text/plain": [
       "<Figure size 1200x700 with 0 Axes>"
      ]
     },
     "metadata": {},
     "output_type": "display_data"
    }
   ],
   "source": [
    "# Veamos como se distribuyen las medias de nuestro bootstrap\n",
    "sample_0.hist(bins=25)\n",
    "plt.figure(figsize=(12,7))\n",
    "plt.show()"
   ]
  },
  {
   "cell_type": "code",
   "execution_count": 104,
   "metadata": {},
   "outputs": [
    {
     "data": {
      "text/plain": [
       "3743865.9238748457"
      ]
     },
     "execution_count": 104,
     "metadata": {},
     "output_type": "execute_result"
    }
   ],
   "source": [
    "# Veamos el beneficio promedio de la region 0\n",
    "sample_0.mean()"
   ]
  },
  {
   "cell_type": "code",
   "execution_count": 105,
   "metadata": {},
   "outputs": [
    {
     "name": "stdout",
     "output_type": "stream",
     "text": [
      "Intervalo de confianza: U$(-1258188.5303111854,8432791.112776903)\n"
     ]
    }
   ],
   "source": [
    "# Veamos entonces el intervalo de confianza\n",
    "print(f'Intervalo de confianza: U$({sample_0.quantile(0.025)},{sample_0.quantile(0.975)})')"
   ]
  },
  {
   "cell_type": "markdown",
   "metadata": {},
   "source": [
    "Por lo tanto, tenemos un intervalo de confianza del 95% que cubre desde -1.317.952 dolares hasta 8.695.669 dolares con 3.893.728 como valor medio. Claramente podemos observar que no todos los pozos de nuestras predicciones nos dan ganancias positivas, entonces cual es el riesgo de pérdida de la region 0?"
   ]
  },
  {
   "cell_type": "code",
   "execution_count": 106,
   "metadata": {},
   "outputs": [
    {
     "data": {
      "text/plain": [
       "7.3999999999999995"
      ]
     },
     "execution_count": 106,
     "metadata": {},
     "output_type": "execute_result"
    }
   ],
   "source": [
    "# Veamos entonces el porcentaje de perdida!\n",
    "(sample_0<0).mean()*100"
   ]
  },
  {
   "cell_type": "markdown",
   "metadata": {},
   "source": [
    "Finalmente obtuvimos el porcentaje de perdida de la region y es alrededor del 7%! Es mucho? Es poco? Primero veamos las otras regiones y decidamos!"
   ]
  },
  {
   "cell_type": "markdown",
   "metadata": {},
   "source": [
    "### <a id='toc1_6_2_'></a>[geo_1](#toc0_)"
   ]
  },
  {
   "cell_type": "code",
   "execution_count": 107,
   "metadata": {},
   "outputs": [],
   "source": [
    "# Entonces efectuamos bootstrap sobre los promedios de la region 1\n",
    "sample_1 = bootstrap(predictions_1, 1000)"
   ]
  },
  {
   "cell_type": "code",
   "execution_count": 108,
   "metadata": {},
   "outputs": [
    {
     "data": {
      "image/png": "[encoded data removed]",
      "text/plain": [
       "<Figure size 640x480 with 1 Axes>"
      ]
     },
     "metadata": {},
     "output_type": "display_data"
    },
    {
     "data": {
      "text/plain": [
       "<Figure size 1200x700 with 0 Axes>"
      ]
     },
     "metadata": {},
     "output_type": "display_data"
    }
   ],
   "source": [
    "# Veamos como se distribuyen las medias de nuestro bootstrap\n",
    "sample_1.hist(bins=25)\n",
    "plt.figure(figsize=(12,7))\n",
    "plt.show()"
   ]
  },
  {
   "cell_type": "code",
   "execution_count": 109,
   "metadata": {},
   "outputs": [
    {
     "data": {
      "text/plain": [
       "4643384.583398439"
      ]
     },
     "execution_count": 109,
     "metadata": {},
     "output_type": "execute_result"
    }
   ],
   "source": [
    "# Veamos el beneficio promedio de la region 1\n",
    "sample_1.mean()"
   ]
  },
  {
   "cell_type": "code",
   "execution_count": 110,
   "metadata": {},
   "outputs": [
    {
     "name": "stdout",
     "output_type": "stream",
     "text": [
      "Intervalo de confianza: U$(493969.0261550151,8389429.24667936)\n"
     ]
    }
   ],
   "source": [
    "# Veamos entonces el intervalo de confianza\n",
    "print(f'Intervalo de confianza: U$({sample_1.quantile(0.025)},{sample_1.quantile(0.975)})')"
   ]
  },
  {
   "cell_type": "markdown",
   "metadata": {},
   "source": [
    "Para la región 1 tenemos un intervalo de confianza con la forma (629.844 , 8.809.107) y un promedio de 4.658.838 dolares. Al parecer la region 1 no presenta perdidas dentro del intervalo de confianza! De todas formas hay que ver la probabilidad de que tenga perdidas, las cuales seran menores al 5%."
   ]
  },
  {
   "cell_type": "code",
   "execution_count": 111,
   "metadata": {},
   "outputs": [
    {
     "data": {
      "text/plain": [
       "1.3"
      ]
     },
     "execution_count": 111,
     "metadata": {},
     "output_type": "execute_result"
    }
   ],
   "source": [
    "# Veamos entonces el porcentaje de perdida!\n",
    "(sample_1<0).mean()*100"
   ]
  },
  {
   "cell_type": "markdown",
   "metadata": {},
   "source": [
    "Efectivamente, vemos un 1,4% de probabilidad de tener perdidas en la region. Un muy buen nùmero, veamos entonces la última region!"
   ]
  },
  {
   "cell_type": "markdown",
   "metadata": {},
   "source": [
    "### <a id='toc1_6_3_'></a>[geo_2](#toc0_)"
   ]
  },
  {
   "cell_type": "code",
   "execution_count": 112,
   "metadata": {},
   "outputs": [],
   "source": [
    "# Finalmente efectuamos bootstrap sobre los promedios de la region 2\n",
    "sample_2 = bootstrap(predictions_2, 1000)"
   ]
  },
  {
   "cell_type": "code",
   "execution_count": 113,
   "metadata": {},
   "outputs": [
    {
     "data": {
      "image/png": "[encoded data removed]",
      "text/plain": [
       "<Figure size 640x480 with 1 Axes>"
      ]
     },
     "metadata": {},
     "output_type": "display_data"
    },
    {
     "data": {
      "text/plain": [
       "<Figure size 1200x700 with 0 Axes>"
      ]
     },
     "metadata": {},
     "output_type": "display_data"
    }
   ],
   "source": [
    "# Veamos como se distribuyen las medias de nuestro bootstrap\n",
    "sample_2.hist(bins=25)\n",
    "plt.figure(figsize=(12,7))\n",
    "plt.show()"
   ]
  },
  {
   "cell_type": "code",
   "execution_count": 114,
   "metadata": {},
   "outputs": [
    {
     "data": {
      "text/plain": [
       "3621247.7524647675"
      ]
     },
     "execution_count": 114,
     "metadata": {},
     "output_type": "execute_result"
    }
   ],
   "source": [
    "# Veamos el beneficio promedio de la region 2\n",
    "sample_2.mean()"
   ]
  },
  {
   "cell_type": "code",
   "execution_count": 115,
   "metadata": {},
   "outputs": [
    {
     "name": "stdout",
     "output_type": "stream",
     "text": [
      "Intervalo de confianza: U$(-1313732.4626973483,8764731.999709541)\n"
     ]
    }
   ],
   "source": [
    "# Veamos entonces el intervalo de confianza\n",
    "print(f'Intervalo de confianza: U$({sample_2.quantile(0.025)},{sample_2.quantile(0.975)})')"
   ]
  },
  {
   "cell_type": "markdown",
   "metadata": {},
   "source": [
    "Resumiendo la región 2, tenemos un intervalo de confianza que se determina con el rango (-1.893.801, 8.862.464) y una media de 3.580.360 dolares. Ésta región es la que tiene el intervalo de confianza más amplio y la media más chica de las tres, mi predicción en base a tal intervalo de confianza es que veremos el mayor riesgo de las tres regiones."
   ]
  },
  {
   "cell_type": "code",
   "execution_count": 116,
   "metadata": {},
   "outputs": [
    {
     "data": {
      "text/plain": [
       "7.9"
      ]
     },
     "execution_count": 116,
     "metadata": {},
     "output_type": "execute_result"
    }
   ],
   "source": [
    "# Veamos entonces el porcentaje de perdida!\n",
    "(sample_2<0).mean()*100"
   ]
  },
  {
   "cell_type": "markdown",
   "metadata": {},
   "source": [
    "Efectivamente, con una probabilidad de perdida del 9,4% la region 2 se situa como la más riesgosa de las 3 que tenemos. Pasemos entonces a las conclusiones.\n",
    "  \n",
    "## <a id='toc1_7_'></a>[Conclusiones](#toc0_)\n",
    "  \n",
    "Veamos una tabla con las medias, los límites de los intervalos de confianza y el porcentaje de riesgo para cada región:\n",
    "  \n",
    "| Región | Promedio | Límite inferior | Límite superior | Riesgo de pérdida |\n",
    "|----------|----------|----------|--------------|--------------|\n",
    "|     0     |3893728.81|-1317952.76|8695669.91|6.7%|\n",
    "|     1     |4658838.75|629844.56|8809107.07|1.4%|\n",
    "|     2     |3580360.41|-1893801.82|8862464.46|9.4%|"
   ]
  },
  {
   "cell_type": "markdown",
   "metadata": {},
   "source": [
    "Al parecer tenemos un ganador claro de nuestras regiones. La region 1 se ve claramente como la más prometedora en base a los resultados de bootstrapping. Con el promedio más alto, un intervalo de confianza que no toca las perdidas y el menor riesgo de pérdida por bastante no hay discusión sobre que ésta es la mejor región de las 3... O lo es?\n",
    "  \n",
    "Si recordamos bien, en la etapa anterior la región 0 fue la más prometedora e incluso la región 1 se ubicó al final dentro de nuestras métricas! Pero, que cambió tanto el paradigma? Si recordamos bien el EDA, el conjunto de datos de la región 1 era raro ,por decir poco, con 12 picos concentrados en números específicos. Es más que obvio que cuando elegimos los 200 mejores pozos seguramente agarramos pozos de las últimas dos columnas que se encontraban con un poco menos de 140 unidades cada uno mientras que las otras 2 regiones tenian pozos que superaban las 175 unidades. Lo que creo que pasó es que al analizar los valores sin mucho proceso las regiones 0 y 2 superaron ampliamente, pero al realizar el bootstrapping la baja varianza de los datos de la región 1 causó que sus datos se agrupen mucho más cerca de esos dos picos que mencionamos previamente, y consecuentemente dar los resultados que vemos arriba.\n",
    "  \n",
    "Entonces, como conclusión yo voy a recomendar la region.... 0. Simplemente no puedo recomendar una región en la que los datos iniciales presentan una forma tan antinatural que grita problemas en la pipeline. \n",
    "  \n",
    "Mi recomendación completa es que se realice un backtrack de la tabla `geo_1` para identificar que causó que los datos terminen así y posteriormente realizar de vuelta los estudios con el objetivo de comparar y llegar a una conclusión más real."
   ]
  }
 ],
 "metadata": {
  "kernelspec": {
   "display_name": "Python 3 (ipykernel)",
   "language": "python",
   "name": "python3"
  },
  "language_info": {
   "codemirror_mode": {
    "name": "ipython",
    "version": 3
   },
   "file_extension": ".py",
   "mimetype": "text/x-python",
   "name": "python",
   "nbconvert_exporter": "python",
   "pygments_lexer": "ipython3",
   "version": "3.9.19"
  },
  "toc": {
   "base_numbering": 1,
   "nav_menu": {},
   "number_sections": true,
   "sideBar": true,
   "skip_h1_title": true,
   "title_cell": "Table of Contents",
   "title_sidebar": "Contents",
   "toc_cell": false,
   "toc_position": {},
   "toc_section_display": true,
   "toc_window_display": false
  }
 },
 "nbformat": 4,
 "nbformat_minor": 2
}
