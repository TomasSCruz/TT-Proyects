{
 "cells": [
  {
   "cell_type": "markdown",
   "metadata": {},
   "source": [
    "<font size=\"5\"> **¿Cuál es un mejor plan?** </font>\n",
    "\n",
    "Trabajas como analista para el operador de telecomunicaciones Megaline. La empresa ofrece a sus clientes dos tarifas de prepago, Surf y Ultimate. El departamento comercial quiere saber cuál de los planes genera más ingresos para poder ajustar el presupuesto de publicidad.\n",
    "\n",
    "Vas a realizar un análisis preliminar de las tarifas basado en una selección de clientes relativamente pequeña. Tendrás los datos de 500 clientes de Megaline: quiénes son los clientes, de dónde son, qué tarifa usan, así como la cantidad de llamadas que hicieron y los mensajes de texto que enviaron en 2018. Tu trabajo es analizar el comportamiento de los clientes y determinar qué tarifa de prepago genera más ingresos."
   ]
  },
  {
   "cell_type": "markdown",
   "metadata": {},
   "source": [
    "Vamos a embarcarnos en el siguiente proyecto para llegar a la isla que contiene las respuestas a las siguientes preguntas:\n",
    "1. ¿El ingreso promedio de los usuarios de las tarifas Ultimate y Surf difiere?\n",
    "2. ¿El ingreso promedio de los usuarios en el área de estados Nueva York-Nueva Jersey es diferente al de los usuarios de otras regiones?\n",
    "  \n",
    "Para contestar esas dudas vamos a contar con 5 tablas de datos las cuales tendremos que corregir, enriquecer y finalmente fabricar una sola tabla con toda la información pertinente para posteriormente sacar conclusiones.\n",
    "  \n",
    "Nuestras conclusiones se basaran en los gráficos, valores y más importante; en las pruebas estadísticas que vayamos a someter a nuestros datos."
   ]
  },
  {
   "cell_type": "markdown",
   "metadata": {},
   "source": [
    "**Tabla de contenidos**<a id='toc0_'></a>    \n",
    "- [Inicialización](#toc1_)    \n",
    "- [Cargar los datos](#toc2_)    \n",
    "- [Preparar los datos](#toc3_)    \n",
    "  - [Planes](#toc3_1_)    \n",
    "  - [Usuarios](#toc3_2_)    \n",
    "    - [Corregir datos](#toc3_2_1_)    \n",
    "    - [Enriquecer datos](#toc3_2_2_)    \n",
    "  - [Llamadas](#toc3_3_)    \n",
    "    - [Corregir datos](#toc3_3_1_)    \n",
    "  - [Mensajes](#toc3_4_)    \n",
    "    - [Corregir datos](#toc3_4_1_)    \n",
    "  - [Internet](#toc3_5_)    \n",
    "    - [Corregir datos](#toc3_5_1_)    \n",
    "- [Estudiar las condiciones del plan](#toc4_)    \n",
    "- [Agregar datos por usuario](#toc5_)    \n",
    "  - [Usuarios y Meses Ausentes](#toc5_1_)    \n",
    "- [Estudia el comportamiento del usuario](#toc6_)    \n",
    "  - [Llamadas](#toc6_1_)    \n",
    "  - [Mensajes](#toc6_2_)    \n",
    "  - [Internet](#toc6_3_)    \n",
    "  - [Ingreso](#toc6_4_)    \n",
    "- [Probar las hipótesis estadísticas.](#toc7_)    \n",
    "  - [El ingreso promedio de los usuarios de los usuario de las tarifas de Ultimate y Surf difiere?](#toc7_1_)    \n",
    "  - [El ingreso promedio de los usuarios en el área de estados Nueva York-Nueva Jersey es diferente al de los usuarios de otras regiones?](#toc7_2_)    \n",
    "- [Conclusión general](#toc8_)    \n",
    "\n",
    "<!-- vscode-jupyter-toc-config\n",
    "\tnumbering=false\n",
    "\tanchor=true\n",
    "\tflat=false\n",
    "\tminLevel=1\n",
    "\tmaxLevel=6\n",
    "\t/vscode-jupyter-toc-config -->\n",
    "<!-- THIS CELL WILL BE REPLACED ON TOC UPDATE. DO NOT WRITE YOUR TEXT IN THIS CELL -->"
   ]
  },
  {
   "cell_type": "markdown",
   "metadata": {},
   "source": [
    "# <a id='toc1_'></a>[Inicialización](#toc0_)"
   ]
  },
  {
   "cell_type": "markdown",
   "metadata": {},
   "source": [
    "Primero vamos a cargar las librerías con las que vamos a trabajar."
   ]
  },
  {
   "cell_type": "code",
   "execution_count": 1,
   "metadata": {},
   "outputs": [],
   "source": [
    "# Cargar todas las librerías\n",
    "import pandas as pd\n",
    "import numpy as np\n",
    "import matplotlib.pyplot as plt\n",
    "import seaborn as sns\n",
    "from scipy import stats as st"
   ]
  },
  {
   "cell_type": "markdown",
   "metadata": {},
   "source": [
    "# <a id='toc2_'></a>[Cargar los datos](#toc0_)"
   ]
  },
  {
   "cell_type": "markdown",
   "metadata": {},
   "source": [
    "Ahora cargamos las tablas en sus respectivas variables."
   ]
  },
  {
   "cell_type": "code",
   "execution_count": 2,
   "metadata": {},
   "outputs": [],
   "source": [
    "# Carga los archivos de datos en diferentes DataFrames\n",
    "calls = pd.read_csv('../datasets/megaline_calls.csv')\n",
    "internet = pd.read_csv('../datasets/megaline_internet.csv')\n",
    "messages = pd.read_csv('../datasets/megaline_messages.csv')\n",
    "plans = pd.read_csv('../datasets/megaline_plans.csv')\n",
    "users = pd.read_csv('../datasets/megaline_users.csv')"
   ]
  },
  {
   "cell_type": "markdown",
   "metadata": {},
   "source": [
    "# <a id='toc3_'></a>[Preparar los datos](#toc0_)"
   ]
  },
  {
   "cell_type": "markdown",
   "metadata": {},
   "source": [
    "Ahora vamos a ir tabla por tabla explorando sus datos, corrigiendo algún tipo de error que tengan y de ser posible tratando de enriquecer sus tablas con una columna que nos sea de mayor utilidad."
   ]
  },
  {
   "cell_type": "markdown",
   "metadata": {},
   "source": [
    "## <a id='toc3_1_'></a>[Planes](#toc0_)"
   ]
  },
  {
   "cell_type": "code",
   "execution_count": 3,
   "metadata": {},
   "outputs": [
    {
     "name": "stdout",
     "output_type": "stream",
     "text": [
      "<class 'pandas.core.frame.DataFrame'>\n",
      "RangeIndex: 2 entries, 0 to 1\n",
      "Data columns (total 8 columns):\n",
      " #   Column                 Non-Null Count  Dtype  \n",
      "---  ------                 --------------  -----  \n",
      " 0   messages_included      2 non-null      int64  \n",
      " 1   mb_per_month_included  2 non-null      int64  \n",
      " 2   minutes_included       2 non-null      int64  \n",
      " 3   usd_monthly_pay        2 non-null      int64  \n",
      " 4   usd_per_gb             2 non-null      int64  \n",
      " 5   usd_per_message        2 non-null      float64\n",
      " 6   usd_per_minute         2 non-null      float64\n",
      " 7   plan_name              2 non-null      object \n",
      "dtypes: float64(2), int64(5), object(1)\n",
      "memory usage: 256.0+ bytes\n"
     ]
    },
    {
     "data": {
      "text/html": [
       "<div>\n",
       "<style scoped>\n",
       "    .dataframe tbody tr th:only-of-type {\n",
       "        vertical-align: middle;\n",
       "    }\n",
       "\n",
       "    .dataframe tbody tr th {\n",
       "        vertical-align: top;\n",
       "    }\n",
       "\n",
       "    .dataframe thead th {\n",
       "        text-align: right;\n",
       "    }\n",
       "</style>\n",
       "<table border=\"1\" class=\"dataframe\">\n",
       "  <thead>\n",
       "    <tr style=\"text-align: right;\">\n",
       "      <th></th>\n",
       "      <th>messages_included</th>\n",
       "      <th>mb_per_month_included</th>\n",
       "      <th>minutes_included</th>\n",
       "      <th>usd_monthly_pay</th>\n",
       "      <th>usd_per_gb</th>\n",
       "      <th>usd_per_message</th>\n",
       "      <th>usd_per_minute</th>\n",
       "      <th>plan_name</th>\n",
       "    </tr>\n",
       "  </thead>\n",
       "  <tbody>\n",
       "    <tr>\n",
       "      <th>0</th>\n",
       "      <td>50</td>\n",
       "      <td>15360</td>\n",
       "      <td>500</td>\n",
       "      <td>20</td>\n",
       "      <td>10</td>\n",
       "      <td>0.03</td>\n",
       "      <td>0.03</td>\n",
       "      <td>surf</td>\n",
       "    </tr>\n",
       "    <tr>\n",
       "      <th>1</th>\n",
       "      <td>1000</td>\n",
       "      <td>30720</td>\n",
       "      <td>3000</td>\n",
       "      <td>70</td>\n",
       "      <td>7</td>\n",
       "      <td>0.01</td>\n",
       "      <td>0.01</td>\n",
       "      <td>ultimate</td>\n",
       "    </tr>\n",
       "  </tbody>\n",
       "</table>\n",
       "</div>"
      ],
      "text/plain": [
       "   messages_included  mb_per_month_included  minutes_included  \\\n",
       "0                 50                  15360               500   \n",
       "1               1000                  30720              3000   \n",
       "\n",
       "   usd_monthly_pay  usd_per_gb  usd_per_message  usd_per_minute plan_name  \n",
       "0               20          10             0.03            0.03      surf  \n",
       "1               70           7             0.01            0.01  ultimate  "
      ]
     },
     "execution_count": 3,
     "metadata": {},
     "output_type": "execute_result"
    }
   ],
   "source": [
    "plans.info()\n",
    "plans.head(10)"
   ]
  },
  {
   "cell_type": "markdown",
   "metadata": {},
   "source": [
    "**La tabla plans (datos sobre las tarifas):**\n",
    "- `plan_name` — nombre de la tarifa\n",
    "- `usd_per_minute` — precio por minuto tras exceder los límites del paquete (por ejemplo, si el paquete incluye 100 minutos el operador cobrará el minuto 101)\n",
    "- `usd_per_message` — precio por SMS tras exceder los límites del paquete\n",
    "- `usd_per_gb` — precio por gigabyte de los datos extra tras exceder los límites del paquete (1 GB = 1024 megabytes)\n",
    "- `usd_monthly_pay` — pago mensual en dólares estadounidenses\n",
    "- `minutes_included` — minutos incluidos al mes\n",
    "- `mb_per_month_included` — datos incluidos al mes (en megabytes)\n",
    "- `messages_included` — SMS incluidos al mes"
   ]
  },
  {
   "cell_type": "markdown",
   "metadata": {},
   "source": [
    "Podemos observar como tenemos dos planes: *Surf y Ultimate*. Podemos notar como el paquete *Ultimate* tiene más mensajes, mb y minutos, pero un menor precio para acceder a recursos por encima de los que vienen con el plan. Todo eso se da a un precio 3.5 veces mayor aunque se obtienen más de 3.5 mensajes y minutos de llamada, no es el caso de Mb.\n",
    "  \n",
    "Se ve claramente que eventualmente se vuelve más rentable el paquete *Ultimate* si decidimos simplemente gastar Gb, pero algo tan vago no nos sirve por lo que vamos a graficar y ver exactamente en que punto se vuelve más rentable."
   ]
  },
  {
   "cell_type": "code",
   "execution_count": 4,
   "metadata": {},
   "outputs": [
    {
     "data": {
      "image/png": "[encoded data removed]",
      "text/plain": [
       "<Figure size 720x432 with 1 Axes>"
      ]
     },
     "metadata": {
      "needs_background": "light"
     },
     "output_type": "display_data"
    }
   ],
   "source": [
    "# Creamos los valores de x en donde vamos a graficar\n",
    "x = np.arange(2, 300, 4)\n",
    "\n",
    "# Creamos los parámetros para la función\n",
    "m1, c1 = 0.3, 20\n",
    "m2, c2 = 0.1, 70\n",
    "\n",
    "# Calculamos los valores de y para cada valor de x\n",
    "y1 = (m1 * x) + c1\n",
    "y2 = (m2 * x) + c2\n",
    "\n",
    "# Finalmente graficamos\n",
    "plt.figure(figsize=(10,6))\n",
    "plt.plot(x, y1, linewidth=2, label='Gasto mensual Surf',color='blue')\n",
    "plt.plot(x, y2, linewidth=2, label='Gasto mensual Ultimate',color='orange')\n",
    "plt.title('Gasto mensual conforme aumenta el consumo de internet.')\n",
    "plt.xlabel('Gb utilizados')\n",
    "plt.ylabel('Monto gastado [U$]')\n",
    "plt.grid()\n",
    "plt.legend()\n",
    "plt.show()"
   ]
  },
  {
   "cell_type": "markdown",
   "metadata": {},
   "source": [
    "Éste gráfico nos permite ver como recien tras solicitar 250 Gb (y gastar U$95) se cruzan las lineas y podemos entender que si alguien va a gastar +250 Gb le conviene entonces el plan *Ultimate*. Ahora hay que encontrar quien usa tantos datos móbiles en un mes! O no, ese no es nuestro trabajo.\n",
    "  \n",
    "Finalmente podemos quedarnos tranquilos ya que no vemos ninguna irregularidad en la tabla ya sea en tipo de columnas o presencia de valores nulos."
   ]
  },
  {
   "cell_type": "markdown",
   "metadata": {},
   "source": [
    "## <a id='toc3_2_'></a>[Usuarios](#toc0_)"
   ]
  },
  {
   "cell_type": "code",
   "execution_count": 5,
   "metadata": {},
   "outputs": [
    {
     "name": "stdout",
     "output_type": "stream",
     "text": [
      "<class 'pandas.core.frame.DataFrame'>\n",
      "RangeIndex: 500 entries, 0 to 499\n",
      "Data columns (total 8 columns):\n",
      " #   Column      Non-Null Count  Dtype \n",
      "---  ------      --------------  ----- \n",
      " 0   user_id     500 non-null    int64 \n",
      " 1   first_name  500 non-null    object\n",
      " 2   last_name   500 non-null    object\n",
      " 3   age         500 non-null    int64 \n",
      " 4   city        500 non-null    object\n",
      " 5   reg_date    500 non-null    object\n",
      " 6   plan        500 non-null    object\n",
      " 7   churn_date  34 non-null     object\n",
      "dtypes: int64(2), object(6)\n",
      "memory usage: 31.4+ KB\n"
     ]
    },
    {
     "data": {
      "text/html": [
       "<div>\n",
       "<style scoped>\n",
       "    .dataframe tbody tr th:only-of-type {\n",
       "        vertical-align: middle;\n",
       "    }\n",
       "\n",
       "    .dataframe tbody tr th {\n",
       "        vertical-align: top;\n",
       "    }\n",
       "\n",
       "    .dataframe thead th {\n",
       "        text-align: right;\n",
       "    }\n",
       "</style>\n",
       "<table border=\"1\" class=\"dataframe\">\n",
       "  <thead>\n",
       "    <tr style=\"text-align: right;\">\n",
       "      <th></th>\n",
       "      <th>user_id</th>\n",
       "      <th>first_name</th>\n",
       "      <th>last_name</th>\n",
       "      <th>age</th>\n",
       "      <th>city</th>\n",
       "      <th>reg_date</th>\n",
       "      <th>plan</th>\n",
       "      <th>churn_date</th>\n",
       "    </tr>\n",
       "  </thead>\n",
       "  <tbody>\n",
       "    <tr>\n",
       "      <th>0</th>\n",
       "      <td>1000</td>\n",
       "      <td>Anamaria</td>\n",
       "      <td>Bauer</td>\n",
       "      <td>45</td>\n",
       "      <td>Atlanta-Sandy Springs-Roswell, GA MSA</td>\n",
       "      <td>2018-12-24</td>\n",
       "      <td>ultimate</td>\n",
       "      <td>NaN</td>\n",
       "    </tr>\n",
       "    <tr>\n",
       "      <th>1</th>\n",
       "      <td>1001</td>\n",
       "      <td>Mickey</td>\n",
       "      <td>Wilkerson</td>\n",
       "      <td>28</td>\n",
       "      <td>Seattle-Tacoma-Bellevue, WA MSA</td>\n",
       "      <td>2018-08-13</td>\n",
       "      <td>surf</td>\n",
       "      <td>NaN</td>\n",
       "    </tr>\n",
       "    <tr>\n",
       "      <th>2</th>\n",
       "      <td>1002</td>\n",
       "      <td>Carlee</td>\n",
       "      <td>Hoffman</td>\n",
       "      <td>36</td>\n",
       "      <td>Las Vegas-Henderson-Paradise, NV MSA</td>\n",
       "      <td>2018-10-21</td>\n",
       "      <td>surf</td>\n",
       "      <td>NaN</td>\n",
       "    </tr>\n",
       "    <tr>\n",
       "      <th>3</th>\n",
       "      <td>1003</td>\n",
       "      <td>Reynaldo</td>\n",
       "      <td>Jenkins</td>\n",
       "      <td>52</td>\n",
       "      <td>Tulsa, OK MSA</td>\n",
       "      <td>2018-01-28</td>\n",
       "      <td>surf</td>\n",
       "      <td>NaN</td>\n",
       "    </tr>\n",
       "    <tr>\n",
       "      <th>4</th>\n",
       "      <td>1004</td>\n",
       "      <td>Leonila</td>\n",
       "      <td>Thompson</td>\n",
       "      <td>40</td>\n",
       "      <td>Seattle-Tacoma-Bellevue, WA MSA</td>\n",
       "      <td>2018-05-23</td>\n",
       "      <td>surf</td>\n",
       "      <td>NaN</td>\n",
       "    </tr>\n",
       "    <tr>\n",
       "      <th>5</th>\n",
       "      <td>1005</td>\n",
       "      <td>Livia</td>\n",
       "      <td>Shields</td>\n",
       "      <td>31</td>\n",
       "      <td>Dallas-Fort Worth-Arlington, TX MSA</td>\n",
       "      <td>2018-11-29</td>\n",
       "      <td>surf</td>\n",
       "      <td>NaN</td>\n",
       "    </tr>\n",
       "    <tr>\n",
       "      <th>6</th>\n",
       "      <td>1006</td>\n",
       "      <td>Jesusa</td>\n",
       "      <td>Bradford</td>\n",
       "      <td>73</td>\n",
       "      <td>San Francisco-Oakland-Berkeley, CA MSA</td>\n",
       "      <td>2018-11-27</td>\n",
       "      <td>ultimate</td>\n",
       "      <td>2018-12-18</td>\n",
       "    </tr>\n",
       "    <tr>\n",
       "      <th>7</th>\n",
       "      <td>1007</td>\n",
       "      <td>Eusebio</td>\n",
       "      <td>Welch</td>\n",
       "      <td>42</td>\n",
       "      <td>Grand Rapids-Kentwood, MI MSA</td>\n",
       "      <td>2018-07-11</td>\n",
       "      <td>surf</td>\n",
       "      <td>NaN</td>\n",
       "    </tr>\n",
       "    <tr>\n",
       "      <th>8</th>\n",
       "      <td>1008</td>\n",
       "      <td>Emely</td>\n",
       "      <td>Hoffman</td>\n",
       "      <td>53</td>\n",
       "      <td>Orlando-Kissimmee-Sanford, FL MSA</td>\n",
       "      <td>2018-08-03</td>\n",
       "      <td>ultimate</td>\n",
       "      <td>NaN</td>\n",
       "    </tr>\n",
       "    <tr>\n",
       "      <th>9</th>\n",
       "      <td>1009</td>\n",
       "      <td>Gerry</td>\n",
       "      <td>Little</td>\n",
       "      <td>19</td>\n",
       "      <td>San Jose-Sunnyvale-Santa Clara, CA MSA</td>\n",
       "      <td>2018-04-22</td>\n",
       "      <td>surf</td>\n",
       "      <td>NaN</td>\n",
       "    </tr>\n",
       "  </tbody>\n",
       "</table>\n",
       "</div>"
      ],
      "text/plain": [
       "   user_id first_name  last_name  age                                    city  \\\n",
       "0     1000   Anamaria      Bauer   45   Atlanta-Sandy Springs-Roswell, GA MSA   \n",
       "1     1001     Mickey  Wilkerson   28         Seattle-Tacoma-Bellevue, WA MSA   \n",
       "2     1002     Carlee    Hoffman   36    Las Vegas-Henderson-Paradise, NV MSA   \n",
       "3     1003   Reynaldo    Jenkins   52                           Tulsa, OK MSA   \n",
       "4     1004    Leonila   Thompson   40         Seattle-Tacoma-Bellevue, WA MSA   \n",
       "5     1005      Livia    Shields   31     Dallas-Fort Worth-Arlington, TX MSA   \n",
       "6     1006     Jesusa   Bradford   73  San Francisco-Oakland-Berkeley, CA MSA   \n",
       "7     1007    Eusebio      Welch   42           Grand Rapids-Kentwood, MI MSA   \n",
       "8     1008      Emely    Hoffman   53       Orlando-Kissimmee-Sanford, FL MSA   \n",
       "9     1009      Gerry     Little   19  San Jose-Sunnyvale-Santa Clara, CA MSA   \n",
       "\n",
       "     reg_date      plan  churn_date  \n",
       "0  2018-12-24  ultimate         NaN  \n",
       "1  2018-08-13      surf         NaN  \n",
       "2  2018-10-21      surf         NaN  \n",
       "3  2018-01-28      surf         NaN  \n",
       "4  2018-05-23      surf         NaN  \n",
       "5  2018-11-29      surf         NaN  \n",
       "6  2018-11-27  ultimate  2018-12-18  \n",
       "7  2018-07-11      surf         NaN  \n",
       "8  2018-08-03  ultimate         NaN  \n",
       "9  2018-04-22      surf         NaN  "
      ]
     },
     "execution_count": 5,
     "metadata": {},
     "output_type": "execute_result"
    }
   ],
   "source": [
    "users.info()\n",
    "users.head(10)"
   ]
  },
  {
   "cell_type": "markdown",
   "metadata": {},
   "source": [
    "**La tabla users (datos sobre los usuarios):**\n",
    "\n",
    "- `user_id` — identificador único del usuario\n",
    "- `first_name` — nombre del usuario\n",
    "- `last_name` — apellido del usuario\n",
    "- `age` — edad del usuario (en años)\n",
    "- `city` — ciudad de residencia del usuario\n",
    "- `reg_date` — fecha de suscripción (dd, mm, aa)\n",
    "- `plan` — nombre de la tarifa\n",
    "- `churn_date` — la fecha en que el usuario dejó de usar el servicio (si el valor es ausente, la tarifa se estaba usando cuando se recuperaron estos datos)"
   ]
  },
  {
   "cell_type": "markdown",
   "metadata": {},
   "source": [
    "En el caso de `users` a primera vista vemos que la columna `reg_date` aparece como object y al igual que la columna `churn_date`, veremos si podemos hacer algo al respecto. Tambien vamos a buscar por si tenemos algun usuario duplicado y se me viene a la mente una columna que podriamos agregar dandole ids a los tipos de planes."
   ]
  },
  {
   "cell_type": "markdown",
   "metadata": {},
   "source": [
    "### <a id='toc3_2_1_'></a>[Corregir datos](#toc0_)"
   ]
  },
  {
   "cell_type": "markdown",
   "metadata": {},
   "source": [
    "Ahora vamos a revisar si tenemos algun usuario duplicado en nuestra tabla y posteriormente vamos a convertir las columnas `reg_date` y `churn_date` a columnas datetime para poder trabajar en un futuro con ellas de manera algebraica (sumando y restando fechas)."
   ]
  },
  {
   "cell_type": "code",
   "execution_count": 6,
   "metadata": {},
   "outputs": [
    {
     "data": {
      "text/plain": [
       "0"
      ]
     },
     "execution_count": 6,
     "metadata": {},
     "output_type": "execute_result"
    }
   ],
   "source": [
    "# Como dije, primero los duplicados\n",
    "users.duplicated().sum()"
   ]
  },
  {
   "cell_type": "markdown",
   "metadata": {},
   "source": [
    "Perfecto, ahora vamos a tratar las columnas `reg_date` y `churn_date`!"
   ]
  },
  {
   "cell_type": "code",
   "execution_count": 7,
   "metadata": {},
   "outputs": [],
   "source": [
    "# El caso de reg_date es bastante directo, si tenemos algun nulo la funcion to_datetime nos va a avisar\n",
    "users['reg_date'] = pd.to_datetime(users['reg_date'], format='%Y-%m-%d')"
   ]
  },
  {
   "cell_type": "code",
   "execution_count": 8,
   "metadata": {},
   "outputs": [],
   "source": [
    "# En el caso de churn_date es un poco más complicado ya que tenemos que lidiar con los nulos\n",
    "users['churn_date'] = pd.to_datetime(users['churn_date'], format='%Y-%m-%d',errors='coerce')"
   ]
  },
  {
   "cell_type": "code",
   "execution_count": 9,
   "metadata": {},
   "outputs": [
    {
     "data": {
      "text/html": [
       "<div>\n",
       "<style scoped>\n",
       "    .dataframe tbody tr th:only-of-type {\n",
       "        vertical-align: middle;\n",
       "    }\n",
       "\n",
       "    .dataframe tbody tr th {\n",
       "        vertical-align: top;\n",
       "    }\n",
       "\n",
       "    .dataframe thead th {\n",
       "        text-align: right;\n",
       "    }\n",
       "</style>\n",
       "<table border=\"1\" class=\"dataframe\">\n",
       "  <thead>\n",
       "    <tr style=\"text-align: right;\">\n",
       "      <th></th>\n",
       "      <th>user_id</th>\n",
       "      <th>first_name</th>\n",
       "      <th>last_name</th>\n",
       "      <th>age</th>\n",
       "      <th>city</th>\n",
       "      <th>reg_date</th>\n",
       "      <th>plan</th>\n",
       "      <th>churn_date</th>\n",
       "    </tr>\n",
       "  </thead>\n",
       "  <tbody>\n",
       "    <tr>\n",
       "      <th>0</th>\n",
       "      <td>1000</td>\n",
       "      <td>Anamaria</td>\n",
       "      <td>Bauer</td>\n",
       "      <td>45</td>\n",
       "      <td>Atlanta-Sandy Springs-Roswell, GA MSA</td>\n",
       "      <td>2018-12-24</td>\n",
       "      <td>ultimate</td>\n",
       "      <td>NaT</td>\n",
       "    </tr>\n",
       "    <tr>\n",
       "      <th>1</th>\n",
       "      <td>1001</td>\n",
       "      <td>Mickey</td>\n",
       "      <td>Wilkerson</td>\n",
       "      <td>28</td>\n",
       "      <td>Seattle-Tacoma-Bellevue, WA MSA</td>\n",
       "      <td>2018-08-13</td>\n",
       "      <td>surf</td>\n",
       "      <td>NaT</td>\n",
       "    </tr>\n",
       "    <tr>\n",
       "      <th>2</th>\n",
       "      <td>1002</td>\n",
       "      <td>Carlee</td>\n",
       "      <td>Hoffman</td>\n",
       "      <td>36</td>\n",
       "      <td>Las Vegas-Henderson-Paradise, NV MSA</td>\n",
       "      <td>2018-10-21</td>\n",
       "      <td>surf</td>\n",
       "      <td>NaT</td>\n",
       "    </tr>\n",
       "    <tr>\n",
       "      <th>3</th>\n",
       "      <td>1003</td>\n",
       "      <td>Reynaldo</td>\n",
       "      <td>Jenkins</td>\n",
       "      <td>52</td>\n",
       "      <td>Tulsa, OK MSA</td>\n",
       "      <td>2018-01-28</td>\n",
       "      <td>surf</td>\n",
       "      <td>NaT</td>\n",
       "    </tr>\n",
       "    <tr>\n",
       "      <th>4</th>\n",
       "      <td>1004</td>\n",
       "      <td>Leonila</td>\n",
       "      <td>Thompson</td>\n",
       "      <td>40</td>\n",
       "      <td>Seattle-Tacoma-Bellevue, WA MSA</td>\n",
       "      <td>2018-05-23</td>\n",
       "      <td>surf</td>\n",
       "      <td>NaT</td>\n",
       "    </tr>\n",
       "    <tr>\n",
       "      <th>5</th>\n",
       "      <td>1005</td>\n",
       "      <td>Livia</td>\n",
       "      <td>Shields</td>\n",
       "      <td>31</td>\n",
       "      <td>Dallas-Fort Worth-Arlington, TX MSA</td>\n",
       "      <td>2018-11-29</td>\n",
       "      <td>surf</td>\n",
       "      <td>NaT</td>\n",
       "    </tr>\n",
       "    <tr>\n",
       "      <th>6</th>\n",
       "      <td>1006</td>\n",
       "      <td>Jesusa</td>\n",
       "      <td>Bradford</td>\n",
       "      <td>73</td>\n",
       "      <td>San Francisco-Oakland-Berkeley, CA MSA</td>\n",
       "      <td>2018-11-27</td>\n",
       "      <td>ultimate</td>\n",
       "      <td>2018-12-18</td>\n",
       "    </tr>\n",
       "    <tr>\n",
       "      <th>7</th>\n",
       "      <td>1007</td>\n",
       "      <td>Eusebio</td>\n",
       "      <td>Welch</td>\n",
       "      <td>42</td>\n",
       "      <td>Grand Rapids-Kentwood, MI MSA</td>\n",
       "      <td>2018-07-11</td>\n",
       "      <td>surf</td>\n",
       "      <td>NaT</td>\n",
       "    </tr>\n",
       "    <tr>\n",
       "      <th>8</th>\n",
       "      <td>1008</td>\n",
       "      <td>Emely</td>\n",
       "      <td>Hoffman</td>\n",
       "      <td>53</td>\n",
       "      <td>Orlando-Kissimmee-Sanford, FL MSA</td>\n",
       "      <td>2018-08-03</td>\n",
       "      <td>ultimate</td>\n",
       "      <td>NaT</td>\n",
       "    </tr>\n",
       "    <tr>\n",
       "      <th>9</th>\n",
       "      <td>1009</td>\n",
       "      <td>Gerry</td>\n",
       "      <td>Little</td>\n",
       "      <td>19</td>\n",
       "      <td>San Jose-Sunnyvale-Santa Clara, CA MSA</td>\n",
       "      <td>2018-04-22</td>\n",
       "      <td>surf</td>\n",
       "      <td>NaT</td>\n",
       "    </tr>\n",
       "  </tbody>\n",
       "</table>\n",
       "</div>"
      ],
      "text/plain": [
       "   user_id first_name  last_name  age                                    city  \\\n",
       "0     1000   Anamaria      Bauer   45   Atlanta-Sandy Springs-Roswell, GA MSA   \n",
       "1     1001     Mickey  Wilkerson   28         Seattle-Tacoma-Bellevue, WA MSA   \n",
       "2     1002     Carlee    Hoffman   36    Las Vegas-Henderson-Paradise, NV MSA   \n",
       "3     1003   Reynaldo    Jenkins   52                           Tulsa, OK MSA   \n",
       "4     1004    Leonila   Thompson   40         Seattle-Tacoma-Bellevue, WA MSA   \n",
       "5     1005      Livia    Shields   31     Dallas-Fort Worth-Arlington, TX MSA   \n",
       "6     1006     Jesusa   Bradford   73  San Francisco-Oakland-Berkeley, CA MSA   \n",
       "7     1007    Eusebio      Welch   42           Grand Rapids-Kentwood, MI MSA   \n",
       "8     1008      Emely    Hoffman   53       Orlando-Kissimmee-Sanford, FL MSA   \n",
       "9     1009      Gerry     Little   19  San Jose-Sunnyvale-Santa Clara, CA MSA   \n",
       "\n",
       "    reg_date      plan churn_date  \n",
       "0 2018-12-24  ultimate        NaT  \n",
       "1 2018-08-13      surf        NaT  \n",
       "2 2018-10-21      surf        NaT  \n",
       "3 2018-01-28      surf        NaT  \n",
       "4 2018-05-23      surf        NaT  \n",
       "5 2018-11-29      surf        NaT  \n",
       "6 2018-11-27  ultimate 2018-12-18  \n",
       "7 2018-07-11      surf        NaT  \n",
       "8 2018-08-03  ultimate        NaT  \n",
       "9 2018-04-22      surf        NaT  "
      ]
     },
     "execution_count": 9,
     "metadata": {},
     "output_type": "execute_result"
    }
   ],
   "source": [
    "# Verificamos los cambios\n",
    "users.head(10)"
   ]
  },
  {
   "cell_type": "code",
   "execution_count": 10,
   "metadata": {},
   "outputs": [
    {
     "data": {
      "text/plain": [
       "user_id                int64\n",
       "first_name            object\n",
       "last_name             object\n",
       "age                    int64\n",
       "city                  object\n",
       "reg_date      datetime64[ns]\n",
       "plan                  object\n",
       "churn_date    datetime64[ns]\n",
       "dtype: object"
      ]
     },
     "execution_count": 10,
     "metadata": {},
     "output_type": "execute_result"
    }
   ],
   "source": [
    "# Verifiquemos entonces los dtypes\n",
    "users.dtypes"
   ]
  },
  {
   "cell_type": "markdown",
   "metadata": {},
   "source": [
    "### <a id='toc3_2_2_'></a>[Enriquecer datos](#toc0_)"
   ]
  },
  {
   "cell_type": "markdown",
   "metadata": {},
   "source": [
    "Ahora vamos a buscar darle más valor o simplicidad a la tabla para nuestro trabajo futuro. Primero voy a crear una columna en la que voy a categorizar por edades a los clientes y despues como dije vamos a crear una columna id para los planes."
   ]
  },
  {
   "cell_type": "code",
   "execution_count": 11,
   "metadata": {},
   "outputs": [
    {
     "data": {
      "text/plain": [
       "count    500.000000\n",
       "mean      45.486000\n",
       "std       16.972269\n",
       "min       18.000000\n",
       "25%       30.000000\n",
       "50%       46.000000\n",
       "75%       61.000000\n",
       "max       75.000000\n",
       "Name: age, dtype: float64"
      ]
     },
     "execution_count": 11,
     "metadata": {},
     "output_type": "execute_result"
    }
   ],
   "source": [
    "# Antes veamos que edades nos encontramos en la columna\n",
    "users['age'].describe()"
   ]
  },
  {
   "cell_type": "code",
   "execution_count": 12,
   "metadata": {},
   "outputs": [
    {
     "data": {
      "text/html": [
       "<div>\n",
       "<style scoped>\n",
       "    .dataframe tbody tr th:only-of-type {\n",
       "        vertical-align: middle;\n",
       "    }\n",
       "\n",
       "    .dataframe tbody tr th {\n",
       "        vertical-align: top;\n",
       "    }\n",
       "\n",
       "    .dataframe thead th {\n",
       "        text-align: right;\n",
       "    }\n",
       "</style>\n",
       "<table border=\"1\" class=\"dataframe\">\n",
       "  <thead>\n",
       "    <tr style=\"text-align: right;\">\n",
       "      <th></th>\n",
       "      <th>user_id</th>\n",
       "      <th>first_name</th>\n",
       "      <th>last_name</th>\n",
       "      <th>age</th>\n",
       "      <th>city</th>\n",
       "      <th>reg_date</th>\n",
       "      <th>plan</th>\n",
       "      <th>churn_date</th>\n",
       "    </tr>\n",
       "  </thead>\n",
       "  <tbody>\n",
       "    <tr>\n",
       "      <th>0</th>\n",
       "      <td>1000</td>\n",
       "      <td>Anamaria</td>\n",
       "      <td>Bauer</td>\n",
       "      <td>45</td>\n",
       "      <td>Atlanta-Sandy Springs-Roswell, GA MSA</td>\n",
       "      <td>2018-12-24</td>\n",
       "      <td>ultimate</td>\n",
       "      <td>NaT</td>\n",
       "    </tr>\n",
       "    <tr>\n",
       "      <th>1</th>\n",
       "      <td>1001</td>\n",
       "      <td>Mickey</td>\n",
       "      <td>Wilkerson</td>\n",
       "      <td>28</td>\n",
       "      <td>Seattle-Tacoma-Bellevue, WA MSA</td>\n",
       "      <td>2018-08-13</td>\n",
       "      <td>surf</td>\n",
       "      <td>NaT</td>\n",
       "    </tr>\n",
       "    <tr>\n",
       "      <th>2</th>\n",
       "      <td>1002</td>\n",
       "      <td>Carlee</td>\n",
       "      <td>Hoffman</td>\n",
       "      <td>36</td>\n",
       "      <td>Las Vegas-Henderson-Paradise, NV MSA</td>\n",
       "      <td>2018-10-21</td>\n",
       "      <td>surf</td>\n",
       "      <td>NaT</td>\n",
       "    </tr>\n",
       "    <tr>\n",
       "      <th>3</th>\n",
       "      <td>1003</td>\n",
       "      <td>Reynaldo</td>\n",
       "      <td>Jenkins</td>\n",
       "      <td>52</td>\n",
       "      <td>Tulsa, OK MSA</td>\n",
       "      <td>2018-01-28</td>\n",
       "      <td>surf</td>\n",
       "      <td>NaT</td>\n",
       "    </tr>\n",
       "    <tr>\n",
       "      <th>4</th>\n",
       "      <td>1004</td>\n",
       "      <td>Leonila</td>\n",
       "      <td>Thompson</td>\n",
       "      <td>40</td>\n",
       "      <td>Seattle-Tacoma-Bellevue, WA MSA</td>\n",
       "      <td>2018-05-23</td>\n",
       "      <td>surf</td>\n",
       "      <td>NaT</td>\n",
       "    </tr>\n",
       "    <tr>\n",
       "      <th>5</th>\n",
       "      <td>1005</td>\n",
       "      <td>Livia</td>\n",
       "      <td>Shields</td>\n",
       "      <td>31</td>\n",
       "      <td>Dallas-Fort Worth-Arlington, TX MSA</td>\n",
       "      <td>2018-11-29</td>\n",
       "      <td>surf</td>\n",
       "      <td>NaT</td>\n",
       "    </tr>\n",
       "    <tr>\n",
       "      <th>6</th>\n",
       "      <td>1006</td>\n",
       "      <td>Jesusa</td>\n",
       "      <td>Bradford</td>\n",
       "      <td>73</td>\n",
       "      <td>San Francisco-Oakland-Berkeley, CA MSA</td>\n",
       "      <td>2018-11-27</td>\n",
       "      <td>ultimate</td>\n",
       "      <td>2018-12-18</td>\n",
       "    </tr>\n",
       "    <tr>\n",
       "      <th>7</th>\n",
       "      <td>1007</td>\n",
       "      <td>Eusebio</td>\n",
       "      <td>Welch</td>\n",
       "      <td>42</td>\n",
       "      <td>Grand Rapids-Kentwood, MI MSA</td>\n",
       "      <td>2018-07-11</td>\n",
       "      <td>surf</td>\n",
       "      <td>NaT</td>\n",
       "    </tr>\n",
       "    <tr>\n",
       "      <th>8</th>\n",
       "      <td>1008</td>\n",
       "      <td>Emely</td>\n",
       "      <td>Hoffman</td>\n",
       "      <td>53</td>\n",
       "      <td>Orlando-Kissimmee-Sanford, FL MSA</td>\n",
       "      <td>2018-08-03</td>\n",
       "      <td>ultimate</td>\n",
       "      <td>NaT</td>\n",
       "    </tr>\n",
       "    <tr>\n",
       "      <th>9</th>\n",
       "      <td>1009</td>\n",
       "      <td>Gerry</td>\n",
       "      <td>Little</td>\n",
       "      <td>19</td>\n",
       "      <td>San Jose-Sunnyvale-Santa Clara, CA MSA</td>\n",
       "      <td>2018-04-22</td>\n",
       "      <td>surf</td>\n",
       "      <td>NaT</td>\n",
       "    </tr>\n",
       "  </tbody>\n",
       "</table>\n",
       "</div>"
      ],
      "text/plain": [
       "   user_id first_name  last_name  age                                    city  \\\n",
       "0     1000   Anamaria      Bauer   45   Atlanta-Sandy Springs-Roswell, GA MSA   \n",
       "1     1001     Mickey  Wilkerson   28         Seattle-Tacoma-Bellevue, WA MSA   \n",
       "2     1002     Carlee    Hoffman   36    Las Vegas-Henderson-Paradise, NV MSA   \n",
       "3     1003   Reynaldo    Jenkins   52                           Tulsa, OK MSA   \n",
       "4     1004    Leonila   Thompson   40         Seattle-Tacoma-Bellevue, WA MSA   \n",
       "5     1005      Livia    Shields   31     Dallas-Fort Worth-Arlington, TX MSA   \n",
       "6     1006     Jesusa   Bradford   73  San Francisco-Oakland-Berkeley, CA MSA   \n",
       "7     1007    Eusebio      Welch   42           Grand Rapids-Kentwood, MI MSA   \n",
       "8     1008      Emely    Hoffman   53       Orlando-Kissimmee-Sanford, FL MSA   \n",
       "9     1009      Gerry     Little   19  San Jose-Sunnyvale-Santa Clara, CA MSA   \n",
       "\n",
       "    reg_date      plan churn_date  \n",
       "0 2018-12-24  ultimate        NaT  \n",
       "1 2018-08-13      surf        NaT  \n",
       "2 2018-10-21      surf        NaT  \n",
       "3 2018-01-28      surf        NaT  \n",
       "4 2018-05-23      surf        NaT  \n",
       "5 2018-11-29      surf        NaT  \n",
       "6 2018-11-27  ultimate 2018-12-18  \n",
       "7 2018-07-11      surf        NaT  \n",
       "8 2018-08-03  ultimate        NaT  \n",
       "9 2018-04-22      surf        NaT  "
      ]
     },
     "execution_count": 12,
     "metadata": {},
     "output_type": "execute_result"
    }
   ],
   "source": [
    "users.head(10)"
   ]
  },
  {
   "cell_type": "code",
   "execution_count": 13,
   "metadata": {},
   "outputs": [],
   "source": [
    "# Por supuesto, vamos a necesitar una funcion para categorizar \n",
    "def age_categ(row):\n",
    "    age = row['age']\n",
    "    if age < 30:\n",
    "        return 0\n",
    "    elif age < 40:\n",
    "        return 1\n",
    "    elif age < 50:\n",
    "        return 2\n",
    "    elif age < 60:\n",
    "        return 3\n",
    "    elif age < 70:\n",
    "        return 4\n",
    "    else:\n",
    "        return 5\n",
    "    "
   ]
  },
  {
   "cell_type": "code",
   "execution_count": 14,
   "metadata": {},
   "outputs": [
    {
     "name": "stdout",
     "output_type": "stream",
     "text": [
      "2 0 1 3 2\n"
     ]
    }
   ],
   "source": [
    "# Probamos la funcion\n",
    "print(age_categ(users.loc[0,:]),\n",
    "age_categ(users.loc[1,:]),\n",
    "age_categ(users.loc[2,:]),\n",
    "age_categ(users.loc[3,:]),\n",
    "age_categ(users.loc[4,:]))"
   ]
  },
  {
   "cell_type": "code",
   "execution_count": 15,
   "metadata": {},
   "outputs": [
    {
     "data": {
      "text/html": [
       "<div>\n",
       "<style scoped>\n",
       "    .dataframe tbody tr th:only-of-type {\n",
       "        vertical-align: middle;\n",
       "    }\n",
       "\n",
       "    .dataframe tbody tr th {\n",
       "        vertical-align: top;\n",
       "    }\n",
       "\n",
       "    .dataframe thead th {\n",
       "        text-align: right;\n",
       "    }\n",
       "</style>\n",
       "<table border=\"1\" class=\"dataframe\">\n",
       "  <thead>\n",
       "    <tr style=\"text-align: right;\">\n",
       "      <th></th>\n",
       "      <th>user_id</th>\n",
       "      <th>first_name</th>\n",
       "      <th>last_name</th>\n",
       "      <th>age</th>\n",
       "      <th>age_catg</th>\n",
       "      <th>city</th>\n",
       "      <th>reg_date</th>\n",
       "      <th>plan</th>\n",
       "      <th>churn_date</th>\n",
       "    </tr>\n",
       "  </thead>\n",
       "  <tbody>\n",
       "    <tr>\n",
       "      <th>0</th>\n",
       "      <td>1000</td>\n",
       "      <td>Anamaria</td>\n",
       "      <td>Bauer</td>\n",
       "      <td>45</td>\n",
       "      <td>2</td>\n",
       "      <td>Atlanta-Sandy Springs-Roswell, GA MSA</td>\n",
       "      <td>2018-12-24</td>\n",
       "      <td>ultimate</td>\n",
       "      <td>NaT</td>\n",
       "    </tr>\n",
       "    <tr>\n",
       "      <th>1</th>\n",
       "      <td>1001</td>\n",
       "      <td>Mickey</td>\n",
       "      <td>Wilkerson</td>\n",
       "      <td>28</td>\n",
       "      <td>0</td>\n",
       "      <td>Seattle-Tacoma-Bellevue, WA MSA</td>\n",
       "      <td>2018-08-13</td>\n",
       "      <td>surf</td>\n",
       "      <td>NaT</td>\n",
       "    </tr>\n",
       "    <tr>\n",
       "      <th>2</th>\n",
       "      <td>1002</td>\n",
       "      <td>Carlee</td>\n",
       "      <td>Hoffman</td>\n",
       "      <td>36</td>\n",
       "      <td>1</td>\n",
       "      <td>Las Vegas-Henderson-Paradise, NV MSA</td>\n",
       "      <td>2018-10-21</td>\n",
       "      <td>surf</td>\n",
       "      <td>NaT</td>\n",
       "    </tr>\n",
       "    <tr>\n",
       "      <th>3</th>\n",
       "      <td>1003</td>\n",
       "      <td>Reynaldo</td>\n",
       "      <td>Jenkins</td>\n",
       "      <td>52</td>\n",
       "      <td>3</td>\n",
       "      <td>Tulsa, OK MSA</td>\n",
       "      <td>2018-01-28</td>\n",
       "      <td>surf</td>\n",
       "      <td>NaT</td>\n",
       "    </tr>\n",
       "    <tr>\n",
       "      <th>4</th>\n",
       "      <td>1004</td>\n",
       "      <td>Leonila</td>\n",
       "      <td>Thompson</td>\n",
       "      <td>40</td>\n",
       "      <td>2</td>\n",
       "      <td>Seattle-Tacoma-Bellevue, WA MSA</td>\n",
       "      <td>2018-05-23</td>\n",
       "      <td>surf</td>\n",
       "      <td>NaT</td>\n",
       "    </tr>\n",
       "    <tr>\n",
       "      <th>...</th>\n",
       "      <td>...</td>\n",
       "      <td>...</td>\n",
       "      <td>...</td>\n",
       "      <td>...</td>\n",
       "      <td>...</td>\n",
       "      <td>...</td>\n",
       "      <td>...</td>\n",
       "      <td>...</td>\n",
       "      <td>...</td>\n",
       "    </tr>\n",
       "    <tr>\n",
       "      <th>495</th>\n",
       "      <td>1495</td>\n",
       "      <td>Fidel</td>\n",
       "      <td>Sharpe</td>\n",
       "      <td>67</td>\n",
       "      <td>4</td>\n",
       "      <td>New York-Newark-Jersey City, NY-NJ-PA MSA</td>\n",
       "      <td>2018-09-04</td>\n",
       "      <td>surf</td>\n",
       "      <td>NaT</td>\n",
       "    </tr>\n",
       "    <tr>\n",
       "      <th>496</th>\n",
       "      <td>1496</td>\n",
       "      <td>Ariel</td>\n",
       "      <td>Shepherd</td>\n",
       "      <td>49</td>\n",
       "      <td>2</td>\n",
       "      <td>New Orleans-Metairie, LA MSA</td>\n",
       "      <td>2018-02-20</td>\n",
       "      <td>surf</td>\n",
       "      <td>NaT</td>\n",
       "    </tr>\n",
       "    <tr>\n",
       "      <th>497</th>\n",
       "      <td>1497</td>\n",
       "      <td>Donte</td>\n",
       "      <td>Barrera</td>\n",
       "      <td>49</td>\n",
       "      <td>2</td>\n",
       "      <td>Los Angeles-Long Beach-Anaheim, CA MSA</td>\n",
       "      <td>2018-12-10</td>\n",
       "      <td>ultimate</td>\n",
       "      <td>NaT</td>\n",
       "    </tr>\n",
       "    <tr>\n",
       "      <th>498</th>\n",
       "      <td>1498</td>\n",
       "      <td>Scot</td>\n",
       "      <td>Williamson</td>\n",
       "      <td>51</td>\n",
       "      <td>3</td>\n",
       "      <td>New York-Newark-Jersey City, NY-NJ-PA MSA</td>\n",
       "      <td>2018-02-04</td>\n",
       "      <td>surf</td>\n",
       "      <td>NaT</td>\n",
       "    </tr>\n",
       "    <tr>\n",
       "      <th>499</th>\n",
       "      <td>1499</td>\n",
       "      <td>Shena</td>\n",
       "      <td>Dickson</td>\n",
       "      <td>37</td>\n",
       "      <td>1</td>\n",
       "      <td>Orlando-Kissimmee-Sanford, FL MSA</td>\n",
       "      <td>2018-05-06</td>\n",
       "      <td>surf</td>\n",
       "      <td>NaT</td>\n",
       "    </tr>\n",
       "  </tbody>\n",
       "</table>\n",
       "<p>500 rows × 9 columns</p>\n",
       "</div>"
      ],
      "text/plain": [
       "     user_id first_name   last_name  age  age_catg  \\\n",
       "0       1000   Anamaria       Bauer   45         2   \n",
       "1       1001     Mickey   Wilkerson   28         0   \n",
       "2       1002     Carlee     Hoffman   36         1   \n",
       "3       1003   Reynaldo     Jenkins   52         3   \n",
       "4       1004    Leonila    Thompson   40         2   \n",
       "..       ...        ...         ...  ...       ...   \n",
       "495     1495      Fidel      Sharpe   67         4   \n",
       "496     1496      Ariel    Shepherd   49         2   \n",
       "497     1497      Donte     Barrera   49         2   \n",
       "498     1498       Scot  Williamson   51         3   \n",
       "499     1499      Shena     Dickson   37         1   \n",
       "\n",
       "                                          city   reg_date      plan churn_date  \n",
       "0        Atlanta-Sandy Springs-Roswell, GA MSA 2018-12-24  ultimate        NaT  \n",
       "1              Seattle-Tacoma-Bellevue, WA MSA 2018-08-13      surf        NaT  \n",
       "2         Las Vegas-Henderson-Paradise, NV MSA 2018-10-21      surf        NaT  \n",
       "3                                Tulsa, OK MSA 2018-01-28      surf        NaT  \n",
       "4              Seattle-Tacoma-Bellevue, WA MSA 2018-05-23      surf        NaT  \n",
       "..                                         ...        ...       ...        ...  \n",
       "495  New York-Newark-Jersey City, NY-NJ-PA MSA 2018-09-04      surf        NaT  \n",
       "496               New Orleans-Metairie, LA MSA 2018-02-20      surf        NaT  \n",
       "497     Los Angeles-Long Beach-Anaheim, CA MSA 2018-12-10  ultimate        NaT  \n",
       "498  New York-Newark-Jersey City, NY-NJ-PA MSA 2018-02-04      surf        NaT  \n",
       "499          Orlando-Kissimmee-Sanford, FL MSA 2018-05-06      surf        NaT  \n",
       "\n",
       "[500 rows x 9 columns]"
      ]
     },
     "execution_count": 15,
     "metadata": {},
     "output_type": "execute_result"
    }
   ],
   "source": [
    "# Con nuestra funcion funcionando a la perfeccion, vamos a agregar la columna\n",
    "age_catg = users.apply(age_categ,axis=1)\n",
    "\n",
    "users.insert(loc = 4,\n",
    "            column = 'age_catg',\n",
    "            value = age_catg)\n",
    "users"
   ]
  },
  {
   "cell_type": "code",
   "execution_count": 16,
   "metadata": {
    "scrolled": true
   },
   "outputs": [
    {
     "data": {
      "text/html": [
       "<div>\n",
       "<style scoped>\n",
       "    .dataframe tbody tr th:only-of-type {\n",
       "        vertical-align: middle;\n",
       "    }\n",
       "\n",
       "    .dataframe tbody tr th {\n",
       "        vertical-align: top;\n",
       "    }\n",
       "\n",
       "    .dataframe thead th {\n",
       "        text-align: right;\n",
       "    }\n",
       "</style>\n",
       "<table border=\"1\" class=\"dataframe\">\n",
       "  <thead>\n",
       "    <tr style=\"text-align: right;\">\n",
       "      <th></th>\n",
       "      <th>user_id</th>\n",
       "      <th>first_name</th>\n",
       "      <th>last_name</th>\n",
       "      <th>age</th>\n",
       "      <th>age_catg</th>\n",
       "      <th>city</th>\n",
       "      <th>reg_date</th>\n",
       "      <th>plan</th>\n",
       "      <th>plan_id</th>\n",
       "      <th>churn_date</th>\n",
       "    </tr>\n",
       "  </thead>\n",
       "  <tbody>\n",
       "    <tr>\n",
       "      <th>0</th>\n",
       "      <td>1000</td>\n",
       "      <td>Anamaria</td>\n",
       "      <td>Bauer</td>\n",
       "      <td>45</td>\n",
       "      <td>2</td>\n",
       "      <td>Atlanta-Sandy Springs-Roswell, GA MSA</td>\n",
       "      <td>2018-12-24</td>\n",
       "      <td>ultimate</td>\n",
       "      <td>1</td>\n",
       "      <td>NaT</td>\n",
       "    </tr>\n",
       "    <tr>\n",
       "      <th>1</th>\n",
       "      <td>1001</td>\n",
       "      <td>Mickey</td>\n",
       "      <td>Wilkerson</td>\n",
       "      <td>28</td>\n",
       "      <td>0</td>\n",
       "      <td>Seattle-Tacoma-Bellevue, WA MSA</td>\n",
       "      <td>2018-08-13</td>\n",
       "      <td>surf</td>\n",
       "      <td>0</td>\n",
       "      <td>NaT</td>\n",
       "    </tr>\n",
       "    <tr>\n",
       "      <th>2</th>\n",
       "      <td>1002</td>\n",
       "      <td>Carlee</td>\n",
       "      <td>Hoffman</td>\n",
       "      <td>36</td>\n",
       "      <td>1</td>\n",
       "      <td>Las Vegas-Henderson-Paradise, NV MSA</td>\n",
       "      <td>2018-10-21</td>\n",
       "      <td>surf</td>\n",
       "      <td>0</td>\n",
       "      <td>NaT</td>\n",
       "    </tr>\n",
       "    <tr>\n",
       "      <th>3</th>\n",
       "      <td>1003</td>\n",
       "      <td>Reynaldo</td>\n",
       "      <td>Jenkins</td>\n",
       "      <td>52</td>\n",
       "      <td>3</td>\n",
       "      <td>Tulsa, OK MSA</td>\n",
       "      <td>2018-01-28</td>\n",
       "      <td>surf</td>\n",
       "      <td>0</td>\n",
       "      <td>NaT</td>\n",
       "    </tr>\n",
       "    <tr>\n",
       "      <th>4</th>\n",
       "      <td>1004</td>\n",
       "      <td>Leonila</td>\n",
       "      <td>Thompson</td>\n",
       "      <td>40</td>\n",
       "      <td>2</td>\n",
       "      <td>Seattle-Tacoma-Bellevue, WA MSA</td>\n",
       "      <td>2018-05-23</td>\n",
       "      <td>surf</td>\n",
       "      <td>0</td>\n",
       "      <td>NaT</td>\n",
       "    </tr>\n",
       "    <tr>\n",
       "      <th>...</th>\n",
       "      <td>...</td>\n",
       "      <td>...</td>\n",
       "      <td>...</td>\n",
       "      <td>...</td>\n",
       "      <td>...</td>\n",
       "      <td>...</td>\n",
       "      <td>...</td>\n",
       "      <td>...</td>\n",
       "      <td>...</td>\n",
       "      <td>...</td>\n",
       "    </tr>\n",
       "    <tr>\n",
       "      <th>495</th>\n",
       "      <td>1495</td>\n",
       "      <td>Fidel</td>\n",
       "      <td>Sharpe</td>\n",
       "      <td>67</td>\n",
       "      <td>4</td>\n",
       "      <td>New York-Newark-Jersey City, NY-NJ-PA MSA</td>\n",
       "      <td>2018-09-04</td>\n",
       "      <td>surf</td>\n",
       "      <td>0</td>\n",
       "      <td>NaT</td>\n",
       "    </tr>\n",
       "    <tr>\n",
       "      <th>496</th>\n",
       "      <td>1496</td>\n",
       "      <td>Ariel</td>\n",
       "      <td>Shepherd</td>\n",
       "      <td>49</td>\n",
       "      <td>2</td>\n",
       "      <td>New Orleans-Metairie, LA MSA</td>\n",
       "      <td>2018-02-20</td>\n",
       "      <td>surf</td>\n",
       "      <td>0</td>\n",
       "      <td>NaT</td>\n",
       "    </tr>\n",
       "    <tr>\n",
       "      <th>497</th>\n",
       "      <td>1497</td>\n",
       "      <td>Donte</td>\n",
       "      <td>Barrera</td>\n",
       "      <td>49</td>\n",
       "      <td>2</td>\n",
       "      <td>Los Angeles-Long Beach-Anaheim, CA MSA</td>\n",
       "      <td>2018-12-10</td>\n",
       "      <td>ultimate</td>\n",
       "      <td>1</td>\n",
       "      <td>NaT</td>\n",
       "    </tr>\n",
       "    <tr>\n",
       "      <th>498</th>\n",
       "      <td>1498</td>\n",
       "      <td>Scot</td>\n",
       "      <td>Williamson</td>\n",
       "      <td>51</td>\n",
       "      <td>3</td>\n",
       "      <td>New York-Newark-Jersey City, NY-NJ-PA MSA</td>\n",
       "      <td>2018-02-04</td>\n",
       "      <td>surf</td>\n",
       "      <td>0</td>\n",
       "      <td>NaT</td>\n",
       "    </tr>\n",
       "    <tr>\n",
       "      <th>499</th>\n",
       "      <td>1499</td>\n",
       "      <td>Shena</td>\n",
       "      <td>Dickson</td>\n",
       "      <td>37</td>\n",
       "      <td>1</td>\n",
       "      <td>Orlando-Kissimmee-Sanford, FL MSA</td>\n",
       "      <td>2018-05-06</td>\n",
       "      <td>surf</td>\n",
       "      <td>0</td>\n",
       "      <td>NaT</td>\n",
       "    </tr>\n",
       "  </tbody>\n",
       "</table>\n",
       "<p>500 rows × 10 columns</p>\n",
       "</div>"
      ],
      "text/plain": [
       "     user_id first_name   last_name  age  age_catg  \\\n",
       "0       1000   Anamaria       Bauer   45         2   \n",
       "1       1001     Mickey   Wilkerson   28         0   \n",
       "2       1002     Carlee     Hoffman   36         1   \n",
       "3       1003   Reynaldo     Jenkins   52         3   \n",
       "4       1004    Leonila    Thompson   40         2   \n",
       "..       ...        ...         ...  ...       ...   \n",
       "495     1495      Fidel      Sharpe   67         4   \n",
       "496     1496      Ariel    Shepherd   49         2   \n",
       "497     1497      Donte     Barrera   49         2   \n",
       "498     1498       Scot  Williamson   51         3   \n",
       "499     1499      Shena     Dickson   37         1   \n",
       "\n",
       "                                          city   reg_date      plan  plan_id  \\\n",
       "0        Atlanta-Sandy Springs-Roswell, GA MSA 2018-12-24  ultimate        1   \n",
       "1              Seattle-Tacoma-Bellevue, WA MSA 2018-08-13      surf        0   \n",
       "2         Las Vegas-Henderson-Paradise, NV MSA 2018-10-21      surf        0   \n",
       "3                                Tulsa, OK MSA 2018-01-28      surf        0   \n",
       "4              Seattle-Tacoma-Bellevue, WA MSA 2018-05-23      surf        0   \n",
       "..                                         ...        ...       ...      ...   \n",
       "495  New York-Newark-Jersey City, NY-NJ-PA MSA 2018-09-04      surf        0   \n",
       "496               New Orleans-Metairie, LA MSA 2018-02-20      surf        0   \n",
       "497     Los Angeles-Long Beach-Anaheim, CA MSA 2018-12-10  ultimate        1   \n",
       "498  New York-Newark-Jersey City, NY-NJ-PA MSA 2018-02-04      surf        0   \n",
       "499          Orlando-Kissimmee-Sanford, FL MSA 2018-05-06      surf        0   \n",
       "\n",
       "    churn_date  \n",
       "0          NaT  \n",
       "1          NaT  \n",
       "2          NaT  \n",
       "3          NaT  \n",
       "4          NaT  \n",
       "..         ...  \n",
       "495        NaT  \n",
       "496        NaT  \n",
       "497        NaT  \n",
       "498        NaT  \n",
       "499        NaT  \n",
       "\n",
       "[500 rows x 10 columns]"
      ]
     },
     "execution_count": 16,
     "metadata": {},
     "output_type": "execute_result"
    }
   ],
   "source": [
    "# Ahora vamos a crear la columna de plan_id\n",
    "plan_id = (users.replace({ \n",
    "           'surf': 0,\n",
    "           'ultimate': 1\n",
    "          })['plan'])      # Si bien vamos a agregar algo, la funcion replace me sirve para este caso\n",
    "\n",
    "users.insert(loc = 8,\n",
    "            column = 'plan_id',\n",
    "            value = plan_id)\n",
    "users"
   ]
  },
  {
   "cell_type": "markdown",
   "metadata": {},
   "source": [
    "## <a id='toc3_3_'></a>[Llamadas](#toc0_)"
   ]
  },
  {
   "cell_type": "code",
   "execution_count": 17,
   "metadata": {},
   "outputs": [
    {
     "name": "stdout",
     "output_type": "stream",
     "text": [
      "<class 'pandas.core.frame.DataFrame'>\n",
      "RangeIndex: 137735 entries, 0 to 137734\n",
      "Data columns (total 4 columns):\n",
      " #   Column     Non-Null Count   Dtype  \n",
      "---  ------     --------------   -----  \n",
      " 0   id         137735 non-null  object \n",
      " 1   user_id    137735 non-null  int64  \n",
      " 2   call_date  137735 non-null  object \n",
      " 3   duration   137735 non-null  float64\n",
      "dtypes: float64(1), int64(1), object(2)\n",
      "memory usage: 4.2+ MB\n"
     ]
    },
    {
     "data": {
      "text/html": [
       "<div>\n",
       "<style scoped>\n",
       "    .dataframe tbody tr th:only-of-type {\n",
       "        vertical-align: middle;\n",
       "    }\n",
       "\n",
       "    .dataframe tbody tr th {\n",
       "        vertical-align: top;\n",
       "    }\n",
       "\n",
       "    .dataframe thead th {\n",
       "        text-align: right;\n",
       "    }\n",
       "</style>\n",
       "<table border=\"1\" class=\"dataframe\">\n",
       "  <thead>\n",
       "    <tr style=\"text-align: right;\">\n",
       "      <th></th>\n",
       "      <th>id</th>\n",
       "      <th>user_id</th>\n",
       "      <th>call_date</th>\n",
       "      <th>duration</th>\n",
       "    </tr>\n",
       "  </thead>\n",
       "  <tbody>\n",
       "    <tr>\n",
       "      <th>0</th>\n",
       "      <td>1000_93</td>\n",
       "      <td>1000</td>\n",
       "      <td>2018-12-27</td>\n",
       "      <td>8.52</td>\n",
       "    </tr>\n",
       "    <tr>\n",
       "      <th>1</th>\n",
       "      <td>1000_145</td>\n",
       "      <td>1000</td>\n",
       "      <td>2018-12-27</td>\n",
       "      <td>13.66</td>\n",
       "    </tr>\n",
       "    <tr>\n",
       "      <th>2</th>\n",
       "      <td>1000_247</td>\n",
       "      <td>1000</td>\n",
       "      <td>2018-12-27</td>\n",
       "      <td>14.48</td>\n",
       "    </tr>\n",
       "    <tr>\n",
       "      <th>3</th>\n",
       "      <td>1000_309</td>\n",
       "      <td>1000</td>\n",
       "      <td>2018-12-28</td>\n",
       "      <td>5.76</td>\n",
       "    </tr>\n",
       "    <tr>\n",
       "      <th>4</th>\n",
       "      <td>1000_380</td>\n",
       "      <td>1000</td>\n",
       "      <td>2018-12-30</td>\n",
       "      <td>4.22</td>\n",
       "    </tr>\n",
       "    <tr>\n",
       "      <th>5</th>\n",
       "      <td>1000_388</td>\n",
       "      <td>1000</td>\n",
       "      <td>2018-12-31</td>\n",
       "      <td>2.20</td>\n",
       "    </tr>\n",
       "    <tr>\n",
       "      <th>6</th>\n",
       "      <td>1000_510</td>\n",
       "      <td>1000</td>\n",
       "      <td>2018-12-27</td>\n",
       "      <td>5.75</td>\n",
       "    </tr>\n",
       "    <tr>\n",
       "      <th>7</th>\n",
       "      <td>1000_521</td>\n",
       "      <td>1000</td>\n",
       "      <td>2018-12-28</td>\n",
       "      <td>14.18</td>\n",
       "    </tr>\n",
       "    <tr>\n",
       "      <th>8</th>\n",
       "      <td>1000_530</td>\n",
       "      <td>1000</td>\n",
       "      <td>2018-12-28</td>\n",
       "      <td>5.77</td>\n",
       "    </tr>\n",
       "    <tr>\n",
       "      <th>9</th>\n",
       "      <td>1000_544</td>\n",
       "      <td>1000</td>\n",
       "      <td>2018-12-26</td>\n",
       "      <td>4.40</td>\n",
       "    </tr>\n",
       "  </tbody>\n",
       "</table>\n",
       "</div>"
      ],
      "text/plain": [
       "         id  user_id   call_date  duration\n",
       "0   1000_93     1000  2018-12-27      8.52\n",
       "1  1000_145     1000  2018-12-27     13.66\n",
       "2  1000_247     1000  2018-12-27     14.48\n",
       "3  1000_309     1000  2018-12-28      5.76\n",
       "4  1000_380     1000  2018-12-30      4.22\n",
       "5  1000_388     1000  2018-12-31      2.20\n",
       "6  1000_510     1000  2018-12-27      5.75\n",
       "7  1000_521     1000  2018-12-28     14.18\n",
       "8  1000_530     1000  2018-12-28      5.77\n",
       "9  1000_544     1000  2018-12-26      4.40"
      ]
     },
     "execution_count": 17,
     "metadata": {},
     "output_type": "execute_result"
    }
   ],
   "source": [
    "calls.info()\n",
    "calls.head(10)"
   ]
  },
  {
   "cell_type": "code",
   "execution_count": 4,
   "metadata": {},
   "outputs": [
    {
     "data": {
      "text/plain": [
       "pandas.core.frame.DataFrame"
      ]
     },
     "execution_count": 4,
     "metadata": {},
     "output_type": "execute_result"
    }
   ],
   "source": [
    "type(calls)"
   ]
  },
  {
   "cell_type": "markdown",
   "metadata": {},
   "source": [
    "**La tabla calls (datos sobre las llamadas):**\n",
    "\n",
    "- id — identificador único de la llamada\n",
    "- user_id — el identificador del usuario que realiza la llamada\n",
    "- call_date — fecha de la llamada\n",
    "- duration — duración de la llamada (en minutos)"
   ]
  },
  {
   "cell_type": "markdown",
   "metadata": {},
   "source": [
    "De lo que podemos ver notamos primero que la columna `call_date` no tiene un formato apropiado y a primera vista parece que la columna `id` ya incluye al `user_id`. Para nuestra suerte no vemos valores nulos y tendriamos que verificar por duplicados. "
   ]
  },
  {
   "cell_type": "markdown",
   "metadata": {},
   "source": [
    "### <a id='toc3_3_1_'></a>[Corregir datos](#toc0_)"
   ]
  },
  {
   "cell_type": "markdown",
   "metadata": {},
   "source": [
    "Ahora vamos a observar los datos y ver si tenemos algo que corregir."
   ]
  },
  {
   "cell_type": "code",
   "execution_count": 18,
   "metadata": {},
   "outputs": [
    {
     "data": {
      "text/plain": [
       "0"
      ]
     },
     "execution_count": 18,
     "metadata": {},
     "output_type": "execute_result"
    }
   ],
   "source": [
    "# Antes que nada verifiquemos que no haya duplicados\n",
    "calls.duplicated().sum()"
   ]
  },
  {
   "cell_type": "code",
   "execution_count": 19,
   "metadata": {},
   "outputs": [],
   "source": [
    "# Sin duplicados de por medio vamos a proceder a cambiar el tipo de datos en `call_date`\n",
    "calls['call_date'] = pd.to_datetime(calls['call_date'], format='%Y-%m-%d')"
   ]
  },
  {
   "cell_type": "code",
   "execution_count": 20,
   "metadata": {
    "scrolled": true
   },
   "outputs": [
    {
     "data": {
      "text/plain": [
       "id                   object\n",
       "user_id               int64\n",
       "call_date    datetime64[ns]\n",
       "duration            float64\n",
       "dtype: object"
      ]
     },
     "execution_count": 20,
     "metadata": {},
     "output_type": "execute_result"
    }
   ],
   "source": [
    "# Verificamos\n",
    "calls.dtypes"
   ]
  },
  {
   "cell_type": "markdown",
   "metadata": {},
   "source": [
    "Ahora vamos a verificar si efectivamente en la columna `id` siempre se presenta el `caller_id` antes del _"
   ]
  },
  {
   "cell_type": "code",
   "execution_count": 21,
   "metadata": {},
   "outputs": [
    {
     "data": {
      "text/html": [
       "<div>\n",
       "<style scoped>\n",
       "    .dataframe tbody tr th:only-of-type {\n",
       "        vertical-align: middle;\n",
       "    }\n",
       "\n",
       "    .dataframe tbody tr th {\n",
       "        vertical-align: top;\n",
       "    }\n",
       "\n",
       "    .dataframe thead th {\n",
       "        text-align: right;\n",
       "    }\n",
       "</style>\n",
       "<table border=\"1\" class=\"dataframe\">\n",
       "  <thead>\n",
       "    <tr style=\"text-align: right;\">\n",
       "      <th></th>\n",
       "      <th>id</th>\n",
       "      <th>user_id</th>\n",
       "      <th>call_date</th>\n",
       "      <th>duration</th>\n",
       "    </tr>\n",
       "  </thead>\n",
       "  <tbody>\n",
       "    <tr>\n",
       "      <th>0</th>\n",
       "      <td>1000_93</td>\n",
       "      <td>1000</td>\n",
       "      <td>2018-12-27</td>\n",
       "      <td>8.52</td>\n",
       "    </tr>\n",
       "    <tr>\n",
       "      <th>1</th>\n",
       "      <td>1000_145</td>\n",
       "      <td>1000</td>\n",
       "      <td>2018-12-27</td>\n",
       "      <td>13.66</td>\n",
       "    </tr>\n",
       "    <tr>\n",
       "      <th>2</th>\n",
       "      <td>1000_247</td>\n",
       "      <td>1000</td>\n",
       "      <td>2018-12-27</td>\n",
       "      <td>14.48</td>\n",
       "    </tr>\n",
       "    <tr>\n",
       "      <th>3</th>\n",
       "      <td>1000_309</td>\n",
       "      <td>1000</td>\n",
       "      <td>2018-12-28</td>\n",
       "      <td>5.76</td>\n",
       "    </tr>\n",
       "    <tr>\n",
       "      <th>4</th>\n",
       "      <td>1000_380</td>\n",
       "      <td>1000</td>\n",
       "      <td>2018-12-30</td>\n",
       "      <td>4.22</td>\n",
       "    </tr>\n",
       "    <tr>\n",
       "      <th>...</th>\n",
       "      <td>...</td>\n",
       "      <td>...</td>\n",
       "      <td>...</td>\n",
       "      <td>...</td>\n",
       "    </tr>\n",
       "    <tr>\n",
       "      <th>137730</th>\n",
       "      <td>1499_199</td>\n",
       "      <td>1499</td>\n",
       "      <td>2018-11-21</td>\n",
       "      <td>8.72</td>\n",
       "    </tr>\n",
       "    <tr>\n",
       "      <th>137731</th>\n",
       "      <td>1499_200</td>\n",
       "      <td>1499</td>\n",
       "      <td>2018-10-20</td>\n",
       "      <td>10.89</td>\n",
       "    </tr>\n",
       "    <tr>\n",
       "      <th>137732</th>\n",
       "      <td>1499_201</td>\n",
       "      <td>1499</td>\n",
       "      <td>2018-09-21</td>\n",
       "      <td>8.12</td>\n",
       "    </tr>\n",
       "    <tr>\n",
       "      <th>137733</th>\n",
       "      <td>1499_202</td>\n",
       "      <td>1499</td>\n",
       "      <td>2018-10-10</td>\n",
       "      <td>0.37</td>\n",
       "    </tr>\n",
       "    <tr>\n",
       "      <th>137734</th>\n",
       "      <td>1499_203</td>\n",
       "      <td>1499</td>\n",
       "      <td>2018-12-29</td>\n",
       "      <td>13.86</td>\n",
       "    </tr>\n",
       "  </tbody>\n",
       "</table>\n",
       "<p>137735 rows × 4 columns</p>\n",
       "</div>"
      ],
      "text/plain": [
       "              id  user_id  call_date  duration\n",
       "0        1000_93     1000 2018-12-27      8.52\n",
       "1       1000_145     1000 2018-12-27     13.66\n",
       "2       1000_247     1000 2018-12-27     14.48\n",
       "3       1000_309     1000 2018-12-28      5.76\n",
       "4       1000_380     1000 2018-12-30      4.22\n",
       "...          ...      ...        ...       ...\n",
       "137730  1499_199     1499 2018-11-21      8.72\n",
       "137731  1499_200     1499 2018-10-20     10.89\n",
       "137732  1499_201     1499 2018-09-21      8.12\n",
       "137733  1499_202     1499 2018-10-10      0.37\n",
       "137734  1499_203     1499 2018-12-29     13.86\n",
       "\n",
       "[137735 rows x 4 columns]"
      ]
     },
     "execution_count": 21,
     "metadata": {},
     "output_type": "execute_result"
    }
   ],
   "source": [
    "# Ahora agrupemos por la columnas `user_id` y veamos si efectivamente se mantiene el patron\n",
    "calls.groupby('user_id',group_keys=True).apply(lambda x: x)"
   ]
  },
  {
   "cell_type": "code",
   "execution_count": 22,
   "metadata": {},
   "outputs": [
    {
     "data": {
      "text/html": [
       "<div>\n",
       "<style scoped>\n",
       "    .dataframe tbody tr th:only-of-type {\n",
       "        vertical-align: middle;\n",
       "    }\n",
       "\n",
       "    .dataframe tbody tr th {\n",
       "        vertical-align: top;\n",
       "    }\n",
       "\n",
       "    .dataframe thead th {\n",
       "        text-align: right;\n",
       "    }\n",
       "</style>\n",
       "<table border=\"1\" class=\"dataframe\">\n",
       "  <thead>\n",
       "    <tr style=\"text-align: right;\">\n",
       "      <th></th>\n",
       "      <th>id</th>\n",
       "      <th>user_id</th>\n",
       "      <th>call_date</th>\n",
       "      <th>duration</th>\n",
       "    </tr>\n",
       "  </thead>\n",
       "  <tbody>\n",
       "    <tr>\n",
       "      <th>1156</th>\n",
       "      <td>1007_177</td>\n",
       "      <td>1007</td>\n",
       "      <td>2018-12-15</td>\n",
       "      <td>6.27</td>\n",
       "    </tr>\n",
       "    <tr>\n",
       "      <th>1250</th>\n",
       "      <td>1007_271</td>\n",
       "      <td>1007</td>\n",
       "      <td>2018-12-16</td>\n",
       "      <td>2.51</td>\n",
       "    </tr>\n",
       "    <tr>\n",
       "      <th>1369</th>\n",
       "      <td>1008_10</td>\n",
       "      <td>1008</td>\n",
       "      <td>2018-10-20</td>\n",
       "      <td>10.43</td>\n",
       "    </tr>\n",
       "    <tr>\n",
       "      <th>1420</th>\n",
       "      <td>1008_61</td>\n",
       "      <td>1008</td>\n",
       "      <td>2018-10-05</td>\n",
       "      <td>4.13</td>\n",
       "    </tr>\n",
       "  </tbody>\n",
       "</table>\n",
       "</div>"
      ],
      "text/plain": [
       "            id  user_id  call_date  duration\n",
       "1156  1007_177     1007 2018-12-15      6.27\n",
       "1250  1007_271     1007 2018-12-16      2.51\n",
       "1369   1008_10     1008 2018-10-20     10.43\n",
       "1420   1008_61     1008 2018-10-05      4.13"
      ]
     },
     "execution_count": 22,
     "metadata": {},
     "output_type": "execute_result"
    }
   ],
   "source": [
    "# A primera vista parece que si, pero tomemos unas filas aleatorias para ver si se mantiene\n",
    "calls.groupby('user_id',group_keys=True).apply(lambda x: x).loc[[1156,1250,1369,1420],:]"
   ]
  },
  {
   "cell_type": "markdown",
   "metadata": {},
   "source": [
    "Como no me quiero quedar con una simple muestra aleatorizada incompleta vamos a hacer una funcion rapida que nos ayude a verificar con seguridad si esa relación se corresponde."
   ]
  },
  {
   "cell_type": "code",
   "execution_count": 23,
   "metadata": {},
   "outputs": [],
   "source": [
    "def user_id_in_id(row):\n",
    "    if str(row['user_id']) in row['id']: # Hacemos que nos devuelva un False para poder aplicar sum() despues\n",
    "        return False\n",
    "    else:\n",
    "        return True"
   ]
  },
  {
   "cell_type": "code",
   "execution_count": 24,
   "metadata": {},
   "outputs": [
    {
     "data": {
      "text/plain": [
       "0"
      ]
     },
     "execution_count": 24,
     "metadata": {},
     "output_type": "execute_result"
    }
   ],
   "source": [
    "calls.apply(user_id_in_id,axis=1).sum()"
   ]
  },
  {
   "cell_type": "code",
   "execution_count": 25,
   "metadata": {},
   "outputs": [],
   "source": [
    "# Con la seguridad de que el `user_id` se encuentra en `id` vamos a simplemente sacar esa informacion innecesaria\n",
    "# Para eso haremos otra funcion\n",
    "def remove_id(row):\n",
    "    clean_id = row['id'].replace(f'{row[\"user_id\"]}_','')\n",
    "    return clean_id"
   ]
  },
  {
   "cell_type": "code",
   "execution_count": 26,
   "metadata": {},
   "outputs": [
    {
     "data": {
      "text/plain": [
       "'93'"
      ]
     },
     "execution_count": 26,
     "metadata": {},
     "output_type": "execute_result"
    }
   ],
   "source": [
    "# Probamos la funcion\n",
    "remove_id(calls.loc[0,:])"
   ]
  },
  {
   "cell_type": "code",
   "execution_count": 27,
   "metadata": {},
   "outputs": [],
   "source": [
    "# Con la funcion funcional, vamos a hacer el cambio efectivo\n",
    "calls['id'] = calls.apply(remove_id,axis=1)"
   ]
  },
  {
   "cell_type": "code",
   "execution_count": 28,
   "metadata": {},
   "outputs": [
    {
     "data": {
      "text/html": [
       "<div>\n",
       "<style scoped>\n",
       "    .dataframe tbody tr th:only-of-type {\n",
       "        vertical-align: middle;\n",
       "    }\n",
       "\n",
       "    .dataframe tbody tr th {\n",
       "        vertical-align: top;\n",
       "    }\n",
       "\n",
       "    .dataframe thead th {\n",
       "        text-align: right;\n",
       "    }\n",
       "</style>\n",
       "<table border=\"1\" class=\"dataframe\">\n",
       "  <thead>\n",
       "    <tr style=\"text-align: right;\">\n",
       "      <th></th>\n",
       "      <th>id</th>\n",
       "      <th>user_id</th>\n",
       "      <th>call_date</th>\n",
       "      <th>duration</th>\n",
       "    </tr>\n",
       "  </thead>\n",
       "  <tbody>\n",
       "    <tr>\n",
       "      <th>0</th>\n",
       "      <td>93</td>\n",
       "      <td>1000</td>\n",
       "      <td>2018-12-27</td>\n",
       "      <td>8.52</td>\n",
       "    </tr>\n",
       "    <tr>\n",
       "      <th>1</th>\n",
       "      <td>145</td>\n",
       "      <td>1000</td>\n",
       "      <td>2018-12-27</td>\n",
       "      <td>13.66</td>\n",
       "    </tr>\n",
       "    <tr>\n",
       "      <th>2</th>\n",
       "      <td>247</td>\n",
       "      <td>1000</td>\n",
       "      <td>2018-12-27</td>\n",
       "      <td>14.48</td>\n",
       "    </tr>\n",
       "    <tr>\n",
       "      <th>3</th>\n",
       "      <td>309</td>\n",
       "      <td>1000</td>\n",
       "      <td>2018-12-28</td>\n",
       "      <td>5.76</td>\n",
       "    </tr>\n",
       "    <tr>\n",
       "      <th>4</th>\n",
       "      <td>380</td>\n",
       "      <td>1000</td>\n",
       "      <td>2018-12-30</td>\n",
       "      <td>4.22</td>\n",
       "    </tr>\n",
       "    <tr>\n",
       "      <th>...</th>\n",
       "      <td>...</td>\n",
       "      <td>...</td>\n",
       "      <td>...</td>\n",
       "      <td>...</td>\n",
       "    </tr>\n",
       "    <tr>\n",
       "      <th>137730</th>\n",
       "      <td>199</td>\n",
       "      <td>1499</td>\n",
       "      <td>2018-11-21</td>\n",
       "      <td>8.72</td>\n",
       "    </tr>\n",
       "    <tr>\n",
       "      <th>137731</th>\n",
       "      <td>200</td>\n",
       "      <td>1499</td>\n",
       "      <td>2018-10-20</td>\n",
       "      <td>10.89</td>\n",
       "    </tr>\n",
       "    <tr>\n",
       "      <th>137732</th>\n",
       "      <td>201</td>\n",
       "      <td>1499</td>\n",
       "      <td>2018-09-21</td>\n",
       "      <td>8.12</td>\n",
       "    </tr>\n",
       "    <tr>\n",
       "      <th>137733</th>\n",
       "      <td>202</td>\n",
       "      <td>1499</td>\n",
       "      <td>2018-10-10</td>\n",
       "      <td>0.37</td>\n",
       "    </tr>\n",
       "    <tr>\n",
       "      <th>137734</th>\n",
       "      <td>203</td>\n",
       "      <td>1499</td>\n",
       "      <td>2018-12-29</td>\n",
       "      <td>13.86</td>\n",
       "    </tr>\n",
       "  </tbody>\n",
       "</table>\n",
       "<p>137735 rows × 4 columns</p>\n",
       "</div>"
      ],
      "text/plain": [
       "         id  user_id  call_date  duration\n",
       "0        93     1000 2018-12-27      8.52\n",
       "1       145     1000 2018-12-27     13.66\n",
       "2       247     1000 2018-12-27     14.48\n",
       "3       309     1000 2018-12-28      5.76\n",
       "4       380     1000 2018-12-30      4.22\n",
       "...     ...      ...        ...       ...\n",
       "137730  199     1499 2018-11-21      8.72\n",
       "137731  200     1499 2018-10-20     10.89\n",
       "137732  201     1499 2018-09-21      8.12\n",
       "137733  202     1499 2018-10-10      0.37\n",
       "137734  203     1499 2018-12-29     13.86\n",
       "\n",
       "[137735 rows x 4 columns]"
      ]
     },
     "execution_count": 28,
     "metadata": {},
     "output_type": "execute_result"
    }
   ],
   "source": [
    "# Verificamos como nos quedó la tabla\n",
    "calls"
   ]
  },
  {
   "cell_type": "code",
   "execution_count": 29,
   "metadata": {},
   "outputs": [
    {
     "data": {
      "text/plain": [
       "26834"
      ]
     },
     "execution_count": 29,
     "metadata": {},
     "output_type": "execute_result"
    }
   ],
   "source": [
    "# Esa llamada con duración 0.37 me hizo pensar en si habrá llamadas con duración 0\n",
    "calls.loc[calls.duration == 0,:].shape[0]"
   ]
  },
  {
   "cell_type": "markdown",
   "metadata": {},
   "source": [
    "Efectivamente vemos que hay llamadas con tiempo 0 y al parecer no son pocas aunque tampoco demasiadas. Posiblemente surjan de una llamada perdida o una llamada que se canceló en el momento justo... aunque tiene más sentido que sean llamadas perdidas.\n",
    "  \n",
    "Ahora entra la duda: **¿Que hacemos con ellas?**\n",
    "  \n",
    "Despues de ponderar por un momento decidí en dejarlas e incluirlas en el trabajo ya que por una parte no van a influenciar a la cantidad de minutos  y por otra parte si representan la actividad de un cliente.\n",
    "  \n",
    "Por lo tanto solo tenemos que seguir sin más!"
   ]
  },
  {
   "cell_type": "code",
   "execution_count": 30,
   "metadata": {},
   "outputs": [],
   "source": [
    "# Por ultimo, vamos a modificar el nombre de la columna 'id' para que evitar posibles confusiones en el futuro\n",
    "calls.rename(columns={'id':'call_id'},inplace=True)"
   ]
  },
  {
   "cell_type": "code",
   "execution_count": 31,
   "metadata": {},
   "outputs": [
    {
     "data": {
      "text/html": [
       "<div>\n",
       "<style scoped>\n",
       "    .dataframe tbody tr th:only-of-type {\n",
       "        vertical-align: middle;\n",
       "    }\n",
       "\n",
       "    .dataframe tbody tr th {\n",
       "        vertical-align: top;\n",
       "    }\n",
       "\n",
       "    .dataframe thead th {\n",
       "        text-align: right;\n",
       "    }\n",
       "</style>\n",
       "<table border=\"1\" class=\"dataframe\">\n",
       "  <thead>\n",
       "    <tr style=\"text-align: right;\">\n",
       "      <th></th>\n",
       "      <th>call_id</th>\n",
       "      <th>user_id</th>\n",
       "      <th>call_date</th>\n",
       "      <th>duration</th>\n",
       "    </tr>\n",
       "  </thead>\n",
       "  <tbody>\n",
       "    <tr>\n",
       "      <th>0</th>\n",
       "      <td>93</td>\n",
       "      <td>1000</td>\n",
       "      <td>2018-12-27</td>\n",
       "      <td>8.52</td>\n",
       "    </tr>\n",
       "    <tr>\n",
       "      <th>1</th>\n",
       "      <td>145</td>\n",
       "      <td>1000</td>\n",
       "      <td>2018-12-27</td>\n",
       "      <td>13.66</td>\n",
       "    </tr>\n",
       "    <tr>\n",
       "      <th>2</th>\n",
       "      <td>247</td>\n",
       "      <td>1000</td>\n",
       "      <td>2018-12-27</td>\n",
       "      <td>14.48</td>\n",
       "    </tr>\n",
       "    <tr>\n",
       "      <th>3</th>\n",
       "      <td>309</td>\n",
       "      <td>1000</td>\n",
       "      <td>2018-12-28</td>\n",
       "      <td>5.76</td>\n",
       "    </tr>\n",
       "    <tr>\n",
       "      <th>4</th>\n",
       "      <td>380</td>\n",
       "      <td>1000</td>\n",
       "      <td>2018-12-30</td>\n",
       "      <td>4.22</td>\n",
       "    </tr>\n",
       "    <tr>\n",
       "      <th>...</th>\n",
       "      <td>...</td>\n",
       "      <td>...</td>\n",
       "      <td>...</td>\n",
       "      <td>...</td>\n",
       "    </tr>\n",
       "    <tr>\n",
       "      <th>137730</th>\n",
       "      <td>199</td>\n",
       "      <td>1499</td>\n",
       "      <td>2018-11-21</td>\n",
       "      <td>8.72</td>\n",
       "    </tr>\n",
       "    <tr>\n",
       "      <th>137731</th>\n",
       "      <td>200</td>\n",
       "      <td>1499</td>\n",
       "      <td>2018-10-20</td>\n",
       "      <td>10.89</td>\n",
       "    </tr>\n",
       "    <tr>\n",
       "      <th>137732</th>\n",
       "      <td>201</td>\n",
       "      <td>1499</td>\n",
       "      <td>2018-09-21</td>\n",
       "      <td>8.12</td>\n",
       "    </tr>\n",
       "    <tr>\n",
       "      <th>137733</th>\n",
       "      <td>202</td>\n",
       "      <td>1499</td>\n",
       "      <td>2018-10-10</td>\n",
       "      <td>0.37</td>\n",
       "    </tr>\n",
       "    <tr>\n",
       "      <th>137734</th>\n",
       "      <td>203</td>\n",
       "      <td>1499</td>\n",
       "      <td>2018-12-29</td>\n",
       "      <td>13.86</td>\n",
       "    </tr>\n",
       "  </tbody>\n",
       "</table>\n",
       "<p>137735 rows × 4 columns</p>\n",
       "</div>"
      ],
      "text/plain": [
       "       call_id  user_id  call_date  duration\n",
       "0           93     1000 2018-12-27      8.52\n",
       "1          145     1000 2018-12-27     13.66\n",
       "2          247     1000 2018-12-27     14.48\n",
       "3          309     1000 2018-12-28      5.76\n",
       "4          380     1000 2018-12-30      4.22\n",
       "...        ...      ...        ...       ...\n",
       "137730     199     1499 2018-11-21      8.72\n",
       "137731     200     1499 2018-10-20     10.89\n",
       "137732     201     1499 2018-09-21      8.12\n",
       "137733     202     1499 2018-10-10      0.37\n",
       "137734     203     1499 2018-12-29     13.86\n",
       "\n",
       "[137735 rows x 4 columns]"
      ]
     },
     "execution_count": 31,
     "metadata": {},
     "output_type": "execute_result"
    }
   ],
   "source": [
    "# Verificamos una vez mas\n",
    "calls"
   ]
  },
  {
   "cell_type": "markdown",
   "metadata": {},
   "source": [
    "Nuestro trabajo acá ya está terminado, podriamos pensar en que nos convendría cambiar el *dtype* de `id` a `int`, pero como no planeamos realizar operaciones algebraicas sobre ellos es indiferente ese cambio.\n",
    "  \n",
    "Honestamente, no se me ocurren formas de agregar columnas que aporten algo significativo a el dataset por lo que vamos a seguir al siguiente dataset directamente!"
   ]
  },
  {
   "cell_type": "markdown",
   "metadata": {},
   "source": [
    "## <a id='toc3_4_'></a>[Mensajes](#toc0_)"
   ]
  },
  {
   "cell_type": "code",
   "execution_count": 32,
   "metadata": {},
   "outputs": [
    {
     "name": "stdout",
     "output_type": "stream",
     "text": [
      "<class 'pandas.core.frame.DataFrame'>\n",
      "RangeIndex: 76051 entries, 0 to 76050\n",
      "Data columns (total 3 columns):\n",
      " #   Column        Non-Null Count  Dtype \n",
      "---  ------        --------------  ----- \n",
      " 0   id            76051 non-null  object\n",
      " 1   user_id       76051 non-null  int64 \n",
      " 2   message_date  76051 non-null  object\n",
      "dtypes: int64(1), object(2)\n",
      "memory usage: 1.7+ MB\n"
     ]
    },
    {
     "data": {
      "text/html": [
       "<div>\n",
       "<style scoped>\n",
       "    .dataframe tbody tr th:only-of-type {\n",
       "        vertical-align: middle;\n",
       "    }\n",
       "\n",
       "    .dataframe tbody tr th {\n",
       "        vertical-align: top;\n",
       "    }\n",
       "\n",
       "    .dataframe thead th {\n",
       "        text-align: right;\n",
       "    }\n",
       "</style>\n",
       "<table border=\"1\" class=\"dataframe\">\n",
       "  <thead>\n",
       "    <tr style=\"text-align: right;\">\n",
       "      <th></th>\n",
       "      <th>id</th>\n",
       "      <th>user_id</th>\n",
       "      <th>message_date</th>\n",
       "    </tr>\n",
       "  </thead>\n",
       "  <tbody>\n",
       "    <tr>\n",
       "      <th>0</th>\n",
       "      <td>1000_125</td>\n",
       "      <td>1000</td>\n",
       "      <td>2018-12-27</td>\n",
       "    </tr>\n",
       "    <tr>\n",
       "      <th>1</th>\n",
       "      <td>1000_160</td>\n",
       "      <td>1000</td>\n",
       "      <td>2018-12-31</td>\n",
       "    </tr>\n",
       "    <tr>\n",
       "      <th>2</th>\n",
       "      <td>1000_223</td>\n",
       "      <td>1000</td>\n",
       "      <td>2018-12-31</td>\n",
       "    </tr>\n",
       "    <tr>\n",
       "      <th>3</th>\n",
       "      <td>1000_251</td>\n",
       "      <td>1000</td>\n",
       "      <td>2018-12-27</td>\n",
       "    </tr>\n",
       "    <tr>\n",
       "      <th>4</th>\n",
       "      <td>1000_255</td>\n",
       "      <td>1000</td>\n",
       "      <td>2018-12-26</td>\n",
       "    </tr>\n",
       "    <tr>\n",
       "      <th>5</th>\n",
       "      <td>1000_346</td>\n",
       "      <td>1000</td>\n",
       "      <td>2018-12-29</td>\n",
       "    </tr>\n",
       "    <tr>\n",
       "      <th>6</th>\n",
       "      <td>1000_386</td>\n",
       "      <td>1000</td>\n",
       "      <td>2018-12-30</td>\n",
       "    </tr>\n",
       "    <tr>\n",
       "      <th>7</th>\n",
       "      <td>1000_413</td>\n",
       "      <td>1000</td>\n",
       "      <td>2018-12-31</td>\n",
       "    </tr>\n",
       "    <tr>\n",
       "      <th>8</th>\n",
       "      <td>1000_502</td>\n",
       "      <td>1000</td>\n",
       "      <td>2018-12-27</td>\n",
       "    </tr>\n",
       "    <tr>\n",
       "      <th>9</th>\n",
       "      <td>1000_525</td>\n",
       "      <td>1000</td>\n",
       "      <td>2018-12-28</td>\n",
       "    </tr>\n",
       "  </tbody>\n",
       "</table>\n",
       "</div>"
      ],
      "text/plain": [
       "         id  user_id message_date\n",
       "0  1000_125     1000   2018-12-27\n",
       "1  1000_160     1000   2018-12-31\n",
       "2  1000_223     1000   2018-12-31\n",
       "3  1000_251     1000   2018-12-27\n",
       "4  1000_255     1000   2018-12-26\n",
       "5  1000_346     1000   2018-12-29\n",
       "6  1000_386     1000   2018-12-30\n",
       "7  1000_413     1000   2018-12-31\n",
       "8  1000_502     1000   2018-12-27\n",
       "9  1000_525     1000   2018-12-28"
      ]
     },
     "execution_count": 32,
     "metadata": {},
     "output_type": "execute_result"
    }
   ],
   "source": [
    "messages.info()\n",
    "messages.head(10)"
   ]
  },
  {
   "cell_type": "markdown",
   "metadata": {},
   "source": [
    "**La tabla messages (datos sobre los SMS):**\n",
    "- id — identificador único del SMS\n",
    "- user_id — el identificador del usuario que manda el SMS\n",
    "- message_date — fecha del SMS"
   ]
  },
  {
   "cell_type": "markdown",
   "metadata": {},
   "source": [
    "Vemos los mismos problemas que tenia `users` por lo que es cuestion de solucionarlos y seguir."
   ]
  },
  {
   "cell_type": "markdown",
   "metadata": {},
   "source": [
    "### <a id='toc3_4_1_'></a>[Corregir datos](#toc0_)"
   ]
  },
  {
   "cell_type": "code",
   "execution_count": 33,
   "metadata": {},
   "outputs": [],
   "source": [
    "# Primero corregimos el dtype de la columna `message_date`\n",
    "messages['message_date'] = pd.to_datetime(messages['message_date'], format='%Y-%m-%d')"
   ]
  },
  {
   "cell_type": "code",
   "execution_count": 34,
   "metadata": {},
   "outputs": [
    {
     "data": {
      "text/plain": [
       "id                      object\n",
       "user_id                  int64\n",
       "message_date    datetime64[ns]\n",
       "dtype: object"
      ]
     },
     "execution_count": 34,
     "metadata": {},
     "output_type": "execute_result"
    }
   ],
   "source": [
    "# Verificamos\n",
    "messages.dtypes"
   ]
  },
  {
   "cell_type": "code",
   "execution_count": 35,
   "metadata": {},
   "outputs": [
    {
     "data": {
      "text/plain": [
       "0"
      ]
     },
     "execution_count": 35,
     "metadata": {},
     "output_type": "execute_result"
    }
   ],
   "source": [
    "# Controlamos que no haya `id` que no correspondan a `user_id`\n",
    "messages.apply(user_id_in_id,axis=1).sum()"
   ]
  },
  {
   "cell_type": "code",
   "execution_count": 36,
   "metadata": {},
   "outputs": [],
   "source": [
    "# Y ahora es cuestion de simplemente limpiar esos valores\n",
    "messages['id'] = messages.apply(remove_id,axis=1)"
   ]
  },
  {
   "cell_type": "code",
   "execution_count": 37,
   "metadata": {},
   "outputs": [],
   "source": [
    "messages.rename(columns={'id':'message_id'},inplace=True)"
   ]
  },
  {
   "cell_type": "code",
   "execution_count": 38,
   "metadata": {},
   "outputs": [
    {
     "data": {
      "text/html": [
       "<div>\n",
       "<style scoped>\n",
       "    .dataframe tbody tr th:only-of-type {\n",
       "        vertical-align: middle;\n",
       "    }\n",
       "\n",
       "    .dataframe tbody tr th {\n",
       "        vertical-align: top;\n",
       "    }\n",
       "\n",
       "    .dataframe thead th {\n",
       "        text-align: right;\n",
       "    }\n",
       "</style>\n",
       "<table border=\"1\" class=\"dataframe\">\n",
       "  <thead>\n",
       "    <tr style=\"text-align: right;\">\n",
       "      <th></th>\n",
       "      <th>message_id</th>\n",
       "      <th>user_id</th>\n",
       "      <th>message_date</th>\n",
       "    </tr>\n",
       "  </thead>\n",
       "  <tbody>\n",
       "    <tr>\n",
       "      <th>0</th>\n",
       "      <td>125</td>\n",
       "      <td>1000</td>\n",
       "      <td>2018-12-27</td>\n",
       "    </tr>\n",
       "    <tr>\n",
       "      <th>1</th>\n",
       "      <td>160</td>\n",
       "      <td>1000</td>\n",
       "      <td>2018-12-31</td>\n",
       "    </tr>\n",
       "    <tr>\n",
       "      <th>2</th>\n",
       "      <td>223</td>\n",
       "      <td>1000</td>\n",
       "      <td>2018-12-31</td>\n",
       "    </tr>\n",
       "    <tr>\n",
       "      <th>3</th>\n",
       "      <td>251</td>\n",
       "      <td>1000</td>\n",
       "      <td>2018-12-27</td>\n",
       "    </tr>\n",
       "    <tr>\n",
       "      <th>4</th>\n",
       "      <td>255</td>\n",
       "      <td>1000</td>\n",
       "      <td>2018-12-26</td>\n",
       "    </tr>\n",
       "    <tr>\n",
       "      <th>...</th>\n",
       "      <td>...</td>\n",
       "      <td>...</td>\n",
       "      <td>...</td>\n",
       "    </tr>\n",
       "    <tr>\n",
       "      <th>76046</th>\n",
       "      <td>526</td>\n",
       "      <td>1497</td>\n",
       "      <td>2018-12-24</td>\n",
       "    </tr>\n",
       "    <tr>\n",
       "      <th>76047</th>\n",
       "      <td>536</td>\n",
       "      <td>1497</td>\n",
       "      <td>2018-12-24</td>\n",
       "    </tr>\n",
       "    <tr>\n",
       "      <th>76048</th>\n",
       "      <td>547</td>\n",
       "      <td>1497</td>\n",
       "      <td>2018-12-31</td>\n",
       "    </tr>\n",
       "    <tr>\n",
       "      <th>76049</th>\n",
       "      <td>558</td>\n",
       "      <td>1497</td>\n",
       "      <td>2018-12-24</td>\n",
       "    </tr>\n",
       "    <tr>\n",
       "      <th>76050</th>\n",
       "      <td>613</td>\n",
       "      <td>1497</td>\n",
       "      <td>2018-12-23</td>\n",
       "    </tr>\n",
       "  </tbody>\n",
       "</table>\n",
       "<p>76051 rows × 3 columns</p>\n",
       "</div>"
      ],
      "text/plain": [
       "      message_id  user_id message_date\n",
       "0            125     1000   2018-12-27\n",
       "1            160     1000   2018-12-31\n",
       "2            223     1000   2018-12-31\n",
       "3            251     1000   2018-12-27\n",
       "4            255     1000   2018-12-26\n",
       "...          ...      ...          ...\n",
       "76046        526     1497   2018-12-24\n",
       "76047        536     1497   2018-12-24\n",
       "76048        547     1497   2018-12-31\n",
       "76049        558     1497   2018-12-24\n",
       "76050        613     1497   2018-12-23\n",
       "\n",
       "[76051 rows x 3 columns]"
      ]
     },
     "execution_count": 38,
     "metadata": {},
     "output_type": "execute_result"
    }
   ],
   "source": [
    "# Verificamos\n",
    "messages"
   ]
  },
  {
   "cell_type": "markdown",
   "metadata": {},
   "source": [
    "Al igual que `calls`, no podemos aportar ninguna columna muy significativa a la tabla `messages` por lo que solo nos queda seguir."
   ]
  },
  {
   "cell_type": "markdown",
   "metadata": {},
   "source": [
    "## <a id='toc3_5_'></a>[Internet](#toc0_)"
   ]
  },
  {
   "cell_type": "code",
   "execution_count": 39,
   "metadata": {
    "scrolled": false
   },
   "outputs": [
    {
     "name": "stdout",
     "output_type": "stream",
     "text": [
      "<class 'pandas.core.frame.DataFrame'>\n",
      "RangeIndex: 104825 entries, 0 to 104824\n",
      "Data columns (total 4 columns):\n",
      " #   Column        Non-Null Count   Dtype  \n",
      "---  ------        --------------   -----  \n",
      " 0   id            104825 non-null  object \n",
      " 1   user_id       104825 non-null  int64  \n",
      " 2   session_date  104825 non-null  object \n",
      " 3   mb_used       104825 non-null  float64\n",
      "dtypes: float64(1), int64(1), object(2)\n",
      "memory usage: 3.2+ MB\n"
     ]
    },
    {
     "data": {
      "text/html": [
       "<div>\n",
       "<style scoped>\n",
       "    .dataframe tbody tr th:only-of-type {\n",
       "        vertical-align: middle;\n",
       "    }\n",
       "\n",
       "    .dataframe tbody tr th {\n",
       "        vertical-align: top;\n",
       "    }\n",
       "\n",
       "    .dataframe thead th {\n",
       "        text-align: right;\n",
       "    }\n",
       "</style>\n",
       "<table border=\"1\" class=\"dataframe\">\n",
       "  <thead>\n",
       "    <tr style=\"text-align: right;\">\n",
       "      <th></th>\n",
       "      <th>id</th>\n",
       "      <th>user_id</th>\n",
       "      <th>session_date</th>\n",
       "      <th>mb_used</th>\n",
       "    </tr>\n",
       "  </thead>\n",
       "  <tbody>\n",
       "    <tr>\n",
       "      <th>0</th>\n",
       "      <td>1000_13</td>\n",
       "      <td>1000</td>\n",
       "      <td>2018-12-29</td>\n",
       "      <td>89.86</td>\n",
       "    </tr>\n",
       "    <tr>\n",
       "      <th>1</th>\n",
       "      <td>1000_204</td>\n",
       "      <td>1000</td>\n",
       "      <td>2018-12-31</td>\n",
       "      <td>0.00</td>\n",
       "    </tr>\n",
       "    <tr>\n",
       "      <th>2</th>\n",
       "      <td>1000_379</td>\n",
       "      <td>1000</td>\n",
       "      <td>2018-12-28</td>\n",
       "      <td>660.40</td>\n",
       "    </tr>\n",
       "    <tr>\n",
       "      <th>3</th>\n",
       "      <td>1000_413</td>\n",
       "      <td>1000</td>\n",
       "      <td>2018-12-26</td>\n",
       "      <td>270.99</td>\n",
       "    </tr>\n",
       "    <tr>\n",
       "      <th>4</th>\n",
       "      <td>1000_442</td>\n",
       "      <td>1000</td>\n",
       "      <td>2018-12-27</td>\n",
       "      <td>880.22</td>\n",
       "    </tr>\n",
       "    <tr>\n",
       "      <th>5</th>\n",
       "      <td>1001_0</td>\n",
       "      <td>1001</td>\n",
       "      <td>2018-08-24</td>\n",
       "      <td>284.68</td>\n",
       "    </tr>\n",
       "    <tr>\n",
       "      <th>6</th>\n",
       "      <td>1001_3</td>\n",
       "      <td>1001</td>\n",
       "      <td>2018-12-09</td>\n",
       "      <td>656.04</td>\n",
       "    </tr>\n",
       "    <tr>\n",
       "      <th>7</th>\n",
       "      <td>1001_4</td>\n",
       "      <td>1001</td>\n",
       "      <td>2018-11-04</td>\n",
       "      <td>16.97</td>\n",
       "    </tr>\n",
       "    <tr>\n",
       "      <th>8</th>\n",
       "      <td>1001_10</td>\n",
       "      <td>1001</td>\n",
       "      <td>2018-11-27</td>\n",
       "      <td>135.18</td>\n",
       "    </tr>\n",
       "    <tr>\n",
       "      <th>9</th>\n",
       "      <td>1001_15</td>\n",
       "      <td>1001</td>\n",
       "      <td>2018-12-13</td>\n",
       "      <td>761.92</td>\n",
       "    </tr>\n",
       "  </tbody>\n",
       "</table>\n",
       "</div>"
      ],
      "text/plain": [
       "         id  user_id session_date  mb_used\n",
       "0   1000_13     1000   2018-12-29    89.86\n",
       "1  1000_204     1000   2018-12-31     0.00\n",
       "2  1000_379     1000   2018-12-28   660.40\n",
       "3  1000_413     1000   2018-12-26   270.99\n",
       "4  1000_442     1000   2018-12-27   880.22\n",
       "5    1001_0     1001   2018-08-24   284.68\n",
       "6    1001_3     1001   2018-12-09   656.04\n",
       "7    1001_4     1001   2018-11-04    16.97\n",
       "8   1001_10     1001   2018-11-27   135.18\n",
       "9   1001_15     1001   2018-12-13   761.92"
      ]
     },
     "execution_count": 39,
     "metadata": {},
     "output_type": "execute_result"
    }
   ],
   "source": [
    "internet.info()\n",
    "internet.head(10)"
   ]
  },
  {
   "cell_type": "markdown",
   "metadata": {},
   "source": [
    "**La tabla internet (datos sobre las sesiones web):**\n",
    "- id — identificador único de la sesión\n",
    "- user_id — identificador del usuario\n",
    "- session_date — fecha de la sesión web\n",
    "- mb_used — el volumen de datos gastados durante la sesión (en megabytes)"
   ]
  },
  {
   "cell_type": "markdown",
   "metadata": {},
   "source": [
    "Una vez más nos encontramos con un patrón similar, aunque tiene sentido ya que las tablas son practicamente historiales de llamadas/mensajes/sesiones web. No es negativo en absoluto ya que desarrollamos herramientas para lidiar con ésta situación que nos van a servir una vez más!"
   ]
  },
  {
   "cell_type": "markdown",
   "metadata": {},
   "source": [
    "### <a id='toc3_5_1_'></a>[Corregir datos](#toc0_)"
   ]
  },
  {
   "cell_type": "markdown",
   "metadata": {},
   "source": [
    "Vamos a mantener el mismo orden, primero vamos a corregir el *dtype* de la columan `session_date`, despues vamos a analizar la columna `id` y modificarla para eliminar los `user_id` que pueda tener en sus valores. Finalmente le cambiaremos el nombre de la columna `id` a `internet_id` para más claridad en el trabajo futuro."
   ]
  },
  {
   "cell_type": "code",
   "execution_count": 40,
   "metadata": {},
   "outputs": [],
   "source": [
    "# Primero corregimos el dtype de la columna `session_date`\n",
    "internet['session_date'] = pd.to_datetime(internet['session_date'], format='%Y-%m-%d')"
   ]
  },
  {
   "cell_type": "code",
   "execution_count": 41,
   "metadata": {},
   "outputs": [
    {
     "data": {
      "text/plain": [
       "id                      object\n",
       "user_id                  int64\n",
       "session_date    datetime64[ns]\n",
       "mb_used                float64\n",
       "dtype: object"
      ]
     },
     "execution_count": 41,
     "metadata": {},
     "output_type": "execute_result"
    }
   ],
   "source": [
    "# Verificamos el cambio\n",
    "internet.dtypes"
   ]
  },
  {
   "cell_type": "code",
   "execution_count": 42,
   "metadata": {},
   "outputs": [
    {
     "data": {
      "text/plain": [
       "0"
      ]
     },
     "execution_count": 42,
     "metadata": {},
     "output_type": "execute_result"
    }
   ],
   "source": [
    "# Verificamos que no tenga un valor fuera de lo esperado\n",
    "internet.apply(user_id_in_id,axis=1).sum()"
   ]
  },
  {
   "cell_type": "code",
   "execution_count": 43,
   "metadata": {},
   "outputs": [],
   "source": [
    "# Y ahora limpiamos esos valores\n",
    "internet['id'] = internet.apply(remove_id,axis=1)"
   ]
  },
  {
   "cell_type": "code",
   "execution_count": 44,
   "metadata": {},
   "outputs": [],
   "source": [
    "# Finalmente cambiamos el nombre\n",
    "internet.rename(columns={'id':'session_id'},inplace=True)"
   ]
  },
  {
   "cell_type": "code",
   "execution_count": 45,
   "metadata": {},
   "outputs": [
    {
     "data": {
      "text/html": [
       "<div>\n",
       "<style scoped>\n",
       "    .dataframe tbody tr th:only-of-type {\n",
       "        vertical-align: middle;\n",
       "    }\n",
       "\n",
       "    .dataframe tbody tr th {\n",
       "        vertical-align: top;\n",
       "    }\n",
       "\n",
       "    .dataframe thead th {\n",
       "        text-align: right;\n",
       "    }\n",
       "</style>\n",
       "<table border=\"1\" class=\"dataframe\">\n",
       "  <thead>\n",
       "    <tr style=\"text-align: right;\">\n",
       "      <th></th>\n",
       "      <th>session_id</th>\n",
       "      <th>user_id</th>\n",
       "      <th>session_date</th>\n",
       "      <th>mb_used</th>\n",
       "    </tr>\n",
       "  </thead>\n",
       "  <tbody>\n",
       "    <tr>\n",
       "      <th>0</th>\n",
       "      <td>13</td>\n",
       "      <td>1000</td>\n",
       "      <td>2018-12-29</td>\n",
       "      <td>89.86</td>\n",
       "    </tr>\n",
       "    <tr>\n",
       "      <th>1</th>\n",
       "      <td>204</td>\n",
       "      <td>1000</td>\n",
       "      <td>2018-12-31</td>\n",
       "      <td>0.00</td>\n",
       "    </tr>\n",
       "    <tr>\n",
       "      <th>2</th>\n",
       "      <td>379</td>\n",
       "      <td>1000</td>\n",
       "      <td>2018-12-28</td>\n",
       "      <td>660.40</td>\n",
       "    </tr>\n",
       "    <tr>\n",
       "      <th>3</th>\n",
       "      <td>413</td>\n",
       "      <td>1000</td>\n",
       "      <td>2018-12-26</td>\n",
       "      <td>270.99</td>\n",
       "    </tr>\n",
       "    <tr>\n",
       "      <th>4</th>\n",
       "      <td>442</td>\n",
       "      <td>1000</td>\n",
       "      <td>2018-12-27</td>\n",
       "      <td>880.22</td>\n",
       "    </tr>\n",
       "    <tr>\n",
       "      <th>...</th>\n",
       "      <td>...</td>\n",
       "      <td>...</td>\n",
       "      <td>...</td>\n",
       "      <td>...</td>\n",
       "    </tr>\n",
       "    <tr>\n",
       "      <th>104820</th>\n",
       "      <td>215</td>\n",
       "      <td>1499</td>\n",
       "      <td>2018-10-20</td>\n",
       "      <td>218.06</td>\n",
       "    </tr>\n",
       "    <tr>\n",
       "      <th>104821</th>\n",
       "      <td>216</td>\n",
       "      <td>1499</td>\n",
       "      <td>2018-12-30</td>\n",
       "      <td>304.72</td>\n",
       "    </tr>\n",
       "    <tr>\n",
       "      <th>104822</th>\n",
       "      <td>217</td>\n",
       "      <td>1499</td>\n",
       "      <td>2018-09-22</td>\n",
       "      <td>292.75</td>\n",
       "    </tr>\n",
       "    <tr>\n",
       "      <th>104823</th>\n",
       "      <td>218</td>\n",
       "      <td>1499</td>\n",
       "      <td>2018-12-07</td>\n",
       "      <td>0.00</td>\n",
       "    </tr>\n",
       "    <tr>\n",
       "      <th>104824</th>\n",
       "      <td>219</td>\n",
       "      <td>1499</td>\n",
       "      <td>2018-12-24</td>\n",
       "      <td>758.31</td>\n",
       "    </tr>\n",
       "  </tbody>\n",
       "</table>\n",
       "<p>104825 rows × 4 columns</p>\n",
       "</div>"
      ],
      "text/plain": [
       "       session_id  user_id session_date  mb_used\n",
       "0              13     1000   2018-12-29    89.86\n",
       "1             204     1000   2018-12-31     0.00\n",
       "2             379     1000   2018-12-28   660.40\n",
       "3             413     1000   2018-12-26   270.99\n",
       "4             442     1000   2018-12-27   880.22\n",
       "...           ...      ...          ...      ...\n",
       "104820        215     1499   2018-10-20   218.06\n",
       "104821        216     1499   2018-12-30   304.72\n",
       "104822        217     1499   2018-09-22   292.75\n",
       "104823        218     1499   2018-12-07     0.00\n",
       "104824        219     1499   2018-12-24   758.31\n",
       "\n",
       "[104825 rows x 4 columns]"
      ]
     },
     "execution_count": 45,
     "metadata": {},
     "output_type": "execute_result"
    }
   ],
   "source": [
    "# Y vemos como quedó\n",
    "internet"
   ]
  },
  {
   "cell_type": "markdown",
   "metadata": {},
   "source": [
    "Y al igual que `calls` y `messages` al ser basicamente un registro no podemos aportar nada muy significativo por lo que es mejor dejarlas así."
   ]
  },
  {
   "cell_type": "markdown",
   "metadata": {},
   "source": [
    "# <a id='toc4_'></a>[Estudiar las condiciones del plan](#toc0_)"
   ]
  },
  {
   "cell_type": "markdown",
   "metadata": {},
   "source": [
    "Vamos a buscar repasar sobre las condiciones de cada plan, dejar bien descrito y entendido las características de cada uno y como se aplican a diferentes situaciones. Para eso, veamos de vuelta la tabla `plans`."
   ]
  },
  {
   "cell_type": "code",
   "execution_count": 46,
   "metadata": {},
   "outputs": [
    {
     "data": {
      "text/html": [
       "<div>\n",
       "<style scoped>\n",
       "    .dataframe tbody tr th:only-of-type {\n",
       "        vertical-align: middle;\n",
       "    }\n",
       "\n",
       "    .dataframe tbody tr th {\n",
       "        vertical-align: top;\n",
       "    }\n",
       "\n",
       "    .dataframe thead th {\n",
       "        text-align: right;\n",
       "    }\n",
       "</style>\n",
       "<table border=\"1\" class=\"dataframe\">\n",
       "  <thead>\n",
       "    <tr style=\"text-align: right;\">\n",
       "      <th></th>\n",
       "      <th>messages_included</th>\n",
       "      <th>mb_per_month_included</th>\n",
       "      <th>minutes_included</th>\n",
       "      <th>usd_monthly_pay</th>\n",
       "      <th>usd_per_gb</th>\n",
       "      <th>usd_per_message</th>\n",
       "      <th>usd_per_minute</th>\n",
       "      <th>plan_name</th>\n",
       "    </tr>\n",
       "  </thead>\n",
       "  <tbody>\n",
       "    <tr>\n",
       "      <th>0</th>\n",
       "      <td>50</td>\n",
       "      <td>15360</td>\n",
       "      <td>500</td>\n",
       "      <td>20</td>\n",
       "      <td>10</td>\n",
       "      <td>0.03</td>\n",
       "      <td>0.03</td>\n",
       "      <td>surf</td>\n",
       "    </tr>\n",
       "    <tr>\n",
       "      <th>1</th>\n",
       "      <td>1000</td>\n",
       "      <td>30720</td>\n",
       "      <td>3000</td>\n",
       "      <td>70</td>\n",
       "      <td>7</td>\n",
       "      <td>0.01</td>\n",
       "      <td>0.01</td>\n",
       "      <td>ultimate</td>\n",
       "    </tr>\n",
       "  </tbody>\n",
       "</table>\n",
       "</div>"
      ],
      "text/plain": [
       "   messages_included  mb_per_month_included  minutes_included  \\\n",
       "0                 50                  15360               500   \n",
       "1               1000                  30720              3000   \n",
       "\n",
       "   usd_monthly_pay  usd_per_gb  usd_per_message  usd_per_minute plan_name  \n",
       "0               20          10             0.03            0.03      surf  \n",
       "1               70           7             0.01            0.01  ultimate  "
      ]
     },
     "execution_count": 46,
     "metadata": {},
     "output_type": "execute_result"
    }
   ],
   "source": [
    "plans"
   ]
  },
  {
   "cell_type": "code",
   "execution_count": 47,
   "metadata": {},
   "outputs": [
    {
     "data": {
      "image/png": "[encoded data removed]",
      "text/plain": [
       "<Figure size 432x288 with 1 Axes>"
      ]
     },
     "metadata": {
      "needs_background": "light"
     },
     "output_type": "display_data"
    },
    {
     "data": {
      "image/png": "[encoded data removed]",
      "text/plain": [
       "<Figure size 432x288 with 1 Axes>"
      ]
     },
     "metadata": {
      "needs_background": "light"
     },
     "output_type": "display_data"
    },
    {
     "data": {
      "image/png": "[encoded data removed]",
      "text/plain": [
       "<Figure size 432x288 with 1 Axes>"
      ]
     },
     "metadata": {
      "needs_background": "light"
     },
     "output_type": "display_data"
    },
    {
     "data": {
      "image/png": "[encoded data removed]",
      "text/plain": [
       "<Figure size 432x288 with 1 Axes>"
      ]
     },
     "metadata": {
      "needs_background": "light"
     },
     "output_type": "display_data"
    },
    {
     "data": {
      "image/png": "[encoded data removed]",
      "text/plain": [
       "<Figure size 432x288 with 1 Axes>"
      ]
     },
     "metadata": {
      "needs_background": "light"
     },
     "output_type": "display_data"
    },
    {
     "data": {
      "image/png": "[encoded data removed]",
      "text/plain": [
       "<Figure size 432x288 with 1 Axes>"
      ]
     },
     "metadata": {
      "needs_background": "light"
     },
     "output_type": "display_data"
    },
    {
     "data": {
      "image/png": "[encoded data removed]",
      "text/plain": [
       "<Figure size 432x288 with 1 Axes>"
      ]
     },
     "metadata": {
      "needs_background": "light"
     },
     "output_type": "display_data"
    }
   ],
   "source": [
    "# Veamos de manera gráfica un par de columnas \n",
    "for column in plans:\n",
    "    if column != 'plan_name':\n",
    "        bar_graph = plt.bar(\n",
    "            x=plans['plan_name'],\n",
    "            height=plans[column],\n",
    "            width=0.5,\n",
    "            color=['blue','orange']\n",
    "            )\n",
    "        plt.grid(axis='y')\n",
    "        plt.title(column)\n",
    "        #plt.bar_label(bar_graph)\n",
    "        plt.show()"
   ]
  },
  {
   "cell_type": "markdown",
   "metadata": {},
   "source": [
    "Una gráficamente solo se hace más evidente la amplia diferencia que provee el plan *Ultimate* en lo que a recursos respecta y vemos claramente como la diferencia de precio rinde en *messages y minutes*, más tomando en cuenta que si se llega al caso extremo de gastar los recursos que vienen con el plan."
   ]
  },
  {
   "cell_type": "markdown",
   "metadata": {},
   "source": [
    "# <a id='toc5_'></a>[Agregar datos por usuario](#toc0_)\n",
    "  \n",
    "Con los datos limpios, vamos a proceder a crear una tabla con todo el uso de recursos y actividad de un cliente. Tambien incluiremos su id y su plan aparte de finalmente agregar en base a los valores de la tabla el recuento final de cuánto tuvo que pagar dicho cliente.\n",
    "  \n",
    "Ésto facilitará mucho el análisis al concentrar todas las variables que nos interesan en una tabla mientras a la vez eliminamos las que no vamos a tratar."
   ]
  },
  {
   "cell_type": "code",
   "execution_count": 48,
   "metadata": {},
   "outputs": [],
   "source": [
    "# Ahora vamos a obtener una tabla en la que se pueda ver cuántas llamadas realizó un usuario en un determinado mes\n",
    "\n",
    "# Primero agrupamos por usuario y mes reiniciando el índice para poder trabajar\n",
    "monthly_calls = calls.groupby(['user_id','call_date']).count().reset_index()\n",
    "\n",
    "# De ahí nos deshacemos de la columna 'duration' que no nos sirve\n",
    "monthly_calls.drop(columns='duration',inplace=True)\n",
    "\n",
    "# Transformamos las celdas de fechas en celdas de meses\n",
    "monthly_calls['call_date'] = monthly_calls['call_date'].dt.month\n",
    "\n",
    "# Renombramos la columna `call_date` y `call_id` para que queden acorde\n",
    "monthly_calls.rename(columns={'call_date':'month','call_id':'total_calls'},inplace=True)\n",
    "\n",
    "# Ahora agrupamos una vez más para \"juntar los meses\"\n",
    "monthly_calls = monthly_calls.groupby(['user_id','month']).sum()\n",
    "\n",
    "# No reiniciamos el indice ya que eso nos permitira unir todas las tablas en un futuro con más facilidad"
   ]
  },
  {
   "cell_type": "code",
   "execution_count": 49,
   "metadata": {},
   "outputs": [
    {
     "data": {
      "text/html": [
       "<div>\n",
       "<style scoped>\n",
       "    .dataframe tbody tr th:only-of-type {\n",
       "        vertical-align: middle;\n",
       "    }\n",
       "\n",
       "    .dataframe tbody tr th {\n",
       "        vertical-align: top;\n",
       "    }\n",
       "\n",
       "    .dataframe thead th {\n",
       "        text-align: right;\n",
       "    }\n",
       "</style>\n",
       "<table border=\"1\" class=\"dataframe\">\n",
       "  <thead>\n",
       "    <tr style=\"text-align: right;\">\n",
       "      <th></th>\n",
       "      <th></th>\n",
       "      <th>total_calls</th>\n",
       "    </tr>\n",
       "    <tr>\n",
       "      <th>user_id</th>\n",
       "      <th>month</th>\n",
       "      <th></th>\n",
       "    </tr>\n",
       "  </thead>\n",
       "  <tbody>\n",
       "    <tr>\n",
       "      <th>1000</th>\n",
       "      <th>12</th>\n",
       "      <td>16</td>\n",
       "    </tr>\n",
       "    <tr>\n",
       "      <th rowspan=\"4\" valign=\"top\">1001</th>\n",
       "      <th>8</th>\n",
       "      <td>27</td>\n",
       "    </tr>\n",
       "    <tr>\n",
       "      <th>9</th>\n",
       "      <td>49</td>\n",
       "    </tr>\n",
       "    <tr>\n",
       "      <th>10</th>\n",
       "      <td>65</td>\n",
       "    </tr>\n",
       "    <tr>\n",
       "      <th>11</th>\n",
       "      <td>64</td>\n",
       "    </tr>\n",
       "    <tr>\n",
       "      <th>...</th>\n",
       "      <th>...</th>\n",
       "      <td>...</td>\n",
       "    </tr>\n",
       "    <tr>\n",
       "      <th>1498</th>\n",
       "      <th>12</th>\n",
       "      <td>39</td>\n",
       "    </tr>\n",
       "    <tr>\n",
       "      <th rowspan=\"4\" valign=\"top\">1499</th>\n",
       "      <th>9</th>\n",
       "      <td>41</td>\n",
       "    </tr>\n",
       "    <tr>\n",
       "      <th>10</th>\n",
       "      <td>53</td>\n",
       "    </tr>\n",
       "    <tr>\n",
       "      <th>11</th>\n",
       "      <td>45</td>\n",
       "    </tr>\n",
       "    <tr>\n",
       "      <th>12</th>\n",
       "      <td>65</td>\n",
       "    </tr>\n",
       "  </tbody>\n",
       "</table>\n",
       "<p>2258 rows × 1 columns</p>\n",
       "</div>"
      ],
      "text/plain": [
       "               total_calls\n",
       "user_id month             \n",
       "1000    12              16\n",
       "1001    8               27\n",
       "        9               49\n",
       "        10              65\n",
       "        11              64\n",
       "...                    ...\n",
       "1498    12              39\n",
       "1499    9               41\n",
       "        10              53\n",
       "        11              45\n",
       "        12              65\n",
       "\n",
       "[2258 rows x 1 columns]"
      ]
     },
     "execution_count": 49,
     "metadata": {},
     "output_type": "execute_result"
    }
   ],
   "source": [
    "# Vemos como quedó\n",
    "monthly_calls"
   ]
  },
  {
   "cell_type": "markdown",
   "metadata": {},
   "source": [
    "Estaba considerando hacer una funcion que logre ésto, pero despues de pensarlo detenidamente habría que darle tantos parámetros a la función ya que la forma de actuar y nombrar va a diferir entre cada uno de los dataframes. Por lo tanto voy a recurrir a la hermosa herramienta de Ctrl+C -> Ctrl+V"
   ]
  },
  {
   "cell_type": "code",
   "execution_count": 50,
   "metadata": {},
   "outputs": [],
   "source": [
    "# Ahora vamos a obtener una tabla en la que se pueda ver cuantos mensajes mandó un usuario en un determinado mes\n",
    "\n",
    "# Primero agrupamos por usuario y mes reiniciando el índice para poder trabajar\n",
    "monthly_minutes = calls[['user_id','call_date','duration']].groupby(['user_id','call_date']).sum().reset_index()\n",
    "\n",
    "# Transformamos las celdas de fechas en celdas de meses\n",
    "monthly_minutes['call_date'] = monthly_minutes['call_date'].dt.month\n",
    "\n",
    "# Renombramos la columna `call_date` y `call_id` para que queden acorde\n",
    "monthly_minutes.rename(columns={'call_date':'month','duration':'total_minutes'},inplace=True)\n",
    "\n",
    "# Ahora agrupamos una vez más para \"juntar los meses\"\n",
    "monthly_minutes = monthly_minutes.groupby(['user_id','month']).sum()"
   ]
  },
  {
   "cell_type": "code",
   "execution_count": 51,
   "metadata": {
    "scrolled": true
   },
   "outputs": [
    {
     "data": {
      "text/html": [
       "<div>\n",
       "<style scoped>\n",
       "    .dataframe tbody tr th:only-of-type {\n",
       "        vertical-align: middle;\n",
       "    }\n",
       "\n",
       "    .dataframe tbody tr th {\n",
       "        vertical-align: top;\n",
       "    }\n",
       "\n",
       "    .dataframe thead th {\n",
       "        text-align: right;\n",
       "    }\n",
       "</style>\n",
       "<table border=\"1\" class=\"dataframe\">\n",
       "  <thead>\n",
       "    <tr style=\"text-align: right;\">\n",
       "      <th></th>\n",
       "      <th></th>\n",
       "      <th>total_minutes</th>\n",
       "    </tr>\n",
       "    <tr>\n",
       "      <th>user_id</th>\n",
       "      <th>month</th>\n",
       "      <th></th>\n",
       "    </tr>\n",
       "  </thead>\n",
       "  <tbody>\n",
       "    <tr>\n",
       "      <th>1000</th>\n",
       "      <th>12</th>\n",
       "      <td>116.83</td>\n",
       "    </tr>\n",
       "    <tr>\n",
       "      <th rowspan=\"4\" valign=\"top\">1001</th>\n",
       "      <th>8</th>\n",
       "      <td>171.14</td>\n",
       "    </tr>\n",
       "    <tr>\n",
       "      <th>9</th>\n",
       "      <td>297.69</td>\n",
       "    </tr>\n",
       "    <tr>\n",
       "      <th>10</th>\n",
       "      <td>374.11</td>\n",
       "    </tr>\n",
       "    <tr>\n",
       "      <th>11</th>\n",
       "      <td>404.59</td>\n",
       "    </tr>\n",
       "    <tr>\n",
       "      <th>...</th>\n",
       "      <th>...</th>\n",
       "      <td>...</td>\n",
       "    </tr>\n",
       "    <tr>\n",
       "      <th>1498</th>\n",
       "      <th>12</th>\n",
       "      <td>324.77</td>\n",
       "    </tr>\n",
       "    <tr>\n",
       "      <th rowspan=\"4\" valign=\"top\">1499</th>\n",
       "      <th>9</th>\n",
       "      <td>330.37</td>\n",
       "    </tr>\n",
       "    <tr>\n",
       "      <th>10</th>\n",
       "      <td>363.28</td>\n",
       "    </tr>\n",
       "    <tr>\n",
       "      <th>11</th>\n",
       "      <td>288.56</td>\n",
       "    </tr>\n",
       "    <tr>\n",
       "      <th>12</th>\n",
       "      <td>468.10</td>\n",
       "    </tr>\n",
       "  </tbody>\n",
       "</table>\n",
       "<p>2258 rows × 1 columns</p>\n",
       "</div>"
      ],
      "text/plain": [
       "               total_minutes\n",
       "user_id month               \n",
       "1000    12            116.83\n",
       "1001    8             171.14\n",
       "        9             297.69\n",
       "        10            374.11\n",
       "        11            404.59\n",
       "...                      ...\n",
       "1498    12            324.77\n",
       "1499    9             330.37\n",
       "        10            363.28\n",
       "        11            288.56\n",
       "        12            468.10\n",
       "\n",
       "[2258 rows x 1 columns]"
      ]
     },
     "execution_count": 51,
     "metadata": {},
     "output_type": "execute_result"
    }
   ],
   "source": [
    "# Vemos como quedó\n",
    "monthly_minutes"
   ]
  },
  {
   "cell_type": "code",
   "execution_count": 52,
   "metadata": {},
   "outputs": [],
   "source": [
    "# Ahora vamos a obtener una tabla en la que se pueda ver cuántas llamadas realizó un usuario en un determinado mes\n",
    "\n",
    "# Primero agrupamos por usuario y mes reiniciando el índice para poder trabajar\n",
    "monthly_messages = messages.groupby(['user_id','message_date']).count().reset_index()\n",
    "\n",
    "# Transformamos las celdas de fechas en celdas de meses\n",
    "monthly_messages['message_date'] = monthly_messages['message_date'].dt.month\n",
    "\n",
    "# Renombramos la columna `call_date` y `call_id` para que queden acorde\n",
    "monthly_messages.rename(columns={'message_date':'month','message_id':'total_messages'},inplace=True)\n",
    "\n",
    "# Ahora agrupamos una vez más para \"juntar los meses\"\n",
    "monthly_messages = monthly_messages.groupby(['user_id','month']).sum()\n"
   ]
  },
  {
   "cell_type": "code",
   "execution_count": 53,
   "metadata": {},
   "outputs": [
    {
     "data": {
      "text/html": [
       "<div>\n",
       "<style scoped>\n",
       "    .dataframe tbody tr th:only-of-type {\n",
       "        vertical-align: middle;\n",
       "    }\n",
       "\n",
       "    .dataframe tbody tr th {\n",
       "        vertical-align: top;\n",
       "    }\n",
       "\n",
       "    .dataframe thead th {\n",
       "        text-align: right;\n",
       "    }\n",
       "</style>\n",
       "<table border=\"1\" class=\"dataframe\">\n",
       "  <thead>\n",
       "    <tr style=\"text-align: right;\">\n",
       "      <th></th>\n",
       "      <th></th>\n",
       "      <th>total_messages</th>\n",
       "    </tr>\n",
       "    <tr>\n",
       "      <th>user_id</th>\n",
       "      <th>month</th>\n",
       "      <th></th>\n",
       "    </tr>\n",
       "  </thead>\n",
       "  <tbody>\n",
       "    <tr>\n",
       "      <th>1000</th>\n",
       "      <th>12</th>\n",
       "      <td>11</td>\n",
       "    </tr>\n",
       "    <tr>\n",
       "      <th rowspan=\"4\" valign=\"top\">1001</th>\n",
       "      <th>8</th>\n",
       "      <td>30</td>\n",
       "    </tr>\n",
       "    <tr>\n",
       "      <th>9</th>\n",
       "      <td>44</td>\n",
       "    </tr>\n",
       "    <tr>\n",
       "      <th>10</th>\n",
       "      <td>53</td>\n",
       "    </tr>\n",
       "    <tr>\n",
       "      <th>11</th>\n",
       "      <td>36</td>\n",
       "    </tr>\n",
       "    <tr>\n",
       "      <th>...</th>\n",
       "      <th>...</th>\n",
       "      <td>...</td>\n",
       "    </tr>\n",
       "    <tr>\n",
       "      <th rowspan=\"4\" valign=\"top\">1496</th>\n",
       "      <th>9</th>\n",
       "      <td>21</td>\n",
       "    </tr>\n",
       "    <tr>\n",
       "      <th>10</th>\n",
       "      <td>18</td>\n",
       "    </tr>\n",
       "    <tr>\n",
       "      <th>11</th>\n",
       "      <td>13</td>\n",
       "    </tr>\n",
       "    <tr>\n",
       "      <th>12</th>\n",
       "      <td>11</td>\n",
       "    </tr>\n",
       "    <tr>\n",
       "      <th>1497</th>\n",
       "      <th>12</th>\n",
       "      <td>50</td>\n",
       "    </tr>\n",
       "  </tbody>\n",
       "</table>\n",
       "<p>1806 rows × 1 columns</p>\n",
       "</div>"
      ],
      "text/plain": [
       "               total_messages\n",
       "user_id month                \n",
       "1000    12                 11\n",
       "1001    8                  30\n",
       "        9                  44\n",
       "        10                 53\n",
       "        11                 36\n",
       "...                       ...\n",
       "1496    9                  21\n",
       "        10                 18\n",
       "        11                 13\n",
       "        12                 11\n",
       "1497    12                 50\n",
       "\n",
       "[1806 rows x 1 columns]"
      ]
     },
     "execution_count": 53,
     "metadata": {},
     "output_type": "execute_result"
    }
   ],
   "source": [
    "# Vemos como quedó\n",
    "monthly_messages"
   ]
  },
  {
   "cell_type": "code",
   "execution_count": 54,
   "metadata": {},
   "outputs": [],
   "source": [
    "# Ahora vamos a obtener una tabla en la que se pueda ver cuánto uso internet un usuario en un determinado mes\n",
    "\n",
    "# Primero agrupamos por usuario y mes reiniciando el índice para poder trabajar\n",
    "monthly_internet = internet[['user_id','session_date','mb_used']].groupby(['user_id','session_date']).sum().reset_index()\n",
    "\n",
    "# Transformamos las celdas de fechas en celdas de meses\n",
    "monthly_internet['session_date'] = monthly_internet['session_date'].dt.month\n",
    "\n",
    "# Renombramos la columna `call_date` y `call_id` para que queden acorde\n",
    "monthly_internet.rename(columns={'session_date':'month','mb_used':'mb_used_per_month'},inplace=True)\n",
    "\n",
    "# Ahora agrupamos una vez más para \"juntar los meses\"\n",
    "monthly_internet = monthly_internet.groupby(['user_id','month']).sum()\n"
   ]
  },
  {
   "cell_type": "code",
   "execution_count": 55,
   "metadata": {
    "scrolled": true
   },
   "outputs": [
    {
     "data": {
      "text/html": [
       "<div>\n",
       "<style scoped>\n",
       "    .dataframe tbody tr th:only-of-type {\n",
       "        vertical-align: middle;\n",
       "    }\n",
       "\n",
       "    .dataframe tbody tr th {\n",
       "        vertical-align: top;\n",
       "    }\n",
       "\n",
       "    .dataframe thead th {\n",
       "        text-align: right;\n",
       "    }\n",
       "</style>\n",
       "<table border=\"1\" class=\"dataframe\">\n",
       "  <thead>\n",
       "    <tr style=\"text-align: right;\">\n",
       "      <th></th>\n",
       "      <th></th>\n",
       "      <th>mb_used_per_month</th>\n",
       "    </tr>\n",
       "    <tr>\n",
       "      <th>user_id</th>\n",
       "      <th>month</th>\n",
       "      <th></th>\n",
       "    </tr>\n",
       "  </thead>\n",
       "  <tbody>\n",
       "    <tr>\n",
       "      <th>1000</th>\n",
       "      <th>12</th>\n",
       "      <td>1901.47</td>\n",
       "    </tr>\n",
       "    <tr>\n",
       "      <th rowspan=\"4\" valign=\"top\">1001</th>\n",
       "      <th>8</th>\n",
       "      <td>6919.15</td>\n",
       "    </tr>\n",
       "    <tr>\n",
       "      <th>9</th>\n",
       "      <td>13314.82</td>\n",
       "    </tr>\n",
       "    <tr>\n",
       "      <th>10</th>\n",
       "      <td>22330.49</td>\n",
       "    </tr>\n",
       "    <tr>\n",
       "      <th>11</th>\n",
       "      <td>18504.30</td>\n",
       "    </tr>\n",
       "    <tr>\n",
       "      <th>...</th>\n",
       "      <th>...</th>\n",
       "      <td>...</td>\n",
       "    </tr>\n",
       "    <tr>\n",
       "      <th>1498</th>\n",
       "      <th>12</th>\n",
       "      <td>23137.69</td>\n",
       "    </tr>\n",
       "    <tr>\n",
       "      <th rowspan=\"4\" valign=\"top\">1499</th>\n",
       "      <th>9</th>\n",
       "      <td>12984.76</td>\n",
       "    </tr>\n",
       "    <tr>\n",
       "      <th>10</th>\n",
       "      <td>19492.43</td>\n",
       "    </tr>\n",
       "    <tr>\n",
       "      <th>11</th>\n",
       "      <td>16813.83</td>\n",
       "    </tr>\n",
       "    <tr>\n",
       "      <th>12</th>\n",
       "      <td>22059.21</td>\n",
       "    </tr>\n",
       "  </tbody>\n",
       "</table>\n",
       "<p>2277 rows × 1 columns</p>\n",
       "</div>"
      ],
      "text/plain": [
       "               mb_used_per_month\n",
       "user_id month                   \n",
       "1000    12               1901.47\n",
       "1001    8                6919.15\n",
       "        9               13314.82\n",
       "        10              22330.49\n",
       "        11              18504.30\n",
       "...                          ...\n",
       "1498    12              23137.69\n",
       "1499    9               12984.76\n",
       "        10              19492.43\n",
       "        11              16813.83\n",
       "        12              22059.21\n",
       "\n",
       "[2277 rows x 1 columns]"
      ]
     },
     "execution_count": 55,
     "metadata": {},
     "output_type": "execute_result"
    }
   ],
   "source": [
    "# Vemos como quedó\n",
    "monthly_internet"
   ]
  },
  {
   "cell_type": "markdown",
   "metadata": {},
   "source": [
    "Con nuestras tablas mensuales hechas vamos a proceder a unirlas todas para lograr el resultado final de la actividad del cliente a lo largo de un mes!"
   ]
  },
  {
   "cell_type": "code",
   "execution_count": 56,
   "metadata": {},
   "outputs": [
    {
     "data": {
      "text/html": [
       "<div>\n",
       "<style scoped>\n",
       "    .dataframe tbody tr th:only-of-type {\n",
       "        vertical-align: middle;\n",
       "    }\n",
       "\n",
       "    .dataframe tbody tr th {\n",
       "        vertical-align: top;\n",
       "    }\n",
       "\n",
       "    .dataframe thead th {\n",
       "        text-align: right;\n",
       "    }\n",
       "</style>\n",
       "<table border=\"1\" class=\"dataframe\">\n",
       "  <thead>\n",
       "    <tr style=\"text-align: right;\">\n",
       "      <th></th>\n",
       "      <th>user_id</th>\n",
       "      <th>month</th>\n",
       "      <th>total_calls</th>\n",
       "      <th>total_minutes</th>\n",
       "      <th>total_messages</th>\n",
       "      <th>mb_used_per_month</th>\n",
       "    </tr>\n",
       "  </thead>\n",
       "  <tbody>\n",
       "    <tr>\n",
       "      <th>0</th>\n",
       "      <td>1000</td>\n",
       "      <td>12</td>\n",
       "      <td>16.0</td>\n",
       "      <td>116.83</td>\n",
       "      <td>11.0</td>\n",
       "      <td>1901.47</td>\n",
       "    </tr>\n",
       "    <tr>\n",
       "      <th>1</th>\n",
       "      <td>1001</td>\n",
       "      <td>8</td>\n",
       "      <td>27.0</td>\n",
       "      <td>171.14</td>\n",
       "      <td>30.0</td>\n",
       "      <td>6919.15</td>\n",
       "    </tr>\n",
       "    <tr>\n",
       "      <th>2</th>\n",
       "      <td>1001</td>\n",
       "      <td>9</td>\n",
       "      <td>49.0</td>\n",
       "      <td>297.69</td>\n",
       "      <td>44.0</td>\n",
       "      <td>13314.82</td>\n",
       "    </tr>\n",
       "    <tr>\n",
       "      <th>3</th>\n",
       "      <td>1001</td>\n",
       "      <td>10</td>\n",
       "      <td>65.0</td>\n",
       "      <td>374.11</td>\n",
       "      <td>53.0</td>\n",
       "      <td>22330.49</td>\n",
       "    </tr>\n",
       "    <tr>\n",
       "      <th>4</th>\n",
       "      <td>1001</td>\n",
       "      <td>11</td>\n",
       "      <td>64.0</td>\n",
       "      <td>404.59</td>\n",
       "      <td>36.0</td>\n",
       "      <td>18504.30</td>\n",
       "    </tr>\n",
       "    <tr>\n",
       "      <th>...</th>\n",
       "      <td>...</td>\n",
       "      <td>...</td>\n",
       "      <td>...</td>\n",
       "      <td>...</td>\n",
       "      <td>...</td>\n",
       "      <td>...</td>\n",
       "    </tr>\n",
       "    <tr>\n",
       "      <th>2288</th>\n",
       "      <td>1498</td>\n",
       "      <td>6</td>\n",
       "      <td>37.0</td>\n",
       "      <td>225.57</td>\n",
       "      <td>NaN</td>\n",
       "      <td>14807.18</td>\n",
       "    </tr>\n",
       "    <tr>\n",
       "      <th>2289</th>\n",
       "      <td>1499</td>\n",
       "      <td>10</td>\n",
       "      <td>53.0</td>\n",
       "      <td>363.28</td>\n",
       "      <td>NaN</td>\n",
       "      <td>19492.43</td>\n",
       "    </tr>\n",
       "    <tr>\n",
       "      <th>2290</th>\n",
       "      <td>1499</td>\n",
       "      <td>11</td>\n",
       "      <td>45.0</td>\n",
       "      <td>288.56</td>\n",
       "      <td>NaN</td>\n",
       "      <td>16813.83</td>\n",
       "    </tr>\n",
       "    <tr>\n",
       "      <th>2291</th>\n",
       "      <td>1499</td>\n",
       "      <td>9</td>\n",
       "      <td>41.0</td>\n",
       "      <td>330.37</td>\n",
       "      <td>NaN</td>\n",
       "      <td>12984.76</td>\n",
       "    </tr>\n",
       "    <tr>\n",
       "      <th>2292</th>\n",
       "      <td>1499</td>\n",
       "      <td>12</td>\n",
       "      <td>65.0</td>\n",
       "      <td>468.10</td>\n",
       "      <td>NaN</td>\n",
       "      <td>22059.21</td>\n",
       "    </tr>\n",
       "  </tbody>\n",
       "</table>\n",
       "<p>2293 rows × 6 columns</p>\n",
       "</div>"
      ],
      "text/plain": [
       "      user_id  month  total_calls  total_minutes  total_messages  \\\n",
       "0        1000     12         16.0         116.83            11.0   \n",
       "1        1001      8         27.0         171.14            30.0   \n",
       "2        1001      9         49.0         297.69            44.0   \n",
       "3        1001     10         65.0         374.11            53.0   \n",
       "4        1001     11         64.0         404.59            36.0   \n",
       "...       ...    ...          ...            ...             ...   \n",
       "2288     1498      6         37.0         225.57             NaN   \n",
       "2289     1499     10         53.0         363.28             NaN   \n",
       "2290     1499     11         45.0         288.56             NaN   \n",
       "2291     1499      9         41.0         330.37             NaN   \n",
       "2292     1499     12         65.0         468.10             NaN   \n",
       "\n",
       "      mb_used_per_month  \n",
       "0               1901.47  \n",
       "1               6919.15  \n",
       "2              13314.82  \n",
       "3              22330.49  \n",
       "4              18504.30  \n",
       "...                 ...  \n",
       "2288           14807.18  \n",
       "2289           19492.43  \n",
       "2290           16813.83  \n",
       "2291           12984.76  \n",
       "2292           22059.21  \n",
       "\n",
       "[2293 rows x 6 columns]"
      ]
     },
     "execution_count": 56,
     "metadata": {},
     "output_type": "execute_result"
    }
   ],
   "source": [
    "# Combina los datos para las llamadas, minutos, mensajes e internet con base en el user_id y el mes\n",
    "activity_table = (pd.concat(\n",
    "    [monthly_calls,monthly_minutes,monthly_messages,monthly_internet],\n",
    "    axis=1)\n",
    "    .sort_values('user_id')\n",
    "    .reset_index()\n",
    "    )\n",
    "activity_table"
   ]
  },
  {
   "cell_type": "code",
   "execution_count": 57,
   "metadata": {},
   "outputs": [],
   "source": [
    "activity_table.fillna(0,inplace=True)"
   ]
  },
  {
   "cell_type": "code",
   "execution_count": 58,
   "metadata": {},
   "outputs": [],
   "source": [
    "# Vamos a hacer una funcion que nos ayude a obtener el plan de cada usuario\n",
    "def match_plan_with_id(row):\n",
    "    id = row['user_id']\n",
    "    plan = users[users['user_id'] == id]['plan'].values[0]\n",
    "    return plan"
   ]
  },
  {
   "cell_type": "code",
   "execution_count": 59,
   "metadata": {},
   "outputs": [
    {
     "data": {
      "text/plain": [
       "'ultimate'"
      ]
     },
     "execution_count": 59,
     "metadata": {},
     "output_type": "execute_result"
    }
   ],
   "source": [
    "# Probamos la funcion\n",
    "match_plan_with_id(activity_table.loc[115,:])"
   ]
  },
  {
   "cell_type": "code",
   "execution_count": 60,
   "metadata": {},
   "outputs": [
    {
     "data": {
      "text/plain": [
       "0       ultimate\n",
       "1           surf\n",
       "2           surf\n",
       "3           surf\n",
       "4           surf\n",
       "          ...   \n",
       "2288        surf\n",
       "2289        surf\n",
       "2290        surf\n",
       "2291        surf\n",
       "2292        surf\n",
       "Length: 2293, dtype: object"
      ]
     },
     "execution_count": 60,
     "metadata": {},
     "output_type": "execute_result"
    }
   ],
   "source": [
    "# Finalmente aplicamos la funcion\n",
    "activity_table.apply(match_plan_with_id,axis=1)"
   ]
  },
  {
   "cell_type": "code",
   "execution_count": 61,
   "metadata": {},
   "outputs": [],
   "source": [
    "# Con la funcion lista, vamos a crear la columna 'plan' en activity_table\n",
    "activity_table['plan'] = activity_table.apply(match_plan_with_id,axis=1)"
   ]
  },
  {
   "cell_type": "code",
   "execution_count": 62,
   "metadata": {},
   "outputs": [],
   "source": [
    "# Verificamos\n",
    "activity_table = activity_table.astype({'total_calls':int,'total_messages':int})"
   ]
  },
  {
   "cell_type": "code",
   "execution_count": 63,
   "metadata": {},
   "outputs": [
    {
     "data": {
      "text/html": [
       "<div>\n",
       "<style scoped>\n",
       "    .dataframe tbody tr th:only-of-type {\n",
       "        vertical-align: middle;\n",
       "    }\n",
       "\n",
       "    .dataframe tbody tr th {\n",
       "        vertical-align: top;\n",
       "    }\n",
       "\n",
       "    .dataframe thead th {\n",
       "        text-align: right;\n",
       "    }\n",
       "</style>\n",
       "<table border=\"1\" class=\"dataframe\">\n",
       "  <thead>\n",
       "    <tr style=\"text-align: right;\">\n",
       "      <th></th>\n",
       "      <th>user_id</th>\n",
       "      <th>month</th>\n",
       "      <th>total_calls</th>\n",
       "      <th>total_minutes</th>\n",
       "      <th>total_messages</th>\n",
       "      <th>mb_used_per_month</th>\n",
       "      <th>plan</th>\n",
       "    </tr>\n",
       "  </thead>\n",
       "  <tbody>\n",
       "    <tr>\n",
       "      <th>0</th>\n",
       "      <td>1000</td>\n",
       "      <td>12</td>\n",
       "      <td>16</td>\n",
       "      <td>116.83</td>\n",
       "      <td>11</td>\n",
       "      <td>1901.47</td>\n",
       "      <td>ultimate</td>\n",
       "    </tr>\n",
       "    <tr>\n",
       "      <th>1</th>\n",
       "      <td>1001</td>\n",
       "      <td>8</td>\n",
       "      <td>27</td>\n",
       "      <td>171.14</td>\n",
       "      <td>30</td>\n",
       "      <td>6919.15</td>\n",
       "      <td>surf</td>\n",
       "    </tr>\n",
       "    <tr>\n",
       "      <th>2</th>\n",
       "      <td>1001</td>\n",
       "      <td>9</td>\n",
       "      <td>49</td>\n",
       "      <td>297.69</td>\n",
       "      <td>44</td>\n",
       "      <td>13314.82</td>\n",
       "      <td>surf</td>\n",
       "    </tr>\n",
       "    <tr>\n",
       "      <th>3</th>\n",
       "      <td>1001</td>\n",
       "      <td>10</td>\n",
       "      <td>65</td>\n",
       "      <td>374.11</td>\n",
       "      <td>53</td>\n",
       "      <td>22330.49</td>\n",
       "      <td>surf</td>\n",
       "    </tr>\n",
       "    <tr>\n",
       "      <th>4</th>\n",
       "      <td>1001</td>\n",
       "      <td>11</td>\n",
       "      <td>64</td>\n",
       "      <td>404.59</td>\n",
       "      <td>36</td>\n",
       "      <td>18504.30</td>\n",
       "      <td>surf</td>\n",
       "    </tr>\n",
       "    <tr>\n",
       "      <th>...</th>\n",
       "      <td>...</td>\n",
       "      <td>...</td>\n",
       "      <td>...</td>\n",
       "      <td>...</td>\n",
       "      <td>...</td>\n",
       "      <td>...</td>\n",
       "      <td>...</td>\n",
       "    </tr>\n",
       "    <tr>\n",
       "      <th>2288</th>\n",
       "      <td>1498</td>\n",
       "      <td>6</td>\n",
       "      <td>37</td>\n",
       "      <td>225.57</td>\n",
       "      <td>0</td>\n",
       "      <td>14807.18</td>\n",
       "      <td>surf</td>\n",
       "    </tr>\n",
       "    <tr>\n",
       "      <th>2289</th>\n",
       "      <td>1499</td>\n",
       "      <td>10</td>\n",
       "      <td>53</td>\n",
       "      <td>363.28</td>\n",
       "      <td>0</td>\n",
       "      <td>19492.43</td>\n",
       "      <td>surf</td>\n",
       "    </tr>\n",
       "    <tr>\n",
       "      <th>2290</th>\n",
       "      <td>1499</td>\n",
       "      <td>11</td>\n",
       "      <td>45</td>\n",
       "      <td>288.56</td>\n",
       "      <td>0</td>\n",
       "      <td>16813.83</td>\n",
       "      <td>surf</td>\n",
       "    </tr>\n",
       "    <tr>\n",
       "      <th>2291</th>\n",
       "      <td>1499</td>\n",
       "      <td>9</td>\n",
       "      <td>41</td>\n",
       "      <td>330.37</td>\n",
       "      <td>0</td>\n",
       "      <td>12984.76</td>\n",
       "      <td>surf</td>\n",
       "    </tr>\n",
       "    <tr>\n",
       "      <th>2292</th>\n",
       "      <td>1499</td>\n",
       "      <td>12</td>\n",
       "      <td>65</td>\n",
       "      <td>468.10</td>\n",
       "      <td>0</td>\n",
       "      <td>22059.21</td>\n",
       "      <td>surf</td>\n",
       "    </tr>\n",
       "  </tbody>\n",
       "</table>\n",
       "<p>2293 rows × 7 columns</p>\n",
       "</div>"
      ],
      "text/plain": [
       "      user_id  month  total_calls  total_minutes  total_messages  \\\n",
       "0        1000     12           16         116.83              11   \n",
       "1        1001      8           27         171.14              30   \n",
       "2        1001      9           49         297.69              44   \n",
       "3        1001     10           65         374.11              53   \n",
       "4        1001     11           64         404.59              36   \n",
       "...       ...    ...          ...            ...             ...   \n",
       "2288     1498      6           37         225.57               0   \n",
       "2289     1499     10           53         363.28               0   \n",
       "2290     1499     11           45         288.56               0   \n",
       "2291     1499      9           41         330.37               0   \n",
       "2292     1499     12           65         468.10               0   \n",
       "\n",
       "      mb_used_per_month      plan  \n",
       "0               1901.47  ultimate  \n",
       "1               6919.15      surf  \n",
       "2              13314.82      surf  \n",
       "3              22330.49      surf  \n",
       "4              18504.30      surf  \n",
       "...                 ...       ...  \n",
       "2288           14807.18      surf  \n",
       "2289           19492.43      surf  \n",
       "2290           16813.83      surf  \n",
       "2291           12984.76      surf  \n",
       "2292           22059.21      surf  \n",
       "\n",
       "[2293 rows x 7 columns]"
      ]
     },
     "execution_count": 63,
     "metadata": {},
     "output_type": "execute_result"
    }
   ],
   "source": [
    "# Vemos como quedó\n",
    "activity_table"
   ]
  },
  {
   "cell_type": "markdown",
   "metadata": {},
   "source": [
    "## <a id='toc5_1_'></a>[Usuarios y Meses Ausentes](#toc0_)"
   ]
  },
  {
   "cell_type": "markdown",
   "metadata": {},
   "source": [
    "Originalmente iba a nombrar la tabla `complete_table` pero en un momento me dí cuenta algo muy básico. Si un cliente no usa su celular a lo largo de un mes no aparecerá en `activity_table` pero si tendrá que pagar la cuota mensual! \n",
    "  \n",
    "Ahora, que tan dificil es no gastar nada durante un mes? Ni llamadas, ni mensajes, ni datos moviles? La respuesta en mi opinion, es bastante fácil. Solo se requiere de mantenerse en una red de internet wifi y de ahí con aplicaciones como Telegram o WhatsApp uno puede hacer llamadas, mandar mensajes sin problemas y bueno... uno no va a usar datos para ver un video si está conectado a wifi!\n",
    "  \n",
    "Por lo que voy a verificar cuántos de esos usuarios hay."
   ]
  },
  {
   "cell_type": "code",
   "execution_count": 64,
   "metadata": {},
   "outputs": [
    {
     "data": {
      "text/plain": [
       "-10"
      ]
     },
     "execution_count": 64,
     "metadata": {},
     "output_type": "execute_result"
    }
   ],
   "source": [
    "# Ahora vemos como quedo la tabla\n",
    "len(activity_table['user_id'].unique()) - len(users)"
   ]
  },
  {
   "cell_type": "markdown",
   "metadata": {},
   "source": [
    "Como podemos ver, efectivamente hay 10 clientes que no usaron los servicios a lo largo del año! Casos excepcionales, y si hay 10 que hicieron eso quien sabe cuántos clientes no usaron sus servicios a lo largo de 1 mes nada más! Antes de asignar los ingresos mensuales habría que asegurarnos que la `activity_table` tenga todos los clientes aún si no hicieron nada respecto al plan y asegurarnos de no incluir a un cliente en un mes previo a `reg_date` o posterior a `churn_date`."
   ]
  },
  {
   "cell_type": "code",
   "execution_count": 65,
   "metadata": {},
   "outputs": [
    {
     "data": {
      "text/html": [
       "<div>\n",
       "<style scoped>\n",
       "    .dataframe tbody tr th:only-of-type {\n",
       "        vertical-align: middle;\n",
       "    }\n",
       "\n",
       "    .dataframe tbody tr th {\n",
       "        vertical-align: top;\n",
       "    }\n",
       "\n",
       "    .dataframe thead th {\n",
       "        text-align: right;\n",
       "    }\n",
       "</style>\n",
       "<table border=\"1\" class=\"dataframe\">\n",
       "  <thead>\n",
       "    <tr style=\"text-align: right;\">\n",
       "      <th></th>\n",
       "      <th>user_id</th>\n",
       "      <th>month</th>\n",
       "      <th>total_calls</th>\n",
       "      <th>total_minutes</th>\n",
       "      <th>total_messages</th>\n",
       "      <th>mb_used_per_month</th>\n",
       "      <th>plan</th>\n",
       "    </tr>\n",
       "  </thead>\n",
       "  <tbody>\n",
       "    <tr>\n",
       "      <th>0</th>\n",
       "      <td>1000</td>\n",
       "      <td>12</td>\n",
       "      <td>16</td>\n",
       "      <td>116.83</td>\n",
       "      <td>11</td>\n",
       "      <td>1901.47</td>\n",
       "      <td>ultimate</td>\n",
       "    </tr>\n",
       "    <tr>\n",
       "      <th>1</th>\n",
       "      <td>1001</td>\n",
       "      <td>8</td>\n",
       "      <td>27</td>\n",
       "      <td>171.14</td>\n",
       "      <td>30</td>\n",
       "      <td>6919.15</td>\n",
       "      <td>surf</td>\n",
       "    </tr>\n",
       "    <tr>\n",
       "      <th>2</th>\n",
       "      <td>1001</td>\n",
       "      <td>9</td>\n",
       "      <td>49</td>\n",
       "      <td>297.69</td>\n",
       "      <td>44</td>\n",
       "      <td>13314.82</td>\n",
       "      <td>surf</td>\n",
       "    </tr>\n",
       "    <tr>\n",
       "      <th>3</th>\n",
       "      <td>1001</td>\n",
       "      <td>10</td>\n",
       "      <td>65</td>\n",
       "      <td>374.11</td>\n",
       "      <td>53</td>\n",
       "      <td>22330.49</td>\n",
       "      <td>surf</td>\n",
       "    </tr>\n",
       "    <tr>\n",
       "      <th>4</th>\n",
       "      <td>1001</td>\n",
       "      <td>11</td>\n",
       "      <td>64</td>\n",
       "      <td>404.59</td>\n",
       "      <td>36</td>\n",
       "      <td>18504.30</td>\n",
       "      <td>surf</td>\n",
       "    </tr>\n",
       "    <tr>\n",
       "      <th>...</th>\n",
       "      <td>...</td>\n",
       "      <td>...</td>\n",
       "      <td>...</td>\n",
       "      <td>...</td>\n",
       "      <td>...</td>\n",
       "      <td>...</td>\n",
       "      <td>...</td>\n",
       "    </tr>\n",
       "    <tr>\n",
       "      <th>2288</th>\n",
       "      <td>1498</td>\n",
       "      <td>6</td>\n",
       "      <td>37</td>\n",
       "      <td>225.57</td>\n",
       "      <td>0</td>\n",
       "      <td>14807.18</td>\n",
       "      <td>surf</td>\n",
       "    </tr>\n",
       "    <tr>\n",
       "      <th>2289</th>\n",
       "      <td>1499</td>\n",
       "      <td>10</td>\n",
       "      <td>53</td>\n",
       "      <td>363.28</td>\n",
       "      <td>0</td>\n",
       "      <td>19492.43</td>\n",
       "      <td>surf</td>\n",
       "    </tr>\n",
       "    <tr>\n",
       "      <th>2290</th>\n",
       "      <td>1499</td>\n",
       "      <td>11</td>\n",
       "      <td>45</td>\n",
       "      <td>288.56</td>\n",
       "      <td>0</td>\n",
       "      <td>16813.83</td>\n",
       "      <td>surf</td>\n",
       "    </tr>\n",
       "    <tr>\n",
       "      <th>2291</th>\n",
       "      <td>1499</td>\n",
       "      <td>9</td>\n",
       "      <td>41</td>\n",
       "      <td>330.37</td>\n",
       "      <td>0</td>\n",
       "      <td>12984.76</td>\n",
       "      <td>surf</td>\n",
       "    </tr>\n",
       "    <tr>\n",
       "      <th>2292</th>\n",
       "      <td>1499</td>\n",
       "      <td>12</td>\n",
       "      <td>65</td>\n",
       "      <td>468.10</td>\n",
       "      <td>0</td>\n",
       "      <td>22059.21</td>\n",
       "      <td>surf</td>\n",
       "    </tr>\n",
       "  </tbody>\n",
       "</table>\n",
       "<p>2293 rows × 7 columns</p>\n",
       "</div>"
      ],
      "text/plain": [
       "      user_id  month  total_calls  total_minutes  total_messages  \\\n",
       "0        1000     12           16         116.83              11   \n",
       "1        1001      8           27         171.14              30   \n",
       "2        1001      9           49         297.69              44   \n",
       "3        1001     10           65         374.11              53   \n",
       "4        1001     11           64         404.59              36   \n",
       "...       ...    ...          ...            ...             ...   \n",
       "2288     1498      6           37         225.57               0   \n",
       "2289     1499     10           53         363.28               0   \n",
       "2290     1499     11           45         288.56               0   \n",
       "2291     1499      9           41         330.37               0   \n",
       "2292     1499     12           65         468.10               0   \n",
       "\n",
       "      mb_used_per_month      plan  \n",
       "0               1901.47  ultimate  \n",
       "1               6919.15      surf  \n",
       "2              13314.82      surf  \n",
       "3              22330.49      surf  \n",
       "4              18504.30      surf  \n",
       "...                 ...       ...  \n",
       "2288           14807.18      surf  \n",
       "2289           19492.43      surf  \n",
       "2290           16813.83      surf  \n",
       "2291           12984.76      surf  \n",
       "2292           22059.21      surf  \n",
       "\n",
       "[2293 rows x 7 columns]"
      ]
     },
     "execution_count": 65,
     "metadata": {},
     "output_type": "execute_result"
    }
   ],
   "source": [
    "activity_table"
   ]
  },
  {
   "cell_type": "code",
   "execution_count": 66,
   "metadata": {},
   "outputs": [
    {
     "data": {
      "text/plain": [
       "[1025, 1129, 1143, 1269, 1275, 1307, 1319, 1378, 1463, 1473]"
      ]
     },
     "execution_count": 66,
     "metadata": {},
     "output_type": "execute_result"
    }
   ],
   "source": [
    "# Para identificar a estos \"usuarios fantasma\" vamos a recurrir a un for-if y un poco de lógica y así obtener\n",
    "\n",
    "# Primero creamos unas variables globales con 999 sabiendo que la primera id es 1000, aparte de crear donde vamos a guardar las id fantasma\n",
    "prev = 999 \n",
    "missing = []\n",
    "\n",
    "# De ahi solo recorremos los valores únicos de user_id en la `activity_table` \n",
    "for id in np.sort(activity_table['user_id'].unique()):\n",
    "    # Comprobamos si el anterior numero guardado + 1 es diferente al que tenemos ahora\n",
    "    if prev + 1 != id:\n",
    "        missing.append(id - 1) # De ser así, sabemos que el numero anterior a la id q tenemos ahora está faltando\n",
    "    prev = id # Finalmente cambiamos el prev al id que tenemos ahora\n",
    "\n",
    "# Mostramos que números nos faltan\n",
    "missing"
   ]
  },
  {
   "cell_type": "markdown",
   "metadata": {},
   "source": [
    "Sabiendo ya cuales son los \"usuarios fantasma\" (quienes no mostraron actividad a pesar de tener el servicio), ahora vamos a encargarnos de incluirlos en la tabla general. Para eso tendremos que crear un df en donde tengamos el `user_id`, el `month` y `plan` de cada uno para posteriormente unirlo a `activity_table`.\n",
    "  \n",
    "Una funcion vendría de maravilla para crear las filas que simplemente tomen en cuenta los meses."
   ]
  },
  {
   "cell_type": "code",
   "execution_count": 67,
   "metadata": {},
   "outputs": [],
   "source": [
    "def fill_missing(id): \n",
    "    # Primero guardamos el plan y el mes del cliente\n",
    "    plan_4_missing = users.loc[users.user_id == id,'plan'].values[0]\n",
    "    month_4_missing = users.loc[users.user_id == id,'reg_date'].dt.month.values[0]\n",
    "    end_month = 13\n",
    "\n",
    "    if (not pd.isnull(users.loc[users.user_id == id,'churn_date'].values[0])): # Es un caso muy particular, pero si el cliente se dio de baja a lo largo del año\n",
    "        end_month = users.loc[users.user_id == id,'churn_date'].dt.month + 1 # Vamos a sumar 1 para correjir por la forma de trabajar de range()\n",
    "    \n",
    "    dataframe = pd.DataFrame(columns=['user_id','month','plan'])\n",
    "\n",
    "    for month in range(month_4_missing,int(end_month)):\n",
    "        dataframe = pd.concat([\n",
    "            dataframe,\n",
    "            pd.DataFrame({'user_id':[id],'month':[month],'plan':[plan_4_missing]})])\n",
    "\n",
    "    return dataframe"
   ]
  },
  {
   "cell_type": "code",
   "execution_count": 68,
   "metadata": {},
   "outputs": [
    {
     "data": {
      "text/html": [
       "<div>\n",
       "<style scoped>\n",
       "    .dataframe tbody tr th:only-of-type {\n",
       "        vertical-align: middle;\n",
       "    }\n",
       "\n",
       "    .dataframe tbody tr th {\n",
       "        vertical-align: top;\n",
       "    }\n",
       "\n",
       "    .dataframe thead th {\n",
       "        text-align: right;\n",
       "    }\n",
       "</style>\n",
       "<table border=\"1\" class=\"dataframe\">\n",
       "  <thead>\n",
       "    <tr style=\"text-align: right;\">\n",
       "      <th></th>\n",
       "      <th>user_id</th>\n",
       "      <th>month</th>\n",
       "      <th>plan</th>\n",
       "    </tr>\n",
       "  </thead>\n",
       "  <tbody>\n",
       "    <tr>\n",
       "      <th>0</th>\n",
       "      <td>1319</td>\n",
       "      <td>6</td>\n",
       "      <td>surf</td>\n",
       "    </tr>\n",
       "    <tr>\n",
       "      <th>0</th>\n",
       "      <td>1319</td>\n",
       "      <td>7</td>\n",
       "      <td>surf</td>\n",
       "    </tr>\n",
       "    <tr>\n",
       "      <th>0</th>\n",
       "      <td>1319</td>\n",
       "      <td>8</td>\n",
       "      <td>surf</td>\n",
       "    </tr>\n",
       "    <tr>\n",
       "      <th>0</th>\n",
       "      <td>1319</td>\n",
       "      <td>9</td>\n",
       "      <td>surf</td>\n",
       "    </tr>\n",
       "    <tr>\n",
       "      <th>0</th>\n",
       "      <td>1319</td>\n",
       "      <td>10</td>\n",
       "      <td>surf</td>\n",
       "    </tr>\n",
       "    <tr>\n",
       "      <th>0</th>\n",
       "      <td>1319</td>\n",
       "      <td>11</td>\n",
       "      <td>surf</td>\n",
       "    </tr>\n",
       "    <tr>\n",
       "      <th>0</th>\n",
       "      <td>1319</td>\n",
       "      <td>12</td>\n",
       "      <td>surf</td>\n",
       "    </tr>\n",
       "  </tbody>\n",
       "</table>\n",
       "</div>"
      ],
      "text/plain": [
       "  user_id month  plan\n",
       "0    1319     6  surf\n",
       "0    1319     7  surf\n",
       "0    1319     8  surf\n",
       "0    1319     9  surf\n",
       "0    1319    10  surf\n",
       "0    1319    11  surf\n",
       "0    1319    12  surf"
      ]
     },
     "execution_count": 68,
     "metadata": {},
     "output_type": "execute_result"
    }
   ],
   "source": [
    "# Verificamos el funcionamiento\n",
    "fill_missing(1319)"
   ]
  },
  {
   "cell_type": "code",
   "execution_count": 69,
   "metadata": {},
   "outputs": [
    {
     "data": {
      "text/html": [
       "<div>\n",
       "<style scoped>\n",
       "    .dataframe tbody tr th:only-of-type {\n",
       "        vertical-align: middle;\n",
       "    }\n",
       "\n",
       "    .dataframe tbody tr th {\n",
       "        vertical-align: top;\n",
       "    }\n",
       "\n",
       "    .dataframe thead th {\n",
       "        text-align: right;\n",
       "    }\n",
       "</style>\n",
       "<table border=\"1\" class=\"dataframe\">\n",
       "  <thead>\n",
       "    <tr style=\"text-align: right;\">\n",
       "      <th></th>\n",
       "      <th>user_id</th>\n",
       "      <th>month</th>\n",
       "      <th>plan</th>\n",
       "    </tr>\n",
       "  </thead>\n",
       "  <tbody>\n",
       "    <tr>\n",
       "      <th>0</th>\n",
       "      <td>1025</td>\n",
       "      <td>10</td>\n",
       "      <td>ultimate</td>\n",
       "    </tr>\n",
       "    <tr>\n",
       "      <th>1</th>\n",
       "      <td>1025</td>\n",
       "      <td>11</td>\n",
       "      <td>ultimate</td>\n",
       "    </tr>\n",
       "    <tr>\n",
       "      <th>2</th>\n",
       "      <td>1025</td>\n",
       "      <td>12</td>\n",
       "      <td>ultimate</td>\n",
       "    </tr>\n",
       "    <tr>\n",
       "      <th>3</th>\n",
       "      <td>1129</td>\n",
       "      <td>11</td>\n",
       "      <td>surf</td>\n",
       "    </tr>\n",
       "    <tr>\n",
       "      <th>4</th>\n",
       "      <td>1129</td>\n",
       "      <td>12</td>\n",
       "      <td>surf</td>\n",
       "    </tr>\n",
       "    <tr>\n",
       "      <th>5</th>\n",
       "      <td>1143</td>\n",
       "      <td>10</td>\n",
       "      <td>surf</td>\n",
       "    </tr>\n",
       "    <tr>\n",
       "      <th>6</th>\n",
       "      <td>1143</td>\n",
       "      <td>11</td>\n",
       "      <td>surf</td>\n",
       "    </tr>\n",
       "    <tr>\n",
       "      <th>7</th>\n",
       "      <td>1143</td>\n",
       "      <td>12</td>\n",
       "      <td>surf</td>\n",
       "    </tr>\n",
       "    <tr>\n",
       "      <th>8</th>\n",
       "      <td>1269</td>\n",
       "      <td>9</td>\n",
       "      <td>ultimate</td>\n",
       "    </tr>\n",
       "    <tr>\n",
       "      <th>9</th>\n",
       "      <td>1269</td>\n",
       "      <td>10</td>\n",
       "      <td>ultimate</td>\n",
       "    </tr>\n",
       "    <tr>\n",
       "      <th>10</th>\n",
       "      <td>1269</td>\n",
       "      <td>11</td>\n",
       "      <td>ultimate</td>\n",
       "    </tr>\n",
       "    <tr>\n",
       "      <th>11</th>\n",
       "      <td>1269</td>\n",
       "      <td>12</td>\n",
       "      <td>ultimate</td>\n",
       "    </tr>\n",
       "    <tr>\n",
       "      <th>12</th>\n",
       "      <td>1275</td>\n",
       "      <td>11</td>\n",
       "      <td>ultimate</td>\n",
       "    </tr>\n",
       "    <tr>\n",
       "      <th>13</th>\n",
       "      <td>1275</td>\n",
       "      <td>12</td>\n",
       "      <td>ultimate</td>\n",
       "    </tr>\n",
       "    <tr>\n",
       "      <th>14</th>\n",
       "      <td>1307</td>\n",
       "      <td>12</td>\n",
       "      <td>surf</td>\n",
       "    </tr>\n",
       "    <tr>\n",
       "      <th>15</th>\n",
       "      <td>1319</td>\n",
       "      <td>6</td>\n",
       "      <td>surf</td>\n",
       "    </tr>\n",
       "    <tr>\n",
       "      <th>16</th>\n",
       "      <td>1319</td>\n",
       "      <td>7</td>\n",
       "      <td>surf</td>\n",
       "    </tr>\n",
       "    <tr>\n",
       "      <th>17</th>\n",
       "      <td>1319</td>\n",
       "      <td>8</td>\n",
       "      <td>surf</td>\n",
       "    </tr>\n",
       "    <tr>\n",
       "      <th>18</th>\n",
       "      <td>1319</td>\n",
       "      <td>9</td>\n",
       "      <td>surf</td>\n",
       "    </tr>\n",
       "    <tr>\n",
       "      <th>19</th>\n",
       "      <td>1319</td>\n",
       "      <td>10</td>\n",
       "      <td>surf</td>\n",
       "    </tr>\n",
       "    <tr>\n",
       "      <th>20</th>\n",
       "      <td>1319</td>\n",
       "      <td>11</td>\n",
       "      <td>surf</td>\n",
       "    </tr>\n",
       "    <tr>\n",
       "      <th>21</th>\n",
       "      <td>1319</td>\n",
       "      <td>12</td>\n",
       "      <td>surf</td>\n",
       "    </tr>\n",
       "    <tr>\n",
       "      <th>22</th>\n",
       "      <td>1378</td>\n",
       "      <td>12</td>\n",
       "      <td>surf</td>\n",
       "    </tr>\n",
       "    <tr>\n",
       "      <th>23</th>\n",
       "      <td>1463</td>\n",
       "      <td>11</td>\n",
       "      <td>ultimate</td>\n",
       "    </tr>\n",
       "    <tr>\n",
       "      <th>24</th>\n",
       "      <td>1463</td>\n",
       "      <td>12</td>\n",
       "      <td>ultimate</td>\n",
       "    </tr>\n",
       "    <tr>\n",
       "      <th>25</th>\n",
       "      <td>1473</td>\n",
       "      <td>12</td>\n",
       "      <td>surf</td>\n",
       "    </tr>\n",
       "  </tbody>\n",
       "</table>\n",
       "</div>"
      ],
      "text/plain": [
       "   user_id month      plan\n",
       "0     1025    10  ultimate\n",
       "1     1025    11  ultimate\n",
       "2     1025    12  ultimate\n",
       "3     1129    11      surf\n",
       "4     1129    12      surf\n",
       "5     1143    10      surf\n",
       "6     1143    11      surf\n",
       "7     1143    12      surf\n",
       "8     1269     9  ultimate\n",
       "9     1269    10  ultimate\n",
       "10    1269    11  ultimate\n",
       "11    1269    12  ultimate\n",
       "12    1275    11  ultimate\n",
       "13    1275    12  ultimate\n",
       "14    1307    12      surf\n",
       "15    1319     6      surf\n",
       "16    1319     7      surf\n",
       "17    1319     8      surf\n",
       "18    1319     9      surf\n",
       "19    1319    10      surf\n",
       "20    1319    11      surf\n",
       "21    1319    12      surf\n",
       "22    1378    12      surf\n",
       "23    1463    11  ultimate\n",
       "24    1463    12  ultimate\n",
       "25    1473    12      surf"
      ]
     },
     "execution_count": 69,
     "metadata": {},
     "output_type": "execute_result"
    }
   ],
   "source": [
    "# Ahora vamos a aplicar la funcion a los clientes fantasma\n",
    "all_missing_df = pd.DataFrame(columns=['user_id','month','plan'])\n",
    "for userid in missing:\n",
    "    all_missing_df = pd.concat([all_missing_df,fill_missing(userid)])\n",
    "all_missing_df = all_missing_df.reset_index(drop=True)\n",
    "all_missing_df"
   ]
  },
  {
   "cell_type": "markdown",
   "metadata": {},
   "source": [
    "En vez de simplemente reemplazar, voy a crear una variable nueva en la que cargaré todos esos clientes fantasmas y cualquier otro cambio del estilo que decida hacer para despues analizar las dos tablas y ver que obtenemos de ello."
   ]
  },
  {
   "cell_type": "code",
   "execution_count": 70,
   "metadata": {},
   "outputs": [],
   "source": [
    "# Finalmente agregamos los datos fantasma a la tabla general\n",
    "activity_table_with_missing = pd.concat([activity_table,all_missing_df]).fillna(0).sort_values('user_id').reset_index(drop=True)"
   ]
  },
  {
   "cell_type": "code",
   "execution_count": 71,
   "metadata": {},
   "outputs": [
    {
     "data": {
      "text/html": [
       "<div>\n",
       "<style scoped>\n",
       "    .dataframe tbody tr th:only-of-type {\n",
       "        vertical-align: middle;\n",
       "    }\n",
       "\n",
       "    .dataframe tbody tr th {\n",
       "        vertical-align: top;\n",
       "    }\n",
       "\n",
       "    .dataframe thead th {\n",
       "        text-align: right;\n",
       "    }\n",
       "</style>\n",
       "<table border=\"1\" class=\"dataframe\">\n",
       "  <thead>\n",
       "    <tr style=\"text-align: right;\">\n",
       "      <th></th>\n",
       "      <th>user_id</th>\n",
       "      <th>month</th>\n",
       "      <th>total_calls</th>\n",
       "      <th>total_minutes</th>\n",
       "      <th>total_messages</th>\n",
       "      <th>mb_used_per_month</th>\n",
       "      <th>plan</th>\n",
       "    </tr>\n",
       "  </thead>\n",
       "  <tbody>\n",
       "    <tr>\n",
       "      <th>0</th>\n",
       "      <td>1000</td>\n",
       "      <td>12</td>\n",
       "      <td>16.0</td>\n",
       "      <td>116.83</td>\n",
       "      <td>11.0</td>\n",
       "      <td>1901.47</td>\n",
       "      <td>ultimate</td>\n",
       "    </tr>\n",
       "    <tr>\n",
       "      <th>1</th>\n",
       "      <td>1001</td>\n",
       "      <td>8</td>\n",
       "      <td>27.0</td>\n",
       "      <td>171.14</td>\n",
       "      <td>30.0</td>\n",
       "      <td>6919.15</td>\n",
       "      <td>surf</td>\n",
       "    </tr>\n",
       "    <tr>\n",
       "      <th>2</th>\n",
       "      <td>1001</td>\n",
       "      <td>9</td>\n",
       "      <td>49.0</td>\n",
       "      <td>297.69</td>\n",
       "      <td>44.0</td>\n",
       "      <td>13314.82</td>\n",
       "      <td>surf</td>\n",
       "    </tr>\n",
       "    <tr>\n",
       "      <th>3</th>\n",
       "      <td>1001</td>\n",
       "      <td>10</td>\n",
       "      <td>65.0</td>\n",
       "      <td>374.11</td>\n",
       "      <td>53.0</td>\n",
       "      <td>22330.49</td>\n",
       "      <td>surf</td>\n",
       "    </tr>\n",
       "    <tr>\n",
       "      <th>4</th>\n",
       "      <td>1001</td>\n",
       "      <td>11</td>\n",
       "      <td>64.0</td>\n",
       "      <td>404.59</td>\n",
       "      <td>36.0</td>\n",
       "      <td>18504.30</td>\n",
       "      <td>surf</td>\n",
       "    </tr>\n",
       "    <tr>\n",
       "      <th>...</th>\n",
       "      <td>...</td>\n",
       "      <td>...</td>\n",
       "      <td>...</td>\n",
       "      <td>...</td>\n",
       "      <td>...</td>\n",
       "      <td>...</td>\n",
       "      <td>...</td>\n",
       "    </tr>\n",
       "    <tr>\n",
       "      <th>2314</th>\n",
       "      <td>1498</td>\n",
       "      <td>6</td>\n",
       "      <td>37.0</td>\n",
       "      <td>225.57</td>\n",
       "      <td>0.0</td>\n",
       "      <td>14807.18</td>\n",
       "      <td>surf</td>\n",
       "    </tr>\n",
       "    <tr>\n",
       "      <th>2315</th>\n",
       "      <td>1499</td>\n",
       "      <td>12</td>\n",
       "      <td>65.0</td>\n",
       "      <td>468.10</td>\n",
       "      <td>0.0</td>\n",
       "      <td>22059.21</td>\n",
       "      <td>surf</td>\n",
       "    </tr>\n",
       "    <tr>\n",
       "      <th>2316</th>\n",
       "      <td>1499</td>\n",
       "      <td>9</td>\n",
       "      <td>41.0</td>\n",
       "      <td>330.37</td>\n",
       "      <td>0.0</td>\n",
       "      <td>12984.76</td>\n",
       "      <td>surf</td>\n",
       "    </tr>\n",
       "    <tr>\n",
       "      <th>2317</th>\n",
       "      <td>1499</td>\n",
       "      <td>11</td>\n",
       "      <td>45.0</td>\n",
       "      <td>288.56</td>\n",
       "      <td>0.0</td>\n",
       "      <td>16813.83</td>\n",
       "      <td>surf</td>\n",
       "    </tr>\n",
       "    <tr>\n",
       "      <th>2318</th>\n",
       "      <td>1499</td>\n",
       "      <td>10</td>\n",
       "      <td>53.0</td>\n",
       "      <td>363.28</td>\n",
       "      <td>0.0</td>\n",
       "      <td>19492.43</td>\n",
       "      <td>surf</td>\n",
       "    </tr>\n",
       "  </tbody>\n",
       "</table>\n",
       "<p>2319 rows × 7 columns</p>\n",
       "</div>"
      ],
      "text/plain": [
       "      user_id  month  total_calls  total_minutes  total_messages  \\\n",
       "0        1000     12         16.0         116.83            11.0   \n",
       "1        1001      8         27.0         171.14            30.0   \n",
       "2        1001      9         49.0         297.69            44.0   \n",
       "3        1001     10         65.0         374.11            53.0   \n",
       "4        1001     11         64.0         404.59            36.0   \n",
       "...       ...    ...          ...            ...             ...   \n",
       "2314     1498      6         37.0         225.57             0.0   \n",
       "2315     1499     12         65.0         468.10             0.0   \n",
       "2316     1499      9         41.0         330.37             0.0   \n",
       "2317     1499     11         45.0         288.56             0.0   \n",
       "2318     1499     10         53.0         363.28             0.0   \n",
       "\n",
       "      mb_used_per_month      plan  \n",
       "0               1901.47  ultimate  \n",
       "1               6919.15      surf  \n",
       "2              13314.82      surf  \n",
       "3              22330.49      surf  \n",
       "4              18504.30      surf  \n",
       "...                 ...       ...  \n",
       "2314           14807.18      surf  \n",
       "2315           22059.21      surf  \n",
       "2316           12984.76      surf  \n",
       "2317           16813.83      surf  \n",
       "2318           19492.43      surf  \n",
       "\n",
       "[2319 rows x 7 columns]"
      ]
     },
     "execution_count": 71,
     "metadata": {},
     "output_type": "execute_result"
    }
   ],
   "source": [
    "# Y revisamos como quedó la tabla\n",
    "activity_table_with_missing"
   ]
  },
  {
   "cell_type": "markdown",
   "metadata": {},
   "source": [
    "Un pensamiento que tuve mientras trabajaba en lo anterior fue: Si algunos clientes pasaron tanto tiempo sin tener actividad, que detiene a un cliente de no tener actividad durante 1 mes? Por lo que mi siguiente aventura será no solo descubrir los \"clientes fantasma\" sino tambien esos \"meses fantasma\".\n",
    "  \n",
    "Habrá que hacer otra funcion que nos ayude con eso!"
   ]
  },
  {
   "cell_type": "code",
   "execution_count": 72,
   "metadata": {},
   "outputs": [],
   "source": [
    "def fill_missing_months(ids):\n",
    "    dataframe = pd.DataFrame(columns=['user_id','month','plan'])\n",
    "    for user_id in ids:    \n",
    "        active_months = activity_table.loc[activity_table.user_id == user_id,'month'].values\n",
    "        reg_month = users.loc[users.user_id == user_id,'reg_date'].dt.month.values[0]\n",
    "        end_month = 13\n",
    "        plan = users.loc[users.user_id == user_id,'plan'].values[0]\n",
    "\n",
    "        # De vuelta, tomamos la precaución por si el usuario se dio de baja\n",
    "        if (not pd.isnull(users.loc[users.user_id == id,'churn_date'].values[0])): \n",
    "            end_month = users.loc[users.user_id == user_id,'churn_date'].dt.month.values[0] + 1\n",
    "\n",
    "        for month in range(reg_month,end_month):\n",
    "            if month not in active_months:\n",
    "                dataframe = pd.concat([dataframe, pd.DataFrame({'user_id':[user_id],'month':[month],'plan':[plan]})])\n",
    "    return dataframe"
   ]
  },
  {
   "cell_type": "code",
   "execution_count": 73,
   "metadata": {},
   "outputs": [],
   "source": [
    "# Cargamos los meses faltantes en una variable para no cargar a la computadora cada que quieramos verlos\n",
    "missing_months = fill_missing_months(users['user_id'].values)"
   ]
  },
  {
   "cell_type": "code",
   "execution_count": 74,
   "metadata": {},
   "outputs": [
    {
     "data": {
      "text/html": [
       "<div>\n",
       "<style scoped>\n",
       "    .dataframe tbody tr th:only-of-type {\n",
       "        vertical-align: middle;\n",
       "    }\n",
       "\n",
       "    .dataframe tbody tr th {\n",
       "        vertical-align: top;\n",
       "    }\n",
       "\n",
       "    .dataframe thead th {\n",
       "        text-align: right;\n",
       "    }\n",
       "</style>\n",
       "<table border=\"1\" class=\"dataframe\">\n",
       "  <thead>\n",
       "    <tr style=\"text-align: right;\">\n",
       "      <th></th>\n",
       "      <th>user_id</th>\n",
       "      <th>month</th>\n",
       "      <th>plan</th>\n",
       "    </tr>\n",
       "  </thead>\n",
       "  <tbody>\n",
       "    <tr>\n",
       "      <th>0</th>\n",
       "      <td>1003</td>\n",
       "      <td>1</td>\n",
       "      <td>surf</td>\n",
       "    </tr>\n",
       "    <tr>\n",
       "      <th>0</th>\n",
       "      <td>1003</td>\n",
       "      <td>2</td>\n",
       "      <td>surf</td>\n",
       "    </tr>\n",
       "    <tr>\n",
       "      <th>0</th>\n",
       "      <td>1003</td>\n",
       "      <td>3</td>\n",
       "      <td>surf</td>\n",
       "    </tr>\n",
       "    <tr>\n",
       "      <th>0</th>\n",
       "      <td>1003</td>\n",
       "      <td>4</td>\n",
       "      <td>surf</td>\n",
       "    </tr>\n",
       "    <tr>\n",
       "      <th>0</th>\n",
       "      <td>1003</td>\n",
       "      <td>5</td>\n",
       "      <td>surf</td>\n",
       "    </tr>\n",
       "    <tr>\n",
       "      <th>...</th>\n",
       "      <td>...</td>\n",
       "      <td>...</td>\n",
       "      <td>...</td>\n",
       "    </tr>\n",
       "    <tr>\n",
       "      <th>0</th>\n",
       "      <td>1496</td>\n",
       "      <td>7</td>\n",
       "      <td>surf</td>\n",
       "    </tr>\n",
       "    <tr>\n",
       "      <th>0</th>\n",
       "      <td>1499</td>\n",
       "      <td>5</td>\n",
       "      <td>surf</td>\n",
       "    </tr>\n",
       "    <tr>\n",
       "      <th>0</th>\n",
       "      <td>1499</td>\n",
       "      <td>6</td>\n",
       "      <td>surf</td>\n",
       "    </tr>\n",
       "    <tr>\n",
       "      <th>0</th>\n",
       "      <td>1499</td>\n",
       "      <td>7</td>\n",
       "      <td>surf</td>\n",
       "    </tr>\n",
       "    <tr>\n",
       "      <th>0</th>\n",
       "      <td>1499</td>\n",
       "      <td>8</td>\n",
       "      <td>surf</td>\n",
       "    </tr>\n",
       "  </tbody>\n",
       "</table>\n",
       "<p>1062 rows × 3 columns</p>\n",
       "</div>"
      ],
      "text/plain": [
       "   user_id month  plan\n",
       "0     1003     1  surf\n",
       "0     1003     2  surf\n",
       "0     1003     3  surf\n",
       "0     1003     4  surf\n",
       "0     1003     5  surf\n",
       "..     ...   ...   ...\n",
       "0     1496     7  surf\n",
       "0     1499     5  surf\n",
       "0     1499     6  surf\n",
       "0     1499     7  surf\n",
       "0     1499     8  surf\n",
       "\n",
       "[1062 rows x 3 columns]"
      ]
     },
     "execution_count": 74,
     "metadata": {},
     "output_type": "execute_result"
    }
   ],
   "source": [
    "# Y ahora la veamos\n",
    "missing_months"
   ]
  },
  {
   "cell_type": "code",
   "execution_count": 75,
   "metadata": {},
   "outputs": [
    {
     "data": {
      "text/html": [
       "<div>\n",
       "<style scoped>\n",
       "    .dataframe tbody tr th:only-of-type {\n",
       "        vertical-align: middle;\n",
       "    }\n",
       "\n",
       "    .dataframe tbody tr th {\n",
       "        vertical-align: top;\n",
       "    }\n",
       "\n",
       "    .dataframe thead th {\n",
       "        text-align: right;\n",
       "    }\n",
       "</style>\n",
       "<table border=\"1\" class=\"dataframe\">\n",
       "  <thead>\n",
       "    <tr style=\"text-align: right;\">\n",
       "      <th></th>\n",
       "      <th>user_id</th>\n",
       "      <th>first_name</th>\n",
       "      <th>last_name</th>\n",
       "      <th>age</th>\n",
       "      <th>age_catg</th>\n",
       "      <th>city</th>\n",
       "      <th>reg_date</th>\n",
       "      <th>plan</th>\n",
       "      <th>plan_id</th>\n",
       "      <th>churn_date</th>\n",
       "    </tr>\n",
       "  </thead>\n",
       "  <tbody>\n",
       "    <tr>\n",
       "      <th>3</th>\n",
       "      <td>1003</td>\n",
       "      <td>Reynaldo</td>\n",
       "      <td>Jenkins</td>\n",
       "      <td>52</td>\n",
       "      <td>3</td>\n",
       "      <td>Tulsa, OK MSA</td>\n",
       "      <td>2018-01-28</td>\n",
       "      <td>surf</td>\n",
       "      <td>0</td>\n",
       "      <td>NaT</td>\n",
       "    </tr>\n",
       "  </tbody>\n",
       "</table>\n",
       "</div>"
      ],
      "text/plain": [
       "   user_id first_name last_name  age  age_catg           city   reg_date  \\\n",
       "3     1003   Reynaldo   Jenkins   52         3  Tulsa, OK MSA 2018-01-28   \n",
       "\n",
       "   plan  plan_id churn_date  \n",
       "3  surf        0        NaT  "
      ]
     },
     "execution_count": 75,
     "metadata": {},
     "output_type": "execute_result"
    }
   ],
   "source": [
    "# Primero veremos la fecha de registro en la tabla users, elegimos la id 1003 ya que la vemos ahí\n",
    "users.loc[users.user_id == 1003,:]"
   ]
  },
  {
   "cell_type": "code",
   "execution_count": 76,
   "metadata": {},
   "outputs": [
    {
     "data": {
      "text/html": [
       "<div>\n",
       "<style scoped>\n",
       "    .dataframe tbody tr th:only-of-type {\n",
       "        vertical-align: middle;\n",
       "    }\n",
       "\n",
       "    .dataframe tbody tr th {\n",
       "        vertical-align: top;\n",
       "    }\n",
       "\n",
       "    .dataframe thead th {\n",
       "        text-align: right;\n",
       "    }\n",
       "</style>\n",
       "<table border=\"1\" class=\"dataframe\">\n",
       "  <thead>\n",
       "    <tr style=\"text-align: right;\">\n",
       "      <th></th>\n",
       "      <th>user_id</th>\n",
       "      <th>month</th>\n",
       "      <th>total_calls</th>\n",
       "      <th>total_minutes</th>\n",
       "      <th>total_messages</th>\n",
       "      <th>mb_used_per_month</th>\n",
       "      <th>plan</th>\n",
       "    </tr>\n",
       "  </thead>\n",
       "  <tbody>\n",
       "    <tr>\n",
       "      <th>9</th>\n",
       "      <td>1003</td>\n",
       "      <td>12</td>\n",
       "      <td>149</td>\n",
       "      <td>1041.0</td>\n",
       "      <td>50</td>\n",
       "      <td>27044.14</td>\n",
       "      <td>surf</td>\n",
       "    </tr>\n",
       "  </tbody>\n",
       "</table>\n",
       "</div>"
      ],
      "text/plain": [
       "   user_id  month  total_calls  total_minutes  total_messages  \\\n",
       "9     1003     12          149         1041.0              50   \n",
       "\n",
       "   mb_used_per_month  plan  \n",
       "9           27044.14  surf  "
      ]
     },
     "execution_count": 76,
     "metadata": {},
     "output_type": "execute_result"
    }
   ],
   "source": [
    "# Revisamos si efectivamente no hay actividad\n",
    "activity_table.loc[activity_table.user_id == 1003,:]"
   ]
  },
  {
   "cell_type": "code",
   "execution_count": 77,
   "metadata": {},
   "outputs": [],
   "source": [
    "# Y con la confianza de que la tabla actuó bien, vamos a agregar esas filas a nuestra tabla\n",
    "activity_table_with_missing = pd.concat([activity_table_with_missing,missing_months]).fillna(0).sort_values('user_id').reset_index(drop=True)"
   ]
  },
  {
   "cell_type": "code",
   "execution_count": 78,
   "metadata": {},
   "outputs": [
    {
     "data": {
      "text/html": [
       "<div>\n",
       "<style scoped>\n",
       "    .dataframe tbody tr th:only-of-type {\n",
       "        vertical-align: middle;\n",
       "    }\n",
       "\n",
       "    .dataframe tbody tr th {\n",
       "        vertical-align: top;\n",
       "    }\n",
       "\n",
       "    .dataframe thead th {\n",
       "        text-align: right;\n",
       "    }\n",
       "</style>\n",
       "<table border=\"1\" class=\"dataframe\">\n",
       "  <thead>\n",
       "    <tr style=\"text-align: right;\">\n",
       "      <th></th>\n",
       "      <th>user_id</th>\n",
       "      <th>month</th>\n",
       "      <th>total_calls</th>\n",
       "      <th>total_minutes</th>\n",
       "      <th>total_messages</th>\n",
       "      <th>mb_used_per_month</th>\n",
       "      <th>plan</th>\n",
       "    </tr>\n",
       "  </thead>\n",
       "  <tbody>\n",
       "    <tr>\n",
       "      <th>0</th>\n",
       "      <td>1000</td>\n",
       "      <td>12</td>\n",
       "      <td>16.0</td>\n",
       "      <td>116.83</td>\n",
       "      <td>11.0</td>\n",
       "      <td>1901.47</td>\n",
       "      <td>ultimate</td>\n",
       "    </tr>\n",
       "    <tr>\n",
       "      <th>1</th>\n",
       "      <td>1001</td>\n",
       "      <td>8</td>\n",
       "      <td>27.0</td>\n",
       "      <td>171.14</td>\n",
       "      <td>30.0</td>\n",
       "      <td>6919.15</td>\n",
       "      <td>surf</td>\n",
       "    </tr>\n",
       "    <tr>\n",
       "      <th>2</th>\n",
       "      <td>1001</td>\n",
       "      <td>9</td>\n",
       "      <td>49.0</td>\n",
       "      <td>297.69</td>\n",
       "      <td>44.0</td>\n",
       "      <td>13314.82</td>\n",
       "      <td>surf</td>\n",
       "    </tr>\n",
       "    <tr>\n",
       "      <th>3</th>\n",
       "      <td>1001</td>\n",
       "      <td>10</td>\n",
       "      <td>65.0</td>\n",
       "      <td>374.11</td>\n",
       "      <td>53.0</td>\n",
       "      <td>22330.49</td>\n",
       "      <td>surf</td>\n",
       "    </tr>\n",
       "    <tr>\n",
       "      <th>4</th>\n",
       "      <td>1001</td>\n",
       "      <td>11</td>\n",
       "      <td>64.0</td>\n",
       "      <td>404.59</td>\n",
       "      <td>36.0</td>\n",
       "      <td>18504.30</td>\n",
       "      <td>surf</td>\n",
       "    </tr>\n",
       "    <tr>\n",
       "      <th>...</th>\n",
       "      <td>...</td>\n",
       "      <td>...</td>\n",
       "      <td>...</td>\n",
       "      <td>...</td>\n",
       "      <td>...</td>\n",
       "      <td>...</td>\n",
       "      <td>...</td>\n",
       "    </tr>\n",
       "    <tr>\n",
       "      <th>3376</th>\n",
       "      <td>1499</td>\n",
       "      <td>10</td>\n",
       "      <td>53.0</td>\n",
       "      <td>363.28</td>\n",
       "      <td>0.0</td>\n",
       "      <td>19492.43</td>\n",
       "      <td>surf</td>\n",
       "    </tr>\n",
       "    <tr>\n",
       "      <th>3377</th>\n",
       "      <td>1499</td>\n",
       "      <td>12</td>\n",
       "      <td>65.0</td>\n",
       "      <td>468.10</td>\n",
       "      <td>0.0</td>\n",
       "      <td>22059.21</td>\n",
       "      <td>surf</td>\n",
       "    </tr>\n",
       "    <tr>\n",
       "      <th>3378</th>\n",
       "      <td>1499</td>\n",
       "      <td>9</td>\n",
       "      <td>41.0</td>\n",
       "      <td>330.37</td>\n",
       "      <td>0.0</td>\n",
       "      <td>12984.76</td>\n",
       "      <td>surf</td>\n",
       "    </tr>\n",
       "    <tr>\n",
       "      <th>3379</th>\n",
       "      <td>1499</td>\n",
       "      <td>7</td>\n",
       "      <td>0.0</td>\n",
       "      <td>0.00</td>\n",
       "      <td>0.0</td>\n",
       "      <td>0.00</td>\n",
       "      <td>surf</td>\n",
       "    </tr>\n",
       "    <tr>\n",
       "      <th>3380</th>\n",
       "      <td>1499</td>\n",
       "      <td>8</td>\n",
       "      <td>0.0</td>\n",
       "      <td>0.00</td>\n",
       "      <td>0.0</td>\n",
       "      <td>0.00</td>\n",
       "      <td>surf</td>\n",
       "    </tr>\n",
       "  </tbody>\n",
       "</table>\n",
       "<p>3381 rows × 7 columns</p>\n",
       "</div>"
      ],
      "text/plain": [
       "      user_id  month  total_calls  total_minutes  total_messages  \\\n",
       "0        1000     12         16.0         116.83            11.0   \n",
       "1        1001      8         27.0         171.14            30.0   \n",
       "2        1001      9         49.0         297.69            44.0   \n",
       "3        1001     10         65.0         374.11            53.0   \n",
       "4        1001     11         64.0         404.59            36.0   \n",
       "...       ...    ...          ...            ...             ...   \n",
       "3376     1499     10         53.0         363.28             0.0   \n",
       "3377     1499     12         65.0         468.10             0.0   \n",
       "3378     1499      9         41.0         330.37             0.0   \n",
       "3379     1499      7          0.0           0.00             0.0   \n",
       "3380     1499      8          0.0           0.00             0.0   \n",
       "\n",
       "      mb_used_per_month      plan  \n",
       "0               1901.47  ultimate  \n",
       "1               6919.15      surf  \n",
       "2              13314.82      surf  \n",
       "3              22330.49      surf  \n",
       "4              18504.30      surf  \n",
       "...                 ...       ...  \n",
       "3376           19492.43      surf  \n",
       "3377           22059.21      surf  \n",
       "3378           12984.76      surf  \n",
       "3379               0.00      surf  \n",
       "3380               0.00      surf  \n",
       "\n",
       "[3381 rows x 7 columns]"
      ]
     },
     "execution_count": 78,
     "metadata": {},
     "output_type": "execute_result"
    }
   ],
   "source": [
    "# Finalmente revisamos cómo quedó todo\n",
    "activity_table_with_missing"
   ]
  },
  {
   "cell_type": "markdown",
   "metadata": {},
   "source": [
    "Con el tema de los usuarios fantasma fuera del medio, vamos a hacer una funcion para obtener el ingreso por cliente por mes según los recursos que gastó"
   ]
  },
  {
   "cell_type": "code",
   "execution_count": 79,
   "metadata": {},
   "outputs": [],
   "source": [
    "def get_additional_income(row):\n",
    "\n",
    "    # Primero creamos estas variables para facilitar el trabajo\n",
    "    monthly_income = 0\n",
    "    plan = row['plan']\n",
    "    mb_used_per_month = float(row.loc['mb_used_per_month'])\n",
    "    mb_per_month_included = float(plans.loc[(plans.plan_name == plan),'mb_per_month_included'].item())\n",
    "    usd_per_gb = float(plans.loc[plans.plan_name == plan]['usd_per_gb'])\n",
    "    total_messages = row.loc['total_messages']\n",
    "    messages_included = plans.loc[(plans.plan_name == plan),'messages_included'].item()\n",
    "    usd_per_message = float(plans.loc[plans.plan_name == plan]['usd_per_message'])\n",
    "    total_minutes = float(row.loc['total_minutes'])\n",
    "    minutes_included = float(plans.loc[(plans.plan_name == plan),'minutes_included'].item())\n",
    "    usd_per_minute = float(plans.loc[plans.plan_name == plan]['usd_per_minute'])\n",
    "\n",
    "    # Sumamos monthly_pay\n",
    "    monthly_income += plans.loc[(plans.plan_name == plan),'usd_monthly_pay'].item()\n",
    "    \n",
    "    # Verificamos si gastó más internet de lo que tiene el plan y sumamos acorde de ser así\n",
    "    if (mb_used_per_month > mb_per_month_included): # Acá abajo calculamos cuánto gastó, lo pasamos a gb y redondeamos para arriba\n",
    "        monthly_income += usd_per_gb*np.ceil((mb_used_per_month - mb_per_month_included)/1000)\n",
    "\n",
    "    # Verificamos si mandó más mensajes de los que tiene el plan y sumamos acorde de ser así\n",
    "    if (total_messages > messages_included): # Acá abajo calculamos cuántos mandó y\n",
    "        monthly_income += usd_per_message*(total_messages - messages_included)\n",
    "\n",
    "    # Verificamos si gastó más minutos de los que tiene el plan y sumamos acorde de ser así\n",
    "    if (total_minutes > minutes_included): # Aca abajo calculamos cuántos minutos de más gastó y lo redondeamos para arriba\n",
    "        monthly_income += usd_per_minute*np.ceil(total_minutes - minutes_included)\n",
    "\n",
    "    # Finalmente devolvemos cuánto fue el gasto total del cliente en ese mes\n",
    "    return monthly_income"
   ]
  },
  {
   "cell_type": "code",
   "execution_count": 80,
   "metadata": {},
   "outputs": [
    {
     "name": "stdout",
     "output_type": "stream",
     "text": [
      "70\n"
     ]
    },
    {
     "data": {
      "text/plain": [
       "user_id                  1088\n",
       "month                       8\n",
       "total_calls                29\n",
       "total_minutes          226.12\n",
       "total_messages             42\n",
       "mb_used_per_month    19089.65\n",
       "plan                 ultimate\n",
       "Name: 420, dtype: object"
      ]
     },
     "execution_count": 80,
     "metadata": {},
     "output_type": "execute_result"
    }
   ],
   "source": [
    "# Probamos la funcion con una fila aleatoria\n",
    "print(get_additional_income(activity_table.loc[420,:]))\n",
    "\n",
    "# Imprimimos la fila para verificar a mano\n",
    "activity_table.loc[420,:]"
   ]
  },
  {
   "cell_type": "markdown",
   "metadata": {},
   "source": [
    "Perfecto, los numeros dan como deberían. Ahora solo queda agregar la fila `monthly_income` a nuestra tabla y va a estar lista!"
   ]
  },
  {
   "cell_type": "code",
   "execution_count": 81,
   "metadata": {},
   "outputs": [],
   "source": [
    "# Creamos la nueva tabla de monthly_income con la ayuda de apply\n",
    "activity_table['usd_monthly_income'] = activity_table.apply(get_additional_income,axis=1)"
   ]
  },
  {
   "cell_type": "code",
   "execution_count": 82,
   "metadata": {},
   "outputs": [],
   "source": [
    "# Hacemos lo mismo para la tabla con ausentes\n",
    "activity_table_with_missing['usd_monthly_income'] = activity_table_with_missing.apply(get_additional_income,axis=1)"
   ]
  },
  {
   "cell_type": "code",
   "execution_count": 83,
   "metadata": {
    "scrolled": true
   },
   "outputs": [
    {
     "data": {
      "text/html": [
       "<div>\n",
       "<style scoped>\n",
       "    .dataframe tbody tr th:only-of-type {\n",
       "        vertical-align: middle;\n",
       "    }\n",
       "\n",
       "    .dataframe tbody tr th {\n",
       "        vertical-align: top;\n",
       "    }\n",
       "\n",
       "    .dataframe thead th {\n",
       "        text-align: right;\n",
       "    }\n",
       "</style>\n",
       "<table border=\"1\" class=\"dataframe\">\n",
       "  <thead>\n",
       "    <tr style=\"text-align: right;\">\n",
       "      <th></th>\n",
       "      <th>user_id</th>\n",
       "      <th>month</th>\n",
       "      <th>total_calls</th>\n",
       "      <th>total_minutes</th>\n",
       "      <th>total_messages</th>\n",
       "      <th>mb_used_per_month</th>\n",
       "      <th>plan</th>\n",
       "      <th>usd_monthly_income</th>\n",
       "    </tr>\n",
       "  </thead>\n",
       "  <tbody>\n",
       "    <tr>\n",
       "      <th>0</th>\n",
       "      <td>1000</td>\n",
       "      <td>12</td>\n",
       "      <td>16</td>\n",
       "      <td>116.83</td>\n",
       "      <td>11</td>\n",
       "      <td>1901.47</td>\n",
       "      <td>ultimate</td>\n",
       "      <td>70.00</td>\n",
       "    </tr>\n",
       "    <tr>\n",
       "      <th>1</th>\n",
       "      <td>1001</td>\n",
       "      <td>8</td>\n",
       "      <td>27</td>\n",
       "      <td>171.14</td>\n",
       "      <td>30</td>\n",
       "      <td>6919.15</td>\n",
       "      <td>surf</td>\n",
       "      <td>20.00</td>\n",
       "    </tr>\n",
       "    <tr>\n",
       "      <th>2</th>\n",
       "      <td>1001</td>\n",
       "      <td>9</td>\n",
       "      <td>49</td>\n",
       "      <td>297.69</td>\n",
       "      <td>44</td>\n",
       "      <td>13314.82</td>\n",
       "      <td>surf</td>\n",
       "      <td>20.00</td>\n",
       "    </tr>\n",
       "    <tr>\n",
       "      <th>3</th>\n",
       "      <td>1001</td>\n",
       "      <td>10</td>\n",
       "      <td>65</td>\n",
       "      <td>374.11</td>\n",
       "      <td>53</td>\n",
       "      <td>22330.49</td>\n",
       "      <td>surf</td>\n",
       "      <td>90.09</td>\n",
       "    </tr>\n",
       "    <tr>\n",
       "      <th>4</th>\n",
       "      <td>1001</td>\n",
       "      <td>11</td>\n",
       "      <td>64</td>\n",
       "      <td>404.59</td>\n",
       "      <td>36</td>\n",
       "      <td>18504.30</td>\n",
       "      <td>surf</td>\n",
       "      <td>60.00</td>\n",
       "    </tr>\n",
       "    <tr>\n",
       "      <th>...</th>\n",
       "      <td>...</td>\n",
       "      <td>...</td>\n",
       "      <td>...</td>\n",
       "      <td>...</td>\n",
       "      <td>...</td>\n",
       "      <td>...</td>\n",
       "      <td>...</td>\n",
       "      <td>...</td>\n",
       "    </tr>\n",
       "    <tr>\n",
       "      <th>2288</th>\n",
       "      <td>1498</td>\n",
       "      <td>6</td>\n",
       "      <td>37</td>\n",
       "      <td>225.57</td>\n",
       "      <td>0</td>\n",
       "      <td>14807.18</td>\n",
       "      <td>surf</td>\n",
       "      <td>20.00</td>\n",
       "    </tr>\n",
       "    <tr>\n",
       "      <th>2289</th>\n",
       "      <td>1499</td>\n",
       "      <td>10</td>\n",
       "      <td>53</td>\n",
       "      <td>363.28</td>\n",
       "      <td>0</td>\n",
       "      <td>19492.43</td>\n",
       "      <td>surf</td>\n",
       "      <td>70.00</td>\n",
       "    </tr>\n",
       "    <tr>\n",
       "      <th>2290</th>\n",
       "      <td>1499</td>\n",
       "      <td>11</td>\n",
       "      <td>45</td>\n",
       "      <td>288.56</td>\n",
       "      <td>0</td>\n",
       "      <td>16813.83</td>\n",
       "      <td>surf</td>\n",
       "      <td>40.00</td>\n",
       "    </tr>\n",
       "    <tr>\n",
       "      <th>2291</th>\n",
       "      <td>1499</td>\n",
       "      <td>9</td>\n",
       "      <td>41</td>\n",
       "      <td>330.37</td>\n",
       "      <td>0</td>\n",
       "      <td>12984.76</td>\n",
       "      <td>surf</td>\n",
       "      <td>20.00</td>\n",
       "    </tr>\n",
       "    <tr>\n",
       "      <th>2292</th>\n",
       "      <td>1499</td>\n",
       "      <td>12</td>\n",
       "      <td>65</td>\n",
       "      <td>468.10</td>\n",
       "      <td>0</td>\n",
       "      <td>22059.21</td>\n",
       "      <td>surf</td>\n",
       "      <td>90.00</td>\n",
       "    </tr>\n",
       "  </tbody>\n",
       "</table>\n",
       "<p>2293 rows × 8 columns</p>\n",
       "</div>"
      ],
      "text/plain": [
       "      user_id  month  total_calls  total_minutes  total_messages  \\\n",
       "0        1000     12           16         116.83              11   \n",
       "1        1001      8           27         171.14              30   \n",
       "2        1001      9           49         297.69              44   \n",
       "3        1001     10           65         374.11              53   \n",
       "4        1001     11           64         404.59              36   \n",
       "...       ...    ...          ...            ...             ...   \n",
       "2288     1498      6           37         225.57               0   \n",
       "2289     1499     10           53         363.28               0   \n",
       "2290     1499     11           45         288.56               0   \n",
       "2291     1499      9           41         330.37               0   \n",
       "2292     1499     12           65         468.10               0   \n",
       "\n",
       "      mb_used_per_month      plan  usd_monthly_income  \n",
       "0               1901.47  ultimate               70.00  \n",
       "1               6919.15      surf               20.00  \n",
       "2              13314.82      surf               20.00  \n",
       "3              22330.49      surf               90.09  \n",
       "4              18504.30      surf               60.00  \n",
       "...                 ...       ...                 ...  \n",
       "2288           14807.18      surf               20.00  \n",
       "2289           19492.43      surf               70.00  \n",
       "2290           16813.83      surf               40.00  \n",
       "2291           12984.76      surf               20.00  \n",
       "2292           22059.21      surf               90.00  \n",
       "\n",
       "[2293 rows x 8 columns]"
      ]
     },
     "execution_count": 83,
     "metadata": {},
     "output_type": "execute_result"
    }
   ],
   "source": [
    "# Por ultimo vemos nuestra hermosa creación\n",
    "activity_table"
   ]
  },
  {
   "cell_type": "code",
   "execution_count": 84,
   "metadata": {
    "scrolled": true
   },
   "outputs": [
    {
     "data": {
      "text/html": [
       "<div>\n",
       "<style scoped>\n",
       "    .dataframe tbody tr th:only-of-type {\n",
       "        vertical-align: middle;\n",
       "    }\n",
       "\n",
       "    .dataframe tbody tr th {\n",
       "        vertical-align: top;\n",
       "    }\n",
       "\n",
       "    .dataframe thead th {\n",
       "        text-align: right;\n",
       "    }\n",
       "</style>\n",
       "<table border=\"1\" class=\"dataframe\">\n",
       "  <thead>\n",
       "    <tr style=\"text-align: right;\">\n",
       "      <th></th>\n",
       "      <th>user_id</th>\n",
       "      <th>month</th>\n",
       "      <th>total_calls</th>\n",
       "      <th>total_minutes</th>\n",
       "      <th>total_messages</th>\n",
       "      <th>mb_used_per_month</th>\n",
       "      <th>plan</th>\n",
       "      <th>usd_monthly_income</th>\n",
       "    </tr>\n",
       "  </thead>\n",
       "  <tbody>\n",
       "    <tr>\n",
       "      <th>0</th>\n",
       "      <td>1000</td>\n",
       "      <td>12</td>\n",
       "      <td>16.0</td>\n",
       "      <td>116.83</td>\n",
       "      <td>11.0</td>\n",
       "      <td>1901.47</td>\n",
       "      <td>ultimate</td>\n",
       "      <td>70.00</td>\n",
       "    </tr>\n",
       "    <tr>\n",
       "      <th>1</th>\n",
       "      <td>1001</td>\n",
       "      <td>8</td>\n",
       "      <td>27.0</td>\n",
       "      <td>171.14</td>\n",
       "      <td>30.0</td>\n",
       "      <td>6919.15</td>\n",
       "      <td>surf</td>\n",
       "      <td>20.00</td>\n",
       "    </tr>\n",
       "    <tr>\n",
       "      <th>2</th>\n",
       "      <td>1001</td>\n",
       "      <td>9</td>\n",
       "      <td>49.0</td>\n",
       "      <td>297.69</td>\n",
       "      <td>44.0</td>\n",
       "      <td>13314.82</td>\n",
       "      <td>surf</td>\n",
       "      <td>20.00</td>\n",
       "    </tr>\n",
       "    <tr>\n",
       "      <th>3</th>\n",
       "      <td>1001</td>\n",
       "      <td>10</td>\n",
       "      <td>65.0</td>\n",
       "      <td>374.11</td>\n",
       "      <td>53.0</td>\n",
       "      <td>22330.49</td>\n",
       "      <td>surf</td>\n",
       "      <td>90.09</td>\n",
       "    </tr>\n",
       "    <tr>\n",
       "      <th>4</th>\n",
       "      <td>1001</td>\n",
       "      <td>11</td>\n",
       "      <td>64.0</td>\n",
       "      <td>404.59</td>\n",
       "      <td>36.0</td>\n",
       "      <td>18504.30</td>\n",
       "      <td>surf</td>\n",
       "      <td>60.00</td>\n",
       "    </tr>\n",
       "  </tbody>\n",
       "</table>\n",
       "</div>"
      ],
      "text/plain": [
       "   user_id  month  total_calls  total_minutes  total_messages  \\\n",
       "0     1000     12         16.0         116.83            11.0   \n",
       "1     1001      8         27.0         171.14            30.0   \n",
       "2     1001      9         49.0         297.69            44.0   \n",
       "3     1001     10         65.0         374.11            53.0   \n",
       "4     1001     11         64.0         404.59            36.0   \n",
       "\n",
       "   mb_used_per_month      plan  usd_monthly_income  \n",
       "0            1901.47  ultimate               70.00  \n",
       "1            6919.15      surf               20.00  \n",
       "2           13314.82      surf               20.00  \n",
       "3           22330.49      surf               90.09  \n",
       "4           18504.30      surf               60.00  "
      ]
     },
     "execution_count": 84,
     "metadata": {},
     "output_type": "execute_result"
    }
   ],
   "source": [
    "activity_table_with_missing.head()"
   ]
  },
  {
   "cell_type": "markdown",
   "metadata": {},
   "source": [
    "# <a id='toc6_'></a>[Estudia el comportamiento del usuario](#toc0_)"
   ]
  },
  {
   "cell_type": "markdown",
   "metadata": {},
   "source": [
    "Ahora vamos a estudiar la forma de utilizar de los usuarios, para eso vamos a descernir entre los dos planes primero, de ahí con la ayuda de gráficos como historgramas, gráficos de barras y gráficos de cajas y bigotes. Por supuesto, no nos vamos a quedar con simples gráficos y también vamos a mirar detenidamente valores estadísticos como la media y la varianza para sujetarnos más firmemente y sacar mejores conclusiones en conjunto con los gráficos.\n",
    "    \n",
    "Sin más vueltas, vamos a los datos!"
   ]
  },
  {
   "cell_type": "markdown",
   "metadata": {},
   "source": [
    "## <a id='toc6_1_'></a>[Llamadas](#toc0_)"
   ]
  },
  {
   "cell_type": "code",
   "execution_count": 85,
   "metadata": {},
   "outputs": [],
   "source": [
    "# Primero creamos una tabla con los valores que nos pueden interesar promediados\n",
    "mean_table = activity_table.groupby(['month','plan']).mean().unstack()"
   ]
  },
  {
   "cell_type": "code",
   "execution_count": 86,
   "metadata": {},
   "outputs": [],
   "source": [
    "sum_table = activity_table.groupby(['month','plan']).sum().unstack()"
   ]
  },
  {
   "cell_type": "code",
   "execution_count": 87,
   "metadata": {},
   "outputs": [],
   "source": [
    "# Primero creamos variables para la gráfica \n",
    "# Sacamos el tiempo promedio\n",
    "data = mean_table['total_minutes']/mean_table['total_calls'] \n",
    "\n",
    "# Cargamos lo labels para ubicar correctamente las barras\n",
    "labels = data.index\n",
    "\n",
    "# Ordenamos los labels y sumamos 1 para que no empiece en 0\n",
    "x = np.arange(len(labels)) + 1\n",
    "\n",
    "# Separamos los datos segun los planes\n",
    "ultimate_data = data['ultimate']\n",
    "surf_data = data['surf']\n",
    "\n",
    "# Finalmente definimos el ancho de las barras\n",
    "width = 0.4"
   ]
  },
  {
   "cell_type": "code",
   "execution_count": 88,
   "metadata": {
    "scrolled": true
   },
   "outputs": [
    {
     "data": {
      "image/png": "[encoded data removed]",
      "text/plain": [
       "<Figure size 864x345.6 with 1 Axes>"
      ]
     },
     "metadata": {
      "needs_background": "light"
     },
     "output_type": "display_data"
    }
   ],
   "source": [
    "# Primero definimos el figure y el axis para trabajar\n",
    "fig, ax = plt.subplots(figsize=(12,4.8))\n",
    "\n",
    "# De ahí definimos las barras\n",
    "p1 = ax.bar(x - width/2,surf_data,width,label=\"surf\")\n",
    "p2 = ax.bar(x + width/2,ultimate_data,width,label=\"ultimate\")\n",
    "\n",
    "# Agregamos unas cosas para limpieza y orden\n",
    "ax.set_ylabel('Minutos por llamada')\n",
    "ax.set_xlabel('Meses')\n",
    "ax.set_title('Duración promedio de llamadas por cada plan por cada mes')\n",
    "ax.set_xticks(x)\n",
    "ax.grid(axis='y')\n",
    "ax.legend(loc='lower left')\n",
    "\n",
    "# Nos encargamos de saber que valor tiene cada barra con 2 cifras despues de la coma\n",
    "#ax.bar_label(p1,padding=3,fmt='%.2f')\n",
    "#ax.bar_label(p2,padding=3,fmt='%.2f')\n",
    "\n",
    "# Restringimos el valor de y para ver mejor las barras y mostramos\n",
    "plt.ylim(6,7)\n",
    "plt.show()"
   ]
  },
  {
   "cell_type": "markdown",
   "metadata": {},
   "source": [
    "Al ver el gráfico de barras observamos como en la mayoria del año los clientes del plan *surf* tienen mayores tiempos de llamada promedio con Marzo presentando la mayor diferencia de casi medio minuto más y Febrero presentando las llamadas más largas del año en casi 7 minutos!\n",
    "    \n",
    "Por supuesto, hay que tener en cuenta que éstas son tiempos de llamada promedio siendo altamente influenciables por valores atípicos, aunque el patrón general si pretende indicar que en la mayoría de los casos los clientes de *surf* pasan más tiempo en sus llamadas que los clientes de *ultimate*. También hay que tener en cuenta que ésto no implica que gasten más minutos necesariamente, solo que **una** llamada de *surf* tiende a durar más que una de *ultimate*."
   ]
  },
  {
   "cell_type": "code",
   "execution_count": 89,
   "metadata": {},
   "outputs": [
    {
     "data": {
      "image/png": "[encoded data removed]",
      "text/plain": [
       "<Figure size 864x345.6 with 1 Axes>"
      ]
     },
     "metadata": {
      "needs_background": "light"
     },
     "output_type": "display_data"
    }
   ],
   "source": [
    "# Ahora vamos a comparar la cantridad de minutos que requieren los usuarios cada mes\n",
    "fig, ax = plt.subplots(figsize=(12,4.8))\n",
    "bins = int(np.ceil(np.sqrt(activity_table.shape[0])))\n",
    "\n",
    "# Definimos los histogramas\n",
    "activity_table.loc[activity_table.plan == 'surf','total_minutes'].hist(bins = bins, label='surf')\n",
    "activity_table.loc[activity_table.plan == 'ultimate','total_minutes'].hist(bins = bins, label='ultimate')\n",
    "\n",
    "# Agregamos una linea con la cantidad de minutos incluidos en surf (no lo hacemos para ultimate pues ese numero es demasiado grande)\n",
    "plt.axvline(x=500, color='lightblue', linestyle='--', linewidth=2)\n",
    "\n",
    "# Agregamos detalles de limpieza y orden\n",
    "ax.set_xlabel('Cantidad de minutos en un mes')\n",
    "ax.set_title('Distribución de la cantidad de minutos por mes por plan')\n",
    "ax.legend(loc='upper right')\n",
    "\n",
    "plt.show()"
   ]
  },
  {
   "cell_type": "markdown",
   "metadata": {},
   "source": [
    "Algo que se ve claramente en éste histograma es la amplia diferencia numérica en la cantidad de clientes que poseen el pack *surf* contra los que contratan el pack *ultimate*.\n",
    "  \n",
    "Tambien podemos notar como más allá de la diferencia en cantidad, ambos planes presentan una distribución no muy diferente con un pico aparente alrededor de 400 minutos por mes. Tambien podemos notar como *surf* presenta una gran cantidad de valores cercanos a 0 mientras que en simultaneo tambien tiene valores extremadamente altos por más pocos que sean; eso nos da un indicio de que posiblemente presente una varianza mayor que *ultimate*."
   ]
  },
  {
   "cell_type": "markdown",
   "metadata": {},
   "source": [
    "Para no quedarnos solo con gráficos vamos a buscar obtener la media y la varianza de ambos planes, así tendremos una idea más concreta y rigurosa del comportamiento de los datos en los planes."
   ]
  },
  {
   "cell_type": "code",
   "execution_count": 90,
   "metadata": {},
   "outputs": [],
   "source": [
    "# Primero vamos a hacer tablas diferentes separando por plan\n",
    "ultimate = activity_table.loc[activity_table.plan == 'ultimate']\n",
    "surf = activity_table.loc[activity_table.plan == 'surf']\n"
   ]
  },
  {
   "cell_type": "code",
   "execution_count": 91,
   "metadata": {},
   "outputs": [
    {
     "name": "stdout",
     "output_type": "stream",
     "text": [
      " Media de ultimate:    406.19 \n",
      " Varianza de ultimate: 51640.97 \n",
      " \n",
      " Media de surf:    404.76 \n",
      " Varianza de surf: 49135.10\n"
     ]
    }
   ],
   "source": [
    "# Ahora vamos a calcular la media y la varianza de la duración mensual de llamadas.\n",
    "print(\n",
    "    f\" Media de ultimate:    {ultimate['total_minutes'].mean():.2f}\",'\\n',\n",
    "    f\"Varianza de ultimate: {ultimate['total_minutes'].var():.2f}\",'\\n',\n",
    "    '\\n',\n",
    "    f\"Media de surf:    {surf['total_minutes'].mean():.2f}\",'\\n',\n",
    "    f\"Varianza de surf: {surf['total_minutes'].var():.2f}\"\n",
    ")"
   ]
  },
  {
   "cell_type": "markdown",
   "metadata": {},
   "source": [
    "Podemos notar que nuestras sospechas no iban por el lado indicado ya que *surf* presenta una varianza **menor** a *ultimate*! En retrospectiva tiene sentido ya que si bien *surf* posee valores más extremos tambien tiene una cantidad mayor de datos que \"suavizan\" el impacto de esos valores en la distribución general.\n",
    "    \n",
    "Otra cosa que notamos es como a pesar de tener una diferencia tan grande de valores, ambas distribuciones presentan medias muy cercanas!"
   ]
  },
  {
   "cell_type": "markdown",
   "metadata": {},
   "source": [
    "Ahora para proporcional nuestra última herramienta en el análisis de las llamadas vamos a buscar graficar la distribución de los planes con gráficos de caja y bigotes, lo que nos permitirá observar que tanto difieren los datos entre sí de una manera gráfica y más precisa."
   ]
  },
  {
   "cell_type": "code",
   "execution_count": 92,
   "metadata": {},
   "outputs": [],
   "source": [
    "# Primero definimos unas variables que usaermos para graficar\n",
    "surf_data = surf['total_minutes']\n",
    "ultimate_data = ultimate['total_minutes']\n",
    "labels=['surf','ultimate']\n",
    "colors = ['blue','orange']"
   ]
  },
  {
   "cell_type": "code",
   "execution_count": 93,
   "metadata": {},
   "outputs": [
    {
     "data": {
      "image/png": "[encoded data removed]",
      "text/plain": [
       "<Figure size 432x288 with 1 Axes>"
      ]
     },
     "metadata": {
      "needs_background": "light"
     },
     "output_type": "display_data"
    }
   ],
   "source": [
    "# De ahi trazaremos un diagrama de caja para visualizar la distribución de la duración mensual de llamadas.\n",
    "# Definimos la figura y el eje\n",
    "fig, ax = plt.subplots()\n",
    "\n",
    "# Definimos el diagrama de caja propiamente\n",
    "bplot = ax.boxplot(\n",
    "    [surf_data,ultimate_data],\n",
    "    vert=True,\n",
    "    patch_artist=True,\n",
    "    labels=labels,\n",
    "    medianprops={'color':'black'}\n",
    ")\n",
    "\n",
    "# Asignamos los colores a las dos cajas\n",
    "for patch, color in zip(bplot['boxes'], colors):\n",
    "    patch.set_facecolor(color)\n",
    "\n",
    "# Agregamos una linea con la cantidad de minutos incluidos en surf (no lo hacemos para ultimate pues ese numero es demasiado grande)\n",
    "plt.axhline(y=500, color='lightblue', linestyle='--', linewidth=2)\n",
    "\n",
    "# Y finalmente asignamos labels y detalles para más claridad\n",
    "ax.set_title('Distribución de la duracion mensual de llamadas')\n",
    "ax.set_ylabel('Cantidad de minutos totales')\n",
    "plt.grid(axis='y')\n",
    "plt.show()\n"
   ]
  },
  {
   "cell_type": "markdown",
   "metadata": {},
   "source": [
    "Al observar las distribuciones de los tiempos de llamadas podemos notar como primero y principal, hay un volumen mucho más alto de clientes que adquieren el plan *surf* y eso tiene un efecto, esperado, que causa una mayor presencia de valores atípicos. Aunque tambien notamos como por el mismo motivo la distribución de *surf* presenta una homogeneidad mayor a la del plan *ultimate*.\n",
    "  \n",
    "Más allá de lo dicho, las diferencias que presentan los planes como distribuciones son muy chicas presentando medias muy cercanas y comportamientos a gran escala muy similares.\n",
    "  \n",
    "No seria una locura creer que de aumentar el muestreo nos encontremos con que ambas distribuciones tienen comportamientos iguales, aunque no es nuestro caso y ésto es solo un pensamiento."
   ]
  },
  {
   "cell_type": "markdown",
   "metadata": {},
   "source": [
    "## <a id='toc6_2_'></a>[Mensajes](#toc0_)"
   ]
  },
  {
   "cell_type": "markdown",
   "metadata": {},
   "source": [
    "Ahora vamos a pasar por un proceso similar al de las llamadas pero en éste caso sobre los mensajes.\n",
    "  \n",
    "Primero vamos a analizar cuántos mensajes en promedio manda un clientes respecto a cada mes del año, despues vamos a realizar un análisis más total de la distribución de la cantidad de mensajes por cada mes con un histograma y complementaremos eso con un diagrama de cajas y bigotes para visualizar de manera más concreta los límites superiores e inferiores (si es que los hay). Obviamente, todo el proceso será discriminando por plan y tambien obtendremos la media y la varianza para ver de manera más precisa esos parámetros estadísticos."
   ]
  },
  {
   "cell_type": "code",
   "execution_count": 94,
   "metadata": {},
   "outputs": [],
   "source": [
    "# Primero creamos variables para la gráfica \n",
    "data = mean_table['total_messages']\n",
    "\n",
    "# Cargamos lo labels para ubicar correctamente las barras\n",
    "labels = data.index\n",
    "\n",
    "# Ordenamos los labels y sumamos 1 para que no empiece en 0\n",
    "x = np.arange(len(labels)) + 1\n",
    "\n",
    "# Separamos los datos segun los planes\n",
    "ultimate_data = data['ultimate']\n",
    "surf_data = data['surf']\n",
    "\n",
    "# Finalmente definimos el ancho de las barras\n",
    "width = 0.4"
   ]
  },
  {
   "cell_type": "code",
   "execution_count": 95,
   "metadata": {},
   "outputs": [
    {
     "data": {
      "image/png": "[encoded data removed]",
      "text/plain": [
       "<Figure size 864x345.6 with 1 Axes>"
      ]
     },
     "metadata": {
      "needs_background": "light"
     },
     "output_type": "display_data"
    }
   ],
   "source": [
    "# Primero definimos el figure y el axis para trabajar\n",
    "fig, ax = plt.subplots(figsize=(12,4.8))\n",
    "\n",
    "# De ahí definimos las barras\n",
    "p1 = ax.bar(x - width/2,surf_data,width,label=\"surf\")\n",
    "p2 = ax.bar(x + width/2,ultimate_data,width,label=\"ultimate\")\n",
    "\n",
    "# Agregamos unas cosas para limpieza y orden\n",
    "ax.set_ylabel('Cantidad de mensajes')\n",
    "ax.set_xlabel('Meses')\n",
    "ax.set_title('Cantidad promedio de mensajes enviados por mes')\n",
    "ax.set_xticks(x)\n",
    "ax.grid(axis='y')\n",
    "ax.legend(loc='lower right')\n",
    "\n",
    "# Agregamos una linea con la cantidad de mensajes incluidos en surf (no lo hacemos para ultimate pues ese numero es demasiado grande)\n",
    "plt.axhline(y=50, color='lightblue', linestyle='--', linewidth=2)\n",
    "\n",
    "# Nos encargamos de saber que valor tiene cada barra con 2 cifras despues de la coma\n",
    "#ax.bar_label(p1,padding=3,fmt='%.2f')\n",
    "#ax.bar_label(p2,padding=3,fmt='%.2f')\n",
    "\n",
    "# Restringimos el valor de y para ver mejor las barras y mostramos\n",
    "plt.show()"
   ]
  },
  {
   "cell_type": "markdown",
   "metadata": {},
   "source": [
    "En el caso de los mensaje podemos notar algo más curioso. Para empezar, los clientes de *ultimate* mandan más mensajes por mes en cualquier punto del año que los clientes de *surf*.\n",
    "  \n",
    "Otra tendencia muy marcada que podemos ver es como mes a mes suben la cantidad de mensajes mandados en ambos planes siendo la tendencia más marcada en *surf* que en *ultimate* el cual se mantiene alrededor de 38 mensajes entre Agosto a Noviembre dando un último salto en Diciembre.\n",
    "  \n",
    "Por último un detalle no menor es que aún en Diciembre con la mayor cantidad promedio de mensajes enviados notamos como ningún plan llega a alcanzar los mensajes que vienen incluidos con el plan (50) por lo que al menos en promedio no se genera un ingreso adicional respecto a los mensajes.\n",
    "  \n",
    "Ahora voy a analizar una cosa que me llamó la atención respecto a la tendencia marcada por lo que me detendré un momento a estudiar la \"presencia\" de los usuarios según el mes."
   ]
  },
  {
   "cell_type": "code",
   "execution_count": 96,
   "metadata": {},
   "outputs": [
    {
     "data": {
      "text/plain": [
       "month\n",
       "1       6\n",
       "2      16\n",
       "3      35\n",
       "4      71\n",
       "5     106\n",
       "6     144\n",
       "7     180\n",
       "8     233\n",
       "9     280\n",
       "10    343\n",
       "11    410\n",
       "12    469\n",
       "Name: user_id, dtype: int64"
      ]
     },
     "execution_count": 96,
     "metadata": {},
     "output_type": "execute_result"
    }
   ],
   "source": [
    "# Ahora vamos a buscar ver como la actividad de los usuarios se comporta según el mes del año\n",
    "activity_table.groupby('month').count()['user_id']"
   ]
  },
  {
   "cell_type": "markdown",
   "metadata": {},
   "source": [
    "Efectivamente notamos que la actividad general de los usuarios aumenta consistentemente conforme avanza el año."
   ]
  },
  {
   "cell_type": "code",
   "execution_count": 97,
   "metadata": {},
   "outputs": [
    {
     "data": {
      "text/plain": [
       "9     32\n",
       "7     36\n",
       "12    37\n",
       "5     38\n",
       "11    38\n",
       "3     40\n",
       "2     42\n",
       "10    42\n",
       "4     45\n",
       "8     47\n",
       "1     49\n",
       "6     54\n",
       "Name: reg_date, dtype: int64"
      ]
     },
     "execution_count": 97,
     "metadata": {},
     "output_type": "execute_result"
    }
   ],
   "source": [
    "# Ahora quiero ver si hay una mayor cantidad de usuarios registrandose en la segunda mitad del año\n",
    "users['reg_date'].dt.month.value_counts().sort_values()"
   ]
  },
  {
   "cell_type": "markdown",
   "metadata": {},
   "source": [
    "Curiosamente, pasa al revés de lo que buscaba ya que noramos como Enero es incluso de los meses con más registros en la tabla. El motivo que queria revisar era si los resultados nuestros estuvieran sesgados no por comportamiento del usuario sino por una característica relacionada al registro de los clientes."
   ]
  },
  {
   "cell_type": "markdown",
   "metadata": {},
   "source": [
    "Viendo que el patron que buscaba no existe puedo avanzar con más tranquilidad para seguir observando el comportamiento de `messages`."
   ]
  },
  {
   "cell_type": "code",
   "execution_count": 98,
   "metadata": {},
   "outputs": [
    {
     "data": {
      "text/html": [
       "<div>\n",
       "<style scoped>\n",
       "    .dataframe tbody tr th:only-of-type {\n",
       "        vertical-align: middle;\n",
       "    }\n",
       "\n",
       "    .dataframe tbody tr th {\n",
       "        vertical-align: top;\n",
       "    }\n",
       "\n",
       "    .dataframe thead th {\n",
       "        text-align: right;\n",
       "    }\n",
       "</style>\n",
       "<table border=\"1\" class=\"dataframe\">\n",
       "  <thead>\n",
       "    <tr style=\"text-align: right;\">\n",
       "      <th></th>\n",
       "      <th>user_id</th>\n",
       "      <th>month</th>\n",
       "      <th>total_calls</th>\n",
       "      <th>total_minutes</th>\n",
       "      <th>total_messages</th>\n",
       "      <th>mb_used_per_month</th>\n",
       "      <th>plan</th>\n",
       "      <th>usd_monthly_income</th>\n",
       "    </tr>\n",
       "  </thead>\n",
       "  <tbody>\n",
       "    <tr>\n",
       "      <th>0</th>\n",
       "      <td>1000</td>\n",
       "      <td>12</td>\n",
       "      <td>16</td>\n",
       "      <td>116.83</td>\n",
       "      <td>11</td>\n",
       "      <td>1901.47</td>\n",
       "      <td>ultimate</td>\n",
       "      <td>70.00</td>\n",
       "    </tr>\n",
       "    <tr>\n",
       "      <th>1</th>\n",
       "      <td>1001</td>\n",
       "      <td>8</td>\n",
       "      <td>27</td>\n",
       "      <td>171.14</td>\n",
       "      <td>30</td>\n",
       "      <td>6919.15</td>\n",
       "      <td>surf</td>\n",
       "      <td>20.00</td>\n",
       "    </tr>\n",
       "    <tr>\n",
       "      <th>2</th>\n",
       "      <td>1001</td>\n",
       "      <td>9</td>\n",
       "      <td>49</td>\n",
       "      <td>297.69</td>\n",
       "      <td>44</td>\n",
       "      <td>13314.82</td>\n",
       "      <td>surf</td>\n",
       "      <td>20.00</td>\n",
       "    </tr>\n",
       "    <tr>\n",
       "      <th>3</th>\n",
       "      <td>1001</td>\n",
       "      <td>10</td>\n",
       "      <td>65</td>\n",
       "      <td>374.11</td>\n",
       "      <td>53</td>\n",
       "      <td>22330.49</td>\n",
       "      <td>surf</td>\n",
       "      <td>90.09</td>\n",
       "    </tr>\n",
       "    <tr>\n",
       "      <th>4</th>\n",
       "      <td>1001</td>\n",
       "      <td>11</td>\n",
       "      <td>64</td>\n",
       "      <td>404.59</td>\n",
       "      <td>36</td>\n",
       "      <td>18504.30</td>\n",
       "      <td>surf</td>\n",
       "      <td>60.00</td>\n",
       "    </tr>\n",
       "    <tr>\n",
       "      <th>...</th>\n",
       "      <td>...</td>\n",
       "      <td>...</td>\n",
       "      <td>...</td>\n",
       "      <td>...</td>\n",
       "      <td>...</td>\n",
       "      <td>...</td>\n",
       "      <td>...</td>\n",
       "      <td>...</td>\n",
       "    </tr>\n",
       "    <tr>\n",
       "      <th>2288</th>\n",
       "      <td>1498</td>\n",
       "      <td>6</td>\n",
       "      <td>37</td>\n",
       "      <td>225.57</td>\n",
       "      <td>0</td>\n",
       "      <td>14807.18</td>\n",
       "      <td>surf</td>\n",
       "      <td>20.00</td>\n",
       "    </tr>\n",
       "    <tr>\n",
       "      <th>2289</th>\n",
       "      <td>1499</td>\n",
       "      <td>10</td>\n",
       "      <td>53</td>\n",
       "      <td>363.28</td>\n",
       "      <td>0</td>\n",
       "      <td>19492.43</td>\n",
       "      <td>surf</td>\n",
       "      <td>70.00</td>\n",
       "    </tr>\n",
       "    <tr>\n",
       "      <th>2290</th>\n",
       "      <td>1499</td>\n",
       "      <td>11</td>\n",
       "      <td>45</td>\n",
       "      <td>288.56</td>\n",
       "      <td>0</td>\n",
       "      <td>16813.83</td>\n",
       "      <td>surf</td>\n",
       "      <td>40.00</td>\n",
       "    </tr>\n",
       "    <tr>\n",
       "      <th>2291</th>\n",
       "      <td>1499</td>\n",
       "      <td>9</td>\n",
       "      <td>41</td>\n",
       "      <td>330.37</td>\n",
       "      <td>0</td>\n",
       "      <td>12984.76</td>\n",
       "      <td>surf</td>\n",
       "      <td>20.00</td>\n",
       "    </tr>\n",
       "    <tr>\n",
       "      <th>2292</th>\n",
       "      <td>1499</td>\n",
       "      <td>12</td>\n",
       "      <td>65</td>\n",
       "      <td>468.10</td>\n",
       "      <td>0</td>\n",
       "      <td>22059.21</td>\n",
       "      <td>surf</td>\n",
       "      <td>90.00</td>\n",
       "    </tr>\n",
       "  </tbody>\n",
       "</table>\n",
       "<p>2293 rows × 8 columns</p>\n",
       "</div>"
      ],
      "text/plain": [
       "      user_id  month  total_calls  total_minutes  total_messages  \\\n",
       "0        1000     12           16         116.83              11   \n",
       "1        1001      8           27         171.14              30   \n",
       "2        1001      9           49         297.69              44   \n",
       "3        1001     10           65         374.11              53   \n",
       "4        1001     11           64         404.59              36   \n",
       "...       ...    ...          ...            ...             ...   \n",
       "2288     1498      6           37         225.57               0   \n",
       "2289     1499     10           53         363.28               0   \n",
       "2290     1499     11           45         288.56               0   \n",
       "2291     1499      9           41         330.37               0   \n",
       "2292     1499     12           65         468.10               0   \n",
       "\n",
       "      mb_used_per_month      plan  usd_monthly_income  \n",
       "0               1901.47  ultimate               70.00  \n",
       "1               6919.15      surf               20.00  \n",
       "2              13314.82      surf               20.00  \n",
       "3              22330.49      surf               90.09  \n",
       "4              18504.30      surf               60.00  \n",
       "...                 ...       ...                 ...  \n",
       "2288           14807.18      surf               20.00  \n",
       "2289           19492.43      surf               70.00  \n",
       "2290           16813.83      surf               40.00  \n",
       "2291           12984.76      surf               20.00  \n",
       "2292           22059.21      surf               90.00  \n",
       "\n",
       "[2293 rows x 8 columns]"
      ]
     },
     "execution_count": 98,
     "metadata": {},
     "output_type": "execute_result"
    }
   ],
   "source": [
    "activity_table"
   ]
  },
  {
   "cell_type": "code",
   "execution_count": 99,
   "metadata": {},
   "outputs": [
    {
     "data": {
      "image/png": "[encoded data removed]",
      "text/plain": [
       "<Figure size 864x345.6 with 1 Axes>"
      ]
     },
     "metadata": {
      "needs_background": "light"
     },
     "output_type": "display_data"
    }
   ],
   "source": [
    "# Compara el número de minutos que los usuarios de cada plan requieren cada mes. Traza un histograma.\n",
    "fig, ax = plt.subplots(figsize=(12,4.8))\n",
    "bins = int(np.ceil(np.sqrt(activity_table.shape[0])))\n",
    "\n",
    "# Definimos los histogramas\n",
    "surf['total_messages'].hist(bins = bins, label='surf')\n",
    "ultimate['total_messages'].hist(bins = bins, label='ultimate')\n",
    "\n",
    "# Agregamos una linea con la cantidad de mensajes incluidos en surf (no lo hacemos para ultimate pues ese numero es demasiado grande)\n",
    "plt.axvline(x=50, color='lightblue', linestyle='--', linewidth=2)\n",
    "\n",
    "# Agregamos detalles de limpieza y orden\n",
    "ax.set_xlabel('Cantidad de mensajes en un mes')\n",
    "ax.set_title('Distribución de la cantidad de mensajes por mes por plan')\n",
    "ax.legend(loc='upper right')\n",
    "\n",
    "plt.show()"
   ]
  },
  {
   "cell_type": "markdown",
   "metadata": {},
   "source": [
    "Honestamente, no me sorprende. En parte si me parecía un numero muy alto de mensajes por mes siendo que estamos en el siglo 21 y actualmente los mensajes de texto fueron practicamente reemplazados por aplicaciones como WhatsApp, por lo que me imaginaba que posiblemente haya valores anormalmente altos que alteren la media para arriba.\n",
    "  \n",
    "Efectivamente vemos eso, la gran mayoria de clientes tienden a mandar muy pocos mensajes por mes y solo un grupo particualar manda más de 100. Debido a la distribución que vemos acá tendremos que obtener la mediana tambien para tener un punto de referencia más representativo de la cantidad de mensajes."
   ]
  },
  {
   "cell_type": "code",
   "execution_count": 100,
   "metadata": {},
   "outputs": [],
   "source": [
    "# Para seguir vamos a observar los gráficos de cajas y bigotes\n",
    "surf_data = surf['total_messages']\n",
    "ultimate_data = ultimate['total_messages']\n",
    "labels=['surf','ultimate']\n",
    "colors = ['blue','orange']"
   ]
  },
  {
   "cell_type": "code",
   "execution_count": 101,
   "metadata": {},
   "outputs": [
    {
     "data": {
      "image/png": "[encoded data removed]",
      "text/plain": [
       "<Figure size 432x288 with 1 Axes>"
      ]
     },
     "metadata": {
      "needs_background": "light"
     },
     "output_type": "display_data"
    },
    {
     "name": "stdout",
     "output_type": "stream",
     "text": [
      " Media de Ultimate: 37.55 \n",
      " Mediana de Ultimate: 30.00 \n",
      " Varianza de Ultimate: 1208.76 \n",
      " \n",
      " Media de Surf: 31.16 \n",
      " Mediana de Surf: 24.00 \n",
      " Varianza de Surf: 1126.72 \n",
      "\n"
     ]
    }
   ],
   "source": [
    "# De ahi trazaremos un diagrama de caja para visualizar la distribución de la duración mensual de llamadas.\n",
    "# Definimos la figura y el eje\n",
    "fig, ax = plt.subplots()\n",
    "\n",
    "# Definimos el diagrama de caja propiamente\n",
    "bplot = ax.boxplot(\n",
    "    [surf_data,ultimate_data],\n",
    "    vert=True,\n",
    "    patch_artist=True,\n",
    "    labels=labels,\n",
    "    medianprops={'color':'black'}\n",
    ")\n",
    "\n",
    "# Asignamos los colores a las dos cajas\n",
    "for patch, color in zip(bplot['boxes'], colors):\n",
    "    patch.set_facecolor(color)\n",
    "\n",
    "# Agregamos una linea con la cantidad de mensajes incluidos en surf (no lo hacemos para ultimate pues ese numero es demasiado grande)\n",
    "plt.axhline(y=50, color='lightblue', linestyle='--', linewidth=2)\n",
    "\n",
    "# Y finalmente asignamos labels y detalles para más claridad\n",
    "ax.set_title('Distribución de la cantidad mensual de mensajes')\n",
    "ax.set_ylabel('Cantidad de mensajes totales')\n",
    "plt.grid(axis='y')\n",
    "plt.show()\n",
    "\n",
    "# Tambien vamos a buscar visualizar los números exactos de la media, mediana y varianza de nuestros datos debajo del gráfico\n",
    "print(\n",
    "    f' Media de Ultimate: {ultimate[\"total_messages\"].mean():.2f} \\n',\n",
    "    f'Mediana de Ultimate: {ultimate[\"total_messages\"].median():.2f} \\n',\n",
    "    f'Varianza de Ultimate: {ultimate[\"total_messages\"].var():.2f} \\n',\n",
    "    '\\n',\n",
    "    f'Media de Surf: {surf[\"total_messages\"].mean():.2f} \\n',\n",
    "    f'Mediana de Surf: {surf[\"total_messages\"].median():.2f} \\n',\n",
    "    f'Varianza de Surf: {surf[\"total_messages\"].var():.2f} \\n',\n",
    ")"
   ]
  },
  {
   "cell_type": "markdown",
   "metadata": {},
   "source": [
    "Okay, no es un comportamiento muy similar al de las llamadas ya que notamos como los tres valores (media, mediana y varianza) se ubican por encima en el *ultimate* aunque al igual que en llamadas notamos como a pesar de tener una cantidad mayor y más alejada de valores atípicos la mera cantidad de clientes causa que la varianza en *surf* sea menor.\n",
    "  \n",
    "Podemos notar como ~25% de los casos exceden la cantidad de mensajes enviados en su periodo de tiempo y en base a lo visto previamente apostaría que son casos despues de Julio.\n",
    "  \n",
    "En resumen, lo primero que me llamó la atención fue la tendencia creciente de la cantidad de mensajes promedio respecto al progreso del año que se ve en ambos planes a pesar de que *surf* lo mantiene más que *ultimate*. Tambien podemos notar una vez más el impacto de la diferencia de prestadores de un plan (*surf*) en nuestras estadísticas. Y por último notamos como los clientes de *ultimate* tienden a mandar más mensajes por mes que los clientes de *surf*."
   ]
  },
  {
   "cell_type": "markdown",
   "metadata": {},
   "source": [
    "## <a id='toc6_3_'></a>[Internet](#toc0_)"
   ]
  },
  {
   "cell_type": "markdown",
   "metadata": {},
   "source": [
    "Ahora vamos a proceder a analizar el valor que más interes me da. Vamos a proceder de forma igual al resto y veamos que sacamos!"
   ]
  },
  {
   "cell_type": "code",
   "execution_count": 102,
   "metadata": {},
   "outputs": [],
   "source": [
    "# Primero creamos variables para la gráfica \n",
    "data = mean_table['mb_used_per_month']/1000         # Vamos a ver los GB no los MB para que el gráfico sea más entendible\n",
    "\n",
    "# Cargamos lo labels para ubicar correctamente las barras\n",
    "labels = data.index\n",
    "\n",
    "# Ordenamos los labels y sumamos 1 para que no empiece en 0\n",
    "x = np.arange(len(labels)) + 1\n",
    "\n",
    "# Separamos los datos segun los planes\n",
    "ultimate_data = data['ultimate']\n",
    "surf_data = data['surf']\n",
    "\n",
    "# Finalmente definimos el ancho de las barras\n",
    "width = 0.4"
   ]
  },
  {
   "cell_type": "code",
   "execution_count": 103,
   "metadata": {
    "scrolled": true
   },
   "outputs": [
    {
     "data": {
      "image/png": "[encoded data removed]",
      "text/plain": [
       "<Figure size 1080x345.6 with 1 Axes>"
      ]
     },
     "metadata": {
      "needs_background": "light"
     },
     "output_type": "display_data"
    }
   ],
   "source": [
    "# Primero definimos el figure y el axis para trabajar\n",
    "fig, ax = plt.subplots(figsize=(15,4.8))\n",
    "\n",
    "# De ahí definimos las barras\n",
    "p1 = ax.bar(x - width/2,surf_data,width,label=\"surf\")\n",
    "p2 = ax.bar(x + width/2,ultimate_data,width,label=\"ultimate\")\n",
    "\n",
    "# Agregamos unas cosas para limpieza y orden\n",
    "ax.set_ylabel('GB usados por mes')\n",
    "ax.set_xlabel('Meses')\n",
    "ax.set_title('Gb internet utilizado por mes')\n",
    "ax.set_xticks(x)\n",
    "ax.grid(axis='y')\n",
    "ax.legend(loc='lower right')\n",
    "\n",
    "# Agregamos una linea con la cantidad de mensajes incluidos en surf (no lo hacemos para ultimate pues ese numero es demasiado grande)\n",
    "plt.axhline(y=15.36, color='lightblue', linestyle='--', linewidth=2)\n",
    "\n",
    "# Nos encargamos de saber que valor tiene cada barra con 2 cifras despues de la coma\n",
    "#ax.bar_label(p1,padding=3,fmt='%.2f')\n",
    "#ax.bar_label(p2,padding=3,fmt='%.2f')\n",
    "\n",
    "# Restringimos el valor de y para ver mejor las barras y mostramos\n",
    "plt.show()"
   ]
  },
  {
   "cell_type": "markdown",
   "metadata": {},
   "source": [
    "Como era de imaginar, los consumos de internet iban a ser mucho mayores a los de llamadas y mensajes. A diferencia de los otros dos parámetros, podemos observar como en los promedios ya se supera la cantidad incluida en el plan!\n",
    "  \n",
    "Vemos que se repite el patron de que en Enero se usa menos el celular por ende menos recursos del proveedor aunque a diferencia de mensajes, ésto crece rapidamente para que en Junio ya alcancen ambos planes una \"estabilidad\" alrededor de los 16-18GB por mes. Éste crecimiento se ve mucho más brúsco en los clientes de *ultimate* que ya en Febrero alcanzan esa \"meseta\".\n",
    "  \n",
    "Otra cosa que podemos notar es como los clientes de *ultimate* tienden a gastar más datos móbiles por mes que los de *surf*."
   ]
  },
  {
   "cell_type": "code",
   "execution_count": 104,
   "metadata": {},
   "outputs": [
    {
     "data": {
      "image/png": "[encoded data removed]",
      "text/plain": [
       "<Figure size 864x345.6 with 1 Axes>"
      ]
     },
     "metadata": {
      "needs_background": "light"
     },
     "output_type": "display_data"
    }
   ],
   "source": [
    "# Compara el número de minutos que los usuarios de cada plan requieren cada mes. Traza un histograma.\n",
    "fig, ax = plt.subplots(figsize=(12,4.8))\n",
    "bins = int(np.ceil(np.sqrt(activity_table.shape[0])))\n",
    "\n",
    "# Definimos los histogramas\n",
    "surf['mb_used_per_month'].hist(bins = bins, label='surf')\n",
    "ultimate['mb_used_per_month'].hist(bins = bins, label='ultimate')\n",
    "\n",
    "# Agregamos una linea con la cantidad de mensajes incluidos en surf (no lo hacemos para ultimate pues ese numero es demasiado grande)\n",
    "plt.axvline(x=15360, color='lightblue', linestyle='--', linewidth=2)\n",
    "\n",
    "# Agregamos detalles de limpieza y orden\n",
    "ax.set_xlabel('Mb usados en un mes')\n",
    "ax.set_title('Distribución de los mb usados por mes por plan')\n",
    "ax.legend(loc='upper right')\n",
    "\n",
    "plt.show()"
   ]
  },
  {
   "cell_type": "markdown",
   "metadata": {},
   "source": [
    "Éste histograma está muy interesante ya que podemos observar formas que empiezan a parecerse a una distribución normal. Era de esperar que los clientes de *surf* se ubiquen mayormente en las cercanías de 15360mb pues es lógico que cuando una persona alcanza la cantidad incluida en el paquete (o se acerca a ese número) empiecen a regular su uso de internet para no pagar mucho más o no pasarse en sí. Lo curioso es cómo los clientes de *ultimate* tambien se central cercano a ese valor por más que ellos tengan literalmente el doble de megas proporcionados por el plan.\n",
    "  \n",
    "Otra cosa que me llama mucho la atención es como los valores atípicos que se ubican por encima de 50000mb son todos de *surf*! Acaso ellos hicieron el mismo calculo que yo y supieron que al no gastar más de 250Gb por mes les era más rentable *surf*?\n",
    "  \n",
    "Y una vez más el historgrama nos muestra la simple diferencia de clientes entre un plan y otro! Eso causa que la distribución de *surf* se parezca más a la normal que la de *ultimate*."
   ]
  },
  {
   "cell_type": "code",
   "execution_count": 105,
   "metadata": {},
   "outputs": [],
   "source": [
    "# Para seguir vamos a observar los gráficos de cajas y bigotes\n",
    "surf_data = surf['mb_used_per_month']\n",
    "ultimate_data = ultimate['mb_used_per_month']\n",
    "labels=['surf','ultimate']\n",
    "colors = ['blue','orange']"
   ]
  },
  {
   "cell_type": "code",
   "execution_count": 106,
   "metadata": {},
   "outputs": [
    {
     "data": {
      "image/png": "[encoded data removed]",
      "text/plain": [
       "<Figure size 432x288 with 1 Axes>"
      ]
     },
     "metadata": {
      "needs_background": "light"
     },
     "output_type": "display_data"
    },
    {
     "name": "stdout",
     "output_type": "stream",
     "text": [
      " Media de Ultimate: 17214.70 \n",
      " Mediana de Ultimate: 16858.34 \n",
      " Varianza de Ultimate: 61652293.32 \n",
      " \n",
      " Media de Surf: 16558.28 \n",
      " Mediana de Surf: 16829.31 \n",
      " Varianza de Surf: 64216395.84 \n",
      "\n"
     ]
    }
   ],
   "source": [
    "# De ahi trazaremos un diagrama de caja para visualizar la distribución de la duración mensual de llamadas.\n",
    "# Definimos la figura y el eje\n",
    "fig, ax = plt.subplots()\n",
    "\n",
    "# Definimos el diagrama de caja propiamente\n",
    "bplot = ax.boxplot(\n",
    "    [surf_data,ultimate_data],\n",
    "    vert=True,\n",
    "    patch_artist=True,\n",
    "    labels=labels,\n",
    "    medianprops={'color':'black'}\n",
    ")\n",
    "\n",
    "# Asignamos los colores a las dos cajas\n",
    "for patch, color in zip(bplot['boxes'], colors):\n",
    "    patch.set_facecolor(color)\n",
    "\n",
    "# Agregamos una linea con la cantidad de mensajes incluidos en surf (no lo hacemos para ultimate pues ese numero es demasiado grande)\n",
    "plt.axhline(y=15360, color='lightblue', linestyle='--', linewidth=2)\n",
    "\n",
    "# Y finalmente asignamos labels y detalles para más claridad\n",
    "ax.set_title('Distribución de los mb usados por cliente por mes')\n",
    "ax.set_ylabel('mb totales usados')\n",
    "plt.grid(axis='y')\n",
    "plt.show()\n",
    "\n",
    "# Tambien vamos a buscar visualizar los números exactos de la media, mediana y varianza de nuestros datos debajo del gráfico\n",
    "print(\n",
    "    f' Media de Ultimate: {ultimate[\"mb_used_per_month\"].mean():.2f} \\n',\n",
    "    f'Mediana de Ultimate: {ultimate[\"mb_used_per_month\"].median():.2f} \\n',\n",
    "    f'Varianza de Ultimate: {ultimate[\"mb_used_per_month\"].var():.2f} \\n',\n",
    "    '\\n',\n",
    "    f'Media de Surf: {surf[\"mb_used_per_month\"].mean():.2f} \\n',\n",
    "    f'Mediana de Surf: {surf[\"mb_used_per_month\"].median():.2f} \\n',\n",
    "    f'Varianza de Surf: {surf[\"mb_used_per_month\"].var():.2f} \\n',\n",
    ")"
   ]
  },
  {
   "cell_type": "markdown",
   "metadata": {},
   "source": [
    "Como dije, el caso de internet iba a ser mucho más interesante y alejado de lo que veníamos viendo con las llamadas y mensajes. Para empezar notamos como a diferencia de los otros parametros, ambos planes tienen sus medianas por encima de lo incluido en el pack *surf* con *ultimate* llegando a tal punto de **no** tener el limite inferior en 0.\n",
    "  \n",
    "Una cosa que vale la pena destacar es como mientras que los otros parametros tenian a las varianzas 2 ordenes de magnitud por encima de las medias, en éste caso son 3! Eso nos indica que en el caso de internet los clientes están mucho menos homogeneizados por lo que lograr representar al conjunto completo es más complicado.\n",
    "  \n",
    "Otra cosa que vale destacar es como a diferencia de los otros parámetros, la cantidad de clientes de surf no causó que haya una menor varianza. Eso puede ser debido a lo mencionado previamente al afrontar el dataframe de los planes... aunque no necesariamente de manera tan \"matematica\". \n",
    "  \n",
    "Por supuesto siempre hay que dejar un margen a la gente simplemente optando por la opcion más barata sin mucho pensamiento de más, pues la verdad es que la cantidad de llamadas y mensajes que trae el plan *ultimate* es un exagerado al menos en mi caso."
   ]
  },
  {
   "cell_type": "markdown",
   "metadata": {},
   "source": [
    "## <a id='toc6_4_'></a>[Ingreso](#toc0_)"
   ]
  },
  {
   "cell_type": "markdown",
   "metadata": {},
   "source": [
    "Ahora vamos a pasar a analizar una de las columnas de mayor interes, el ingreso mensual por cliente. En ésta sección observaremos aproximadamente lo mismo que en las otras, posiblemente buscando complementar con más gráficas viendo diferentes perspectivas pero con el mismo objetivo que en los otros parámetros:\n",
    "  \n",
    " **Observar el comportamiento de los datos**"
   ]
  },
  {
   "cell_type": "code",
   "execution_count": 107,
   "metadata": {},
   "outputs": [],
   "source": [
    "# Primero creamos variables para la gráfica \n",
    "data = mean_table['usd_monthly_income']\n",
    "\n",
    "# Cargamos lo labels para ubicar correctamente las barras\n",
    "labels = data.index\n",
    "\n",
    "# Ordenamos los labels y sumamos 1 para que no empiece en 0\n",
    "x = np.arange(len(labels)) + 1\n",
    "\n",
    "# Separamos los datos segun los planes\n",
    "ultimate_data = data['ultimate']\n",
    "surf_data = data['surf']\n",
    "\n",
    "# Finalmente definimos el ancho de las barras\n",
    "width = 0.4"
   ]
  },
  {
   "cell_type": "code",
   "execution_count": 108,
   "metadata": {
    "scrolled": true
   },
   "outputs": [
    {
     "data": {
      "image/png": "[encoded data removed]",
      "text/plain": [
       "<Figure size 1080x345.6 with 1 Axes>"
      ]
     },
     "metadata": {
      "needs_background": "light"
     },
     "output_type": "display_data"
    }
   ],
   "source": [
    "# Primero definimos el figure y el axis para trabajar\n",
    "fig, ax = plt.subplots(figsize=(15,4.8))\n",
    "\n",
    "# De ahí definimos las barras\n",
    "p1 = ax.bar(x - width/2,surf_data,width,label=\"surf\")\n",
    "p2 = ax.bar(x + width/2,ultimate_data,width,label=\"ultimate\")\n",
    "\n",
    "# Agregamos unas cosas para limpieza y orden\n",
    "ax.set_ylabel('Ingreso por mes [U$]')\n",
    "ax.set_xlabel('Meses')\n",
    "ax.set_title('Ingreso mensual promedio por cliente por plan')\n",
    "ax.set_xticks(x)\n",
    "ax.grid(axis='y')\n",
    "ax.legend(loc='lower right')\n",
    "\n",
    "# Nos encargamos de saber que valor tiene cada barra con 2 cifras despues de la coma\n",
    "#ax.bar_label(p1,padding=3,fmt='%.2f')\n",
    "#ax.bar_label(p2,padding=3,fmt='%.2f')\n",
    "\n",
    "# Restringimos el valor de y para ver mejor las barras y mostramos\n",
    "plt.show()"
   ]
  },
  {
   "cell_type": "markdown",
   "metadata": {},
   "source": [
    "Como era de esperar, el ingreso mensual por cliente por plan nos muestra que por lo general un cliente de *ultimate* paga más al final del mes que uno de *surf* aunque éstos últimos se acercan bastante conforme avanza el año y con eso la actividad.\n",
    "  \n",
    "Por supuesto, hay que tener en mente la gran diferencia de clientes entre *surf* y *ultimate*; ya que si bien un Volkswagen vale mucho menos que un Ferrari, la empresa alemana logra sobrepasar a los exponentes italianos vendiendo muchos más autos baratos y sumando un total bastante por encima. Algo chico multiplicado por algo muy grande resulta en algo grande.\n",
    "  \n",
    "En base a lo que vamos viendo puedo hacer una estimación fundamentada de que al comienzo del año el plan *ultimate* debe recaudar más que *surf* pero conforme avanza el año y aumenta la actividad, más y más clientes de *surf* recurren a comprar mensajes, minutos y gb adicionales, resultando en que mientras más cerca de Diciembre nos encontremos más vemos como *surf* recauda más que *ultimate*.\n",
    "  \n",
    "Con ese pensamiento en mente vamos a proceder a usar nuestra tabla que casi se queda inutilizada y ver cuánto es el ingreso **total** por mes por plan."
   ]
  },
  {
   "cell_type": "code",
   "execution_count": 109,
   "metadata": {},
   "outputs": [],
   "source": [
    "# Primero creamos variables para la gráfica \n",
    "data = sum_table['usd_monthly_income']\n",
    "\n",
    "# Cargamos lo labels para ubicar correctamente las barras\n",
    "labels = data.index\n",
    "\n",
    "# Ordenamos los labels y sumamos 1 para que no empiece en 0\n",
    "x = np.arange(len(labels)) + 1\n",
    "\n",
    "# Separamos los datos segun los planes\n",
    "ultimate_data = data['ultimate']\n",
    "surf_data = data['surf']\n",
    "\n",
    "# Finalmente definimos el ancho de las barras\n",
    "width = 0.4"
   ]
  },
  {
   "cell_type": "code",
   "execution_count": 110,
   "metadata": {
    "scrolled": true
   },
   "outputs": [
    {
     "data": {
      "image/png": "[encoded data removed]",
      "text/plain": [
       "<Figure size 1080x345.6 with 1 Axes>"
      ]
     },
     "metadata": {
      "needs_background": "light"
     },
     "output_type": "display_data"
    }
   ],
   "source": [
    "# Primero definimos el figure y el axis para trabajar\n",
    "fig, ax = plt.subplots(figsize=(15,4.8))\n",
    "\n",
    "# De ahí definimos las barras\n",
    "p1 = ax.bar(x - width/2,surf_data,width,label=\"surf\")\n",
    "p2 = ax.bar(x + width/2,ultimate_data,width,label=\"ultimate\")\n",
    "\n",
    "# Agregamos unas cosas para limpieza y orden\n",
    "ax.set_ylabel('Ingreso por mes [U$]')\n",
    "ax.set_xlabel('Meses')\n",
    "ax.set_title('Ingreso mensual total por plan')\n",
    "ax.set_xticks(x)\n",
    "ax.grid(axis='y')\n",
    "ax.legend(loc='lower right')\n",
    "\n",
    "# Nos encargamos de saber que valor tiene cada barra con 2 cifras despues de la coma\n",
    "#ax.bar_label(p1,padding=3,fmt='%.0f')\n",
    "#ax.bar_label(p2,padding=3,fmt='%.0f')\n",
    "\n",
    "# Restringimos el valor de y para ver mejor las barras y mostramos\n",
    "plt.show()"
   ]
  },
  {
   "cell_type": "markdown",
   "metadata": {},
   "source": [
    "Notamos como la predicción fue una subestimación pues al llegar el mes de Marzo ya vemos como *surf* supera en ingresos a *ultimate* y esa diferencia solo crece más y más con el paso del año.\n",
    "\n",
    "Viendo éste gráfico me vino una pregunta: **Como es que una empresa de telecomunicaciónes se subsiste a base de pocos ingresos?**\n",
    "  \n",
    "Pero, tras pensarlo un rato me di cuenta de una cosa\n",
    "  \n",
    "No solo estamos viendo el tráfico de 500 personas: Estamos viendo el tráfico de 500 personas pero comenzamos con una cantidad de muestreo chica al comienzo del año y conforme va pasando el año aumenta la cantidad de personas en que se subscriben a la empresa! Eso explica todos los otros gráficos de barras y da una razon obvia pero escondida detras de la pendiente que vamos viendo tanto. Por supuesto, eso no quita mérito a las conclusiones que sacamos al comparar los planes en cada mes, incluso diría que nos permite tener un seguimiento del cambio tanto relativo como total. \n",
    "   \n",
    "Que tan diferente se verá nuestra tabla `activity_table_with_missing`?"
   ]
  },
  {
   "cell_type": "code",
   "execution_count": 111,
   "metadata": {},
   "outputs": [],
   "source": [
    "# Primero creamos variables para la gráfica \n",
    "data = activity_table_with_missing.groupby(['month','plan']).sum().unstack()['usd_monthly_income']\n",
    "\n",
    "# Cargamos lo labels para ubicar correctamente las barras\n",
    "labels = data.index\n",
    "\n",
    "# Ordenamos los labels y sumamos 1 para que no empiece en 0\n",
    "x = np.arange(len(labels)) + 1\n",
    "\n",
    "# Separamos los datos segun los planes\n",
    "ultimate_data = data['ultimate']\n",
    "surf_data = data['surf']\n",
    "\n",
    "# Finalmente definimos el ancho de las barras\n",
    "width = 0.4"
   ]
  },
  {
   "cell_type": "code",
   "execution_count": 112,
   "metadata": {
    "scrolled": true
   },
   "outputs": [
    {
     "data": {
      "image/png": "[encoded data removed]",
      "text/plain": [
       "<Figure size 1080x345.6 with 1 Axes>"
      ]
     },
     "metadata": {
      "needs_background": "light"
     },
     "output_type": "display_data"
    }
   ],
   "source": [
    "# Primero definimos el figure y el axis para trabajar\n",
    "fig, ax = plt.subplots(figsize=(15,4.8))\n",
    "\n",
    "# De ahí definimos las barras\n",
    "p1 = ax.bar(x - width/2,surf_data,width,label=\"surf\")\n",
    "p2 = ax.bar(x + width/2,ultimate_data,width,label=\"ultimate\")\n",
    "\n",
    "# Agregamos unas cosas para limpieza y orden\n",
    "ax.set_ylabel('Ingreso por mes [U$]')\n",
    "ax.set_xlabel('Meses')\n",
    "ax.set_title('Ingreso mensual total por plan con clientes ausentes')\n",
    "ax.set_xticks(x)\n",
    "ax.grid(axis='y')\n",
    "ax.legend(loc='lower right')\n",
    "\n",
    "# Nos encargamos de saber que valor tiene cada barra con 2 cifras despues de la coma\n",
    "#ax.bar_label(p1,padding=3,fmt='%.0f')\n",
    "#ax.bar_label(p2,padding=3,fmt='%.0f')\n",
    "\n",
    "# Restringimos el valor de y para ver mejor las barras y mostramos\n",
    "plt.show()"
   ]
  },
  {
   "cell_type": "markdown",
   "metadata": {},
   "source": [
    "Bueno, eso tuvo un efecto bastante más chico del que esperaba, pero podemos notar al menos como el patrón general se mantiene casi que con un aumento casi constante a lo largo de la tabla. Notamos que *ultimate* se ve más afectado proporcionalmente a ese cambio mientras que *surf* si bien no es como que no haya aumentado, su aumento fue menor. "
   ]
  },
  {
   "cell_type": "code",
   "execution_count": 113,
   "metadata": {},
   "outputs": [
    {
     "data": {
      "image/png": "[encoded data removed]",
      "text/plain": [
       "<Figure size 864x345.6 with 1 Axes>"
      ]
     },
     "metadata": {
      "needs_background": "light"
     },
     "output_type": "display_data"
    }
   ],
   "source": [
    "# Compara el número de minutos que los usuarios de cada plan requieren cada mes. Traza un histograma.\n",
    "fig, ax = plt.subplots(figsize=(12,4.8))\n",
    "bins = int(np.ceil(np.sqrt(activity_table.shape[0])))\n",
    "\n",
    "# Definimos los histogramas\n",
    "surf['usd_monthly_income'].hist(bins = bins, label='surf')\n",
    "ultimate['usd_monthly_income'].hist(bins = bins, label='ultimate')\n",
    "\n",
    "# Agregamos unas lineas con los precios de surf y ultimate\n",
    "plt.axvline(x=20, color='lightblue', linestyle='--', linewidth=2)\n",
    "plt.axvline(x=70, color='black', linestyle='--')\n",
    "\n",
    "# Agregamos detalles de limpieza y orden\n",
    "ax.set_xlabel('Monto mensual pagado [U$]')\n",
    "ax.set_title('Distribución del pago mensual por mes por plan')\n",
    "ax.legend(loc='upper right')\n",
    "\n",
    "plt.show()"
   ]
  },
  {
   "cell_type": "markdown",
   "metadata": {},
   "source": [
    "Bueno... eso se ve... interesante... Aunque pensandolo bien, tiene sentido! Parece que basicamente todos los clientes de *ultimate* pagan U$70 al mes, eso tiene sentido ya que la unica forma en la que veo posible gastar más es a través de la compra de más Gb pues... 1000 mensajes y 3000 minutos me parece una cantidad muy dificil de superar! Y podria decir lo mismo de esa cantidad de GB, pero con más margen de error.\n",
    "  \n",
    "Al parecer sucede algo parecido pero no tan pronunciado con los clientes de *surf*, de lo que vemos se pueden arreglar bastante bien con los recursos con los que viene el plan! Por supuesto, hay mucho más valores alejados de lo normal que en *ultimate*.\n",
    "\n",
    "Viendo como se comporta el histograma me da curiosidad como se verá el gráfico de cajas y bigotes, así que no pierdamos más tiempo y vamos a ello!"
   ]
  },
  {
   "cell_type": "code",
   "execution_count": 114,
   "metadata": {},
   "outputs": [],
   "source": [
    "# Para seguir vamos a observar los gráficos de cajas y bigotes\n",
    "surf_data = surf['usd_monthly_income']\n",
    "ultimate_data = ultimate['usd_monthly_income']\n",
    "labels=['surf','ultimate']\n",
    "colors = ['blue','orange']"
   ]
  },
  {
   "cell_type": "code",
   "execution_count": 115,
   "metadata": {},
   "outputs": [
    {
     "data": {
      "image/png": "[encoded data removed]",
      "text/plain": [
       "<Figure size 432x288 with 1 Axes>"
      ]
     },
     "metadata": {
      "needs_background": "light"
     },
     "output_type": "display_data"
    },
    {
     "name": "stdout",
     "output_type": "stream",
     "text": [
      " Media de Ultimate: 72.38 \n",
      " Mediana de Ultimate: 70.00 \n",
      " Varianza de Ultimate: 137.64 \n",
      " \n",
      " Media de Surf: 61.06 \n",
      " Mediana de Surf: 40.36 \n",
      " Varianza de Surf: 3184.66 \n",
      "\n"
     ]
    }
   ],
   "source": [
    "# De ahi trazaremos un diagrama de caja para visualizar la distribución de la duración mensual de llamadas.\n",
    "# Definimos la figura y el eje\n",
    "fig, ax = plt.subplots()\n",
    "\n",
    "# Definimos el diagrama de caja propiamente\n",
    "bplot = ax.boxplot(\n",
    "    [surf_data,ultimate_data],\n",
    "    vert=True,\n",
    "    patch_artist=True,\n",
    "    labels=labels,\n",
    "    medianprops={'color':'black'}\n",
    ")\n",
    "\n",
    "# Asignamos los colores a las dos cajas\n",
    "for patch, color in zip(bplot['boxes'], colors):\n",
    "    patch.set_facecolor(color)\n",
    "\n",
    "# Agregamos una linea con la cantidad de mensajes incluidos en surf (no lo hacemos para ultimate pues ese numero es demasiado grande)\n",
    "plt.axhline(y=20, color='lightblue', linestyle='--', linewidth=2)\n",
    "plt.axhline(y=70, color='red', linestyle='--', linewidth=2)\n",
    "\n",
    "# Y finalmente asignamos labels y detalles para más claridad\n",
    "ax.set_title('Distribución del monto pagado por cliente por mes')\n",
    "ax.set_ylabel('Monto mensual pagado [U$]')\n",
    "plt.grid(axis='y')\n",
    "plt.show()\n",
    "\n",
    "# Tambien vamos a buscar visualizar los números exactos de la media, mediana y varianza de nuestros datos debajo del gráfico\n",
    "print(\n",
    "    f' Media de Ultimate: {ultimate[\"usd_monthly_income\"].mean():.2f} \\n',\n",
    "    f'Mediana de Ultimate: {ultimate[\"usd_monthly_income\"].median():.2f} \\n',\n",
    "    f'Varianza de Ultimate: {ultimate[\"usd_monthly_income\"].var():.2f} \\n',\n",
    "    '\\n',\n",
    "    f'Media de Surf: {surf[\"usd_monthly_income\"].mean():.2f} \\n',\n",
    "    f'Mediana de Surf: {surf[\"usd_monthly_income\"].median():.2f} \\n',\n",
    "    f'Varianza de Surf: {surf[\"usd_monthly_income\"].var():.2f} \\n',\n",
    ")"
   ]
  },
  {
   "cell_type": "markdown",
   "metadata": {},
   "source": [
    "Efectivamente el gráfico de cajas y bigotes iba a ser divertido! Como podemos ver, no es una exageración muy grande decir que basicamente todos los clientes de *ultimate* pagan 70 dolare por mes. Es tan centrado el gráfico que aún con pocos datos y una moderada cantidad de numeros atípicos vemos como el promedio solo sube a 72.38 dolares.\n",
    "  \n",
    "Por su parte, los clientes de *surf* se presentan mucho más distribuidos a lo largo de los valores con la mediana no muy por encima del precio del paquete. Notamos como tiene una varianza mucho más alta que *ultimate* y se ve claramente el origen de tal valor con esos valores por encima de U$300.\n",
    "  \n",
    "Es curioso como en el caso de la recaudación mensual por cliente el plan formó un rol fundamental, no tanto como lo que veníamos viendo con los otros parámetros."
   ]
  },
  {
   "cell_type": "markdown",
   "metadata": {},
   "source": [
    "# <a id='toc7_'></a>[Probar las hipótesis estadísticas.](#toc0_)"
   ]
  },
  {
   "cell_type": "markdown",
   "metadata": {},
   "source": [
    "Ahora vamos a pasar a evaluar las hipótesis estadísticas que nos piden. Recapitulemos un poco:\n",
    "- El ingreso promedio de los usuarios de las tarifas Ultimate y Surf difiere.\n",
    "- El ingreso promedio de los usuarios en el área de estados Nueva York-Nueva Jersey es diferente al de los usuarios de otras regiones.\n",
    "  \n",
    "Para el primer punto es relativamente fácil pues ya realizamos el trabajo previo y podemos separar sin muchas complicaciones los dos conjuntos de datos para posteriormente someterlos a prueba de hipótesis y así determinar su certeza.\n",
    "  \n",
    "El segundo caso es un poco más complicado pues tendremos que primero lograr separar los conjuntos en base a la tabla `users` y recien ahí podremos someter los datos a pruebas estadísticas."
   ]
  },
  {
   "cell_type": "markdown",
   "metadata": {},
   "source": [
    "## <a id='toc7_1_'></a>[El ingreso promedio de los usuarios de los usuario de las tarifas de Ultimate y Surf difiere?](#toc0_)"
   ]
  },
  {
   "cell_type": "markdown",
   "metadata": {},
   "source": [
    "Para éste caso vamos a someter los datos a una prueba de hipótesis para dos conjuntos de datos ya que simplemente queremos verificar si las medias son diferentes. La hipótesis son:\n",
    "  \n",
    "- H0: \"No hay diferencia entre el ingreso de un plan o del otro\"\n",
    "- H1: \"Hay diferencia entre el ingreso de un plan y de otro\"\n",
    "  \n",
    "Ahora tenemos que definir nuestro nivel de significancia. Nuestra tabla total cuenta con un poco menos de 3000 filas lo que no es tanto, más tomando en cuenta que eso engloba a los dos planes. Por lo tanto voy a elegir un valor alfa del 5% para darle un buen margen pero no demasiado justo."
   ]
  },
  {
   "cell_type": "code",
   "execution_count": 116,
   "metadata": {},
   "outputs": [
    {
     "name": "stdout",
     "output_type": "stream",
     "text": [
      "p-value:  4.396517788242151e-14\n",
      "Rechazamos la hipótesis nula\n"
     ]
    }
   ],
   "source": [
    "# Vamos a probar la hipotesis\n",
    "\n",
    "# Designamos el alfa\n",
    "alpha = 0.05 \n",
    "\n",
    "# Cargamos los datos para someterlos a hipotesis posteriormente\n",
    "ultimate_array = ultimate['usd_monthly_income'].values\n",
    "surf_array = surf['usd_monthly_income'].values \n",
    "\n",
    "# Como sabemos que las varianzas son diferentes en cada grupo, establecemos el parámetro equal_var como Falso\n",
    "results = st.ttest_ind(ultimate_array, surf_array, equal_var=False) \n",
    "\n",
    "print('p-value: ', results.pvalue)\n",
    "\n",
    "if (results.pvalue < alpha):\n",
    "    print('Rechazamos la hipótesis nula')\n",
    "else:\n",
    "    print(\"No rechazamos la hipótesis nula\")"
   ]
  },
  {
   "cell_type": "markdown",
   "metadata": {},
   "source": [
    "Como podemos ver, la hipotesis nula fue rechazada y con justa medida. El valor p nos indica que la probabilidad de obtener aleatoriamente una diferencia de ese tamaño o mayor es... 0.00001%! Y si lo pensamos bien, tiene sentido ya que a lo largo de los gráficos observamos como particularmente el ingreso de los clientes si presentaba tendencias muy marcadas y diferentes segun su plan.\n",
    "  \n",
    "Cabe destacar que la prueba nos dice respecto al ingreso **promedio** por cliente, como vimos eso no representa el ingreso total por plan ya que si bien *Ultimate* presenta un ingreso promedio mayor; es *Surf* el que se lleva la delantera debido a la cantidad de clientes que tiene."
   ]
  },
  {
   "cell_type": "markdown",
   "metadata": {},
   "source": [
    "## <a id='toc7_2_'></a>[El ingreso promedio de los usuarios en el área de estados Nueva York-Nueva Jersey es diferente al de los usuarios de otras regiones?](#toc0_)"
   ]
  },
  {
   "cell_type": "markdown",
   "metadata": {},
   "source": [
    "Para éste caso nos encontramos con algo que honestamente, no nos veníamos preparando. Nosotros veníamos discriminando a los clientes en base a su plan y casi que nos habíamos olvidado que en la tabla `users` se incluía la ciudad de los mismos.\n",
    "  \n",
    "Aunque para nuestra suerte, éste problema no es algo rotundamente imposible de resolver ya que Python y pandas cuentan con un arsenal de herramientas a nuestra disposición para situaciones como ésta o peores.\n",
    "  \n",
    "Antes de elaborar las hipótesis, definir el alfa y escoger la prueba estadística vamos a obtener los conjuntos de datos en base a lo que queremos comprobar."
   ]
  },
  {
   "cell_type": "code",
   "execution_count": 117,
   "metadata": {},
   "outputs": [
    {
     "name": "stdout",
     "output_type": "stream",
     "text": [
      " Tamaño NY-NJ: 377 \n",
      " Tamaño otras regiones: 1916 \n",
      "\n",
      " Varianza NY-NJ: 1961.08 \n",
      " Varianza de otras regiones: 2309.36\n"
     ]
    }
   ],
   "source": [
    "# Para encontrar los usuarios de NY-NJ vamos a usar la funcion str.find() y con eso hacemos un filtro\n",
    "NY_NJ_filter = users['city'].str.find('NY-NJ').apply(lambda x: True if x > 0 else False)\\\n",
    "\n",
    "# Con ese filtro obtenemos las ids de los clientes de NY-NJ\n",
    "ids_from_NY_NJ = users[NY_NJ_filter]['user_id'].values\n",
    "\n",
    "# Ahora creamos un filtro para obtener las filas en activity_table\n",
    "NY_NJ_filter_for_a_table = activity_table['user_id'].isin(ids_from_NY_NJ)\n",
    "\n",
    "# Finalmente creamos una tabla solo con la actividad de los clientes de NY-NJ\n",
    "NY_NJ_table = activity_table[NY_NJ_filter_for_a_table]\n",
    "\n",
    "# Y creamos la opuesta para poder comparar sin problemas\n",
    "other_regions_table = activity_table[~NY_NJ_filter_for_a_table]\n",
    "\n",
    "# Veamos el tamaño de los datos entre si\n",
    "print(f' Tamaño NY-NJ: {NY_NJ_table.shape[0]} \\n Tamaño otras regiones: {other_regions_table.shape[0]} \\n')\n",
    "\n",
    "# Finalmente veamos si las varianzas entre los datos son similares\n",
    "print(f' Varianza NY-NJ: {NY_NJ_table[\"usd_monthly_income\"].var():.2f} \\n Varianza de otras regiones: {other_regions_table[\"usd_monthly_income\"].var():.2f}')"
   ]
  },
  {
   "cell_type": "markdown",
   "metadata": {},
   "source": [
    "Nuestro plan en base es usar la prueba estadística para conjuntos independientes (`ttest_ind()`). Aunque tenemos que tener en cuenta que uno de los parámetros que toma la función es `equal_var` la cual de ser `True` le transmite a la función que ambos conjuntos comparten la misma varianza.\n",
    "  \n",
    "Y si bien a primera vista pareciera que son diferentes, penosamente los homínidos como nosotros somos muy malos juzgando numeros grandes por lo que en situaciones como éstas recurrimos a algo más objetivo: las matemáticas.\n",
    "  \n",
    "Tras leer un poco la documentación de `scipy` encontré que en 1960 un estadounidense llamado Howard Levene desarrolló una prueba para comparar las varianzas de dos conjuntos de datos! Tras asegurarme que la prueba se aplicara a las distribuciones que voy encontrando decidí traerlo al código y ahora veremos los resultados."
   ]
  },
  {
   "cell_type": "code",
   "execution_count": 118,
   "metadata": {},
   "outputs": [
    {
     "data": {
      "text/plain": [
       "LeveneResult(statistic=2.3978073707673926, pvalue=0.12164356636111064)"
      ]
     },
     "execution_count": 118,
     "metadata": {},
     "output_type": "execute_result"
    }
   ],
   "source": [
    "# Para verificar si las varianzas son efectivamente diferentes vamos a someterlas a la prueba de Levene\n",
    "levene = st.levene(NY_NJ_table[\"usd_monthly_income\"],other_regions_table[\"usd_monthly_income\"])\n",
    "levene"
   ]
  },
  {
   "cell_type": "markdown",
   "metadata": {},
   "source": [
    "Con un *`statistic`* de 2.4 y un *`pvalue`* de 0.12, la prueba de Levene nos indica que bajo el nivel de confianza que tenemos actualmente (5%) las varianzas se consideran estadísticamente iguales por lo que tendremos que tomar eso en cuenta a la hora de realizar la prueba."
   ]
  },
  {
   "cell_type": "markdown",
   "metadata": {},
   "source": [
    "Con las tablas listas y separadas podemos embarcarnos en la ardua tarea de someter a nuestras hipótesis a una prueba estadística. Para eso definamos primero cuales son nuestras hipótesis:\n",
    "\n",
    "- H0: \"No hay diferencia entre el ingreso de un usuario en los estados de Nueva York-Nueva Jersey\"\n",
    "- H1: \"Hay una diferencia entre el ingreso de un usuario en los estados de Nueva York-Nueva Jersey\"\n",
    "  \n",
    "Ahora debemos definir el grado de significancia de nuestra prueba. Dado que el conjunto total de datos sigue siendo el mismo, vamos a seguir con el mismo alfa del 5%."
   ]
  },
  {
   "cell_type": "code",
   "execution_count": 119,
   "metadata": {},
   "outputs": [
    {
     "name": "stdout",
     "output_type": "stream",
     "text": [
      "p-value:  0.04814742715663469\n",
      "Rechazamos la hipótesis nula\n"
     ]
    }
   ],
   "source": [
    "# Vamos a probar la hipotesis de que el ingreso \n",
    "\n",
    "# Debido a la baja cantidad de datos vamos a tomar un alfa de éste valor\n",
    "alpha = 0.05\n",
    "\n",
    "# Cargamos los datos para someterlos a hipotesis posteriormente\n",
    "NY_NJ_array = NY_NJ_table['usd_monthly_income'].values\n",
    "other_regions_array = other_regions_table['usd_monthly_income'].values \n",
    "\n",
    "# Como sabemos que las varianzas son iguales estadísticamente, establecemos el parámetro equal_var como Verdadero\n",
    "results = st.ttest_ind(NY_NJ_array, other_regions_array, equal_var=True) \n",
    "\n",
    "print('p-value: ', results.pvalue)\n",
    "\n",
    "if (results.pvalue < alpha):\n",
    "    print('Rechazamos la hipótesis nula')\n",
    "else:\n",
    "    print(\"No rechazamos la hipótesis nula\")"
   ]
  },
  {
   "cell_type": "markdown",
   "metadata": {},
   "source": [
    "Por lo que podemos ver, nuestra hipótesis nula fue rechazada por lo que si hay una diferencia en el ingreso de los clientes de NY-NJ respecto al de los clientes de las otras regiones. Por supuesto, hay que destacar que ésta prueba no nos indica si la diferencia es mayor o menor ni la magnitud de la misma.\n",
    "\n",
    "Pero por el momento tenemos la certeza de que los clientes residentes en Nueva York-Nueva Jersey si presentan un ingreso promedio mayor al del resto de las regiones, y como bonus tambien sabemos que la distribución de los mismos también es diferente pues presentan varianzas diferentes. "
   ]
  },
  {
   "cell_type": "markdown",
   "metadata": {},
   "source": [
    "# <a id='toc8_'></a>[Conclusión general](#toc0_)"
   ]
  },
  {
   "cell_type": "markdown",
   "metadata": {},
   "source": [
    "Finalmente, llegamos a la última isla que conforma éste archipielago del conocimiento. A lo largo de nuestro embarque nos encontramos con múltiples problemas que logramos superar con la ayuda de funciones pertenecientes a Python, a algún paquete o fabricadas por nosotros.\n",
    "  \n",
    "Nuestro primer obstáculo fue el mismo que nos vamos a encontrar siempre que trabajemos con datos: problemas en los datos. Para nuestra suerte, no encontramos muchos problemas y pudimos pasar ágilmente a la siguiente sección.\n",
    "  \n",
    "Despues llegó el primer verdadero problema, teniamos toda la información esparcida en múltiples tablas con factores que se repetían entre ellas o datos que no nos eran precisamente útiles en nuestro contexto. Al usar esos factores que se repetían (particularmente `user_id`) logramos recopilar casi toda la información necesaria para observar los datos. Dije casi ya que un factor, `usd_monthly_income`, no era brindado directamente por las tablas. ¡Justo uno de los factores más importantes no se encontraba explícito! Aunque ese problema fue pasajero, pues la información necesaria para obtener tales valores estaba en nuestros datos, solo era cuestión de poner manos a la obra.\n",
    "  \n",
    "Con los datos ya completos, pasamos a analizar de manera principalmente gráfica la distribución de los datos. Algo que notamos es que los datos vinculados al comportamiento de los usuarios presentaban una similaridad entre los planes *ultimate y surf*. Obviamente decir que sus comportamientos eran iguales es estirar muy lejos, pero ciertamente notabamos un parecido que superaba la diferencia clave de el contraste de cantidad entre los dos planes.\n",
    "  \n",
    "Ese patrón no se mantuvo así para un parámetro , que si bien dependiente del comportamiento del usuario, era determinado por un factor específico independiente de cuántas llamadas realice el cliente; `usd_monthly_income`. Tras observar como es el pago mensual de los clientes discriminando por su plan se nos hizo cada vez más evidente la fuerte conexión entre el pago y el plan.\n",
    "  \n",
    "Finalmente llevamos los datos al campo de batalla y los llevamos al límite con pruebas mucho más rigurosas: **la prueba de hipótesis.**\n",
    "- El ingreso promedio de los usuarios de las tarifas Ultimate y Surf difiere.\n",
    "  \n",
    "    Nuestra primera pregunta (y consecuentemente hipótesis) era basicamente una crónica de una muerte anunciada pues la prueba estadística rechazó la hipótesis nula con un margen muy notorio. En éste caso decidimos omitir una tabla que originalmente creé para ésta parte, `sum_table`. El motivo atrás de esa decisión fue que no vi una diferencia significativa entre las dos tablas más que un aumento practicamente constante en todos los valores por lo que ese cambio no alteraba el comportamiento de nuestros datos.\n",
    "- El ingreso promedio de los usuarios en el área de estados Nueva York-Nueva Jersey es diferente al de los usuarios de otras regiones.\n",
    "  \n",
    "  Nuestra segunda hipótesis me agarró desprevenido por más que fuera el 50% de las preguntas que decidí contestar. En éste caso realicé más suposiciones. Primero asumí que ésta discriminación no creó irregularidades en los datos las cuales posteriormente puedan alterar nuestras conclusiones. Otro factor que asumí fue que las siglas *NY-NJ* efectivamente representaban el colectivo de personas sobre las cuales yo debía realizar el análisis, podría haber hecho más incapié en confirmar si estaba en lo correcto pero ante la incerteza de la pregunta y el detalle de que teníamos tantas ciudades diferentes en nuestros usuarios (aparte de mi ignorancia sobre las ciudades y estados de EEUU), decidí ahorrarme ese paso e ir más rápido a las pruebas.\n",
    "  \n",
    "Por lo tanto, tras viajar por éstos mares de información llegué a la conclusión de que si bien hay muchos factores del día a día de la gente que determina el monto que van a pagar a fin de mes, nunca hay que sacar del medio el plan que eligieron en un día para su servicio de telefonía. Otro detalle importante que me parece necesario destacar es que no es conveniente basar las conclusiones con el consumo promedio de un cliente sin más. Es importante también notar la recaudación de todos los clientes respecto a un plan. Ese detalle que puede parecer algo menor, termina causando que un plan inicialmente menor resulte en una recaudación total mayor ya que como cualquier economista sabe: *A menor precio, mayor demanda.* Una cosa más que me parece importante destacar es que la enorme prestación de recursos que vienen con el plan *Ultimate* causa que la gran mayoría de los clientes paguen básicamente lo mismo todos los meses ya que es muy difícil utilizar tal volumen de prestaciones en el plan.\n",
    "  \n",
    "Y aquí termina nuestro viaje. Espero que los vientos de la sabiduría le sean favorables marinero ¡Y recuerde que por más que los océanos del conocimiento parezcan eternos, es a través de ellos que podemos llegar al tesoro del aprendizaje!"
   ]
  }
 ],
 "metadata": {
  "ExecuteTimeLog": [
   {
    "duration": 828,
    "start_time": "2021-11-16T09:21:11.304Z"
   },
   {
    "duration": 893,
    "start_time": "2021-11-16T09:21:17.728Z"
   },
   {
    "duration": 1150,
    "start_time": "2021-11-16T09:21:29.568Z"
   },
   {
    "duration": 3,
    "start_time": "2021-11-16T09:24:14.495Z"
   },
   {
    "duration": 120,
    "start_time": "2021-11-16T09:24:46.630Z"
   },
   {
    "duration": 3,
    "start_time": "2021-11-16T09:28:27.882Z"
   },
   {
    "duration": 4,
    "start_time": "2021-11-16T09:29:54.281Z"
   },
   {
    "duration": 3,
    "start_time": "2021-11-16T09:30:45.936Z"
   },
   {
    "duration": 4,
    "start_time": "2021-11-16T09:31:06.300Z"
   },
   {
    "duration": 113,
    "start_time": "2021-11-16T09:31:37.208Z"
   },
   {
    "duration": 143,
    "start_time": "2021-11-16T09:31:48.656Z"
   },
   {
    "duration": 98,
    "start_time": "2021-11-16T09:31:55.678Z"
   },
   {
    "duration": 3,
    "start_time": "2021-11-16T09:32:08.535Z"
   },
   {
    "duration": 111,
    "start_time": "2021-11-16T09:32:10.120Z"
   },
   {
    "duration": 3,
    "start_time": "2021-11-16T09:32:15.732Z"
   },
   {
    "duration": 4,
    "start_time": "2021-11-16T09:32:29.423Z"
   },
   {
    "duration": 3,
    "start_time": "2021-11-16T10:03:03.074Z"
   },
   {
    "duration": 3,
    "start_time": "2021-11-16T10:10:01.288Z"
   },
   {
    "duration": 3,
    "start_time": "2021-11-16T10:10:46.923Z"
   },
   {
    "duration": 121,
    "start_time": "2021-11-16T10:37:46.494Z"
   },
   {
    "duration": 125,
    "start_time": "2021-11-16T10:38:20.632Z"
   },
   {
    "duration": 112,
    "start_time": "2021-11-16T10:46:53.001Z"
   },
   {
    "duration": 110,
    "start_time": "2021-11-16T10:48:25.775Z"
   },
   {
    "duration": 3,
    "start_time": "2021-11-16T10:50:18.720Z"
   },
   {
    "duration": 4,
    "start_time": "2021-11-16T10:50:37.649Z"
   },
   {
    "duration": 2,
    "start_time": "2021-11-16T10:50:51.884Z"
   },
   {
    "duration": 3,
    "start_time": "2021-11-16T10:51:56.237Z"
   },
   {
    "duration": 101,
    "start_time": "2021-11-16T10:53:13.791Z"
   },
   {
    "duration": 3,
    "start_time": "2021-11-16T10:55:59.186Z"
   },
   {
    "duration": 3,
    "start_time": "2021-11-16T10:56:10.751Z"
   },
   {
    "duration": 3,
    "start_time": "2021-11-16T10:56:49.038Z"
   },
   {
    "duration": 3,
    "start_time": "2021-11-16T10:56:49.174Z"
   },
   {
    "duration": 4,
    "start_time": "2021-11-16T10:56:49.414Z"
   },
   {
    "duration": 3,
    "start_time": "2021-11-16T10:56:49.680Z"
   },
   {
    "duration": 3,
    "start_time": "2021-11-16T10:56:50.370Z"
   },
   {
    "duration": 114,
    "start_time": "2021-11-16T10:59:34.518Z"
   },
   {
    "duration": 3,
    "start_time": "2021-11-16T11:01:41.201Z"
   },
   {
    "duration": 116,
    "start_time": "2021-11-16T11:01:48.754Z"
   },
   {
    "duration": 3,
    "start_time": "2021-11-16T11:02:16.685Z"
   },
   {
    "duration": 3,
    "start_time": "2021-11-16T11:02:19.479Z"
   },
   {
    "duration": 3,
    "start_time": "2021-11-16T11:02:47.067Z"
   },
   {
    "duration": 3,
    "start_time": "2021-11-16T11:02:49.353Z"
   },
   {
    "duration": 3,
    "start_time": "2021-11-16T11:03:07.835Z"
   },
   {
    "duration": 3,
    "start_time": "2021-11-16T11:03:07.953Z"
   },
   {
    "duration": 112,
    "start_time": "2021-11-16T11:07:52.072Z"
   },
   {
    "duration": 187,
    "start_time": "2021-11-16T11:09:23.468Z"
   },
   {
    "duration": 4,
    "start_time": "2021-11-16T11:10:01.455Z"
   },
   {
    "duration": 3,
    "start_time": "2021-11-16T11:10:05.069Z"
   },
   {
    "duration": 4,
    "start_time": "2021-11-16T11:10:13.376Z"
   },
   {
    "duration": 3,
    "start_time": "2021-11-16T11:10:14.434Z"
   },
   {
    "duration": 3,
    "start_time": "2021-11-16T11:10:22.853Z"
   },
   {
    "duration": 4,
    "start_time": "2021-11-16T11:27:29.279Z"
   },
   {
    "duration": 4,
    "start_time": "2021-11-16T11:29:08.919Z"
   },
   {
    "duration": 118,
    "start_time": "2021-11-16T11:29:46.703Z"
   },
   {
    "duration": 437,
    "start_time": "2021-11-16T11:36:02.181Z"
   },
   {
    "duration": 157,
    "start_time": "2021-11-16T11:36:14.388Z"
   },
   {
    "duration": 207,
    "start_time": "2021-11-16T11:47:15.898Z"
   },
   {
    "duration": 3,
    "start_time": "2021-11-16T11:53:52.092Z"
   },
   {
    "duration": 3,
    "start_time": "2021-11-16T11:53:52.236Z"
   },
   {
    "duration": 3,
    "start_time": "2021-11-16T11:59:12.005Z"
   },
   {
    "duration": 112,
    "start_time": "2021-11-16T12:00:33.446Z"
   },
   {
    "duration": 3,
    "start_time": "2021-11-16T12:02:14.453Z"
   },
   {
    "duration": 3,
    "start_time": "2021-11-16T12:02:39.512Z"
   },
   {
    "duration": 106,
    "start_time": "2021-11-16T12:03:03.460Z"
   },
   {
    "duration": 3,
    "start_time": "2021-11-17T20:37:21.139Z"
   },
   {
    "duration": 3,
    "start_time": "2021-11-17T20:37:22.229Z"
   },
   {
    "duration": 3,
    "start_time": "2021-11-17T20:38:38.806Z"
   },
   {
    "duration": 3,
    "start_time": "2021-11-17T20:38:41.958Z"
   },
   {
    "duration": 3,
    "start_time": "2021-11-17T20:43:46.551Z"
   },
   {
    "duration": 4,
    "start_time": "2021-11-17T20:58:21.835Z"
   },
   {
    "duration": 3,
    "start_time": "2021-11-17T20:59:21.872Z"
   },
   {
    "duration": 4,
    "start_time": "2021-11-17T20:59:45.352Z"
   },
   {
    "duration": 4,
    "start_time": "2021-11-17T20:59:49.646Z"
   },
   {
    "duration": 159,
    "start_time": "2021-11-17T21:02:26.949Z"
   },
   {
    "duration": 3,
    "start_time": "2021-11-17T21:03:53.461Z"
   },
   {
    "duration": 3,
    "start_time": "2021-11-17T21:03:53.694Z"
   },
   {
    "duration": 3,
    "start_time": "2021-11-17T21:05:28.145Z"
   },
   {
    "duration": 116,
    "start_time": "2021-11-17T21:05:57.787Z"
   },
   {
    "duration": 3,
    "start_time": "2021-11-17T21:06:37.993Z"
   },
   {
    "duration": 3,
    "start_time": "2021-11-17T21:06:38.261Z"
   },
   {
    "duration": 3,
    "start_time": "2021-11-17T21:11:54.358Z"
   },
   {
    "duration": 3,
    "start_time": "2021-11-17T21:12:43.846Z"
   },
   {
    "duration": 4,
    "start_time": "2021-11-17T21:13:08.773Z"
   },
   {
    "duration": 3,
    "start_time": "2021-11-17T21:14:44.441Z"
   },
   {
    "duration": 3,
    "start_time": "2021-11-17T21:15:42.059Z"
   },
   {
    "duration": 4,
    "start_time": "2021-11-17T21:15:51.995Z"
   },
   {
    "duration": 3,
    "start_time": "2021-11-17T21:15:53.923Z"
   },
   {
    "duration": 3,
    "start_time": "2021-11-17T21:15:55.282Z"
   },
   {
    "duration": 3,
    "start_time": "2021-11-17T21:16:28.492Z"
   },
   {
    "duration": 3,
    "start_time": "2021-11-17T21:16:32.603Z"
   },
   {
    "duration": 3,
    "start_time": "2021-11-17T21:17:06.941Z"
   },
   {
    "duration": 98,
    "start_time": "2021-11-17T21:18:05.733Z"
   },
   {
    "duration": 4,
    "start_time": "2021-11-17T21:21:35.255Z"
   },
   {
    "duration": 3,
    "start_time": "2021-11-17T21:21:37.804Z"
   },
   {
    "duration": 4,
    "start_time": "2021-11-17T21:23:06.071Z"
   },
   {
    "duration": 3,
    "start_time": "2021-11-17T21:23:24.799Z"
   },
   {
    "duration": 3,
    "start_time": "2021-11-17T21:23:32.591Z"
   },
   {
    "duration": 98,
    "start_time": "2021-11-17T21:28:31.559Z"
   },
   {
    "duration": 3,
    "start_time": "2021-11-17T21:28:45.448Z"
   },
   {
    "duration": 3,
    "start_time": "2021-11-17T21:29:17.303Z"
   },
   {
    "duration": 3,
    "start_time": "2021-11-17T21:29:29.617Z"
   },
   {
    "duration": 3,
    "start_time": "2021-11-17T21:29:32.681Z"
   },
   {
    "duration": 3,
    "start_time": "2021-11-17T21:36:11.474Z"
   },
   {
    "duration": 3,
    "start_time": "2021-11-17T21:36:14.791Z"
   },
   {
    "duration": 3,
    "start_time": "2021-11-17T21:36:53.943Z"
   },
   {
    "duration": 3,
    "start_time": "2021-11-17T21:36:56.165Z"
   },
   {
    "duration": 4,
    "start_time": "2021-11-17T21:37:16.590Z"
   },
   {
    "duration": 3,
    "start_time": "2021-11-17T21:37:22.702Z"
   },
   {
    "duration": 4,
    "start_time": "2021-11-17T21:38:03.479Z"
   },
   {
    "duration": 3,
    "start_time": "2021-11-17T21:38:08.601Z"
   },
   {
    "duration": 3,
    "start_time": "2021-11-17T21:38:12.928Z"
   },
   {
    "duration": 3,
    "start_time": "2021-11-17T21:38:48.896Z"
   },
   {
    "duration": 2,
    "start_time": "2021-11-17T21:38:49.171Z"
   },
   {
    "duration": 4,
    "start_time": "2021-11-17T21:39:57.889Z"
   },
   {
    "duration": 3,
    "start_time": "2021-11-17T21:39:58.057Z"
   },
   {
    "duration": 3,
    "start_time": "2021-11-17T21:41:20.108Z"
   },
   {
    "duration": 3,
    "start_time": "2021-11-17T21:41:20.629Z"
   },
   {
    "duration": 3,
    "start_time": "2021-11-17T21:42:49.136Z"
   },
   {
    "duration": 3,
    "start_time": "2021-11-17T21:43:15.137Z"
   },
   {
    "duration": 4,
    "start_time": "2021-11-17T21:43:16.766Z"
   },
   {
    "duration": 4,
    "start_time": "2021-11-17T21:43:31.711Z"
   },
   {
    "duration": 3,
    "start_time": "2021-11-17T21:43:36.312Z"
   },
   {
    "duration": 4,
    "start_time": "2021-11-17T21:45:08.825Z"
   },
   {
    "duration": 4,
    "start_time": "2021-11-17T21:45:10.119Z"
   },
   {
    "duration": 4,
    "start_time": "2021-11-17T21:45:13.748Z"
   },
   {
    "duration": 3,
    "start_time": "2021-11-17T21:45:22.219Z"
   },
   {
    "duration": 3,
    "start_time": "2021-11-17T21:45:33.412Z"
   },
   {
    "duration": 2,
    "start_time": "2021-11-17T21:46:01.885Z"
   },
   {
    "duration": 3,
    "start_time": "2021-11-17T21:46:03.628Z"
   },
   {
    "duration": 107,
    "start_time": "2021-11-17T21:47:32.512Z"
   },
   {
    "duration": 103,
    "start_time": "2021-11-17T21:50:36.243Z"
   },
   {
    "duration": 3,
    "start_time": "2021-11-18T06:28:31.440Z"
   },
   {
    "duration": 3,
    "start_time": "2021-11-18T06:29:00.168Z"
   },
   {
    "duration": 3,
    "start_time": "2021-11-18T06:31:27.008Z"
   },
   {
    "duration": 2,
    "start_time": "2021-11-18T06:35:34.288Z"
   },
   {
    "duration": 2,
    "start_time": "2021-11-18T06:38:04.527Z"
   }
  ],
  "kernelspec": {
   "display_name": "Python 3 (ipykernel)",
   "language": "python",
   "name": "python3"
  },
  "language_info": {
   "codemirror_mode": {
    "name": "ipython",
    "version": 3
   },
   "file_extension": ".py",
   "mimetype": "text/x-python",
   "name": "python",
   "nbconvert_exporter": "python",
   "pygments_lexer": "ipython3",
   "version": "3.9.19"
  },
  "toc": {
   "base_numbering": 1,
   "nav_menu": {},
   "number_sections": true,
   "sideBar": true,
   "skip_h1_title": false,
   "title_cell": "Table of Contents",
   "title_sidebar": "Contents",
   "toc_cell": false,
   "toc_position": {},
   "toc_section_display": true,
   "toc_window_display": false
  }
 },
 "nbformat": 4,
 "nbformat_minor": 2
}
